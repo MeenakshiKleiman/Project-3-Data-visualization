{
 "cells": [
  {
   "attachments": {},
   "cell_type": "markdown",
   "id": "c5d9f7bd",
   "metadata": {},
   "source": [
    "# Cancer Clinical Trial Dataset: The data set was downloaded from https://clinicaltrials.gov/\n",
    "\n",
    "\n",
    "\n",
    "Aims of project\n",
    "\n",
    "1. What are the trends in clinical trials over the last decade?\n",
    "2. How does study duration vary across different cancer types and funding sources?\n",
    "3. What is the distribution of clinical trials by cancer type and funding source?\n",
    "4. What are the different types and distribution of active clinical trials?\n",
    "5. To map clinical trial locations across the United States.\n"
   ]
  },
  {
   "cell_type": "code",
   "execution_count": null,
   "id": "88ff093c",
   "metadata": {},
   "outputs": [],
   "source": [
    "# Dependencies and Setup\n",
    "import os\n",
    "\n",
    "import pandas as pd\n",
    "import numpy as np\n",
    "from pathlib import Path\n",
    "import plotly as py\n",
    "import matplotlib.pyplot as plt\n",
    "from scipy import stats\n",
    "from scipy.stats import linregress\n",
    "from scipy.stats import pearsonr\n",
    "import plotly.graph_objects as go\n",
    "import plotly.io as pio\n",
    "from scipy.stats import chi2_contingency"
   ]
  },
  {
   "cell_type": "code",
   "execution_count": 7,
   "id": "adc917dc",
   "metadata": {},
   "outputs": [],
   "source": [
    "# Read the cancer clinical data \n",
    "\n",
    "Cancer_CT_df = pd.read_csv('cancer-ct-data .csv')"
   ]
  },
  {
   "cell_type": "code",
   "execution_count": 8,
   "id": "f4a7762c",
   "metadata": {},
   "outputs": [
    {
     "data": {
      "text/html": [
       "<div>\n",
       "<style scoped>\n",
       "    .dataframe tbody tr th:only-of-type {\n",
       "        vertical-align: middle;\n",
       "    }\n",
       "\n",
       "    .dataframe tbody tr th {\n",
       "        vertical-align: top;\n",
       "    }\n",
       "\n",
       "    .dataframe thead th {\n",
       "        text-align: right;\n",
       "    }\n",
       "</style>\n",
       "<table border=\"1\" class=\"dataframe\">\n",
       "  <thead>\n",
       "    <tr style=\"text-align: right;\">\n",
       "      <th></th>\n",
       "      <th>NCT Number</th>\n",
       "      <th>Study Title</th>\n",
       "      <th>Study URL</th>\n",
       "      <th>Study Status</th>\n",
       "      <th>Brief Summary</th>\n",
       "      <th>Study Results</th>\n",
       "      <th>Conditions</th>\n",
       "      <th>Interventions</th>\n",
       "      <th>Primary Outcome Measures</th>\n",
       "      <th>Secondary Outcome Measures</th>\n",
       "      <th>...</th>\n",
       "      <th>Enrollment</th>\n",
       "      <th>Funder Type</th>\n",
       "      <th>Study Type</th>\n",
       "      <th>Study Design</th>\n",
       "      <th>Start Date</th>\n",
       "      <th>Primary Completion Date</th>\n",
       "      <th>Completion Date</th>\n",
       "      <th>First Posted</th>\n",
       "      <th>Locations</th>\n",
       "      <th>Study Documents</th>\n",
       "    </tr>\n",
       "  </thead>\n",
       "  <tbody>\n",
       "    <tr>\n",
       "      <th>0</th>\n",
       "      <td>NCT02515227</td>\n",
       "      <td>Safety Study of a Helper Peptide Vaccine Plus ...</td>\n",
       "      <td>https://clinicaltrials.gov/study/NCT02515227</td>\n",
       "      <td>COMPLETED</td>\n",
       "      <td>This study evaluates whether it is safe to adm...</td>\n",
       "      <td>YES</td>\n",
       "      <td>Melanoma</td>\n",
       "      <td>BIOLOGICAL: 6MHP|DRUG: Pembrolizumab</td>\n",
       "      <td>Number of Participants With Dose-limiting Toxi...</td>\n",
       "      <td>Number of T Cells in the Tumor Microenvironmen...</td>\n",
       "      <td>...</td>\n",
       "      <td>22</td>\n",
       "      <td>OTHER</td>\n",
       "      <td>INTERVENTIONAL</td>\n",
       "      <td>Allocation: NA|Intervention Model: SINGLE_GROU...</td>\n",
       "      <td>2016-10-06</td>\n",
       "      <td>2020-03-14</td>\n",
       "      <td>2020-03-14</td>\n",
       "      <td>2015-08-04</td>\n",
       "      <td>University of Virginia Cancer Center, Charlott...</td>\n",
       "      <td>Study Protocol, Statistical Analysis Plan, and...</td>\n",
       "    </tr>\n",
       "    <tr>\n",
       "      <th>1</th>\n",
       "      <td>NCT03531827</td>\n",
       "      <td>Combining CRLX101, a Nanoparticle Camptothecin...</td>\n",
       "      <td>https://clinicaltrials.gov/study/NCT03531827</td>\n",
       "      <td>TERMINATED</td>\n",
       "      <td>Background:\\n\\nSome prostate cancer keeps grow...</td>\n",
       "      <td>YES</td>\n",
       "      <td>Metastatic Castration Resistant Prostate Cance...</td>\n",
       "      <td>DRUG: enzalutamide|DRUG: CRLX101</td>\n",
       "      <td>Percentage of Participants With Anti-tumor Act...</td>\n",
       "      <td>Proportion of Participants With a Sustained &gt;3...</td>\n",
       "      <td>...</td>\n",
       "      <td>4</td>\n",
       "      <td>NIH</td>\n",
       "      <td>INTERVENTIONAL</td>\n",
       "      <td>Allocation: NON_RANDOMIZED|Intervention Model:...</td>\n",
       "      <td>2019-03-26</td>\n",
       "      <td>2021-05-15</td>\n",
       "      <td>2021-06-01</td>\n",
       "      <td>2018-05-22</td>\n",
       "      <td>National Institutes of Health Clinical Center,...</td>\n",
       "      <td>Study Protocol and Statistical Analysis Plan, ...</td>\n",
       "    </tr>\n",
       "    <tr>\n",
       "      <th>2</th>\n",
       "      <td>NCT04034927</td>\n",
       "      <td>Testing the Addition of an Immunotherapy Drug,...</td>\n",
       "      <td>https://clinicaltrials.gov/study/NCT04034927</td>\n",
       "      <td>ACTIVE_NOT_RECRUITING</td>\n",
       "      <td>This phase II trial studies how well olaparib ...</td>\n",
       "      <td>YES</td>\n",
       "      <td>Fallopian Tube Endometrioid Tumor|Fallopian Tu...</td>\n",
       "      <td>PROCEDURE: Biospecimen Collection|PROCEDURE: C...</td>\n",
       "      <td>Progression Free Survival (PFS), The count of ...</td>\n",
       "      <td>Objective Response (RECIST 1.1), The objective...</td>\n",
       "      <td>...</td>\n",
       "      <td>61</td>\n",
       "      <td>NIH</td>\n",
       "      <td>INTERVENTIONAL</td>\n",
       "      <td>Allocation: RANDOMIZED|Intervention Model: PAR...</td>\n",
       "      <td>2019-12-04</td>\n",
       "      <td>2021-07-31</td>\n",
       "      <td>2024-09-21</td>\n",
       "      <td>2019-07-29</td>\n",
       "      <td>UC Irvine Health/Chao Family Comprehensive Can...</td>\n",
       "      <td>Study Protocol and Statistical Analysis Plan, ...</td>\n",
       "    </tr>\n",
       "    <tr>\n",
       "      <th>3</th>\n",
       "      <td>NCT04657094</td>\n",
       "      <td>Acalabrutinib for the Treatment of Relapsed or...</td>\n",
       "      <td>https://clinicaltrials.gov/study/NCT04657094</td>\n",
       "      <td>ACTIVE_NOT_RECRUITING</td>\n",
       "      <td>This phase II trial studies the effect of acal...</td>\n",
       "      <td>YES</td>\n",
       "      <td>Autoimmune Hemolytic Anemia|Chronic Lymphocyti...</td>\n",
       "      <td>DRUG: Acalabrutinib</td>\n",
       "      <td>Autoimmune Hemolytic Anemia (AIHA) - Overall R...</td>\n",
       "      <td>NaN</td>\n",
       "      <td>...</td>\n",
       "      <td>4</td>\n",
       "      <td>OTHER</td>\n",
       "      <td>INTERVENTIONAL</td>\n",
       "      <td>Allocation: NA|Intervention Model: SINGLE_GROU...</td>\n",
       "      <td>2021-03-16</td>\n",
       "      <td>2023-04-01</td>\n",
       "      <td>2024-12-30</td>\n",
       "      <td>2020-12-08</td>\n",
       "      <td>City of Hope Medical Center, Duarte, Californi...</td>\n",
       "      <td>Study Protocol and Statistical Analysis Plan, ...</td>\n",
       "    </tr>\n",
       "    <tr>\n",
       "      <th>4</th>\n",
       "      <td>NCT03861091</td>\n",
       "      <td>Prophylactic Risedronate for Patients With Per...</td>\n",
       "      <td>https://clinicaltrials.gov/study/NCT03861091</td>\n",
       "      <td>COMPLETED</td>\n",
       "      <td>This is a double blind randomized controlled s...</td>\n",
       "      <td>YES</td>\n",
       "      <td>Lung Neoplasm</td>\n",
       "      <td>DRUG: risedronate|DRUG: Matching placebo</td>\n",
       "      <td>Changes in Mean Cortical Thickness, The primar...</td>\n",
       "      <td>4 Time Points Assessing Change in Mean Cortica...</td>\n",
       "      <td>...</td>\n",
       "      <td>84</td>\n",
       "      <td>OTHER</td>\n",
       "      <td>INTERVENTIONAL</td>\n",
       "      <td>Allocation: RANDOMIZED|Intervention Model: PAR...</td>\n",
       "      <td>2019-07-12</td>\n",
       "      <td>2022-03-02</td>\n",
       "      <td>2022-03-02</td>\n",
       "      <td>2019-03-04</td>\n",
       "      <td>High Point Regional Medical Center, High Point...</td>\n",
       "      <td>Study Protocol and Statistical Analysis Plan, ...</td>\n",
       "    </tr>\n",
       "    <tr>\n",
       "      <th>...</th>\n",
       "      <td>...</td>\n",
       "      <td>...</td>\n",
       "      <td>...</td>\n",
       "      <td>...</td>\n",
       "      <td>...</td>\n",
       "      <td>...</td>\n",
       "      <td>...</td>\n",
       "      <td>...</td>\n",
       "      <td>...</td>\n",
       "      <td>...</td>\n",
       "      <td>...</td>\n",
       "      <td>...</td>\n",
       "      <td>...</td>\n",
       "      <td>...</td>\n",
       "      <td>...</td>\n",
       "      <td>...</td>\n",
       "      <td>...</td>\n",
       "      <td>...</td>\n",
       "      <td>...</td>\n",
       "      <td>...</td>\n",
       "      <td>...</td>\n",
       "    </tr>\n",
       "    <tr>\n",
       "      <th>711</th>\n",
       "      <td>NCT02648477</td>\n",
       "      <td>Pembrolizumab and Doxorubicin Hydrochloride or...</td>\n",
       "      <td>https://clinicaltrials.gov/study/NCT02648477</td>\n",
       "      <td>COMPLETED</td>\n",
       "      <td>This phase II trial studies how well pembroliz...</td>\n",
       "      <td>YES</td>\n",
       "      <td>Estrogen Receptor Negative|Estrogen Receptor P...</td>\n",
       "      <td>DRUG: Anastrozole|DRUG: Doxorubicin Hydrochlor...</td>\n",
       "      <td>Number of Participants With Overall Response, ...</td>\n",
       "      <td>Clinical Benefit Rate, Per Response Evaluation...</td>\n",
       "      <td>...</td>\n",
       "      <td>30</td>\n",
       "      <td>OTHER</td>\n",
       "      <td>INTERVENTIONAL</td>\n",
       "      <td>Allocation: NON_RANDOMIZED|Intervention Model:...</td>\n",
       "      <td>2016-03-28</td>\n",
       "      <td>2022-04-01</td>\n",
       "      <td>2023-12-30</td>\n",
       "      <td>2016-01-07</td>\n",
       "      <td>City of Hope Corona, Corona, California, 92879...</td>\n",
       "      <td>Study Protocol and Statistical Analysis Plan, ...</td>\n",
       "    </tr>\n",
       "    <tr>\n",
       "      <th>712</th>\n",
       "      <td>NCT01931098</td>\n",
       "      <td>Oral Pazopanib Plus Oral Topotecan Metronomic ...</td>\n",
       "      <td>https://clinicaltrials.gov/study/NCT01931098</td>\n",
       "      <td>COMPLETED</td>\n",
       "      <td>Background:\\n\\nGlioblastoma is the most common...</td>\n",
       "      <td>YES</td>\n",
       "      <td>Glioblastoma|Glioblastoma Multiforme|Gliosarco...</td>\n",
       "      <td>DRUG: topotecan|DRUG: pazopanib</td>\n",
       "      <td>Proportion of Patients That Have Progressive S...</td>\n",
       "      <td>Overall Survival, OS was evaluated using the K...</td>\n",
       "      <td>...</td>\n",
       "      <td>35</td>\n",
       "      <td>NIH</td>\n",
       "      <td>INTERVENTIONAL</td>\n",
       "      <td>Allocation: NON_RANDOMIZED|Intervention Model:...</td>\n",
       "      <td>2015-12-10</td>\n",
       "      <td>2019-09-12</td>\n",
       "      <td>2019-09-12</td>\n",
       "      <td>2013-08-29</td>\n",
       "      <td>National Institutes of Health Clinical Center,...</td>\n",
       "      <td>Study Protocol and Statistical Analysis Plan, ...</td>\n",
       "    </tr>\n",
       "    <tr>\n",
       "      <th>713</th>\n",
       "      <td>NCT02311998</td>\n",
       "      <td>Phase I/II Study of Bosutinib in Combination W...</td>\n",
       "      <td>https://clinicaltrials.gov/study/NCT02311998</td>\n",
       "      <td>COMPLETED</td>\n",
       "      <td>This phase I/II trial studies the side effects...</td>\n",
       "      <td>YES</td>\n",
       "      <td>B Acute Lymphoblastic Leukemia With t(9;22)(q3...</td>\n",
       "      <td>DRUG: Bosutinib|BIOLOGICAL: Inotuzumab Ozogamicin</td>\n",
       "      <td>Maximum Tolerated Dose (MTD) of Bosutinib All ...</td>\n",
       "      <td>Duration of Response, Estimated using the meth...</td>\n",
       "      <td>...</td>\n",
       "      <td>22</td>\n",
       "      <td>OTHER</td>\n",
       "      <td>INTERVENTIONAL</td>\n",
       "      <td>Allocation: NON_RANDOMIZED|Intervention Model:...</td>\n",
       "      <td>2015-04-16</td>\n",
       "      <td>2022-03-23</td>\n",
       "      <td>2022-03-23</td>\n",
       "      <td>2014-12-09</td>\n",
       "      <td>M D Anderson Cancer Center, Houston, Texas, 77...</td>\n",
       "      <td>Study Protocol and Statistical Analysis Plan, ...</td>\n",
       "    </tr>\n",
       "    <tr>\n",
       "      <th>714</th>\n",
       "      <td>NCT02166905</td>\n",
       "      <td>DEC-205/NY-ESO-1 Fusion Protein CDX-1401, Poly...</td>\n",
       "      <td>https://clinicaltrials.gov/study/NCT02166905</td>\n",
       "      <td>COMPLETED</td>\n",
       "      <td>This partially randomized phase I/IIb trial st...</td>\n",
       "      <td>YES</td>\n",
       "      <td>Fallopian Tube Carcinoma|Ovarian Carcinoma|Pri...</td>\n",
       "      <td>BIOLOGICAL: DEC-205/NY-ESO-1 Fusion Protein CD...</td>\n",
       "      <td>To Determine the Safety and Evaluate Toxicity ...</td>\n",
       "      <td>Antibody Titers, Due to the PI leaving the ins...</td>\n",
       "      <td>...</td>\n",
       "      <td>40</td>\n",
       "      <td>OTHER</td>\n",
       "      <td>INTERVENTIONAL</td>\n",
       "      <td>Allocation: RANDOMIZED|Intervention Model: PAR...</td>\n",
       "      <td>2014-10-10</td>\n",
       "      <td>2020-08-20</td>\n",
       "      <td>2020-08-20</td>\n",
       "      <td>2014-06-18</td>\n",
       "      <td>Roswell Park Cancer Institute, Buffalo, New Yo...</td>\n",
       "      <td>Study Protocol and Statistical Analysis Plan, ...</td>\n",
       "    </tr>\n",
       "    <tr>\n",
       "      <th>715</th>\n",
       "      <td>NCT02242097</td>\n",
       "      <td>Ibrutinib After Intensive Induction in Treatin...</td>\n",
       "      <td>https://clinicaltrials.gov/study/NCT02242097</td>\n",
       "      <td>ACTIVE_NOT_RECRUITING</td>\n",
       "      <td>This study is being done to see whether or not...</td>\n",
       "      <td>YES</td>\n",
       "      <td>Contiguous Stage II Mantle Cell Lymphoma|Nonco...</td>\n",
       "      <td>DRUG: ibrutinib|OTHER: laboratory biomarker an...</td>\n",
       "      <td>Determine the Progression-free Survival (PFS) ...</td>\n",
       "      <td>Incidence of Adverse Events, Defined According...</td>\n",
       "      <td>...</td>\n",
       "      <td>37</td>\n",
       "      <td>OTHER</td>\n",
       "      <td>INTERVENTIONAL</td>\n",
       "      <td>Allocation: NA|Intervention Model: SINGLE_GROU...</td>\n",
       "      <td>2015-01-12</td>\n",
       "      <td>2023-01-05</td>\n",
       "      <td>2025-01</td>\n",
       "      <td>2014-09-16</td>\n",
       "      <td>Northwestern University, Chicago, Illinois, 60...</td>\n",
       "      <td>Study Protocol and Statistical Analysis Plan, ...</td>\n",
       "    </tr>\n",
       "  </tbody>\n",
       "</table>\n",
       "<p>716 rows × 26 columns</p>\n",
       "</div>"
      ],
      "text/plain": [
       "      NCT Number                                        Study Title  \\\n",
       "0    NCT02515227  Safety Study of a Helper Peptide Vaccine Plus ...   \n",
       "1    NCT03531827  Combining CRLX101, a Nanoparticle Camptothecin...   \n",
       "2    NCT04034927  Testing the Addition of an Immunotherapy Drug,...   \n",
       "3    NCT04657094  Acalabrutinib for the Treatment of Relapsed or...   \n",
       "4    NCT03861091  Prophylactic Risedronate for Patients With Per...   \n",
       "..           ...                                                ...   \n",
       "711  NCT02648477  Pembrolizumab and Doxorubicin Hydrochloride or...   \n",
       "712  NCT01931098  Oral Pazopanib Plus Oral Topotecan Metronomic ...   \n",
       "713  NCT02311998  Phase I/II Study of Bosutinib in Combination W...   \n",
       "714  NCT02166905  DEC-205/NY-ESO-1 Fusion Protein CDX-1401, Poly...   \n",
       "715  NCT02242097  Ibrutinib After Intensive Induction in Treatin...   \n",
       "\n",
       "                                        Study URL           Study Status  \\\n",
       "0    https://clinicaltrials.gov/study/NCT02515227              COMPLETED   \n",
       "1    https://clinicaltrials.gov/study/NCT03531827             TERMINATED   \n",
       "2    https://clinicaltrials.gov/study/NCT04034927  ACTIVE_NOT_RECRUITING   \n",
       "3    https://clinicaltrials.gov/study/NCT04657094  ACTIVE_NOT_RECRUITING   \n",
       "4    https://clinicaltrials.gov/study/NCT03861091              COMPLETED   \n",
       "..                                            ...                    ...   \n",
       "711  https://clinicaltrials.gov/study/NCT02648477              COMPLETED   \n",
       "712  https://clinicaltrials.gov/study/NCT01931098              COMPLETED   \n",
       "713  https://clinicaltrials.gov/study/NCT02311998              COMPLETED   \n",
       "714  https://clinicaltrials.gov/study/NCT02166905              COMPLETED   \n",
       "715  https://clinicaltrials.gov/study/NCT02242097  ACTIVE_NOT_RECRUITING   \n",
       "\n",
       "                                         Brief Summary Study Results  \\\n",
       "0    This study evaluates whether it is safe to adm...           YES   \n",
       "1    Background:\\n\\nSome prostate cancer keeps grow...           YES   \n",
       "2    This phase II trial studies how well olaparib ...           YES   \n",
       "3    This phase II trial studies the effect of acal...           YES   \n",
       "4    This is a double blind randomized controlled s...           YES   \n",
       "..                                                 ...           ...   \n",
       "711  This phase II trial studies how well pembroliz...           YES   \n",
       "712  Background:\\n\\nGlioblastoma is the most common...           YES   \n",
       "713  This phase I/II trial studies the side effects...           YES   \n",
       "714  This partially randomized phase I/IIb trial st...           YES   \n",
       "715  This study is being done to see whether or not...           YES   \n",
       "\n",
       "                                            Conditions  \\\n",
       "0                                             Melanoma   \n",
       "1    Metastatic Castration Resistant Prostate Cance...   \n",
       "2    Fallopian Tube Endometrioid Tumor|Fallopian Tu...   \n",
       "3    Autoimmune Hemolytic Anemia|Chronic Lymphocyti...   \n",
       "4                                        Lung Neoplasm   \n",
       "..                                                 ...   \n",
       "711  Estrogen Receptor Negative|Estrogen Receptor P...   \n",
       "712  Glioblastoma|Glioblastoma Multiforme|Gliosarco...   \n",
       "713  B Acute Lymphoblastic Leukemia With t(9;22)(q3...   \n",
       "714  Fallopian Tube Carcinoma|Ovarian Carcinoma|Pri...   \n",
       "715  Contiguous Stage II Mantle Cell Lymphoma|Nonco...   \n",
       "\n",
       "                                         Interventions  \\\n",
       "0                 BIOLOGICAL: 6MHP|DRUG: Pembrolizumab   \n",
       "1                     DRUG: enzalutamide|DRUG: CRLX101   \n",
       "2    PROCEDURE: Biospecimen Collection|PROCEDURE: C...   \n",
       "3                                  DRUG: Acalabrutinib   \n",
       "4             DRUG: risedronate|DRUG: Matching placebo   \n",
       "..                                                 ...   \n",
       "711  DRUG: Anastrozole|DRUG: Doxorubicin Hydrochlor...   \n",
       "712                    DRUG: topotecan|DRUG: pazopanib   \n",
       "713  DRUG: Bosutinib|BIOLOGICAL: Inotuzumab Ozogamicin   \n",
       "714  BIOLOGICAL: DEC-205/NY-ESO-1 Fusion Protein CD...   \n",
       "715  DRUG: ibrutinib|OTHER: laboratory biomarker an...   \n",
       "\n",
       "                              Primary Outcome Measures  \\\n",
       "0    Number of Participants With Dose-limiting Toxi...   \n",
       "1    Percentage of Participants With Anti-tumor Act...   \n",
       "2    Progression Free Survival (PFS), The count of ...   \n",
       "3    Autoimmune Hemolytic Anemia (AIHA) - Overall R...   \n",
       "4    Changes in Mean Cortical Thickness, The primar...   \n",
       "..                                                 ...   \n",
       "711  Number of Participants With Overall Response, ...   \n",
       "712  Proportion of Patients That Have Progressive S...   \n",
       "713  Maximum Tolerated Dose (MTD) of Bosutinib All ...   \n",
       "714  To Determine the Safety and Evaluate Toxicity ...   \n",
       "715  Determine the Progression-free Survival (PFS) ...   \n",
       "\n",
       "                            Secondary Outcome Measures  ... Enrollment  \\\n",
       "0    Number of T Cells in the Tumor Microenvironmen...  ...         22   \n",
       "1    Proportion of Participants With a Sustained >3...  ...          4   \n",
       "2    Objective Response (RECIST 1.1), The objective...  ...         61   \n",
       "3                                                  NaN  ...          4   \n",
       "4    4 Time Points Assessing Change in Mean Cortica...  ...         84   \n",
       "..                                                 ...  ...        ...   \n",
       "711  Clinical Benefit Rate, Per Response Evaluation...  ...         30   \n",
       "712  Overall Survival, OS was evaluated using the K...  ...         35   \n",
       "713  Duration of Response, Estimated using the meth...  ...         22   \n",
       "714  Antibody Titers, Due to the PI leaving the ins...  ...         40   \n",
       "715  Incidence of Adverse Events, Defined According...  ...         37   \n",
       "\n",
       "    Funder Type      Study Type  \\\n",
       "0         OTHER  INTERVENTIONAL   \n",
       "1           NIH  INTERVENTIONAL   \n",
       "2           NIH  INTERVENTIONAL   \n",
       "3         OTHER  INTERVENTIONAL   \n",
       "4         OTHER  INTERVENTIONAL   \n",
       "..          ...             ...   \n",
       "711       OTHER  INTERVENTIONAL   \n",
       "712         NIH  INTERVENTIONAL   \n",
       "713       OTHER  INTERVENTIONAL   \n",
       "714       OTHER  INTERVENTIONAL   \n",
       "715       OTHER  INTERVENTIONAL   \n",
       "\n",
       "                                          Study Design  Start Date  \\\n",
       "0    Allocation: NA|Intervention Model: SINGLE_GROU...  2016-10-06   \n",
       "1    Allocation: NON_RANDOMIZED|Intervention Model:...  2019-03-26   \n",
       "2    Allocation: RANDOMIZED|Intervention Model: PAR...  2019-12-04   \n",
       "3    Allocation: NA|Intervention Model: SINGLE_GROU...  2021-03-16   \n",
       "4    Allocation: RANDOMIZED|Intervention Model: PAR...  2019-07-12   \n",
       "..                                                 ...         ...   \n",
       "711  Allocation: NON_RANDOMIZED|Intervention Model:...  2016-03-28   \n",
       "712  Allocation: NON_RANDOMIZED|Intervention Model:...  2015-12-10   \n",
       "713  Allocation: NON_RANDOMIZED|Intervention Model:...  2015-04-16   \n",
       "714  Allocation: RANDOMIZED|Intervention Model: PAR...  2014-10-10   \n",
       "715  Allocation: NA|Intervention Model: SINGLE_GROU...  2015-01-12   \n",
       "\n",
       "    Primary Completion Date  Completion Date First Posted  \\\n",
       "0                2020-03-14       2020-03-14   2015-08-04   \n",
       "1                2021-05-15       2021-06-01   2018-05-22   \n",
       "2                2021-07-31       2024-09-21   2019-07-29   \n",
       "3                2023-04-01       2024-12-30   2020-12-08   \n",
       "4                2022-03-02       2022-03-02   2019-03-04   \n",
       "..                      ...              ...          ...   \n",
       "711              2022-04-01       2023-12-30   2016-01-07   \n",
       "712              2019-09-12       2019-09-12   2013-08-29   \n",
       "713              2022-03-23       2022-03-23   2014-12-09   \n",
       "714              2020-08-20       2020-08-20   2014-06-18   \n",
       "715              2023-01-05          2025-01   2014-09-16   \n",
       "\n",
       "                                             Locations  \\\n",
       "0    University of Virginia Cancer Center, Charlott...   \n",
       "1    National Institutes of Health Clinical Center,...   \n",
       "2    UC Irvine Health/Chao Family Comprehensive Can...   \n",
       "3    City of Hope Medical Center, Duarte, Californi...   \n",
       "4    High Point Regional Medical Center, High Point...   \n",
       "..                                                 ...   \n",
       "711  City of Hope Corona, Corona, California, 92879...   \n",
       "712  National Institutes of Health Clinical Center,...   \n",
       "713  M D Anderson Cancer Center, Houston, Texas, 77...   \n",
       "714  Roswell Park Cancer Institute, Buffalo, New Yo...   \n",
       "715  Northwestern University, Chicago, Illinois, 60...   \n",
       "\n",
       "                                       Study Documents  \n",
       "0    Study Protocol, Statistical Analysis Plan, and...  \n",
       "1    Study Protocol and Statistical Analysis Plan, ...  \n",
       "2    Study Protocol and Statistical Analysis Plan, ...  \n",
       "3    Study Protocol and Statistical Analysis Plan, ...  \n",
       "4    Study Protocol and Statistical Analysis Plan, ...  \n",
       "..                                                 ...  \n",
       "711  Study Protocol and Statistical Analysis Plan, ...  \n",
       "712  Study Protocol and Statistical Analysis Plan, ...  \n",
       "713  Study Protocol and Statistical Analysis Plan, ...  \n",
       "714  Study Protocol and Statistical Analysis Plan, ...  \n",
       "715  Study Protocol and Statistical Analysis Plan, ...  \n",
       "\n",
       "[716 rows x 26 columns]"
      ]
     },
     "execution_count": 8,
     "metadata": {},
     "output_type": "execute_result"
    }
   ],
   "source": [
    "Cancer_CT_df"
   ]
  },
  {
   "cell_type": "markdown",
   "id": "eaf3c30a",
   "metadata": {},
   "source": [
    "# Filter data set"
   ]
  },
  {
   "cell_type": "code",
   "execution_count": 9,
   "id": "50e6c0c0",
   "metadata": {
    "scrolled": true
   },
   "outputs": [
    {
     "data": {
      "text/html": [
       "<div>\n",
       "<style scoped>\n",
       "    .dataframe tbody tr th:only-of-type {\n",
       "        vertical-align: middle;\n",
       "    }\n",
       "\n",
       "    .dataframe tbody tr th {\n",
       "        vertical-align: top;\n",
       "    }\n",
       "\n",
       "    .dataframe thead th {\n",
       "        text-align: right;\n",
       "    }\n",
       "</style>\n",
       "<table border=\"1\" class=\"dataframe\">\n",
       "  <thead>\n",
       "    <tr style=\"text-align: right;\">\n",
       "      <th></th>\n",
       "      <th>NCT Number</th>\n",
       "      <th>Study Status</th>\n",
       "      <th>Conditions</th>\n",
       "      <th>Interventions</th>\n",
       "      <th>Sponsor</th>\n",
       "      <th>Phases</th>\n",
       "      <th>Funder Type</th>\n",
       "      <th>Start Date</th>\n",
       "      <th>Completion Date</th>\n",
       "      <th>Locations</th>\n",
       "    </tr>\n",
       "  </thead>\n",
       "  <tbody>\n",
       "    <tr>\n",
       "      <th>0</th>\n",
       "      <td>NCT02515227</td>\n",
       "      <td>COMPLETED</td>\n",
       "      <td>Melanoma</td>\n",
       "      <td>BIOLOGICAL: 6MHP|DRUG: Pembrolizumab</td>\n",
       "      <td>Craig L Slingluff, Jr</td>\n",
       "      <td>PHASE1|PHASE2</td>\n",
       "      <td>OTHER</td>\n",
       "      <td>2016-10-06</td>\n",
       "      <td>2020-03-14</td>\n",
       "      <td>University of Virginia Cancer Center, Charlott...</td>\n",
       "    </tr>\n",
       "    <tr>\n",
       "      <th>1</th>\n",
       "      <td>NCT03531827</td>\n",
       "      <td>TERMINATED</td>\n",
       "      <td>Metastatic Castration Resistant Prostate Cance...</td>\n",
       "      <td>DRUG: enzalutamide|DRUG: CRLX101</td>\n",
       "      <td>National Cancer Institute (NCI)</td>\n",
       "      <td>PHASE2</td>\n",
       "      <td>NIH</td>\n",
       "      <td>2019-03-26</td>\n",
       "      <td>2021-06-01</td>\n",
       "      <td>National Institutes of Health Clinical Center,...</td>\n",
       "    </tr>\n",
       "    <tr>\n",
       "      <th>2</th>\n",
       "      <td>NCT04034927</td>\n",
       "      <td>ACTIVE_NOT_RECRUITING</td>\n",
       "      <td>Fallopian Tube Endometrioid Tumor|Fallopian Tu...</td>\n",
       "      <td>PROCEDURE: Biospecimen Collection|PROCEDURE: C...</td>\n",
       "      <td>National Cancer Institute (NCI)</td>\n",
       "      <td>PHASE2</td>\n",
       "      <td>NIH</td>\n",
       "      <td>2019-12-04</td>\n",
       "      <td>2024-09-21</td>\n",
       "      <td>UC Irvine Health/Chao Family Comprehensive Can...</td>\n",
       "    </tr>\n",
       "    <tr>\n",
       "      <th>3</th>\n",
       "      <td>NCT04657094</td>\n",
       "      <td>ACTIVE_NOT_RECRUITING</td>\n",
       "      <td>Autoimmune Hemolytic Anemia|Chronic Lymphocyti...</td>\n",
       "      <td>DRUG: Acalabrutinib</td>\n",
       "      <td>City of Hope Medical Center</td>\n",
       "      <td>PHASE2</td>\n",
       "      <td>OTHER</td>\n",
       "      <td>2021-03-16</td>\n",
       "      <td>2024-12-30</td>\n",
       "      <td>City of Hope Medical Center, Duarte, Californi...</td>\n",
       "    </tr>\n",
       "    <tr>\n",
       "      <th>4</th>\n",
       "      <td>NCT03861091</td>\n",
       "      <td>COMPLETED</td>\n",
       "      <td>Lung Neoplasm</td>\n",
       "      <td>DRUG: risedronate|DRUG: Matching placebo</td>\n",
       "      <td>Wake Forest University Health Sciences</td>\n",
       "      <td>PHASE2</td>\n",
       "      <td>OTHER</td>\n",
       "      <td>2019-07-12</td>\n",
       "      <td>2022-03-02</td>\n",
       "      <td>High Point Regional Medical Center, High Point...</td>\n",
       "    </tr>\n",
       "    <tr>\n",
       "      <th>...</th>\n",
       "      <td>...</td>\n",
       "      <td>...</td>\n",
       "      <td>...</td>\n",
       "      <td>...</td>\n",
       "      <td>...</td>\n",
       "      <td>...</td>\n",
       "      <td>...</td>\n",
       "      <td>...</td>\n",
       "      <td>...</td>\n",
       "      <td>...</td>\n",
       "    </tr>\n",
       "    <tr>\n",
       "      <th>711</th>\n",
       "      <td>NCT02648477</td>\n",
       "      <td>COMPLETED</td>\n",
       "      <td>Estrogen Receptor Negative|Estrogen Receptor P...</td>\n",
       "      <td>DRUG: Anastrozole|DRUG: Doxorubicin Hydrochlor...</td>\n",
       "      <td>City of Hope Medical Center</td>\n",
       "      <td>PHASE2</td>\n",
       "      <td>OTHER</td>\n",
       "      <td>2016-03-28</td>\n",
       "      <td>2023-12-30</td>\n",
       "      <td>City of Hope Corona, Corona, California, 92879...</td>\n",
       "    </tr>\n",
       "    <tr>\n",
       "      <th>712</th>\n",
       "      <td>NCT01931098</td>\n",
       "      <td>COMPLETED</td>\n",
       "      <td>Glioblastoma|Glioblastoma Multiforme|Gliosarco...</td>\n",
       "      <td>DRUG: topotecan|DRUG: pazopanib</td>\n",
       "      <td>National Cancer Institute (NCI)</td>\n",
       "      <td>PHASE2</td>\n",
       "      <td>NIH</td>\n",
       "      <td>2015-12-10</td>\n",
       "      <td>2019-09-12</td>\n",
       "      <td>National Institutes of Health Clinical Center,...</td>\n",
       "    </tr>\n",
       "    <tr>\n",
       "      <th>713</th>\n",
       "      <td>NCT02311998</td>\n",
       "      <td>COMPLETED</td>\n",
       "      <td>B Acute Lymphoblastic Leukemia With t(9;22)(q3...</td>\n",
       "      <td>DRUG: Bosutinib|BIOLOGICAL: Inotuzumab Ozogamicin</td>\n",
       "      <td>M.D. Anderson Cancer Center</td>\n",
       "      <td>PHASE1|PHASE2</td>\n",
       "      <td>OTHER</td>\n",
       "      <td>2015-04-16</td>\n",
       "      <td>2022-03-23</td>\n",
       "      <td>M D Anderson Cancer Center, Houston, Texas, 77...</td>\n",
       "    </tr>\n",
       "    <tr>\n",
       "      <th>714</th>\n",
       "      <td>NCT02166905</td>\n",
       "      <td>COMPLETED</td>\n",
       "      <td>Fallopian Tube Carcinoma|Ovarian Carcinoma|Pri...</td>\n",
       "      <td>BIOLOGICAL: DEC-205/NY-ESO-1 Fusion Protein CD...</td>\n",
       "      <td>Roswell Park Cancer Institute</td>\n",
       "      <td>PHASE1|PHASE2</td>\n",
       "      <td>OTHER</td>\n",
       "      <td>2014-10-10</td>\n",
       "      <td>2020-08-20</td>\n",
       "      <td>Roswell Park Cancer Institute, Buffalo, New Yo...</td>\n",
       "    </tr>\n",
       "    <tr>\n",
       "      <th>715</th>\n",
       "      <td>NCT02242097</td>\n",
       "      <td>ACTIVE_NOT_RECRUITING</td>\n",
       "      <td>Contiguous Stage II Mantle Cell Lymphoma|Nonco...</td>\n",
       "      <td>DRUG: ibrutinib|OTHER: laboratory biomarker an...</td>\n",
       "      <td>Northwestern University</td>\n",
       "      <td>PHASE2</td>\n",
       "      <td>OTHER</td>\n",
       "      <td>2015-01-12</td>\n",
       "      <td>2025-01</td>\n",
       "      <td>Northwestern University, Chicago, Illinois, 60...</td>\n",
       "    </tr>\n",
       "  </tbody>\n",
       "</table>\n",
       "<p>716 rows × 10 columns</p>\n",
       "</div>"
      ],
      "text/plain": [
       "      NCT Number           Study Status  \\\n",
       "0    NCT02515227              COMPLETED   \n",
       "1    NCT03531827             TERMINATED   \n",
       "2    NCT04034927  ACTIVE_NOT_RECRUITING   \n",
       "3    NCT04657094  ACTIVE_NOT_RECRUITING   \n",
       "4    NCT03861091              COMPLETED   \n",
       "..           ...                    ...   \n",
       "711  NCT02648477              COMPLETED   \n",
       "712  NCT01931098              COMPLETED   \n",
       "713  NCT02311998              COMPLETED   \n",
       "714  NCT02166905              COMPLETED   \n",
       "715  NCT02242097  ACTIVE_NOT_RECRUITING   \n",
       "\n",
       "                                            Conditions  \\\n",
       "0                                             Melanoma   \n",
       "1    Metastatic Castration Resistant Prostate Cance...   \n",
       "2    Fallopian Tube Endometrioid Tumor|Fallopian Tu...   \n",
       "3    Autoimmune Hemolytic Anemia|Chronic Lymphocyti...   \n",
       "4                                        Lung Neoplasm   \n",
       "..                                                 ...   \n",
       "711  Estrogen Receptor Negative|Estrogen Receptor P...   \n",
       "712  Glioblastoma|Glioblastoma Multiforme|Gliosarco...   \n",
       "713  B Acute Lymphoblastic Leukemia With t(9;22)(q3...   \n",
       "714  Fallopian Tube Carcinoma|Ovarian Carcinoma|Pri...   \n",
       "715  Contiguous Stage II Mantle Cell Lymphoma|Nonco...   \n",
       "\n",
       "                                         Interventions  \\\n",
       "0                 BIOLOGICAL: 6MHP|DRUG: Pembrolizumab   \n",
       "1                     DRUG: enzalutamide|DRUG: CRLX101   \n",
       "2    PROCEDURE: Biospecimen Collection|PROCEDURE: C...   \n",
       "3                                  DRUG: Acalabrutinib   \n",
       "4             DRUG: risedronate|DRUG: Matching placebo   \n",
       "..                                                 ...   \n",
       "711  DRUG: Anastrozole|DRUG: Doxorubicin Hydrochlor...   \n",
       "712                    DRUG: topotecan|DRUG: pazopanib   \n",
       "713  DRUG: Bosutinib|BIOLOGICAL: Inotuzumab Ozogamicin   \n",
       "714  BIOLOGICAL: DEC-205/NY-ESO-1 Fusion Protein CD...   \n",
       "715  DRUG: ibrutinib|OTHER: laboratory biomarker an...   \n",
       "\n",
       "                                    Sponsor         Phases Funder Type  \\\n",
       "0                     Craig L Slingluff, Jr  PHASE1|PHASE2       OTHER   \n",
       "1           National Cancer Institute (NCI)         PHASE2         NIH   \n",
       "2           National Cancer Institute (NCI)         PHASE2         NIH   \n",
       "3               City of Hope Medical Center         PHASE2       OTHER   \n",
       "4    Wake Forest University Health Sciences         PHASE2       OTHER   \n",
       "..                                      ...            ...         ...   \n",
       "711             City of Hope Medical Center         PHASE2       OTHER   \n",
       "712         National Cancer Institute (NCI)         PHASE2         NIH   \n",
       "713             M.D. Anderson Cancer Center  PHASE1|PHASE2       OTHER   \n",
       "714           Roswell Park Cancer Institute  PHASE1|PHASE2       OTHER   \n",
       "715                 Northwestern University         PHASE2       OTHER   \n",
       "\n",
       "     Start Date Completion Date  \\\n",
       "0    2016-10-06      2020-03-14   \n",
       "1    2019-03-26      2021-06-01   \n",
       "2    2019-12-04      2024-09-21   \n",
       "3    2021-03-16      2024-12-30   \n",
       "4    2019-07-12      2022-03-02   \n",
       "..          ...             ...   \n",
       "711  2016-03-28      2023-12-30   \n",
       "712  2015-12-10      2019-09-12   \n",
       "713  2015-04-16      2022-03-23   \n",
       "714  2014-10-10      2020-08-20   \n",
       "715  2015-01-12         2025-01   \n",
       "\n",
       "                                             Locations  \n",
       "0    University of Virginia Cancer Center, Charlott...  \n",
       "1    National Institutes of Health Clinical Center,...  \n",
       "2    UC Irvine Health/Chao Family Comprehensive Can...  \n",
       "3    City of Hope Medical Center, Duarte, Californi...  \n",
       "4    High Point Regional Medical Center, High Point...  \n",
       "..                                                 ...  \n",
       "711  City of Hope Corona, Corona, California, 92879...  \n",
       "712  National Institutes of Health Clinical Center,...  \n",
       "713  M D Anderson Cancer Center, Houston, Texas, 77...  \n",
       "714  Roswell Park Cancer Institute, Buffalo, New Yo...  \n",
       "715  Northwestern University, Chicago, Illinois, 60...  \n",
       "\n",
       "[716 rows x 10 columns]"
      ]
     },
     "execution_count": 9,
     "metadata": {},
     "output_type": "execute_result"
    }
   ],
   "source": [
    "Column_to_keep = [\"NCT Number\", \"Study Status\", \"Conditions\", \"Interventions\", \"Sponsor\", \"Phases\", \"Funder Type\", \"Start Date\", \"Completion Date\", \"Locations\"]\n",
    "New_Reduced_df = Cancer_CT_df[Column_to_keep]\n",
    "New_Reduced_df"
   ]
  },
  {
   "cell_type": "code",
   "execution_count": 11,
   "id": "69bed5f3",
   "metadata": {},
   "outputs": [
    {
     "data": {
      "text/html": [
       "<div>\n",
       "<style scoped>\n",
       "    .dataframe tbody tr th:only-of-type {\n",
       "        vertical-align: middle;\n",
       "    }\n",
       "\n",
       "    .dataframe tbody tr th {\n",
       "        vertical-align: top;\n",
       "    }\n",
       "\n",
       "    .dataframe thead th {\n",
       "        text-align: right;\n",
       "    }\n",
       "</style>\n",
       "<table border=\"1\" class=\"dataframe\">\n",
       "  <thead>\n",
       "    <tr style=\"text-align: right;\">\n",
       "      <th></th>\n",
       "      <th>NCT Number</th>\n",
       "      <th>Study Status</th>\n",
       "      <th>Conditions</th>\n",
       "      <th>Interventions</th>\n",
       "      <th>Sponsor</th>\n",
       "      <th>Phases</th>\n",
       "      <th>Funder Type</th>\n",
       "      <th>Start Date</th>\n",
       "      <th>Completion Date</th>\n",
       "      <th>Locations</th>\n",
       "      <th>EARLY_PHASE1</th>\n",
       "      <th>PHASE1</th>\n",
       "      <th>PHASE2</th>\n",
       "      <th>PHASE3</th>\n",
       "      <th>PHASE4</th>\n",
       "    </tr>\n",
       "  </thead>\n",
       "  <tbody>\n",
       "    <tr>\n",
       "      <th>0</th>\n",
       "      <td>NCT02515227</td>\n",
       "      <td>COMPLETED</td>\n",
       "      <td>Melanoma</td>\n",
       "      <td>BIOLOGICAL: 6MHP|DRUG: Pembrolizumab</td>\n",
       "      <td>Craig L Slingluff, Jr</td>\n",
       "      <td>PHASE1</td>\n",
       "      <td>OTHER</td>\n",
       "      <td>2016-10-06</td>\n",
       "      <td>2020-03-14</td>\n",
       "      <td>University of Virginia Cancer Center, Charlott...</td>\n",
       "      <td>0</td>\n",
       "      <td>1</td>\n",
       "      <td>0</td>\n",
       "      <td>0</td>\n",
       "      <td>0</td>\n",
       "    </tr>\n",
       "    <tr>\n",
       "      <th>0</th>\n",
       "      <td>NCT02515227</td>\n",
       "      <td>COMPLETED</td>\n",
       "      <td>Melanoma</td>\n",
       "      <td>BIOLOGICAL: 6MHP|DRUG: Pembrolizumab</td>\n",
       "      <td>Craig L Slingluff, Jr</td>\n",
       "      <td>PHASE2</td>\n",
       "      <td>OTHER</td>\n",
       "      <td>2016-10-06</td>\n",
       "      <td>2020-03-14</td>\n",
       "      <td>University of Virginia Cancer Center, Charlott...</td>\n",
       "      <td>0</td>\n",
       "      <td>0</td>\n",
       "      <td>1</td>\n",
       "      <td>0</td>\n",
       "      <td>0</td>\n",
       "    </tr>\n",
       "    <tr>\n",
       "      <th>1</th>\n",
       "      <td>NCT03531827</td>\n",
       "      <td>TERMINATED</td>\n",
       "      <td>Metastatic Castration Resistant Prostate Cance...</td>\n",
       "      <td>DRUG: enzalutamide|DRUG: CRLX101</td>\n",
       "      <td>National Cancer Institute (NCI)</td>\n",
       "      <td>PHASE2</td>\n",
       "      <td>NIH</td>\n",
       "      <td>2019-03-26</td>\n",
       "      <td>2021-06-01</td>\n",
       "      <td>National Institutes of Health Clinical Center,...</td>\n",
       "      <td>0</td>\n",
       "      <td>0</td>\n",
       "      <td>1</td>\n",
       "      <td>0</td>\n",
       "      <td>0</td>\n",
       "    </tr>\n",
       "    <tr>\n",
       "      <th>2</th>\n",
       "      <td>NCT04034927</td>\n",
       "      <td>ACTIVE_NOT_RECRUITING</td>\n",
       "      <td>Fallopian Tube Endometrioid Tumor|Fallopian Tu...</td>\n",
       "      <td>PROCEDURE: Biospecimen Collection|PROCEDURE: C...</td>\n",
       "      <td>National Cancer Institute (NCI)</td>\n",
       "      <td>PHASE2</td>\n",
       "      <td>NIH</td>\n",
       "      <td>2019-12-04</td>\n",
       "      <td>2024-09-21</td>\n",
       "      <td>UC Irvine Health/Chao Family Comprehensive Can...</td>\n",
       "      <td>0</td>\n",
       "      <td>0</td>\n",
       "      <td>1</td>\n",
       "      <td>0</td>\n",
       "      <td>0</td>\n",
       "    </tr>\n",
       "    <tr>\n",
       "      <th>3</th>\n",
       "      <td>NCT04657094</td>\n",
       "      <td>ACTIVE_NOT_RECRUITING</td>\n",
       "      <td>Autoimmune Hemolytic Anemia|Chronic Lymphocyti...</td>\n",
       "      <td>DRUG: Acalabrutinib</td>\n",
       "      <td>City of Hope Medical Center</td>\n",
       "      <td>PHASE2</td>\n",
       "      <td>OTHER</td>\n",
       "      <td>2021-03-16</td>\n",
       "      <td>2024-12-30</td>\n",
       "      <td>City of Hope Medical Center, Duarte, Californi...</td>\n",
       "      <td>0</td>\n",
       "      <td>0</td>\n",
       "      <td>1</td>\n",
       "      <td>0</td>\n",
       "      <td>0</td>\n",
       "    </tr>\n",
       "    <tr>\n",
       "      <th>...</th>\n",
       "      <td>...</td>\n",
       "      <td>...</td>\n",
       "      <td>...</td>\n",
       "      <td>...</td>\n",
       "      <td>...</td>\n",
       "      <td>...</td>\n",
       "      <td>...</td>\n",
       "      <td>...</td>\n",
       "      <td>...</td>\n",
       "      <td>...</td>\n",
       "      <td>...</td>\n",
       "      <td>...</td>\n",
       "      <td>...</td>\n",
       "      <td>...</td>\n",
       "      <td>...</td>\n",
       "    </tr>\n",
       "    <tr>\n",
       "      <th>713</th>\n",
       "      <td>NCT02311998</td>\n",
       "      <td>COMPLETED</td>\n",
       "      <td>B Acute Lymphoblastic Leukemia With t(9;22)(q3...</td>\n",
       "      <td>DRUG: Bosutinib|BIOLOGICAL: Inotuzumab Ozogamicin</td>\n",
       "      <td>M.D. Anderson Cancer Center</td>\n",
       "      <td>PHASE1</td>\n",
       "      <td>OTHER</td>\n",
       "      <td>2015-04-16</td>\n",
       "      <td>2022-03-23</td>\n",
       "      <td>M D Anderson Cancer Center, Houston, Texas, 77...</td>\n",
       "      <td>0</td>\n",
       "      <td>1</td>\n",
       "      <td>0</td>\n",
       "      <td>0</td>\n",
       "      <td>0</td>\n",
       "    </tr>\n",
       "    <tr>\n",
       "      <th>713</th>\n",
       "      <td>NCT02311998</td>\n",
       "      <td>COMPLETED</td>\n",
       "      <td>B Acute Lymphoblastic Leukemia With t(9;22)(q3...</td>\n",
       "      <td>DRUG: Bosutinib|BIOLOGICAL: Inotuzumab Ozogamicin</td>\n",
       "      <td>M.D. Anderson Cancer Center</td>\n",
       "      <td>PHASE2</td>\n",
       "      <td>OTHER</td>\n",
       "      <td>2015-04-16</td>\n",
       "      <td>2022-03-23</td>\n",
       "      <td>M D Anderson Cancer Center, Houston, Texas, 77...</td>\n",
       "      <td>0</td>\n",
       "      <td>0</td>\n",
       "      <td>1</td>\n",
       "      <td>0</td>\n",
       "      <td>0</td>\n",
       "    </tr>\n",
       "    <tr>\n",
       "      <th>714</th>\n",
       "      <td>NCT02166905</td>\n",
       "      <td>COMPLETED</td>\n",
       "      <td>Fallopian Tube Carcinoma|Ovarian Carcinoma|Pri...</td>\n",
       "      <td>BIOLOGICAL: DEC-205/NY-ESO-1 Fusion Protein CD...</td>\n",
       "      <td>Roswell Park Cancer Institute</td>\n",
       "      <td>PHASE1</td>\n",
       "      <td>OTHER</td>\n",
       "      <td>2014-10-10</td>\n",
       "      <td>2020-08-20</td>\n",
       "      <td>Roswell Park Cancer Institute, Buffalo, New Yo...</td>\n",
       "      <td>0</td>\n",
       "      <td>1</td>\n",
       "      <td>0</td>\n",
       "      <td>0</td>\n",
       "      <td>0</td>\n",
       "    </tr>\n",
       "    <tr>\n",
       "      <th>714</th>\n",
       "      <td>NCT02166905</td>\n",
       "      <td>COMPLETED</td>\n",
       "      <td>Fallopian Tube Carcinoma|Ovarian Carcinoma|Pri...</td>\n",
       "      <td>BIOLOGICAL: DEC-205/NY-ESO-1 Fusion Protein CD...</td>\n",
       "      <td>Roswell Park Cancer Institute</td>\n",
       "      <td>PHASE2</td>\n",
       "      <td>OTHER</td>\n",
       "      <td>2014-10-10</td>\n",
       "      <td>2020-08-20</td>\n",
       "      <td>Roswell Park Cancer Institute, Buffalo, New Yo...</td>\n",
       "      <td>0</td>\n",
       "      <td>0</td>\n",
       "      <td>1</td>\n",
       "      <td>0</td>\n",
       "      <td>0</td>\n",
       "    </tr>\n",
       "    <tr>\n",
       "      <th>715</th>\n",
       "      <td>NCT02242097</td>\n",
       "      <td>ACTIVE_NOT_RECRUITING</td>\n",
       "      <td>Contiguous Stage II Mantle Cell Lymphoma|Nonco...</td>\n",
       "      <td>DRUG: ibrutinib|OTHER: laboratory biomarker an...</td>\n",
       "      <td>Northwestern University</td>\n",
       "      <td>PHASE2</td>\n",
       "      <td>OTHER</td>\n",
       "      <td>2015-01-12</td>\n",
       "      <td>2025-01</td>\n",
       "      <td>Northwestern University, Chicago, Illinois, 60...</td>\n",
       "      <td>0</td>\n",
       "      <td>0</td>\n",
       "      <td>1</td>\n",
       "      <td>0</td>\n",
       "      <td>0</td>\n",
       "    </tr>\n",
       "  </tbody>\n",
       "</table>\n",
       "<p>835 rows × 15 columns</p>\n",
       "</div>"
      ],
      "text/plain": [
       "      NCT Number           Study Status  \\\n",
       "0    NCT02515227              COMPLETED   \n",
       "0    NCT02515227              COMPLETED   \n",
       "1    NCT03531827             TERMINATED   \n",
       "2    NCT04034927  ACTIVE_NOT_RECRUITING   \n",
       "3    NCT04657094  ACTIVE_NOT_RECRUITING   \n",
       "..           ...                    ...   \n",
       "713  NCT02311998              COMPLETED   \n",
       "713  NCT02311998              COMPLETED   \n",
       "714  NCT02166905              COMPLETED   \n",
       "714  NCT02166905              COMPLETED   \n",
       "715  NCT02242097  ACTIVE_NOT_RECRUITING   \n",
       "\n",
       "                                            Conditions  \\\n",
       "0                                             Melanoma   \n",
       "0                                             Melanoma   \n",
       "1    Metastatic Castration Resistant Prostate Cance...   \n",
       "2    Fallopian Tube Endometrioid Tumor|Fallopian Tu...   \n",
       "3    Autoimmune Hemolytic Anemia|Chronic Lymphocyti...   \n",
       "..                                                 ...   \n",
       "713  B Acute Lymphoblastic Leukemia With t(9;22)(q3...   \n",
       "713  B Acute Lymphoblastic Leukemia With t(9;22)(q3...   \n",
       "714  Fallopian Tube Carcinoma|Ovarian Carcinoma|Pri...   \n",
       "714  Fallopian Tube Carcinoma|Ovarian Carcinoma|Pri...   \n",
       "715  Contiguous Stage II Mantle Cell Lymphoma|Nonco...   \n",
       "\n",
       "                                         Interventions  \\\n",
       "0                 BIOLOGICAL: 6MHP|DRUG: Pembrolizumab   \n",
       "0                 BIOLOGICAL: 6MHP|DRUG: Pembrolizumab   \n",
       "1                     DRUG: enzalutamide|DRUG: CRLX101   \n",
       "2    PROCEDURE: Biospecimen Collection|PROCEDURE: C...   \n",
       "3                                  DRUG: Acalabrutinib   \n",
       "..                                                 ...   \n",
       "713  DRUG: Bosutinib|BIOLOGICAL: Inotuzumab Ozogamicin   \n",
       "713  DRUG: Bosutinib|BIOLOGICAL: Inotuzumab Ozogamicin   \n",
       "714  BIOLOGICAL: DEC-205/NY-ESO-1 Fusion Protein CD...   \n",
       "714  BIOLOGICAL: DEC-205/NY-ESO-1 Fusion Protein CD...   \n",
       "715  DRUG: ibrutinib|OTHER: laboratory biomarker an...   \n",
       "\n",
       "                             Sponsor  Phases Funder Type  Start Date  \\\n",
       "0              Craig L Slingluff, Jr  PHASE1       OTHER  2016-10-06   \n",
       "0              Craig L Slingluff, Jr  PHASE2       OTHER  2016-10-06   \n",
       "1    National Cancer Institute (NCI)  PHASE2         NIH  2019-03-26   \n",
       "2    National Cancer Institute (NCI)  PHASE2         NIH  2019-12-04   \n",
       "3        City of Hope Medical Center  PHASE2       OTHER  2021-03-16   \n",
       "..                               ...     ...         ...         ...   \n",
       "713      M.D. Anderson Cancer Center  PHASE1       OTHER  2015-04-16   \n",
       "713      M.D. Anderson Cancer Center  PHASE2       OTHER  2015-04-16   \n",
       "714    Roswell Park Cancer Institute  PHASE1       OTHER  2014-10-10   \n",
       "714    Roswell Park Cancer Institute  PHASE2       OTHER  2014-10-10   \n",
       "715          Northwestern University  PHASE2       OTHER  2015-01-12   \n",
       "\n",
       "    Completion Date                                          Locations  \\\n",
       "0        2020-03-14  University of Virginia Cancer Center, Charlott...   \n",
       "0        2020-03-14  University of Virginia Cancer Center, Charlott...   \n",
       "1        2021-06-01  National Institutes of Health Clinical Center,...   \n",
       "2        2024-09-21  UC Irvine Health/Chao Family Comprehensive Can...   \n",
       "3        2024-12-30  City of Hope Medical Center, Duarte, Californi...   \n",
       "..              ...                                                ...   \n",
       "713      2022-03-23  M D Anderson Cancer Center, Houston, Texas, 77...   \n",
       "713      2022-03-23  M D Anderson Cancer Center, Houston, Texas, 77...   \n",
       "714      2020-08-20  Roswell Park Cancer Institute, Buffalo, New Yo...   \n",
       "714      2020-08-20  Roswell Park Cancer Institute, Buffalo, New Yo...   \n",
       "715         2025-01  Northwestern University, Chicago, Illinois, 60...   \n",
       "\n",
       "     EARLY_PHASE1  PHASE1  PHASE2  PHASE3  PHASE4  \n",
       "0               0       1       0       0       0  \n",
       "0               0       0       1       0       0  \n",
       "1               0       0       1       0       0  \n",
       "2               0       0       1       0       0  \n",
       "3               0       0       1       0       0  \n",
       "..            ...     ...     ...     ...     ...  \n",
       "713             0       1       0       0       0  \n",
       "713             0       0       1       0       0  \n",
       "714             0       1       0       0       0  \n",
       "714             0       0       1       0       0  \n",
       "715             0       0       1       0       0  \n",
       "\n",
       "[835 rows x 15 columns]"
      ]
     },
     "execution_count": 11,
     "metadata": {},
     "output_type": "execute_result"
    }
   ],
   "source": [
    "# Create one-hot encoded columns for the phases\n",
    "phases_dummies = New_Reduced_df['Phases'].str.get_dummies(sep='|')\n",
    "\n",
    "# Merge the one-hot encoded columns with the original DataFrame\n",
    "New_Reduced_df = pd.concat([New_Reduced_df, phases_dummies], axis=1)\n",
    "\n",
    "# Drop the original 'Phases' column if desired\n",
    "# New_Reduced_df = New_Reduced_df.drop(columns=['Phases'])\n",
    "\n",
    "# Display the resulting DataFrame\n",
    "New_Reduced_df"
   ]
  },
  {
   "cell_type": "markdown",
   "id": "2ddd288d",
   "metadata": {},
   "source": [
    "# Extract State and Zip codes from location column"
   ]
  },
  {
   "cell_type": "code",
   "execution_count": 12,
   "id": "60b87082",
   "metadata": {},
   "outputs": [
    {
     "data": {
      "text/html": [
       "<div>\n",
       "<style scoped>\n",
       "    .dataframe tbody tr th:only-of-type {\n",
       "        vertical-align: middle;\n",
       "    }\n",
       "\n",
       "    .dataframe tbody tr th {\n",
       "        vertical-align: top;\n",
       "    }\n",
       "\n",
       "    .dataframe thead th {\n",
       "        text-align: right;\n",
       "    }\n",
       "</style>\n",
       "<table border=\"1\" class=\"dataframe\">\n",
       "  <thead>\n",
       "    <tr style=\"text-align: right;\">\n",
       "      <th></th>\n",
       "      <th>NCT Number</th>\n",
       "      <th>Study Status</th>\n",
       "      <th>Conditions</th>\n",
       "      <th>Interventions</th>\n",
       "      <th>Sponsor</th>\n",
       "      <th>Phases</th>\n",
       "      <th>Funder Type</th>\n",
       "      <th>Start Date</th>\n",
       "      <th>Completion Date</th>\n",
       "      <th>Locations</th>\n",
       "      <th>EARLY_PHASE1</th>\n",
       "      <th>PHASE1</th>\n",
       "      <th>PHASE2</th>\n",
       "      <th>PHASE3</th>\n",
       "      <th>PHASE4</th>\n",
       "      <th>State</th>\n",
       "      <th>Zip Code</th>\n",
       "    </tr>\n",
       "  </thead>\n",
       "  <tbody>\n",
       "    <tr>\n",
       "      <th>0</th>\n",
       "      <td>NCT02515227</td>\n",
       "      <td>COMPLETED</td>\n",
       "      <td>Melanoma</td>\n",
       "      <td>BIOLOGICAL: 6MHP|DRUG: Pembrolizumab</td>\n",
       "      <td>Craig L Slingluff, Jr</td>\n",
       "      <td>PHASE1</td>\n",
       "      <td>OTHER</td>\n",
       "      <td>2016-10-06</td>\n",
       "      <td>2020-03-14</td>\n",
       "      <td>University of Virginia Cancer Center, Charlott...</td>\n",
       "      <td>0</td>\n",
       "      <td>1</td>\n",
       "      <td>0</td>\n",
       "      <td>0</td>\n",
       "      <td>0</td>\n",
       "      <td>Virginia</td>\n",
       "      <td>22908</td>\n",
       "    </tr>\n",
       "    <tr>\n",
       "      <th>0</th>\n",
       "      <td>NCT02515227</td>\n",
       "      <td>COMPLETED</td>\n",
       "      <td>Melanoma</td>\n",
       "      <td>BIOLOGICAL: 6MHP|DRUG: Pembrolizumab</td>\n",
       "      <td>Craig L Slingluff, Jr</td>\n",
       "      <td>PHASE2</td>\n",
       "      <td>OTHER</td>\n",
       "      <td>2016-10-06</td>\n",
       "      <td>2020-03-14</td>\n",
       "      <td>University of Virginia Cancer Center, Charlott...</td>\n",
       "      <td>0</td>\n",
       "      <td>0</td>\n",
       "      <td>1</td>\n",
       "      <td>0</td>\n",
       "      <td>0</td>\n",
       "      <td>Virginia</td>\n",
       "      <td>22908</td>\n",
       "    </tr>\n",
       "    <tr>\n",
       "      <th>1</th>\n",
       "      <td>NCT03531827</td>\n",
       "      <td>TERMINATED</td>\n",
       "      <td>Metastatic Castration Resistant Prostate Cance...</td>\n",
       "      <td>DRUG: enzalutamide|DRUG: CRLX101</td>\n",
       "      <td>National Cancer Institute (NCI)</td>\n",
       "      <td>PHASE2</td>\n",
       "      <td>NIH</td>\n",
       "      <td>2019-03-26</td>\n",
       "      <td>2021-06-01</td>\n",
       "      <td>National Institutes of Health Clinical Center,...</td>\n",
       "      <td>0</td>\n",
       "      <td>0</td>\n",
       "      <td>1</td>\n",
       "      <td>0</td>\n",
       "      <td>0</td>\n",
       "      <td>Maryland</td>\n",
       "      <td>20892</td>\n",
       "    </tr>\n",
       "    <tr>\n",
       "      <th>2</th>\n",
       "      <td>NCT04034927</td>\n",
       "      <td>ACTIVE_NOT_RECRUITING</td>\n",
       "      <td>Fallopian Tube Endometrioid Tumor|Fallopian Tu...</td>\n",
       "      <td>PROCEDURE: Biospecimen Collection|PROCEDURE: C...</td>\n",
       "      <td>National Cancer Institute (NCI)</td>\n",
       "      <td>PHASE2</td>\n",
       "      <td>NIH</td>\n",
       "      <td>2019-12-04</td>\n",
       "      <td>2024-09-21</td>\n",
       "      <td>UC Irvine Health/Chao Family Comprehensive Can...</td>\n",
       "      <td>0</td>\n",
       "      <td>0</td>\n",
       "      <td>1</td>\n",
       "      <td>0</td>\n",
       "      <td>0</td>\n",
       "      <td>Wisconsin</td>\n",
       "      <td>53226</td>\n",
       "    </tr>\n",
       "    <tr>\n",
       "      <th>3</th>\n",
       "      <td>NCT04657094</td>\n",
       "      <td>ACTIVE_NOT_RECRUITING</td>\n",
       "      <td>Autoimmune Hemolytic Anemia|Chronic Lymphocyti...</td>\n",
       "      <td>DRUG: Acalabrutinib</td>\n",
       "      <td>City of Hope Medical Center</td>\n",
       "      <td>PHASE2</td>\n",
       "      <td>OTHER</td>\n",
       "      <td>2021-03-16</td>\n",
       "      <td>2024-12-30</td>\n",
       "      <td>City of Hope Medical Center, Duarte, Californi...</td>\n",
       "      <td>0</td>\n",
       "      <td>0</td>\n",
       "      <td>1</td>\n",
       "      <td>0</td>\n",
       "      <td>0</td>\n",
       "      <td>California</td>\n",
       "      <td>91010</td>\n",
       "    </tr>\n",
       "    <tr>\n",
       "      <th>...</th>\n",
       "      <td>...</td>\n",
       "      <td>...</td>\n",
       "      <td>...</td>\n",
       "      <td>...</td>\n",
       "      <td>...</td>\n",
       "      <td>...</td>\n",
       "      <td>...</td>\n",
       "      <td>...</td>\n",
       "      <td>...</td>\n",
       "      <td>...</td>\n",
       "      <td>...</td>\n",
       "      <td>...</td>\n",
       "      <td>...</td>\n",
       "      <td>...</td>\n",
       "      <td>...</td>\n",
       "      <td>...</td>\n",
       "      <td>...</td>\n",
       "    </tr>\n",
       "    <tr>\n",
       "      <th>713</th>\n",
       "      <td>NCT02311998</td>\n",
       "      <td>COMPLETED</td>\n",
       "      <td>B Acute Lymphoblastic Leukemia With t(9;22)(q3...</td>\n",
       "      <td>DRUG: Bosutinib|BIOLOGICAL: Inotuzumab Ozogamicin</td>\n",
       "      <td>M.D. Anderson Cancer Center</td>\n",
       "      <td>PHASE1</td>\n",
       "      <td>OTHER</td>\n",
       "      <td>2015-04-16</td>\n",
       "      <td>2022-03-23</td>\n",
       "      <td>M D Anderson Cancer Center, Houston, Texas, 77...</td>\n",
       "      <td>0</td>\n",
       "      <td>1</td>\n",
       "      <td>0</td>\n",
       "      <td>0</td>\n",
       "      <td>0</td>\n",
       "      <td>Texas</td>\n",
       "      <td>77030</td>\n",
       "    </tr>\n",
       "    <tr>\n",
       "      <th>713</th>\n",
       "      <td>NCT02311998</td>\n",
       "      <td>COMPLETED</td>\n",
       "      <td>B Acute Lymphoblastic Leukemia With t(9;22)(q3...</td>\n",
       "      <td>DRUG: Bosutinib|BIOLOGICAL: Inotuzumab Ozogamicin</td>\n",
       "      <td>M.D. Anderson Cancer Center</td>\n",
       "      <td>PHASE2</td>\n",
       "      <td>OTHER</td>\n",
       "      <td>2015-04-16</td>\n",
       "      <td>2022-03-23</td>\n",
       "      <td>M D Anderson Cancer Center, Houston, Texas, 77...</td>\n",
       "      <td>0</td>\n",
       "      <td>0</td>\n",
       "      <td>1</td>\n",
       "      <td>0</td>\n",
       "      <td>0</td>\n",
       "      <td>Texas</td>\n",
       "      <td>77030</td>\n",
       "    </tr>\n",
       "    <tr>\n",
       "      <th>714</th>\n",
       "      <td>NCT02166905</td>\n",
       "      <td>COMPLETED</td>\n",
       "      <td>Fallopian Tube Carcinoma|Ovarian Carcinoma|Pri...</td>\n",
       "      <td>BIOLOGICAL: DEC-205/NY-ESO-1 Fusion Protein CD...</td>\n",
       "      <td>Roswell Park Cancer Institute</td>\n",
       "      <td>PHASE1</td>\n",
       "      <td>OTHER</td>\n",
       "      <td>2014-10-10</td>\n",
       "      <td>2020-08-20</td>\n",
       "      <td>Roswell Park Cancer Institute, Buffalo, New Yo...</td>\n",
       "      <td>0</td>\n",
       "      <td>1</td>\n",
       "      <td>0</td>\n",
       "      <td>0</td>\n",
       "      <td>0</td>\n",
       "      <td>New York</td>\n",
       "      <td>14263</td>\n",
       "    </tr>\n",
       "    <tr>\n",
       "      <th>714</th>\n",
       "      <td>NCT02166905</td>\n",
       "      <td>COMPLETED</td>\n",
       "      <td>Fallopian Tube Carcinoma|Ovarian Carcinoma|Pri...</td>\n",
       "      <td>BIOLOGICAL: DEC-205/NY-ESO-1 Fusion Protein CD...</td>\n",
       "      <td>Roswell Park Cancer Institute</td>\n",
       "      <td>PHASE2</td>\n",
       "      <td>OTHER</td>\n",
       "      <td>2014-10-10</td>\n",
       "      <td>2020-08-20</td>\n",
       "      <td>Roswell Park Cancer Institute, Buffalo, New Yo...</td>\n",
       "      <td>0</td>\n",
       "      <td>0</td>\n",
       "      <td>1</td>\n",
       "      <td>0</td>\n",
       "      <td>0</td>\n",
       "      <td>New York</td>\n",
       "      <td>14263</td>\n",
       "    </tr>\n",
       "    <tr>\n",
       "      <th>715</th>\n",
       "      <td>NCT02242097</td>\n",
       "      <td>ACTIVE_NOT_RECRUITING</td>\n",
       "      <td>Contiguous Stage II Mantle Cell Lymphoma|Nonco...</td>\n",
       "      <td>DRUG: ibrutinib|OTHER: laboratory biomarker an...</td>\n",
       "      <td>Northwestern University</td>\n",
       "      <td>PHASE2</td>\n",
       "      <td>OTHER</td>\n",
       "      <td>2015-01-12</td>\n",
       "      <td>2025-01</td>\n",
       "      <td>Northwestern University, Chicago, Illinois, 60...</td>\n",
       "      <td>0</td>\n",
       "      <td>0</td>\n",
       "      <td>1</td>\n",
       "      <td>0</td>\n",
       "      <td>0</td>\n",
       "      <td>Utah</td>\n",
       "      <td>84132</td>\n",
       "    </tr>\n",
       "  </tbody>\n",
       "</table>\n",
       "<p>835 rows × 17 columns</p>\n",
       "</div>"
      ],
      "text/plain": [
       "      NCT Number           Study Status  \\\n",
       "0    NCT02515227              COMPLETED   \n",
       "0    NCT02515227              COMPLETED   \n",
       "1    NCT03531827             TERMINATED   \n",
       "2    NCT04034927  ACTIVE_NOT_RECRUITING   \n",
       "3    NCT04657094  ACTIVE_NOT_RECRUITING   \n",
       "..           ...                    ...   \n",
       "713  NCT02311998              COMPLETED   \n",
       "713  NCT02311998              COMPLETED   \n",
       "714  NCT02166905              COMPLETED   \n",
       "714  NCT02166905              COMPLETED   \n",
       "715  NCT02242097  ACTIVE_NOT_RECRUITING   \n",
       "\n",
       "                                            Conditions  \\\n",
       "0                                             Melanoma   \n",
       "0                                             Melanoma   \n",
       "1    Metastatic Castration Resistant Prostate Cance...   \n",
       "2    Fallopian Tube Endometrioid Tumor|Fallopian Tu...   \n",
       "3    Autoimmune Hemolytic Anemia|Chronic Lymphocyti...   \n",
       "..                                                 ...   \n",
       "713  B Acute Lymphoblastic Leukemia With t(9;22)(q3...   \n",
       "713  B Acute Lymphoblastic Leukemia With t(9;22)(q3...   \n",
       "714  Fallopian Tube Carcinoma|Ovarian Carcinoma|Pri...   \n",
       "714  Fallopian Tube Carcinoma|Ovarian Carcinoma|Pri...   \n",
       "715  Contiguous Stage II Mantle Cell Lymphoma|Nonco...   \n",
       "\n",
       "                                         Interventions  \\\n",
       "0                 BIOLOGICAL: 6MHP|DRUG: Pembrolizumab   \n",
       "0                 BIOLOGICAL: 6MHP|DRUG: Pembrolizumab   \n",
       "1                     DRUG: enzalutamide|DRUG: CRLX101   \n",
       "2    PROCEDURE: Biospecimen Collection|PROCEDURE: C...   \n",
       "3                                  DRUG: Acalabrutinib   \n",
       "..                                                 ...   \n",
       "713  DRUG: Bosutinib|BIOLOGICAL: Inotuzumab Ozogamicin   \n",
       "713  DRUG: Bosutinib|BIOLOGICAL: Inotuzumab Ozogamicin   \n",
       "714  BIOLOGICAL: DEC-205/NY-ESO-1 Fusion Protein CD...   \n",
       "714  BIOLOGICAL: DEC-205/NY-ESO-1 Fusion Protein CD...   \n",
       "715  DRUG: ibrutinib|OTHER: laboratory biomarker an...   \n",
       "\n",
       "                             Sponsor  Phases Funder Type  Start Date  \\\n",
       "0              Craig L Slingluff, Jr  PHASE1       OTHER  2016-10-06   \n",
       "0              Craig L Slingluff, Jr  PHASE2       OTHER  2016-10-06   \n",
       "1    National Cancer Institute (NCI)  PHASE2         NIH  2019-03-26   \n",
       "2    National Cancer Institute (NCI)  PHASE2         NIH  2019-12-04   \n",
       "3        City of Hope Medical Center  PHASE2       OTHER  2021-03-16   \n",
       "..                               ...     ...         ...         ...   \n",
       "713      M.D. Anderson Cancer Center  PHASE1       OTHER  2015-04-16   \n",
       "713      M.D. Anderson Cancer Center  PHASE2       OTHER  2015-04-16   \n",
       "714    Roswell Park Cancer Institute  PHASE1       OTHER  2014-10-10   \n",
       "714    Roswell Park Cancer Institute  PHASE2       OTHER  2014-10-10   \n",
       "715          Northwestern University  PHASE2       OTHER  2015-01-12   \n",
       "\n",
       "    Completion Date                                          Locations  \\\n",
       "0        2020-03-14  University of Virginia Cancer Center, Charlott...   \n",
       "0        2020-03-14  University of Virginia Cancer Center, Charlott...   \n",
       "1        2021-06-01  National Institutes of Health Clinical Center,...   \n",
       "2        2024-09-21  UC Irvine Health/Chao Family Comprehensive Can...   \n",
       "3        2024-12-30  City of Hope Medical Center, Duarte, Californi...   \n",
       "..              ...                                                ...   \n",
       "713      2022-03-23  M D Anderson Cancer Center, Houston, Texas, 77...   \n",
       "713      2022-03-23  M D Anderson Cancer Center, Houston, Texas, 77...   \n",
       "714      2020-08-20  Roswell Park Cancer Institute, Buffalo, New Yo...   \n",
       "714      2020-08-20  Roswell Park Cancer Institute, Buffalo, New Yo...   \n",
       "715         2025-01  Northwestern University, Chicago, Illinois, 60...   \n",
       "\n",
       "     EARLY_PHASE1  PHASE1  PHASE2  PHASE3  PHASE4       State Zip Code  \n",
       "0               0       1       0       0       0    Virginia    22908  \n",
       "0               0       0       1       0       0    Virginia    22908  \n",
       "1               0       0       1       0       0    Maryland    20892  \n",
       "2               0       0       1       0       0   Wisconsin    53226  \n",
       "3               0       0       1       0       0  California    91010  \n",
       "..            ...     ...     ...     ...     ...         ...      ...  \n",
       "713             0       1       0       0       0       Texas    77030  \n",
       "713             0       0       1       0       0       Texas    77030  \n",
       "714             0       1       0       0       0    New York    14263  \n",
       "714             0       0       1       0       0    New York    14263  \n",
       "715             0       0       1       0       0        Utah    84132  \n",
       "\n",
       "[835 rows x 17 columns]"
      ]
     },
     "execution_count": 12,
     "metadata": {},
     "output_type": "execute_result"
    }
   ],
   "source": [
    "import pandas as pd\n",
    "\n",
    "# Function to extract state and zip code\n",
    "def extract_state_zip(locations):\n",
    "    if pd.isna(locations) or not isinstance(locations, str):\n",
    "        return pd.Series([None, None])\n",
    "    \n",
    "    # Split locations by '|'\n",
    "    location_parts = locations.split('|')\n",
    "    \n",
    "    # Process each location part and return the last one\n",
    "    last_location = location_parts[-1].strip()\n",
    "    \n",
    "    # Split by commas and extract state and zip code\n",
    "    parts = last_location.split(',')\n",
    "    if len(parts) < 4:\n",
    "        return pd.Series([None, None])\n",
    "    \n",
    "    state = parts[-3].strip()\n",
    "    zip_code = parts[-2].strip()\n",
    "    \n",
    "    return pd.Series([state, zip_code])\n",
    "\n",
    "\n",
    "# Apply the function to the 'Locations' column\n",
    "New_Reduced_df[['State', 'Zip Code']] = New_Reduced_df['Locations'].apply(extract_state_zip)\n",
    "\n",
    "New_Reduced_df\n"
   ]
  },
  {
   "cell_type": "markdown",
   "id": "77d62169",
   "metadata": {},
   "source": [
    "# Categorizing Cancers based on the keywords"
   ]
  },
  {
   "cell_type": "code",
   "execution_count": 13,
   "id": "ca6d2a01",
   "metadata": {
    "scrolled": true
   },
   "outputs": [
    {
     "data": {
      "text/html": [
       "<div>\n",
       "<style scoped>\n",
       "    .dataframe tbody tr th:only-of-type {\n",
       "        vertical-align: middle;\n",
       "    }\n",
       "\n",
       "    .dataframe tbody tr th {\n",
       "        vertical-align: top;\n",
       "    }\n",
       "\n",
       "    .dataframe thead th {\n",
       "        text-align: right;\n",
       "    }\n",
       "</style>\n",
       "<table border=\"1\" class=\"dataframe\">\n",
       "  <thead>\n",
       "    <tr style=\"text-align: right;\">\n",
       "      <th></th>\n",
       "      <th>NCT Number</th>\n",
       "      <th>Study Status</th>\n",
       "      <th>Conditions</th>\n",
       "      <th>Interventions</th>\n",
       "      <th>Sponsor</th>\n",
       "      <th>Phases</th>\n",
       "      <th>Funder Type</th>\n",
       "      <th>Start Date</th>\n",
       "      <th>Completion Date</th>\n",
       "      <th>Locations</th>\n",
       "      <th>EARLY_PHASE1</th>\n",
       "      <th>PHASE1</th>\n",
       "      <th>PHASE2</th>\n",
       "      <th>PHASE3</th>\n",
       "      <th>PHASE4</th>\n",
       "      <th>State</th>\n",
       "      <th>Zip Code</th>\n",
       "      <th>Major Condition</th>\n",
       "    </tr>\n",
       "  </thead>\n",
       "  <tbody>\n",
       "    <tr>\n",
       "      <th>0</th>\n",
       "      <td>NCT02515227</td>\n",
       "      <td>COMPLETED</td>\n",
       "      <td>Melanoma</td>\n",
       "      <td>BIOLOGICAL: 6MHP|DRUG: Pembrolizumab</td>\n",
       "      <td>Craig L Slingluff, Jr</td>\n",
       "      <td>PHASE1</td>\n",
       "      <td>OTHER</td>\n",
       "      <td>2016-10-06</td>\n",
       "      <td>2020-03-14</td>\n",
       "      <td>University of Virginia Cancer Center, Charlott...</td>\n",
       "      <td>0</td>\n",
       "      <td>1</td>\n",
       "      <td>0</td>\n",
       "      <td>0</td>\n",
       "      <td>0</td>\n",
       "      <td>Virginia</td>\n",
       "      <td>22908</td>\n",
       "      <td>Other</td>\n",
       "    </tr>\n",
       "    <tr>\n",
       "      <th>0</th>\n",
       "      <td>NCT02515227</td>\n",
       "      <td>COMPLETED</td>\n",
       "      <td>Melanoma</td>\n",
       "      <td>BIOLOGICAL: 6MHP|DRUG: Pembrolizumab</td>\n",
       "      <td>Craig L Slingluff, Jr</td>\n",
       "      <td>PHASE2</td>\n",
       "      <td>OTHER</td>\n",
       "      <td>2016-10-06</td>\n",
       "      <td>2020-03-14</td>\n",
       "      <td>University of Virginia Cancer Center, Charlott...</td>\n",
       "      <td>0</td>\n",
       "      <td>0</td>\n",
       "      <td>1</td>\n",
       "      <td>0</td>\n",
       "      <td>0</td>\n",
       "      <td>Virginia</td>\n",
       "      <td>22908</td>\n",
       "      <td>Other</td>\n",
       "    </tr>\n",
       "    <tr>\n",
       "      <th>1</th>\n",
       "      <td>NCT03531827</td>\n",
       "      <td>TERMINATED</td>\n",
       "      <td>Metastatic Castration Resistant Prostate Cance...</td>\n",
       "      <td>DRUG: enzalutamide|DRUG: CRLX101</td>\n",
       "      <td>National Cancer Institute (NCI)</td>\n",
       "      <td>PHASE2</td>\n",
       "      <td>NIH</td>\n",
       "      <td>2019-03-26</td>\n",
       "      <td>2021-06-01</td>\n",
       "      <td>National Institutes of Health Clinical Center,...</td>\n",
       "      <td>0</td>\n",
       "      <td>0</td>\n",
       "      <td>1</td>\n",
       "      <td>0</td>\n",
       "      <td>0</td>\n",
       "      <td>Maryland</td>\n",
       "      <td>20892</td>\n",
       "      <td>Prostate Cancer</td>\n",
       "    </tr>\n",
       "    <tr>\n",
       "      <th>2</th>\n",
       "      <td>NCT04034927</td>\n",
       "      <td>ACTIVE_NOT_RECRUITING</td>\n",
       "      <td>Fallopian Tube Endometrioid Tumor|Fallopian Tu...</td>\n",
       "      <td>PROCEDURE: Biospecimen Collection|PROCEDURE: C...</td>\n",
       "      <td>National Cancer Institute (NCI)</td>\n",
       "      <td>PHASE2</td>\n",
       "      <td>NIH</td>\n",
       "      <td>2019-12-04</td>\n",
       "      <td>2024-09-21</td>\n",
       "      <td>UC Irvine Health/Chao Family Comprehensive Can...</td>\n",
       "      <td>0</td>\n",
       "      <td>0</td>\n",
       "      <td>1</td>\n",
       "      <td>0</td>\n",
       "      <td>0</td>\n",
       "      <td>Wisconsin</td>\n",
       "      <td>53226</td>\n",
       "      <td>Lung Cancer</td>\n",
       "    </tr>\n",
       "    <tr>\n",
       "      <th>3</th>\n",
       "      <td>NCT04657094</td>\n",
       "      <td>ACTIVE_NOT_RECRUITING</td>\n",
       "      <td>Autoimmune Hemolytic Anemia|Chronic Lymphocyti...</td>\n",
       "      <td>DRUG: Acalabrutinib</td>\n",
       "      <td>City of Hope Medical Center</td>\n",
       "      <td>PHASE2</td>\n",
       "      <td>OTHER</td>\n",
       "      <td>2021-03-16</td>\n",
       "      <td>2024-12-30</td>\n",
       "      <td>City of Hope Medical Center, Duarte, Californi...</td>\n",
       "      <td>0</td>\n",
       "      <td>0</td>\n",
       "      <td>1</td>\n",
       "      <td>0</td>\n",
       "      <td>0</td>\n",
       "      <td>California</td>\n",
       "      <td>91010</td>\n",
       "      <td>Blood Cancer</td>\n",
       "    </tr>\n",
       "    <tr>\n",
       "      <th>...</th>\n",
       "      <td>...</td>\n",
       "      <td>...</td>\n",
       "      <td>...</td>\n",
       "      <td>...</td>\n",
       "      <td>...</td>\n",
       "      <td>...</td>\n",
       "      <td>...</td>\n",
       "      <td>...</td>\n",
       "      <td>...</td>\n",
       "      <td>...</td>\n",
       "      <td>...</td>\n",
       "      <td>...</td>\n",
       "      <td>...</td>\n",
       "      <td>...</td>\n",
       "      <td>...</td>\n",
       "      <td>...</td>\n",
       "      <td>...</td>\n",
       "      <td>...</td>\n",
       "    </tr>\n",
       "    <tr>\n",
       "      <th>713</th>\n",
       "      <td>NCT02311998</td>\n",
       "      <td>COMPLETED</td>\n",
       "      <td>B Acute Lymphoblastic Leukemia With t(9;22)(q3...</td>\n",
       "      <td>DRUG: Bosutinib|BIOLOGICAL: Inotuzumab Ozogamicin</td>\n",
       "      <td>M.D. Anderson Cancer Center</td>\n",
       "      <td>PHASE1</td>\n",
       "      <td>OTHER</td>\n",
       "      <td>2015-04-16</td>\n",
       "      <td>2022-03-23</td>\n",
       "      <td>M D Anderson Cancer Center, Houston, Texas, 77...</td>\n",
       "      <td>0</td>\n",
       "      <td>1</td>\n",
       "      <td>0</td>\n",
       "      <td>0</td>\n",
       "      <td>0</td>\n",
       "      <td>Texas</td>\n",
       "      <td>77030</td>\n",
       "      <td>Blood Cancer</td>\n",
       "    </tr>\n",
       "    <tr>\n",
       "      <th>713</th>\n",
       "      <td>NCT02311998</td>\n",
       "      <td>COMPLETED</td>\n",
       "      <td>B Acute Lymphoblastic Leukemia With t(9;22)(q3...</td>\n",
       "      <td>DRUG: Bosutinib|BIOLOGICAL: Inotuzumab Ozogamicin</td>\n",
       "      <td>M.D. Anderson Cancer Center</td>\n",
       "      <td>PHASE2</td>\n",
       "      <td>OTHER</td>\n",
       "      <td>2015-04-16</td>\n",
       "      <td>2022-03-23</td>\n",
       "      <td>M D Anderson Cancer Center, Houston, Texas, 77...</td>\n",
       "      <td>0</td>\n",
       "      <td>0</td>\n",
       "      <td>1</td>\n",
       "      <td>0</td>\n",
       "      <td>0</td>\n",
       "      <td>Texas</td>\n",
       "      <td>77030</td>\n",
       "      <td>Blood Cancer</td>\n",
       "    </tr>\n",
       "    <tr>\n",
       "      <th>714</th>\n",
       "      <td>NCT02166905</td>\n",
       "      <td>COMPLETED</td>\n",
       "      <td>Fallopian Tube Carcinoma|Ovarian Carcinoma|Pri...</td>\n",
       "      <td>BIOLOGICAL: DEC-205/NY-ESO-1 Fusion Protein CD...</td>\n",
       "      <td>Roswell Park Cancer Institute</td>\n",
       "      <td>PHASE1</td>\n",
       "      <td>OTHER</td>\n",
       "      <td>2014-10-10</td>\n",
       "      <td>2020-08-20</td>\n",
       "      <td>Roswell Park Cancer Institute, Buffalo, New Yo...</td>\n",
       "      <td>0</td>\n",
       "      <td>1</td>\n",
       "      <td>0</td>\n",
       "      <td>0</td>\n",
       "      <td>0</td>\n",
       "      <td>New York</td>\n",
       "      <td>14263</td>\n",
       "      <td>Other</td>\n",
       "    </tr>\n",
       "    <tr>\n",
       "      <th>714</th>\n",
       "      <td>NCT02166905</td>\n",
       "      <td>COMPLETED</td>\n",
       "      <td>Fallopian Tube Carcinoma|Ovarian Carcinoma|Pri...</td>\n",
       "      <td>BIOLOGICAL: DEC-205/NY-ESO-1 Fusion Protein CD...</td>\n",
       "      <td>Roswell Park Cancer Institute</td>\n",
       "      <td>PHASE2</td>\n",
       "      <td>OTHER</td>\n",
       "      <td>2014-10-10</td>\n",
       "      <td>2020-08-20</td>\n",
       "      <td>Roswell Park Cancer Institute, Buffalo, New Yo...</td>\n",
       "      <td>0</td>\n",
       "      <td>0</td>\n",
       "      <td>1</td>\n",
       "      <td>0</td>\n",
       "      <td>0</td>\n",
       "      <td>New York</td>\n",
       "      <td>14263</td>\n",
       "      <td>Other</td>\n",
       "    </tr>\n",
       "    <tr>\n",
       "      <th>715</th>\n",
       "      <td>NCT02242097</td>\n",
       "      <td>ACTIVE_NOT_RECRUITING</td>\n",
       "      <td>Contiguous Stage II Mantle Cell Lymphoma|Nonco...</td>\n",
       "      <td>DRUG: ibrutinib|OTHER: laboratory biomarker an...</td>\n",
       "      <td>Northwestern University</td>\n",
       "      <td>PHASE2</td>\n",
       "      <td>OTHER</td>\n",
       "      <td>2015-01-12</td>\n",
       "      <td>2025-01</td>\n",
       "      <td>Northwestern University, Chicago, Illinois, 60...</td>\n",
       "      <td>0</td>\n",
       "      <td>0</td>\n",
       "      <td>1</td>\n",
       "      <td>0</td>\n",
       "      <td>0</td>\n",
       "      <td>Utah</td>\n",
       "      <td>84132</td>\n",
       "      <td>Blood Cancer</td>\n",
       "    </tr>\n",
       "  </tbody>\n",
       "</table>\n",
       "<p>835 rows × 18 columns</p>\n",
       "</div>"
      ],
      "text/plain": [
       "      NCT Number           Study Status  \\\n",
       "0    NCT02515227              COMPLETED   \n",
       "0    NCT02515227              COMPLETED   \n",
       "1    NCT03531827             TERMINATED   \n",
       "2    NCT04034927  ACTIVE_NOT_RECRUITING   \n",
       "3    NCT04657094  ACTIVE_NOT_RECRUITING   \n",
       "..           ...                    ...   \n",
       "713  NCT02311998              COMPLETED   \n",
       "713  NCT02311998              COMPLETED   \n",
       "714  NCT02166905              COMPLETED   \n",
       "714  NCT02166905              COMPLETED   \n",
       "715  NCT02242097  ACTIVE_NOT_RECRUITING   \n",
       "\n",
       "                                            Conditions  \\\n",
       "0                                             Melanoma   \n",
       "0                                             Melanoma   \n",
       "1    Metastatic Castration Resistant Prostate Cance...   \n",
       "2    Fallopian Tube Endometrioid Tumor|Fallopian Tu...   \n",
       "3    Autoimmune Hemolytic Anemia|Chronic Lymphocyti...   \n",
       "..                                                 ...   \n",
       "713  B Acute Lymphoblastic Leukemia With t(9;22)(q3...   \n",
       "713  B Acute Lymphoblastic Leukemia With t(9;22)(q3...   \n",
       "714  Fallopian Tube Carcinoma|Ovarian Carcinoma|Pri...   \n",
       "714  Fallopian Tube Carcinoma|Ovarian Carcinoma|Pri...   \n",
       "715  Contiguous Stage II Mantle Cell Lymphoma|Nonco...   \n",
       "\n",
       "                                         Interventions  \\\n",
       "0                 BIOLOGICAL: 6MHP|DRUG: Pembrolizumab   \n",
       "0                 BIOLOGICAL: 6MHP|DRUG: Pembrolizumab   \n",
       "1                     DRUG: enzalutamide|DRUG: CRLX101   \n",
       "2    PROCEDURE: Biospecimen Collection|PROCEDURE: C...   \n",
       "3                                  DRUG: Acalabrutinib   \n",
       "..                                                 ...   \n",
       "713  DRUG: Bosutinib|BIOLOGICAL: Inotuzumab Ozogamicin   \n",
       "713  DRUG: Bosutinib|BIOLOGICAL: Inotuzumab Ozogamicin   \n",
       "714  BIOLOGICAL: DEC-205/NY-ESO-1 Fusion Protein CD...   \n",
       "714  BIOLOGICAL: DEC-205/NY-ESO-1 Fusion Protein CD...   \n",
       "715  DRUG: ibrutinib|OTHER: laboratory biomarker an...   \n",
       "\n",
       "                             Sponsor  Phases Funder Type  Start Date  \\\n",
       "0              Craig L Slingluff, Jr  PHASE1       OTHER  2016-10-06   \n",
       "0              Craig L Slingluff, Jr  PHASE2       OTHER  2016-10-06   \n",
       "1    National Cancer Institute (NCI)  PHASE2         NIH  2019-03-26   \n",
       "2    National Cancer Institute (NCI)  PHASE2         NIH  2019-12-04   \n",
       "3        City of Hope Medical Center  PHASE2       OTHER  2021-03-16   \n",
       "..                               ...     ...         ...         ...   \n",
       "713      M.D. Anderson Cancer Center  PHASE1       OTHER  2015-04-16   \n",
       "713      M.D. Anderson Cancer Center  PHASE2       OTHER  2015-04-16   \n",
       "714    Roswell Park Cancer Institute  PHASE1       OTHER  2014-10-10   \n",
       "714    Roswell Park Cancer Institute  PHASE2       OTHER  2014-10-10   \n",
       "715          Northwestern University  PHASE2       OTHER  2015-01-12   \n",
       "\n",
       "    Completion Date                                          Locations  \\\n",
       "0        2020-03-14  University of Virginia Cancer Center, Charlott...   \n",
       "0        2020-03-14  University of Virginia Cancer Center, Charlott...   \n",
       "1        2021-06-01  National Institutes of Health Clinical Center,...   \n",
       "2        2024-09-21  UC Irvine Health/Chao Family Comprehensive Can...   \n",
       "3        2024-12-30  City of Hope Medical Center, Duarte, Californi...   \n",
       "..              ...                                                ...   \n",
       "713      2022-03-23  M D Anderson Cancer Center, Houston, Texas, 77...   \n",
       "713      2022-03-23  M D Anderson Cancer Center, Houston, Texas, 77...   \n",
       "714      2020-08-20  Roswell Park Cancer Institute, Buffalo, New Yo...   \n",
       "714      2020-08-20  Roswell Park Cancer Institute, Buffalo, New Yo...   \n",
       "715         2025-01  Northwestern University, Chicago, Illinois, 60...   \n",
       "\n",
       "     EARLY_PHASE1  PHASE1  PHASE2  PHASE3  PHASE4       State Zip Code  \\\n",
       "0               0       1       0       0       0    Virginia    22908   \n",
       "0               0       0       1       0       0    Virginia    22908   \n",
       "1               0       0       1       0       0    Maryland    20892   \n",
       "2               0       0       1       0       0   Wisconsin    53226   \n",
       "3               0       0       1       0       0  California    91010   \n",
       "..            ...     ...     ...     ...     ...         ...      ...   \n",
       "713             0       1       0       0       0       Texas    77030   \n",
       "713             0       0       1       0       0       Texas    77030   \n",
       "714             0       1       0       0       0    New York    14263   \n",
       "714             0       0       1       0       0    New York    14263   \n",
       "715             0       0       1       0       0        Utah    84132   \n",
       "\n",
       "     Major Condition  \n",
       "0              Other  \n",
       "0              Other  \n",
       "1    Prostate Cancer  \n",
       "2        Lung Cancer  \n",
       "3       Blood Cancer  \n",
       "..               ...  \n",
       "713     Blood Cancer  \n",
       "713     Blood Cancer  \n",
       "714            Other  \n",
       "714            Other  \n",
       "715     Blood Cancer  \n",
       "\n",
       "[835 rows x 18 columns]"
      ]
     },
     "execution_count": 13,
     "metadata": {},
     "output_type": "execute_result"
    }
   ],
   "source": [
    "# Keywords for each condition category\n",
    "lung_keywords = ['Lung', 'Alveolar', 'cigerette', 'smoking' 'Pulmonary', 'Adenocarcinoma']\n",
    "brain_keywords = ['Brain', 'Glioma', 'Meningioma', 'Neuroblastoma', 'Glioblastoma']\n",
    "blood_keywords = ['Blood', 'Leukemia', 'Lymphoma', 'Myeloma', 'Anemia', \"T-cell\"]\n",
    "prostate_keywords = ['Prostate', 'Prostatic', 'PSA', 'Androgen']\n",
    "breast_keywords = ['breast', 'Mammary', 'BRCA1', 'BRCA2', 'Luminal', 'HER2']\n",
    "kidney_keywords = ['Renal', 'RCC', 'Clear Cell', 'Wilms Tumor']\n",
    "lymphoma_keywords = ['Hodgkin','DLBCL', 'Follicular', 'Burkitt']\n",
    "pancreatic_keywords = ['Pancreatic', 'Pancreaticobiliary', 'Islet', 'Neuroendocrine']\n",
    "skin_keywords = ['Melanoma', 'Basal cell', 'Squamous Cell', 'Non-Melanoma']\n",
    "uterine_keywords = ['Endometrial','Uterine','Myometrial', 'Papillary Serous']\n",
    "liver_keywords = ['Hepatocellular','Liver','Hepatic', 'Papillary Serous']\n",
    "# Function to categorize major conditions\n",
    "def categorize_condition(conditions):\n",
    "    if any(keyword in conditions for keyword in lung_keywords):\n",
    "        return 'Lung Cancer'\n",
    "    elif any(keyword in conditions for keyword in brain_keywords):\n",
    "        return 'Brain Cancer'\n",
    "    elif any(keyword in conditions for keyword in blood_keywords):\n",
    "        return 'Blood Cancer'\n",
    "    elif any(keyword in conditions for keyword in prostate_keywords):\n",
    "        return 'Prostate Cancer'\n",
    "    elif any(keyword in conditions for keyword in breast_keywords):\n",
    "        return 'breast Cancer'\n",
    "    elif any(keyword in conditions for keyword in kidney_keywords):\n",
    "        return 'kidney Cancer'\n",
    "    elif any(keyword in conditions for keyword in lymphoma_keywords):\n",
    "        return 'Lymphoma Cancer'\n",
    "    elif any(keyword in conditions for keyword in uterine_keywords):\n",
    "        return 'Pancreatic Cancer'\n",
    "    elif any(keyword in conditions for keyword in breast_keywords):\n",
    "        return 'Skin Cancer'\n",
    "    elif any(keyword in conditions for keyword in uterine_keywords):\n",
    "        return 'Uterine Cancer'\n",
    "    elif any(keyword in conditions for keyword in liver_keywords):\n",
    "        return 'liver Cancer'\n",
    "    else:\n",
    "        return 'Other'\n",
    "\n",
    "# Apply the function to the 'Conditions' column\n",
    "New_Reduced_df['Major Condition'] = New_Reduced_df['Conditions'].apply(categorize_condition)\n",
    "\n",
    "New_Reduced_df"
   ]
  },
  {
   "cell_type": "markdown",
   "id": "405e4f3c",
   "metadata": {},
   "source": [
    "# Categorizing Cancers based on the keywords"
   ]
  },
  {
   "cell_type": "code",
   "execution_count": 14,
   "id": "7c9e562c",
   "metadata": {},
   "outputs": [
    {
     "data": {
      "text/html": [
       "<div>\n",
       "<style scoped>\n",
       "    .dataframe tbody tr th:only-of-type {\n",
       "        vertical-align: middle;\n",
       "    }\n",
       "\n",
       "    .dataframe tbody tr th {\n",
       "        vertical-align: top;\n",
       "    }\n",
       "\n",
       "    .dataframe thead th {\n",
       "        text-align: right;\n",
       "    }\n",
       "</style>\n",
       "<table border=\"1\" class=\"dataframe\">\n",
       "  <thead>\n",
       "    <tr style=\"text-align: right;\">\n",
       "      <th></th>\n",
       "      <th>NCT Number</th>\n",
       "      <th>Study Status</th>\n",
       "      <th>Conditions</th>\n",
       "      <th>Interventions</th>\n",
       "      <th>Sponsor</th>\n",
       "      <th>Phases</th>\n",
       "      <th>Funder Type</th>\n",
       "      <th>Start Date</th>\n",
       "      <th>Completion Date</th>\n",
       "      <th>Locations</th>\n",
       "      <th>EARLY_PHASE1</th>\n",
       "      <th>PHASE1</th>\n",
       "      <th>PHASE2</th>\n",
       "      <th>PHASE3</th>\n",
       "      <th>PHASE4</th>\n",
       "      <th>State</th>\n",
       "      <th>Zip Code</th>\n",
       "      <th>Major Condition</th>\n",
       "      <th>Major Interventions</th>\n",
       "    </tr>\n",
       "  </thead>\n",
       "  <tbody>\n",
       "    <tr>\n",
       "      <th>0</th>\n",
       "      <td>NCT02515227</td>\n",
       "      <td>COMPLETED</td>\n",
       "      <td>Melanoma</td>\n",
       "      <td>BIOLOGICAL: 6MHP|DRUG: Pembrolizumab</td>\n",
       "      <td>Craig L Slingluff, Jr</td>\n",
       "      <td>PHASE1</td>\n",
       "      <td>OTHER</td>\n",
       "      <td>2016-10-06</td>\n",
       "      <td>2020-03-14</td>\n",
       "      <td>University of Virginia Cancer Center, Charlott...</td>\n",
       "      <td>0</td>\n",
       "      <td>1</td>\n",
       "      <td>0</td>\n",
       "      <td>0</td>\n",
       "      <td>0</td>\n",
       "      <td>Virginia</td>\n",
       "      <td>22908</td>\n",
       "      <td>Other</td>\n",
       "      <td>Drug</td>\n",
       "    </tr>\n",
       "    <tr>\n",
       "      <th>0</th>\n",
       "      <td>NCT02515227</td>\n",
       "      <td>COMPLETED</td>\n",
       "      <td>Melanoma</td>\n",
       "      <td>BIOLOGICAL: 6MHP|DRUG: Pembrolizumab</td>\n",
       "      <td>Craig L Slingluff, Jr</td>\n",
       "      <td>PHASE1</td>\n",
       "      <td>OTHER</td>\n",
       "      <td>2016-10-06</td>\n",
       "      <td>2020-03-14</td>\n",
       "      <td>University of Virginia Cancer Center, Charlott...</td>\n",
       "      <td>0</td>\n",
       "      <td>1</td>\n",
       "      <td>0</td>\n",
       "      <td>0</td>\n",
       "      <td>0</td>\n",
       "      <td>Virginia</td>\n",
       "      <td>22908</td>\n",
       "      <td>Other</td>\n",
       "      <td>Biological</td>\n",
       "    </tr>\n",
       "    <tr>\n",
       "      <th>0</th>\n",
       "      <td>NCT02515227</td>\n",
       "      <td>COMPLETED</td>\n",
       "      <td>Melanoma</td>\n",
       "      <td>BIOLOGICAL: 6MHP|DRUG: Pembrolizumab</td>\n",
       "      <td>Craig L Slingluff, Jr</td>\n",
       "      <td>PHASE2</td>\n",
       "      <td>OTHER</td>\n",
       "      <td>2016-10-06</td>\n",
       "      <td>2020-03-14</td>\n",
       "      <td>University of Virginia Cancer Center, Charlott...</td>\n",
       "      <td>0</td>\n",
       "      <td>0</td>\n",
       "      <td>1</td>\n",
       "      <td>0</td>\n",
       "      <td>0</td>\n",
       "      <td>Virginia</td>\n",
       "      <td>22908</td>\n",
       "      <td>Other</td>\n",
       "      <td>Drug</td>\n",
       "    </tr>\n",
       "    <tr>\n",
       "      <th>0</th>\n",
       "      <td>NCT02515227</td>\n",
       "      <td>COMPLETED</td>\n",
       "      <td>Melanoma</td>\n",
       "      <td>BIOLOGICAL: 6MHP|DRUG: Pembrolizumab</td>\n",
       "      <td>Craig L Slingluff, Jr</td>\n",
       "      <td>PHASE2</td>\n",
       "      <td>OTHER</td>\n",
       "      <td>2016-10-06</td>\n",
       "      <td>2020-03-14</td>\n",
       "      <td>University of Virginia Cancer Center, Charlott...</td>\n",
       "      <td>0</td>\n",
       "      <td>0</td>\n",
       "      <td>1</td>\n",
       "      <td>0</td>\n",
       "      <td>0</td>\n",
       "      <td>Virginia</td>\n",
       "      <td>22908</td>\n",
       "      <td>Other</td>\n",
       "      <td>Biological</td>\n",
       "    </tr>\n",
       "    <tr>\n",
       "      <th>1</th>\n",
       "      <td>NCT03531827</td>\n",
       "      <td>TERMINATED</td>\n",
       "      <td>Metastatic Castration Resistant Prostate Cance...</td>\n",
       "      <td>DRUG: enzalutamide|DRUG: CRLX101</td>\n",
       "      <td>National Cancer Institute (NCI)</td>\n",
       "      <td>PHASE2</td>\n",
       "      <td>NIH</td>\n",
       "      <td>2019-03-26</td>\n",
       "      <td>2021-06-01</td>\n",
       "      <td>National Institutes of Health Clinical Center,...</td>\n",
       "      <td>0</td>\n",
       "      <td>0</td>\n",
       "      <td>1</td>\n",
       "      <td>0</td>\n",
       "      <td>0</td>\n",
       "      <td>Maryland</td>\n",
       "      <td>20892</td>\n",
       "      <td>Prostate Cancer</td>\n",
       "      <td>Drug</td>\n",
       "    </tr>\n",
       "    <tr>\n",
       "      <th>...</th>\n",
       "      <td>...</td>\n",
       "      <td>...</td>\n",
       "      <td>...</td>\n",
       "      <td>...</td>\n",
       "      <td>...</td>\n",
       "      <td>...</td>\n",
       "      <td>...</td>\n",
       "      <td>...</td>\n",
       "      <td>...</td>\n",
       "      <td>...</td>\n",
       "      <td>...</td>\n",
       "      <td>...</td>\n",
       "      <td>...</td>\n",
       "      <td>...</td>\n",
       "      <td>...</td>\n",
       "      <td>...</td>\n",
       "      <td>...</td>\n",
       "      <td>...</td>\n",
       "      <td>...</td>\n",
       "    </tr>\n",
       "    <tr>\n",
       "      <th>714</th>\n",
       "      <td>NCT02166905</td>\n",
       "      <td>COMPLETED</td>\n",
       "      <td>Fallopian Tube Carcinoma|Ovarian Carcinoma|Pri...</td>\n",
       "      <td>BIOLOGICAL: DEC-205/NY-ESO-1 Fusion Protein CD...</td>\n",
       "      <td>Roswell Park Cancer Institute</td>\n",
       "      <td>PHASE2</td>\n",
       "      <td>OTHER</td>\n",
       "      <td>2014-10-10</td>\n",
       "      <td>2020-08-20</td>\n",
       "      <td>Roswell Park Cancer Institute, Buffalo, New Yo...</td>\n",
       "      <td>0</td>\n",
       "      <td>0</td>\n",
       "      <td>1</td>\n",
       "      <td>0</td>\n",
       "      <td>0</td>\n",
       "      <td>New York</td>\n",
       "      <td>14263</td>\n",
       "      <td>Other</td>\n",
       "      <td>Drug</td>\n",
       "    </tr>\n",
       "    <tr>\n",
       "      <th>714</th>\n",
       "      <td>NCT02166905</td>\n",
       "      <td>COMPLETED</td>\n",
       "      <td>Fallopian Tube Carcinoma|Ovarian Carcinoma|Pri...</td>\n",
       "      <td>BIOLOGICAL: DEC-205/NY-ESO-1 Fusion Protein CD...</td>\n",
       "      <td>Roswell Park Cancer Institute</td>\n",
       "      <td>PHASE2</td>\n",
       "      <td>OTHER</td>\n",
       "      <td>2014-10-10</td>\n",
       "      <td>2020-08-20</td>\n",
       "      <td>Roswell Park Cancer Institute, Buffalo, New Yo...</td>\n",
       "      <td>0</td>\n",
       "      <td>0</td>\n",
       "      <td>1</td>\n",
       "      <td>0</td>\n",
       "      <td>0</td>\n",
       "      <td>New York</td>\n",
       "      <td>14263</td>\n",
       "      <td>Other</td>\n",
       "      <td>Others</td>\n",
       "    </tr>\n",
       "    <tr>\n",
       "      <th>714</th>\n",
       "      <td>NCT02166905</td>\n",
       "      <td>COMPLETED</td>\n",
       "      <td>Fallopian Tube Carcinoma|Ovarian Carcinoma|Pri...</td>\n",
       "      <td>BIOLOGICAL: DEC-205/NY-ESO-1 Fusion Protein CD...</td>\n",
       "      <td>Roswell Park Cancer Institute</td>\n",
       "      <td>PHASE2</td>\n",
       "      <td>OTHER</td>\n",
       "      <td>2014-10-10</td>\n",
       "      <td>2020-08-20</td>\n",
       "      <td>Roswell Park Cancer Institute, Buffalo, New Yo...</td>\n",
       "      <td>0</td>\n",
       "      <td>0</td>\n",
       "      <td>1</td>\n",
       "      <td>0</td>\n",
       "      <td>0</td>\n",
       "      <td>New York</td>\n",
       "      <td>14263</td>\n",
       "      <td>Other</td>\n",
       "      <td>Biological</td>\n",
       "    </tr>\n",
       "    <tr>\n",
       "      <th>715</th>\n",
       "      <td>NCT02242097</td>\n",
       "      <td>ACTIVE_NOT_RECRUITING</td>\n",
       "      <td>Contiguous Stage II Mantle Cell Lymphoma|Nonco...</td>\n",
       "      <td>DRUG: ibrutinib|OTHER: laboratory biomarker an...</td>\n",
       "      <td>Northwestern University</td>\n",
       "      <td>PHASE2</td>\n",
       "      <td>OTHER</td>\n",
       "      <td>2015-01-12</td>\n",
       "      <td>2025-01</td>\n",
       "      <td>Northwestern University, Chicago, Illinois, 60...</td>\n",
       "      <td>0</td>\n",
       "      <td>0</td>\n",
       "      <td>1</td>\n",
       "      <td>0</td>\n",
       "      <td>0</td>\n",
       "      <td>Utah</td>\n",
       "      <td>84132</td>\n",
       "      <td>Blood Cancer</td>\n",
       "      <td>Drug</td>\n",
       "    </tr>\n",
       "    <tr>\n",
       "      <th>715</th>\n",
       "      <td>NCT02242097</td>\n",
       "      <td>ACTIVE_NOT_RECRUITING</td>\n",
       "      <td>Contiguous Stage II Mantle Cell Lymphoma|Nonco...</td>\n",
       "      <td>DRUG: ibrutinib|OTHER: laboratory biomarker an...</td>\n",
       "      <td>Northwestern University</td>\n",
       "      <td>PHASE2</td>\n",
       "      <td>OTHER</td>\n",
       "      <td>2015-01-12</td>\n",
       "      <td>2025-01</td>\n",
       "      <td>Northwestern University, Chicago, Illinois, 60...</td>\n",
       "      <td>0</td>\n",
       "      <td>0</td>\n",
       "      <td>1</td>\n",
       "      <td>0</td>\n",
       "      <td>0</td>\n",
       "      <td>Utah</td>\n",
       "      <td>84132</td>\n",
       "      <td>Blood Cancer</td>\n",
       "      <td>Others</td>\n",
       "    </tr>\n",
       "  </tbody>\n",
       "</table>\n",
       "<p>1639 rows × 19 columns</p>\n",
       "</div>"
      ],
      "text/plain": [
       "      NCT Number           Study Status  \\\n",
       "0    NCT02515227              COMPLETED   \n",
       "0    NCT02515227              COMPLETED   \n",
       "0    NCT02515227              COMPLETED   \n",
       "0    NCT02515227              COMPLETED   \n",
       "1    NCT03531827             TERMINATED   \n",
       "..           ...                    ...   \n",
       "714  NCT02166905              COMPLETED   \n",
       "714  NCT02166905              COMPLETED   \n",
       "714  NCT02166905              COMPLETED   \n",
       "715  NCT02242097  ACTIVE_NOT_RECRUITING   \n",
       "715  NCT02242097  ACTIVE_NOT_RECRUITING   \n",
       "\n",
       "                                            Conditions  \\\n",
       "0                                             Melanoma   \n",
       "0                                             Melanoma   \n",
       "0                                             Melanoma   \n",
       "0                                             Melanoma   \n",
       "1    Metastatic Castration Resistant Prostate Cance...   \n",
       "..                                                 ...   \n",
       "714  Fallopian Tube Carcinoma|Ovarian Carcinoma|Pri...   \n",
       "714  Fallopian Tube Carcinoma|Ovarian Carcinoma|Pri...   \n",
       "714  Fallopian Tube Carcinoma|Ovarian Carcinoma|Pri...   \n",
       "715  Contiguous Stage II Mantle Cell Lymphoma|Nonco...   \n",
       "715  Contiguous Stage II Mantle Cell Lymphoma|Nonco...   \n",
       "\n",
       "                                         Interventions  \\\n",
       "0                 BIOLOGICAL: 6MHP|DRUG: Pembrolizumab   \n",
       "0                 BIOLOGICAL: 6MHP|DRUG: Pembrolizumab   \n",
       "0                 BIOLOGICAL: 6MHP|DRUG: Pembrolizumab   \n",
       "0                 BIOLOGICAL: 6MHP|DRUG: Pembrolizumab   \n",
       "1                     DRUG: enzalutamide|DRUG: CRLX101   \n",
       "..                                                 ...   \n",
       "714  BIOLOGICAL: DEC-205/NY-ESO-1 Fusion Protein CD...   \n",
       "714  BIOLOGICAL: DEC-205/NY-ESO-1 Fusion Protein CD...   \n",
       "714  BIOLOGICAL: DEC-205/NY-ESO-1 Fusion Protein CD...   \n",
       "715  DRUG: ibrutinib|OTHER: laboratory biomarker an...   \n",
       "715  DRUG: ibrutinib|OTHER: laboratory biomarker an...   \n",
       "\n",
       "                             Sponsor  Phases Funder Type  Start Date  \\\n",
       "0              Craig L Slingluff, Jr  PHASE1       OTHER  2016-10-06   \n",
       "0              Craig L Slingluff, Jr  PHASE1       OTHER  2016-10-06   \n",
       "0              Craig L Slingluff, Jr  PHASE2       OTHER  2016-10-06   \n",
       "0              Craig L Slingluff, Jr  PHASE2       OTHER  2016-10-06   \n",
       "1    National Cancer Institute (NCI)  PHASE2         NIH  2019-03-26   \n",
       "..                               ...     ...         ...         ...   \n",
       "714    Roswell Park Cancer Institute  PHASE2       OTHER  2014-10-10   \n",
       "714    Roswell Park Cancer Institute  PHASE2       OTHER  2014-10-10   \n",
       "714    Roswell Park Cancer Institute  PHASE2       OTHER  2014-10-10   \n",
       "715          Northwestern University  PHASE2       OTHER  2015-01-12   \n",
       "715          Northwestern University  PHASE2       OTHER  2015-01-12   \n",
       "\n",
       "    Completion Date                                          Locations  \\\n",
       "0        2020-03-14  University of Virginia Cancer Center, Charlott...   \n",
       "0        2020-03-14  University of Virginia Cancer Center, Charlott...   \n",
       "0        2020-03-14  University of Virginia Cancer Center, Charlott...   \n",
       "0        2020-03-14  University of Virginia Cancer Center, Charlott...   \n",
       "1        2021-06-01  National Institutes of Health Clinical Center,...   \n",
       "..              ...                                                ...   \n",
       "714      2020-08-20  Roswell Park Cancer Institute, Buffalo, New Yo...   \n",
       "714      2020-08-20  Roswell Park Cancer Institute, Buffalo, New Yo...   \n",
       "714      2020-08-20  Roswell Park Cancer Institute, Buffalo, New Yo...   \n",
       "715         2025-01  Northwestern University, Chicago, Illinois, 60...   \n",
       "715         2025-01  Northwestern University, Chicago, Illinois, 60...   \n",
       "\n",
       "     EARLY_PHASE1  PHASE1  PHASE2  PHASE3  PHASE4     State Zip Code  \\\n",
       "0               0       1       0       0       0  Virginia    22908   \n",
       "0               0       1       0       0       0  Virginia    22908   \n",
       "0               0       0       1       0       0  Virginia    22908   \n",
       "0               0       0       1       0       0  Virginia    22908   \n",
       "1               0       0       1       0       0  Maryland    20892   \n",
       "..            ...     ...     ...     ...     ...       ...      ...   \n",
       "714             0       0       1       0       0  New York    14263   \n",
       "714             0       0       1       0       0  New York    14263   \n",
       "714             0       0       1       0       0  New York    14263   \n",
       "715             0       0       1       0       0      Utah    84132   \n",
       "715             0       0       1       0       0      Utah    84132   \n",
       "\n",
       "     Major Condition Major Interventions  \n",
       "0              Other                Drug  \n",
       "0              Other          Biological  \n",
       "0              Other                Drug  \n",
       "0              Other          Biological  \n",
       "1    Prostate Cancer                Drug  \n",
       "..               ...                 ...  \n",
       "714            Other                Drug  \n",
       "714            Other              Others  \n",
       "714            Other          Biological  \n",
       "715     Blood Cancer                Drug  \n",
       "715     Blood Cancer              Others  \n",
       "\n",
       "[1639 rows x 19 columns]"
      ]
     },
     "execution_count": 14,
     "metadata": {},
     "output_type": "execute_result"
    }
   ],
   "source": [
    "import pandas as pd\n",
    "\n",
    "# Define keywords for each category\n",
    "keywords = {\n",
    "    'Biological': ['biological', 'monoclonal antibody', 'vaccine', 'antibody'],\n",
    "    'Drug': ['drug', 'chemotherapy', 'medication', 'pill', 'tablet', 'injection'],\n",
    "    'Procedure': ['procedure', 'surgery', 'operation', 'therapy', 'biopsy', 'collection', 'imaging'],\n",
    "    'Radiation': ['radiation'],\n",
    "    'Others': ['laboratory', 'biomarker', 'analysis', 'study', 'questionnaire', 'quality-of-life']\n",
    "}\n",
    "\n",
    "def categorize_Interventions(Interventions_text, keywords_dict):\n",
    "    categories = set()\n",
    "    \n",
    "    # Split the text into individual terms\n",
    "    terms = Interventions_text.split('|')\n",
    "    \n",
    "    # Check each term against keywords for each category\n",
    "    for term in terms:\n",
    "        term = term.strip().lower()\n",
    "        for category, key_list in keywords_dict.items():\n",
    "            if any(keyword.lower() in term for keyword in key_list):\n",
    "                categories.add(category)\n",
    "    \n",
    "    return list(categories) if categories else ['Uncategorized']\n",
    "\n",
    "# Apply categorization to each intervention and explode the column\n",
    "New_Reduced_df['Major Interventions'] = New_Reduced_df['Interventions'].apply(lambda x: categorize_Interventions(x, keywords))\n",
    "New_Reduced_df = New_Reduced_df.explode('Major Interventions')\n",
    "\n",
    "# Display the DataFrame\n",
    "New_Reduced_df\n"
   ]
  },
  {
   "cell_type": "markdown",
   "id": "4961c190",
   "metadata": {},
   "source": [
    "# Calculate duration of Clinical Trials"
   ]
  },
  {
   "cell_type": "code",
   "execution_count": 15,
   "id": "6c4d0869",
   "metadata": {},
   "outputs": [
    {
     "name": "stdout",
     "output_type": "stream",
     "text": [
      "Start Date         111\n",
      "Completion Date     98\n",
      "dtype: int64\n"
     ]
    },
    {
     "name": "stderr",
     "output_type": "stream",
     "text": [
      "/var/folders/_n/lvm0vpcj1rx073qxcpg_05g40000gn/T/ipykernel_5233/1512483141.py:12: SettingWithCopyWarning: \n",
      "A value is trying to be set on a copy of a slice from a DataFrame.\n",
      "Try using .loc[row_indexer,col_indexer] = value instead\n",
      "\n",
      "See the caveats in the documentation: https://pandas.pydata.org/pandas-docs/stable/user_guide/indexing.html#returning-a-view-versus-a-copy\n",
      "  New_Reduced_df['Duration'] = New_Reduced_df['Completion Date'] - New_Reduced_df['Start Date']\n",
      "/var/folders/_n/lvm0vpcj1rx073qxcpg_05g40000gn/T/ipykernel_5233/1512483141.py:15: SettingWithCopyWarning: \n",
      "A value is trying to be set on a copy of a slice from a DataFrame.\n",
      "Try using .loc[row_indexer,col_indexer] = value instead\n",
      "\n",
      "See the caveats in the documentation: https://pandas.pydata.org/pandas-docs/stable/user_guide/indexing.html#returning-a-view-versus-a-copy\n",
      "  New_Reduced_df['Duration (Days)'] = New_Reduced_df['Duration'].dt.days\n"
     ]
    },
    {
     "data": {
      "text/html": [
       "<div>\n",
       "<style scoped>\n",
       "    .dataframe tbody tr th:only-of-type {\n",
       "        vertical-align: middle;\n",
       "    }\n",
       "\n",
       "    .dataframe tbody tr th {\n",
       "        vertical-align: top;\n",
       "    }\n",
       "\n",
       "    .dataframe thead th {\n",
       "        text-align: right;\n",
       "    }\n",
       "</style>\n",
       "<table border=\"1\" class=\"dataframe\">\n",
       "  <thead>\n",
       "    <tr style=\"text-align: right;\">\n",
       "      <th></th>\n",
       "      <th>NCT Number</th>\n",
       "      <th>Study Status</th>\n",
       "      <th>Conditions</th>\n",
       "      <th>Interventions</th>\n",
       "      <th>Sponsor</th>\n",
       "      <th>Phases</th>\n",
       "      <th>Funder Type</th>\n",
       "      <th>Start Date</th>\n",
       "      <th>Completion Date</th>\n",
       "      <th>Locations</th>\n",
       "      <th>...</th>\n",
       "      <th>PHASE1</th>\n",
       "      <th>PHASE2</th>\n",
       "      <th>PHASE3</th>\n",
       "      <th>PHASE4</th>\n",
       "      <th>State</th>\n",
       "      <th>Zip Code</th>\n",
       "      <th>Major Condition</th>\n",
       "      <th>Major Interventions</th>\n",
       "      <th>Duration</th>\n",
       "      <th>Duration (Days)</th>\n",
       "    </tr>\n",
       "  </thead>\n",
       "  <tbody>\n",
       "    <tr>\n",
       "      <th>0</th>\n",
       "      <td>NCT02515227</td>\n",
       "      <td>COMPLETED</td>\n",
       "      <td>Melanoma</td>\n",
       "      <td>BIOLOGICAL: 6MHP|DRUG: Pembrolizumab</td>\n",
       "      <td>Craig L Slingluff, Jr</td>\n",
       "      <td>PHASE1</td>\n",
       "      <td>OTHER</td>\n",
       "      <td>2016-10-06</td>\n",
       "      <td>2020-03-14</td>\n",
       "      <td>University of Virginia Cancer Center, Charlott...</td>\n",
       "      <td>...</td>\n",
       "      <td>1</td>\n",
       "      <td>0</td>\n",
       "      <td>0</td>\n",
       "      <td>0</td>\n",
       "      <td>Virginia</td>\n",
       "      <td>22908</td>\n",
       "      <td>Other</td>\n",
       "      <td>Drug</td>\n",
       "      <td>1255 days</td>\n",
       "      <td>1255</td>\n",
       "    </tr>\n",
       "    <tr>\n",
       "      <th>0</th>\n",
       "      <td>NCT02515227</td>\n",
       "      <td>COMPLETED</td>\n",
       "      <td>Melanoma</td>\n",
       "      <td>BIOLOGICAL: 6MHP|DRUG: Pembrolizumab</td>\n",
       "      <td>Craig L Slingluff, Jr</td>\n",
       "      <td>PHASE1</td>\n",
       "      <td>OTHER</td>\n",
       "      <td>2016-10-06</td>\n",
       "      <td>2020-03-14</td>\n",
       "      <td>University of Virginia Cancer Center, Charlott...</td>\n",
       "      <td>...</td>\n",
       "      <td>1</td>\n",
       "      <td>0</td>\n",
       "      <td>0</td>\n",
       "      <td>0</td>\n",
       "      <td>Virginia</td>\n",
       "      <td>22908</td>\n",
       "      <td>Other</td>\n",
       "      <td>Biological</td>\n",
       "      <td>1255 days</td>\n",
       "      <td>1255</td>\n",
       "    </tr>\n",
       "    <tr>\n",
       "      <th>0</th>\n",
       "      <td>NCT02515227</td>\n",
       "      <td>COMPLETED</td>\n",
       "      <td>Melanoma</td>\n",
       "      <td>BIOLOGICAL: 6MHP|DRUG: Pembrolizumab</td>\n",
       "      <td>Craig L Slingluff, Jr</td>\n",
       "      <td>PHASE2</td>\n",
       "      <td>OTHER</td>\n",
       "      <td>2016-10-06</td>\n",
       "      <td>2020-03-14</td>\n",
       "      <td>University of Virginia Cancer Center, Charlott...</td>\n",
       "      <td>...</td>\n",
       "      <td>0</td>\n",
       "      <td>1</td>\n",
       "      <td>0</td>\n",
       "      <td>0</td>\n",
       "      <td>Virginia</td>\n",
       "      <td>22908</td>\n",
       "      <td>Other</td>\n",
       "      <td>Drug</td>\n",
       "      <td>1255 days</td>\n",
       "      <td>1255</td>\n",
       "    </tr>\n",
       "    <tr>\n",
       "      <th>0</th>\n",
       "      <td>NCT02515227</td>\n",
       "      <td>COMPLETED</td>\n",
       "      <td>Melanoma</td>\n",
       "      <td>BIOLOGICAL: 6MHP|DRUG: Pembrolizumab</td>\n",
       "      <td>Craig L Slingluff, Jr</td>\n",
       "      <td>PHASE2</td>\n",
       "      <td>OTHER</td>\n",
       "      <td>2016-10-06</td>\n",
       "      <td>2020-03-14</td>\n",
       "      <td>University of Virginia Cancer Center, Charlott...</td>\n",
       "      <td>...</td>\n",
       "      <td>0</td>\n",
       "      <td>1</td>\n",
       "      <td>0</td>\n",
       "      <td>0</td>\n",
       "      <td>Virginia</td>\n",
       "      <td>22908</td>\n",
       "      <td>Other</td>\n",
       "      <td>Biological</td>\n",
       "      <td>1255 days</td>\n",
       "      <td>1255</td>\n",
       "    </tr>\n",
       "    <tr>\n",
       "      <th>1</th>\n",
       "      <td>NCT03531827</td>\n",
       "      <td>TERMINATED</td>\n",
       "      <td>Metastatic Castration Resistant Prostate Cance...</td>\n",
       "      <td>DRUG: enzalutamide|DRUG: CRLX101</td>\n",
       "      <td>National Cancer Institute (NCI)</td>\n",
       "      <td>PHASE2</td>\n",
       "      <td>NIH</td>\n",
       "      <td>2019-03-26</td>\n",
       "      <td>2021-06-01</td>\n",
       "      <td>National Institutes of Health Clinical Center,...</td>\n",
       "      <td>...</td>\n",
       "      <td>0</td>\n",
       "      <td>1</td>\n",
       "      <td>0</td>\n",
       "      <td>0</td>\n",
       "      <td>Maryland</td>\n",
       "      <td>20892</td>\n",
       "      <td>Prostate Cancer</td>\n",
       "      <td>Drug</td>\n",
       "      <td>798 days</td>\n",
       "      <td>798</td>\n",
       "    </tr>\n",
       "    <tr>\n",
       "      <th>...</th>\n",
       "      <td>...</td>\n",
       "      <td>...</td>\n",
       "      <td>...</td>\n",
       "      <td>...</td>\n",
       "      <td>...</td>\n",
       "      <td>...</td>\n",
       "      <td>...</td>\n",
       "      <td>...</td>\n",
       "      <td>...</td>\n",
       "      <td>...</td>\n",
       "      <td>...</td>\n",
       "      <td>...</td>\n",
       "      <td>...</td>\n",
       "      <td>...</td>\n",
       "      <td>...</td>\n",
       "      <td>...</td>\n",
       "      <td>...</td>\n",
       "      <td>...</td>\n",
       "      <td>...</td>\n",
       "      <td>...</td>\n",
       "      <td>...</td>\n",
       "    </tr>\n",
       "    <tr>\n",
       "      <th>714</th>\n",
       "      <td>NCT02166905</td>\n",
       "      <td>COMPLETED</td>\n",
       "      <td>Fallopian Tube Carcinoma|Ovarian Carcinoma|Pri...</td>\n",
       "      <td>BIOLOGICAL: DEC-205/NY-ESO-1 Fusion Protein CD...</td>\n",
       "      <td>Roswell Park Cancer Institute</td>\n",
       "      <td>PHASE1</td>\n",
       "      <td>OTHER</td>\n",
       "      <td>2014-10-10</td>\n",
       "      <td>2020-08-20</td>\n",
       "      <td>Roswell Park Cancer Institute, Buffalo, New Yo...</td>\n",
       "      <td>...</td>\n",
       "      <td>1</td>\n",
       "      <td>0</td>\n",
       "      <td>0</td>\n",
       "      <td>0</td>\n",
       "      <td>New York</td>\n",
       "      <td>14263</td>\n",
       "      <td>Other</td>\n",
       "      <td>Others</td>\n",
       "      <td>2141 days</td>\n",
       "      <td>2141</td>\n",
       "    </tr>\n",
       "    <tr>\n",
       "      <th>714</th>\n",
       "      <td>NCT02166905</td>\n",
       "      <td>COMPLETED</td>\n",
       "      <td>Fallopian Tube Carcinoma|Ovarian Carcinoma|Pri...</td>\n",
       "      <td>BIOLOGICAL: DEC-205/NY-ESO-1 Fusion Protein CD...</td>\n",
       "      <td>Roswell Park Cancer Institute</td>\n",
       "      <td>PHASE1</td>\n",
       "      <td>OTHER</td>\n",
       "      <td>2014-10-10</td>\n",
       "      <td>2020-08-20</td>\n",
       "      <td>Roswell Park Cancer Institute, Buffalo, New Yo...</td>\n",
       "      <td>...</td>\n",
       "      <td>1</td>\n",
       "      <td>0</td>\n",
       "      <td>0</td>\n",
       "      <td>0</td>\n",
       "      <td>New York</td>\n",
       "      <td>14263</td>\n",
       "      <td>Other</td>\n",
       "      <td>Biological</td>\n",
       "      <td>2141 days</td>\n",
       "      <td>2141</td>\n",
       "    </tr>\n",
       "    <tr>\n",
       "      <th>714</th>\n",
       "      <td>NCT02166905</td>\n",
       "      <td>COMPLETED</td>\n",
       "      <td>Fallopian Tube Carcinoma|Ovarian Carcinoma|Pri...</td>\n",
       "      <td>BIOLOGICAL: DEC-205/NY-ESO-1 Fusion Protein CD...</td>\n",
       "      <td>Roswell Park Cancer Institute</td>\n",
       "      <td>PHASE2</td>\n",
       "      <td>OTHER</td>\n",
       "      <td>2014-10-10</td>\n",
       "      <td>2020-08-20</td>\n",
       "      <td>Roswell Park Cancer Institute, Buffalo, New Yo...</td>\n",
       "      <td>...</td>\n",
       "      <td>0</td>\n",
       "      <td>1</td>\n",
       "      <td>0</td>\n",
       "      <td>0</td>\n",
       "      <td>New York</td>\n",
       "      <td>14263</td>\n",
       "      <td>Other</td>\n",
       "      <td>Drug</td>\n",
       "      <td>2141 days</td>\n",
       "      <td>2141</td>\n",
       "    </tr>\n",
       "    <tr>\n",
       "      <th>714</th>\n",
       "      <td>NCT02166905</td>\n",
       "      <td>COMPLETED</td>\n",
       "      <td>Fallopian Tube Carcinoma|Ovarian Carcinoma|Pri...</td>\n",
       "      <td>BIOLOGICAL: DEC-205/NY-ESO-1 Fusion Protein CD...</td>\n",
       "      <td>Roswell Park Cancer Institute</td>\n",
       "      <td>PHASE2</td>\n",
       "      <td>OTHER</td>\n",
       "      <td>2014-10-10</td>\n",
       "      <td>2020-08-20</td>\n",
       "      <td>Roswell Park Cancer Institute, Buffalo, New Yo...</td>\n",
       "      <td>...</td>\n",
       "      <td>0</td>\n",
       "      <td>1</td>\n",
       "      <td>0</td>\n",
       "      <td>0</td>\n",
       "      <td>New York</td>\n",
       "      <td>14263</td>\n",
       "      <td>Other</td>\n",
       "      <td>Others</td>\n",
       "      <td>2141 days</td>\n",
       "      <td>2141</td>\n",
       "    </tr>\n",
       "    <tr>\n",
       "      <th>714</th>\n",
       "      <td>NCT02166905</td>\n",
       "      <td>COMPLETED</td>\n",
       "      <td>Fallopian Tube Carcinoma|Ovarian Carcinoma|Pri...</td>\n",
       "      <td>BIOLOGICAL: DEC-205/NY-ESO-1 Fusion Protein CD...</td>\n",
       "      <td>Roswell Park Cancer Institute</td>\n",
       "      <td>PHASE2</td>\n",
       "      <td>OTHER</td>\n",
       "      <td>2014-10-10</td>\n",
       "      <td>2020-08-20</td>\n",
       "      <td>Roswell Park Cancer Institute, Buffalo, New Yo...</td>\n",
       "      <td>...</td>\n",
       "      <td>0</td>\n",
       "      <td>1</td>\n",
       "      <td>0</td>\n",
       "      <td>0</td>\n",
       "      <td>New York</td>\n",
       "      <td>14263</td>\n",
       "      <td>Other</td>\n",
       "      <td>Biological</td>\n",
       "      <td>2141 days</td>\n",
       "      <td>2141</td>\n",
       "    </tr>\n",
       "  </tbody>\n",
       "</table>\n",
       "<p>1468 rows × 21 columns</p>\n",
       "</div>"
      ],
      "text/plain": [
       "      NCT Number Study Status  \\\n",
       "0    NCT02515227    COMPLETED   \n",
       "0    NCT02515227    COMPLETED   \n",
       "0    NCT02515227    COMPLETED   \n",
       "0    NCT02515227    COMPLETED   \n",
       "1    NCT03531827   TERMINATED   \n",
       "..           ...          ...   \n",
       "714  NCT02166905    COMPLETED   \n",
       "714  NCT02166905    COMPLETED   \n",
       "714  NCT02166905    COMPLETED   \n",
       "714  NCT02166905    COMPLETED   \n",
       "714  NCT02166905    COMPLETED   \n",
       "\n",
       "                                            Conditions  \\\n",
       "0                                             Melanoma   \n",
       "0                                             Melanoma   \n",
       "0                                             Melanoma   \n",
       "0                                             Melanoma   \n",
       "1    Metastatic Castration Resistant Prostate Cance...   \n",
       "..                                                 ...   \n",
       "714  Fallopian Tube Carcinoma|Ovarian Carcinoma|Pri...   \n",
       "714  Fallopian Tube Carcinoma|Ovarian Carcinoma|Pri...   \n",
       "714  Fallopian Tube Carcinoma|Ovarian Carcinoma|Pri...   \n",
       "714  Fallopian Tube Carcinoma|Ovarian Carcinoma|Pri...   \n",
       "714  Fallopian Tube Carcinoma|Ovarian Carcinoma|Pri...   \n",
       "\n",
       "                                         Interventions  \\\n",
       "0                 BIOLOGICAL: 6MHP|DRUG: Pembrolizumab   \n",
       "0                 BIOLOGICAL: 6MHP|DRUG: Pembrolizumab   \n",
       "0                 BIOLOGICAL: 6MHP|DRUG: Pembrolizumab   \n",
       "0                 BIOLOGICAL: 6MHP|DRUG: Pembrolizumab   \n",
       "1                     DRUG: enzalutamide|DRUG: CRLX101   \n",
       "..                                                 ...   \n",
       "714  BIOLOGICAL: DEC-205/NY-ESO-1 Fusion Protein CD...   \n",
       "714  BIOLOGICAL: DEC-205/NY-ESO-1 Fusion Protein CD...   \n",
       "714  BIOLOGICAL: DEC-205/NY-ESO-1 Fusion Protein CD...   \n",
       "714  BIOLOGICAL: DEC-205/NY-ESO-1 Fusion Protein CD...   \n",
       "714  BIOLOGICAL: DEC-205/NY-ESO-1 Fusion Protein CD...   \n",
       "\n",
       "                             Sponsor  Phases Funder Type Start Date  \\\n",
       "0              Craig L Slingluff, Jr  PHASE1       OTHER 2016-10-06   \n",
       "0              Craig L Slingluff, Jr  PHASE1       OTHER 2016-10-06   \n",
       "0              Craig L Slingluff, Jr  PHASE2       OTHER 2016-10-06   \n",
       "0              Craig L Slingluff, Jr  PHASE2       OTHER 2016-10-06   \n",
       "1    National Cancer Institute (NCI)  PHASE2         NIH 2019-03-26   \n",
       "..                               ...     ...         ...        ...   \n",
       "714    Roswell Park Cancer Institute  PHASE1       OTHER 2014-10-10   \n",
       "714    Roswell Park Cancer Institute  PHASE1       OTHER 2014-10-10   \n",
       "714    Roswell Park Cancer Institute  PHASE2       OTHER 2014-10-10   \n",
       "714    Roswell Park Cancer Institute  PHASE2       OTHER 2014-10-10   \n",
       "714    Roswell Park Cancer Institute  PHASE2       OTHER 2014-10-10   \n",
       "\n",
       "    Completion Date                                          Locations  ...  \\\n",
       "0        2020-03-14  University of Virginia Cancer Center, Charlott...  ...   \n",
       "0        2020-03-14  University of Virginia Cancer Center, Charlott...  ...   \n",
       "0        2020-03-14  University of Virginia Cancer Center, Charlott...  ...   \n",
       "0        2020-03-14  University of Virginia Cancer Center, Charlott...  ...   \n",
       "1        2021-06-01  National Institutes of Health Clinical Center,...  ...   \n",
       "..              ...                                                ...  ...   \n",
       "714      2020-08-20  Roswell Park Cancer Institute, Buffalo, New Yo...  ...   \n",
       "714      2020-08-20  Roswell Park Cancer Institute, Buffalo, New Yo...  ...   \n",
       "714      2020-08-20  Roswell Park Cancer Institute, Buffalo, New Yo...  ...   \n",
       "714      2020-08-20  Roswell Park Cancer Institute, Buffalo, New Yo...  ...   \n",
       "714      2020-08-20  Roswell Park Cancer Institute, Buffalo, New Yo...  ...   \n",
       "\n",
       "     PHASE1  PHASE2  PHASE3  PHASE4     State Zip Code  Major Condition  \\\n",
       "0         1       0       0       0  Virginia    22908            Other   \n",
       "0         1       0       0       0  Virginia    22908            Other   \n",
       "0         0       1       0       0  Virginia    22908            Other   \n",
       "0         0       1       0       0  Virginia    22908            Other   \n",
       "1         0       1       0       0  Maryland    20892  Prostate Cancer   \n",
       "..      ...     ...     ...     ...       ...      ...              ...   \n",
       "714       1       0       0       0  New York    14263            Other   \n",
       "714       1       0       0       0  New York    14263            Other   \n",
       "714       0       1       0       0  New York    14263            Other   \n",
       "714       0       1       0       0  New York    14263            Other   \n",
       "714       0       1       0       0  New York    14263            Other   \n",
       "\n",
       "    Major Interventions  Duration Duration (Days)  \n",
       "0                  Drug 1255 days            1255  \n",
       "0            Biological 1255 days            1255  \n",
       "0                  Drug 1255 days            1255  \n",
       "0            Biological 1255 days            1255  \n",
       "1                  Drug  798 days             798  \n",
       "..                  ...       ...             ...  \n",
       "714              Others 2141 days            2141  \n",
       "714          Biological 2141 days            2141  \n",
       "714                Drug 2141 days            2141  \n",
       "714              Others 2141 days            2141  \n",
       "714          Biological 2141 days            2141  \n",
       "\n",
       "[1468 rows x 21 columns]"
      ]
     },
     "execution_count": 15,
     "metadata": {},
     "output_type": "execute_result"
    }
   ],
   "source": [
    "\n",
    "# Convert 'Start Date' and 'Completion Date' to datetime, handling errors\n",
    "New_Reduced_df['Start Date'] = pd.to_datetime(New_Reduced_df['Start Date'], errors='coerce')\n",
    "New_Reduced_df['Completion Date'] = pd.to_datetime(New_Reduced_df['Completion Date'], errors='coerce')\n",
    "\n",
    "# Check for any NaT values in the date columns\n",
    "print(New_Reduced_df[['Start Date', 'Completion Date']].isna().sum())\n",
    "\n",
    "# Drop rows with NaT values in 'Start Date' or 'Completion Date'\n",
    "New_Reduced_df = New_Reduced_df.dropna(subset=['Start Date', 'Completion Date'])\n",
    "\n",
    "# Calculate the duration of the trial\n",
    "New_Reduced_df['Duration'] = New_Reduced_df['Completion Date'] - New_Reduced_df['Start Date']\n",
    "\n",
    "# Calculate the duration in days\n",
    "New_Reduced_df['Duration (Days)'] = New_Reduced_df['Duration'].dt.days\n",
    "\n",
    "# Print the DataFrame with the new columns\n",
    "New_Reduced_df\n"
   ]
  },
  {
   "cell_type": "markdown",
   "id": "aa20fc82",
   "metadata": {},
   "source": [
    "# Plot interactive box plot: Major Condition, Funding type, and duration of clinical trials"
   ]
  },
  {
   "cell_type": "code",
   "execution_count": 48,
   "id": "1bb4ac33",
   "metadata": {},
   "outputs": [
    {
     "data": {
      "application/vnd.plotly.v1+json": {
       "config": {
        "plotlyServerURL": "https://plot.ly"
       },
       "data": [
        {
         "alignmentgroup": "True",
         "hovertemplate": "Funder Type=OTHER<br>Major Condition=%{x}<br>Duration (Days)=%{y}<extra></extra>",
         "legendgroup": "OTHER",
         "marker": {
          "color": "#636efa"
         },
         "name": "OTHER",
         "notched": false,
         "offsetgroup": "OTHER",
         "orientation": "v",
         "showlegend": true,
         "type": "box",
         "x": [
          "Other",
          "Other",
          "Other",
          "Other",
          "Blood Cancer",
          "Lung Cancer",
          "breast Cancer",
          "breast Cancer",
          "Prostate Cancer",
          "Prostate Cancer",
          "Prostate Cancer",
          "Prostate Cancer",
          "Lung Cancer",
          "Lung Cancer",
          "Lung Cancer",
          "Lung Cancer",
          "Lung Cancer",
          "Blood Cancer",
          "Lung Cancer",
          "Lung Cancer",
          "Other",
          "Other",
          "Brain Cancer",
          "Brain Cancer",
          "Brain Cancer",
          "Other",
          "breast Cancer",
          "Other",
          "Other",
          "Other",
          "Other",
          "Blood Cancer",
          "Blood Cancer",
          "Blood Cancer",
          "Blood Cancer",
          "Other",
          "Lung Cancer",
          "Lung Cancer",
          "Lung Cancer",
          "Lung Cancer",
          "Blood Cancer",
          "Blood Cancer",
          "Other",
          "Other",
          "Other",
          "Other",
          "Other",
          "Other",
          "Other",
          "Brain Cancer",
          "Brain Cancer",
          "Brain Cancer",
          "Brain Cancer",
          "Brain Cancer",
          "Brain Cancer",
          "Brain Cancer",
          "Brain Cancer",
          "Blood Cancer",
          "Blood Cancer",
          "Blood Cancer",
          "Blood Cancer",
          "Blood Cancer",
          "Blood Cancer",
          "Blood Cancer",
          "Other",
          "Other",
          "Other",
          "Other",
          "Other",
          "Other",
          "Other",
          "Other",
          "Blood Cancer",
          "Blood Cancer",
          "Lung Cancer",
          "Lung Cancer",
          "Other",
          "Blood Cancer",
          "Blood Cancer",
          "Other",
          "Other",
          "Other",
          "Other",
          "Other",
          "Lung Cancer",
          "Lung Cancer",
          "Lung Cancer",
          "Lung Cancer",
          "Lung Cancer",
          "Lung Cancer",
          "Lung Cancer",
          "Lung Cancer",
          "Other",
          "Other",
          "Blood Cancer",
          "Blood Cancer",
          "Blood Cancer",
          "Other",
          "Other",
          "Other",
          "Other",
          "Other",
          "Other",
          "Other",
          "Other",
          "Other",
          "Other",
          "Blood Cancer",
          "Blood Cancer",
          "Blood Cancer",
          "Prostate Cancer",
          "Prostate Cancer",
          "liver Cancer",
          "Lung Cancer",
          "Lung Cancer",
          "Other",
          "Other",
          "Lung Cancer",
          "Lung Cancer",
          "Lung Cancer",
          "Lung Cancer",
          "Blood Cancer",
          "Blood Cancer",
          "Blood Cancer",
          "Blood Cancer",
          "Blood Cancer",
          "Blood Cancer",
          "Prostate Cancer",
          "Prostate Cancer",
          "Other",
          "Lung Cancer",
          "Lung Cancer",
          "Lung Cancer",
          "Lung Cancer",
          "Other",
          "Pancreatic Cancer",
          "Lung Cancer",
          "Lung Cancer",
          "Blood Cancer",
          "Blood Cancer",
          "liver Cancer",
          "liver Cancer",
          "liver Cancer",
          "liver Cancer",
          "Lung Cancer",
          "Lung Cancer",
          "Lung Cancer",
          "breast Cancer",
          "breast Cancer",
          "Other",
          "Other",
          "Blood Cancer",
          "Blood Cancer",
          "Blood Cancer",
          "Blood Cancer",
          "Blood Cancer",
          "Blood Cancer",
          "Blood Cancer",
          "Blood Cancer",
          "Other",
          "Other",
          "Other",
          "Other",
          "Other",
          "Other",
          "Other",
          "Other",
          "Other",
          "Other",
          "Brain Cancer",
          "Brain Cancer",
          "Lung Cancer",
          "Lung Cancer",
          "Lung Cancer",
          "Lung Cancer",
          "Lung Cancer",
          "Other",
          "Other",
          "Other",
          "Other",
          "Blood Cancer",
          "Blood Cancer",
          "Lung Cancer",
          "Other",
          "Brain Cancer",
          "Brain Cancer",
          "Blood Cancer",
          "Blood Cancer",
          "Blood Cancer",
          "Blood Cancer",
          "Blood Cancer",
          "Blood Cancer",
          "Prostate Cancer",
          "Lung Cancer",
          "breast Cancer",
          "breast Cancer",
          "Prostate Cancer",
          "Prostate Cancer",
          "liver Cancer",
          "liver Cancer",
          "liver Cancer",
          "Other",
          "Other",
          "Other",
          "Other",
          "Other",
          "Other",
          "Other",
          "Blood Cancer",
          "Other",
          "Other",
          "Brain Cancer",
          "Blood Cancer",
          "Blood Cancer",
          "Blood Cancer",
          "Blood Cancer",
          "Other",
          "breast Cancer",
          "breast Cancer",
          "Blood Cancer",
          "Blood Cancer",
          "Other",
          "Lung Cancer",
          "Lung Cancer",
          "Lung Cancer",
          "Other",
          "Other",
          "Other",
          "Other",
          "Other",
          "Other",
          "Other",
          "Other",
          "Brain Cancer",
          "Brain Cancer",
          "Brain Cancer",
          "Lung Cancer",
          "Lung Cancer",
          "Lung Cancer",
          "Lung Cancer",
          "Lung Cancer",
          "Lung Cancer",
          "kidney Cancer",
          "kidney Cancer",
          "kidney Cancer",
          "kidney Cancer",
          "Blood Cancer",
          "Other",
          "Lung Cancer",
          "Lung Cancer",
          "Lung Cancer",
          "Blood Cancer",
          "Blood Cancer",
          "Other",
          "Other",
          "Other",
          "Other",
          "Other",
          "liver Cancer",
          "liver Cancer",
          "Other",
          "Other",
          "Other",
          "kidney Cancer",
          "kidney Cancer",
          "Other",
          "Other",
          "Other",
          "Other",
          "Other",
          "Brain Cancer",
          "Brain Cancer",
          "Brain Cancer",
          "Blood Cancer",
          "Blood Cancer",
          "Blood Cancer",
          "Other",
          "Other",
          "breast Cancer",
          "Lung Cancer",
          "Lung Cancer",
          "Lung Cancer",
          "Lung Cancer",
          "Lung Cancer",
          "Lung Cancer",
          "Lung Cancer",
          "Lung Cancer",
          "Blood Cancer",
          "Blood Cancer",
          "Other",
          "Other",
          "Other",
          "Blood Cancer",
          "Blood Cancer",
          "Blood Cancer",
          "Lung Cancer",
          "Lung Cancer",
          "Other",
          "Other",
          "Lung Cancer",
          "liver Cancer",
          "Other",
          "Other",
          "Other",
          "Other",
          "Other",
          "Lung Cancer",
          "Lung Cancer",
          "Other",
          "Other",
          "Other",
          "Other",
          "Other",
          "Other",
          "Other",
          "breast Cancer",
          "Blood Cancer",
          "Blood Cancer",
          "Blood Cancer",
          "breast Cancer",
          "breast Cancer",
          "Blood Cancer",
          "Blood Cancer",
          "Blood Cancer",
          "Other",
          "Other",
          "Other",
          "Blood Cancer",
          "Other",
          "Other",
          "Other",
          "Brain Cancer",
          "Brain Cancer",
          "Lung Cancer",
          "Lung Cancer",
          "Brain Cancer",
          "Brain Cancer",
          "Brain Cancer",
          "Brain Cancer",
          "Brain Cancer",
          "Other",
          "Other",
          "Other",
          "liver Cancer",
          "liver Cancer",
          "liver Cancer",
          "Other",
          "Other",
          "Other",
          "Lung Cancer",
          "Lung Cancer",
          "Lung Cancer",
          "Lung Cancer",
          "Prostate Cancer",
          "Blood Cancer",
          "Blood Cancer",
          "Blood Cancer",
          "Other",
          "Other",
          "Other",
          "Other",
          "Other",
          "Other",
          "Blood Cancer",
          "Blood Cancer",
          "Blood Cancer",
          "Blood Cancer",
          "Blood Cancer",
          "Blood Cancer",
          "Blood Cancer",
          "Blood Cancer",
          "Blood Cancer",
          "Blood Cancer",
          "Blood Cancer",
          "Blood Cancer",
          "Brain Cancer",
          "Brain Cancer",
          "Blood Cancer",
          "Blood Cancer",
          "Blood Cancer",
          "Lung Cancer",
          "Lung Cancer",
          "Lung Cancer",
          "Prostate Cancer",
          "Blood Cancer",
          "Blood Cancer",
          "Blood Cancer",
          "Lung Cancer",
          "Other",
          "Other",
          "Other",
          "Other",
          "Lung Cancer",
          "Lung Cancer",
          "Lung Cancer",
          "Lung Cancer",
          "Lung Cancer",
          "Lung Cancer",
          "Lung Cancer",
          "Lung Cancer",
          "Lung Cancer",
          "Lung Cancer",
          "Blood Cancer",
          "Blood Cancer",
          "Blood Cancer",
          "Blood Cancer",
          "Lung Cancer",
          "Blood Cancer",
          "Blood Cancer",
          "Blood Cancer",
          "Blood Cancer",
          "Blood Cancer",
          "Blood Cancer",
          "Blood Cancer",
          "Blood Cancer",
          "Blood Cancer",
          "Brain Cancer",
          "Other",
          "Other",
          "Other",
          "Other",
          "Pancreatic Cancer",
          "Brain Cancer",
          "Brain Cancer",
          "Brain Cancer",
          "Brain Cancer",
          "Other",
          "Other",
          "Lung Cancer",
          "Lung Cancer",
          "Lung Cancer",
          "Lung Cancer",
          "Lung Cancer",
          "Lung Cancer",
          "Lung Cancer",
          "Lung Cancer",
          "Lung Cancer",
          "Lung Cancer",
          "Lung Cancer",
          "Blood Cancer",
          "Blood Cancer",
          "Blood Cancer",
          "Blood Cancer",
          "Blood Cancer",
          "Other",
          "Other",
          "Lung Cancer",
          "Lung Cancer",
          "Lung Cancer",
          "Blood Cancer",
          "Blood Cancer",
          "Blood Cancer",
          "kidney Cancer",
          "kidney Cancer",
          "Prostate Cancer",
          "Prostate Cancer",
          "Other",
          "Blood Cancer",
          "Blood Cancer",
          "Blood Cancer",
          "Blood Cancer",
          "Lung Cancer",
          "Lung Cancer",
          "Lung Cancer",
          "Lung Cancer",
          "Brain Cancer",
          "Brain Cancer",
          "Brain Cancer",
          "Blood Cancer",
          "Lung Cancer",
          "Lung Cancer",
          "Lung Cancer",
          "Other",
          "Other",
          "Blood Cancer",
          "Blood Cancer",
          "Lung Cancer",
          "Lung Cancer",
          "Lung Cancer",
          "Lung Cancer",
          "Blood Cancer",
          "Blood Cancer",
          "Blood Cancer",
          "Blood Cancer",
          "Blood Cancer",
          "Blood Cancer",
          "kidney Cancer",
          "kidney Cancer",
          "kidney Cancer",
          "Other",
          "Other",
          "Other",
          "Other",
          "Other",
          "Other",
          "Other",
          "Other",
          "Other",
          "Prostate Cancer",
          "Prostate Cancer",
          "Prostate Cancer",
          "Other",
          "Prostate Cancer",
          "Other",
          "Other",
          "Other",
          "Other",
          "Pancreatic Cancer",
          "Blood Cancer",
          "Blood Cancer",
          "Blood Cancer",
          "kidney Cancer",
          "Blood Cancer",
          "Blood Cancer",
          "Other",
          "Prostate Cancer",
          "Prostate Cancer",
          "Blood Cancer",
          "Blood Cancer",
          "Blood Cancer",
          "Blood Cancer",
          "Blood Cancer",
          "Blood Cancer",
          "Other",
          "Other",
          "Blood Cancer",
          "Blood Cancer",
          "Other",
          "Other",
          "Blood Cancer",
          "Blood Cancer",
          "Blood Cancer",
          "Blood Cancer",
          "Blood Cancer",
          "Blood Cancer",
          "Blood Cancer",
          "Blood Cancer",
          "Other",
          "Other",
          "Lung Cancer",
          "Blood Cancer",
          "Blood Cancer",
          "Other",
          "Other",
          "Other",
          "Other",
          "Other",
          "Blood Cancer",
          "Blood Cancer",
          "Blood Cancer",
          "Blood Cancer",
          "Other",
          "Other",
          "Other",
          "Other",
          "Lung Cancer",
          "Other",
          "Other",
          "Prostate Cancer",
          "Other",
          "Other",
          "Other",
          "Other",
          "Other",
          "Other",
          "Other",
          "Other",
          "Other",
          "Other",
          "Other",
          "Other",
          "Other",
          "Other",
          "Blood Cancer",
          "Blood Cancer",
          "Other",
          "Other",
          "breast Cancer",
          "breast Cancer",
          "Lung Cancer",
          "Lung Cancer",
          "Lung Cancer",
          "Blood Cancer",
          "Other",
          "Other",
          "Lymphoma Cancer",
          "Lymphoma Cancer",
          "Lung Cancer",
          "Blood Cancer",
          "Blood Cancer",
          "Blood Cancer",
          "Blood Cancer",
          "Other",
          "Other",
          "Other",
          "Other",
          "Lung Cancer",
          "Lung Cancer",
          "Lung Cancer",
          "Lung Cancer",
          "Lung Cancer",
          "Blood Cancer",
          "Blood Cancer",
          "Blood Cancer",
          "Other",
          "Other",
          "Other",
          "Lung Cancer",
          "Lung Cancer",
          "Lung Cancer",
          "Lung Cancer",
          "Lung Cancer",
          "Lung Cancer",
          "Lung Cancer",
          "Lung Cancer",
          "Other",
          "Lung Cancer",
          "Lung Cancer",
          "Lung Cancer",
          "Lung Cancer",
          "Other",
          "Other",
          "Other",
          "kidney Cancer",
          "Other",
          "Other",
          "Other",
          "Blood Cancer",
          "Other",
          "Lung Cancer",
          "Lung Cancer",
          "Blood Cancer",
          "Blood Cancer",
          "Prostate Cancer",
          "Lung Cancer",
          "Other",
          "Other",
          "Other",
          "Other",
          "Blood Cancer",
          "Blood Cancer",
          "Blood Cancer",
          "Blood Cancer",
          "Blood Cancer",
          "Blood Cancer",
          "Blood Cancer",
          "Blood Cancer",
          "Blood Cancer",
          "Blood Cancer",
          "Blood Cancer",
          "Blood Cancer",
          "Other",
          "Other",
          "Other",
          "Lymphoma Cancer",
          "Lymphoma Cancer",
          "Lymphoma Cancer",
          "Other",
          "Other",
          "Brain Cancer",
          "Brain Cancer",
          "Brain Cancer",
          "Other",
          "Blood Cancer",
          "Blood Cancer",
          "Other",
          "Other",
          "Other",
          "Other",
          "Other",
          "Blood Cancer",
          "Blood Cancer",
          "Blood Cancer",
          "Blood Cancer",
          "Blood Cancer",
          "Blood Cancer",
          "Lung Cancer",
          "Lung Cancer",
          "Lung Cancer",
          "Lung Cancer",
          "Lung Cancer",
          "Blood Cancer",
          "Blood Cancer",
          "Blood Cancer",
          "Other",
          "Other",
          "Other",
          "Other",
          "liver Cancer",
          "liver Cancer",
          "Blood Cancer",
          "Blood Cancer",
          "Blood Cancer",
          "Blood Cancer",
          "Blood Cancer",
          "Blood Cancer",
          "Blood Cancer",
          "Blood Cancer",
          "Other",
          "Blood Cancer",
          "Blood Cancer",
          "Blood Cancer",
          "Blood Cancer",
          "Pancreatic Cancer",
          "Pancreatic Cancer",
          "Blood Cancer",
          "Lung Cancer",
          "Lung Cancer",
          "Blood Cancer",
          "Brain Cancer",
          "Brain Cancer",
          "breast Cancer",
          "breast Cancer",
          "breast Cancer",
          "breast Cancer",
          "Blood Cancer",
          "Blood Cancer",
          "Lung Cancer",
          "Lung Cancer",
          "Lung Cancer",
          "Lung Cancer",
          "liver Cancer",
          "Other",
          "Other",
          "Blood Cancer",
          "Other",
          "Other",
          "breast Cancer",
          "breast Cancer",
          "Blood Cancer",
          "Blood Cancer",
          "Blood Cancer",
          "Blood Cancer",
          "Lung Cancer",
          "Lung Cancer",
          "Lung Cancer",
          "Lung Cancer",
          "Lung Cancer",
          "Lung Cancer",
          "Lung Cancer",
          "Lung Cancer",
          "Other",
          "Other",
          "Other",
          "Other",
          "Other",
          "Other",
          "Other",
          "Other",
          "Other",
          "Lung Cancer",
          "Other",
          "Other",
          "Other",
          "Pancreatic Cancer",
          "Blood Cancer",
          "Blood Cancer",
          "Blood Cancer",
          "Prostate Cancer",
          "Other",
          "Other",
          "breast Cancer",
          "Blood Cancer",
          "Blood Cancer",
          "Other",
          "Prostate Cancer",
          "Prostate Cancer",
          "Prostate Cancer",
          "Other",
          "Other",
          "Prostate Cancer",
          "Prostate Cancer",
          "breast Cancer",
          "breast Cancer",
          "Other",
          "Other",
          "Other",
          "Other",
          "Other",
          "Other",
          "breast Cancer",
          "breast Cancer",
          "breast Cancer",
          "breast Cancer",
          "Blood Cancer",
          "Blood Cancer",
          "Blood Cancer",
          "Blood Cancer",
          "Other",
          "Other",
          "Other",
          "Other",
          "Other",
          "Other"
         ],
         "x0": " ",
         "xaxis": "x",
         "y": [
          1255,
          1255,
          1255,
          1255,
          1385,
          964,
          1835,
          1835,
          1569,
          1569,
          1569,
          1569,
          1129,
          1129,
          1129,
          1129,
          1129,
          253,
          295,
          295,
          1110,
          1607,
          1202,
          1202,
          1202,
          328,
          374,
          1810,
          1810,
          1810,
          1810,
          938,
          938,
          938,
          938,
          3597,
          4379,
          4379,
          4379,
          4379,
          1724,
          1724,
          1748,
          1748,
          1748,
          1748,
          2448,
          2448,
          2448,
          2093,
          2093,
          2093,
          2093,
          2093,
          2093,
          2093,
          2093,
          1803,
          1803,
          1803,
          1803,
          1120,
          1120,
          1120,
          1404,
          1404,
          1404,
          1404,
          1404,
          1404,
          2078,
          2078,
          3039,
          3039,
          1184,
          1184,
          1360,
          2400,
          2400,
          2550,
          2550,
          2550,
          1312,
          1312,
          1614,
          1614,
          1246,
          1246,
          2673,
          2673,
          2673,
          2673,
          1465,
          1465,
          736,
          736,
          736,
          1138,
          1138,
          1138,
          1138,
          1138,
          1138,
          1138,
          1138,
          1138,
          1138,
          2723,
          2723,
          2723,
          1238,
          1238,
          1812,
          2022,
          2022,
          1307,
          1307,
          2659,
          2659,
          2659,
          2659,
          1861,
          1861,
          1861,
          1861,
          1861,
          1861,
          1628,
          1628,
          1886,
          2236,
          2236,
          2236,
          2236,
          621,
          1363,
          1380,
          1380,
          1800,
          1800,
          878,
          878,
          878,
          878,
          1666,
          1208,
          1208,
          1980,
          1980,
          1946,
          1946,
          1254,
          1254,
          1254,
          1254,
          1840,
          1840,
          1840,
          1840,
          2899,
          2899,
          2899,
          2899,
          2899,
          2899,
          1201,
          497,
          497,
          497,
          1286,
          1286,
          2897,
          2897,
          1750,
          1750,
          1750,
          2947,
          2947,
          2947,
          2947,
          1326,
          1326,
          2167,
          1096,
          2071,
          2071,
          1500,
          1500,
          1500,
          1500,
          1014,
          1014,
          596,
          1744,
          1817,
          1817,
          839,
          839,
          1228,
          1228,
          1228,
          2997,
          2997,
          591,
          591,
          591,
          591,
          591,
          1534,
          965,
          965,
          1529,
          1068,
          1068,
          2922,
          2922,
          1703,
          504,
          504,
          3512,
          3512,
          1672,
          1971,
          1971,
          1971,
          5479,
          5479,
          5479,
          5479,
          5479,
          5479,
          5479,
          5479,
          4265,
          4265,
          4265,
          330,
          330,
          1442,
          1442,
          1442,
          1442,
          677,
          677,
          677,
          677,
          1148,
          1659,
          947,
          947,
          947,
          1182,
          1182,
          578,
          578,
          578,
          1918,
          1918,
          2374,
          2374,
          571,
          223,
          223,
          1495,
          1495,
          1144,
          1144,
          922,
          1365,
          1365,
          1182,
          1182,
          1182,
          2016,
          2016,
          2016,
          1681,
          1681,
          2260,
          1866,
          1866,
          1866,
          1866,
          1866,
          1866,
          1866,
          1866,
          1502,
          1502,
          1378,
          1378,
          1378,
          1406,
          1406,
          1406,
          2361,
          2361,
          671,
          671,
          1888,
          159,
          453,
          453,
          453,
          453,
          503,
          1489,
          1489,
          2397,
          2397,
          1248,
          1248,
          1248,
          226,
          226,
          2533,
          3193,
          3193,
          3193,
          1179,
          1179,
          2511,
          2511,
          2511,
          1118,
          1445,
          1445,
          1335,
          1978,
          1978,
          1978,
          995,
          995,
          2564,
          2564,
          1096,
          1096,
          1096,
          1525,
          1525,
          2595,
          1966,
          1966,
          2499,
          2499,
          2499,
          2331,
          2331,
          2331,
          1392,
          1392,
          1392,
          1392,
          1587,
          1574,
          1574,
          1574,
          293,
          293,
          1888,
          1888,
          1521,
          1521,
          1519,
          1519,
          1519,
          378,
          378,
          378,
          1135,
          1135,
          1135,
          1893,
          1893,
          1893,
          971,
          971,
          883,
          883,
          3116,
          2053,
          2053,
          1369,
          2152,
          2432,
          2432,
          2432,
          513,
          1948,
          1948,
          945,
          945,
          2685,
          2685,
          2685,
          2685,
          2685,
          2685,
          2685,
          2685,
          2685,
          2685,
          2022,
          2022,
          2022,
          2022,
          274,
          1378,
          1378,
          1378,
          1378,
          1378,
          655,
          655,
          997,
          997,
          2098,
          1832,
          1832,
          2267,
          2267,
          839,
          1264,
          1264,
          1264,
          1264,
          914,
          1659,
          1659,
          2627,
          2202,
          2202,
          2202,
          2202,
          1996,
          1996,
          1372,
          1372,
          2957,
          729,
          2227,
          2227,
          2227,
          2227,
          1427,
          1427,
          35,
          35,
          35,
          375,
          375,
          375,
          3425,
          3425,
          1622,
          1622,
          1572,
          1569,
          1569,
          1569,
          1569,
          1819,
          1819,
          1819,
          1819,
          3220,
          3220,
          3220,
          2312,
          2395,
          2395,
          930,
          887,
          1080,
          966,
          966,
          1404,
          1404,
          1404,
          1404,
          2315,
          2315,
          2315,
          2315,
          2315,
          2315,
          1505,
          1505,
          1505,
          1511,
          1511,
          3006,
          3006,
          2558,
          2551,
          2551,
          2551,
          1618,
          2635,
          2058,
          2058,
          2789,
          1043,
          1349,
          1349,
          1372,
          1372,
          1140,
          2828,
          2828,
          2828,
          934,
          1771,
          1771,
          1700,
          1942,
          1942,
          1875,
          1875,
          4008,
          4008,
          4008,
          4008,
          635,
          1848,
          2767,
          2767,
          2649,
          2649,
          1309,
          1309,
          1309,
          1309,
          1309,
          771,
          771,
          771,
          2191,
          2191,
          892,
          1639,
          1639,
          1960,
          1960,
          1742,
          1742,
          1742,
          1706,
          1706,
          2024,
          2024,
          1303,
          1303,
          1303,
          1303,
          1078,
          2734,
          2734,
          1230,
          4087,
          4087,
          4087,
          4087,
          1035,
          1035,
          1343,
          1343,
          1343,
          1343,
          1343,
          1343,
          1343,
          1343,
          2956,
          2956,
          2002,
          2002,
          2635,
          2635,
          2385,
          2385,
          2385,
          1997,
          504,
          504,
          3163,
          3163,
          1614,
          3343,
          3343,
          3086,
          3086,
          1660,
          1660,
          1660,
          1660,
          1853,
          1853,
          1853,
          1853,
          513,
          1724,
          1724,
          1023,
          1170,
          1170,
          1170,
          1693,
          1693,
          1693,
          515,
          515,
          1627,
          1627,
          1627,
          903,
          4147,
          4147,
          4147,
          4147,
          1239,
          1239,
          1239,
          1121,
          2057,
          2949,
          2949,
          1851,
          1936,
          2609,
          2609,
          1093,
          1093,
          2377,
          695,
          1443,
          1443,
          1443,
          1346,
          2574,
          2574,
          742,
          742,
          1655,
          1655,
          3501,
          3501,
          3501,
          3501,
          3501,
          3501,
          240,
          240,
          1549,
          2069,
          2069,
          2069,
          2884,
          2884,
          1324,
          1324,
          1324,
          1063,
          1947,
          1947,
          908,
          659,
          659,
          659,
          659,
          2793,
          2793,
          2793,
          2793,
          2793,
          2793,
          9644,
          9644,
          9644,
          9644,
          9644,
          1359,
          1359,
          1359,
          981,
          981,
          981,
          981,
          778,
          778,
          1203,
          1203,
          706,
          706,
          706,
          706,
          706,
          706,
          2878,
          952,
          952,
          952,
          952,
          1552,
          1552,
          832,
          203,
          203,
          1164,
          1197,
          1197,
          3090,
          3090,
          3090,
          3090,
          696,
          696,
          2472,
          2472,
          2472,
          2472,
          1001,
          660,
          660,
          1231,
          1582,
          1582,
          3465,
          3465,
          2381,
          2381,
          2381,
          2381,
          1767,
          1767,
          1767,
          1767,
          1767,
          1767,
          1767,
          1767,
          3307,
          3307,
          1406,
          1367,
          1367,
          4158,
          4158,
          4158,
          4158,
          1014,
          1040,
          2261,
          2842,
          433,
          1169,
          1169,
          1169,
          1706,
          2614,
          2614,
          1568,
          1217,
          1217,
          381,
          1902,
          1902,
          1902,
          2709,
          2709,
          1960,
          1960,
          2120,
          2120,
          1753,
          1753,
          1753,
          1753,
          1753,
          1753,
          848,
          2833,
          2833,
          2833,
          2533,
          2533,
          2533,
          2533,
          2141,
          2141,
          2141,
          2141,
          2141,
          2141
         ],
         "y0": " ",
         "yaxis": "y"
        },
        {
         "alignmentgroup": "True",
         "hovertemplate": "Funder Type=NIH<br>Major Condition=%{x}<br>Duration (Days)=%{y}<extra></extra>",
         "legendgroup": "NIH",
         "marker": {
          "color": "#EF553B"
         },
         "name": "NIH",
         "notched": false,
         "offsetgroup": "NIH",
         "orientation": "v",
         "showlegend": true,
         "type": "box",
         "x": [
          "Prostate Cancer",
          "Lung Cancer",
          "Lung Cancer",
          "Lung Cancer",
          "Lung Cancer",
          "Lung Cancer",
          "Lung Cancer",
          "Lung Cancer",
          "Lung Cancer",
          "Lung Cancer",
          "Lung Cancer",
          "Brain Cancer",
          "Brain Cancer",
          "Lung Cancer",
          "Lung Cancer",
          "Lung Cancer",
          "Lung Cancer",
          "Blood Cancer",
          "breast Cancer",
          "Brain Cancer",
          "Brain Cancer",
          "Blood Cancer",
          "Blood Cancer",
          "Brain Cancer",
          "Brain Cancer",
          "Brain Cancer",
          "Brain Cancer",
          "Other",
          "Other",
          "Other",
          "Other",
          "Blood Cancer",
          "Blood Cancer",
          "Other",
          "Other",
          "Other",
          "Other",
          "Prostate Cancer",
          "Prostate Cancer",
          "Other",
          "Brain Cancer",
          "Blood Cancer",
          "Blood Cancer",
          "Other",
          "Other",
          "Other",
          "Other",
          "Other",
          "Other",
          "Lung Cancer",
          "Lung Cancer",
          "Lung Cancer",
          "Lung Cancer",
          "Lung Cancer",
          "Lung Cancer",
          "Blood Cancer",
          "Brain Cancer",
          "Brain Cancer",
          "Brain Cancer",
          "Blood Cancer",
          "Blood Cancer",
          "Other",
          "Other",
          "Lung Cancer",
          "Lung Cancer",
          "Lung Cancer",
          "Lung Cancer",
          "Lung Cancer",
          "Lung Cancer",
          "Other",
          "Other",
          "Other",
          "Other",
          "Other",
          "Other",
          "Other",
          "Other",
          "Other",
          "Other",
          "Other",
          "Other",
          "kidney Cancer",
          "kidney Cancer",
          "Blood Cancer",
          "Blood Cancer",
          "Lung Cancer",
          "Lung Cancer",
          "Lung Cancer",
          "Lung Cancer",
          "Lung Cancer",
          "Blood Cancer",
          "Blood Cancer",
          "Blood Cancer",
          "Blood Cancer",
          "Other",
          "Other",
          "Brain Cancer",
          "Brain Cancer",
          "Other",
          "Other",
          "Prostate Cancer",
          "kidney Cancer",
          "kidney Cancer",
          "liver Cancer",
          "liver Cancer",
          "liver Cancer",
          "liver Cancer",
          "Lung Cancer",
          "Lung Cancer",
          "Other",
          "Other",
          "Other",
          "Other",
          "Brain Cancer",
          "Brain Cancer",
          "Brain Cancer",
          "Brain Cancer",
          "Brain Cancer",
          "Brain Cancer",
          "Brain Cancer",
          "Brain Cancer",
          "Brain Cancer",
          "Brain Cancer",
          "Lung Cancer",
          "Lung Cancer",
          "Lung Cancer",
          "Lung Cancer",
          "Lung Cancer",
          "Lung Cancer",
          "Other",
          "Blood Cancer",
          "Other",
          "Other",
          "Prostate Cancer",
          "Prostate Cancer",
          "Lung Cancer",
          "Lung Cancer",
          "Prostate Cancer",
          "Prostate Cancer",
          "Prostate Cancer",
          "Prostate Cancer",
          "Prostate Cancer",
          "Prostate Cancer",
          "Lung Cancer",
          "Lung Cancer",
          "Lung Cancer",
          "Lung Cancer",
          "Lung Cancer",
          "Brain Cancer",
          "Brain Cancer",
          "Lung Cancer",
          "Lung Cancer",
          "Blood Cancer",
          "Blood Cancer",
          "Blood Cancer",
          "Lung Cancer",
          "Lung Cancer",
          "Brain Cancer",
          "Brain Cancer",
          "Brain Cancer",
          "Brain Cancer",
          "Blood Cancer",
          "Blood Cancer",
          "Blood Cancer",
          "Other",
          "Other",
          "Other",
          "Other",
          "Other",
          "Other",
          "Other",
          "Other",
          "Other",
          "Other",
          "Other",
          "Other",
          "Lung Cancer",
          "Lung Cancer",
          "Lung Cancer",
          "Lung Cancer",
          "Lung Cancer",
          "Other",
          "breast Cancer",
          "breast Cancer",
          "breast Cancer",
          "breast Cancer",
          "Brain Cancer",
          "Brain Cancer",
          "Other",
          "Other",
          "Other",
          "Other",
          "Other",
          "Lung Cancer",
          "Lung Cancer",
          "Blood Cancer",
          "Blood Cancer",
          "Blood Cancer",
          "Lung Cancer",
          "Lung Cancer",
          "Other",
          "Other",
          "Other",
          "kidney Cancer",
          "kidney Cancer",
          "Other",
          "Other",
          "Other",
          "Blood Cancer",
          "Blood Cancer",
          "Other",
          "Other",
          "Other",
          "Prostate Cancer",
          "Prostate Cancer",
          "Prostate Cancer",
          "Blood Cancer",
          "kidney Cancer",
          "kidney Cancer",
          "Other",
          "Lung Cancer",
          "Blood Cancer",
          "Blood Cancer",
          "Lung Cancer",
          "Lung Cancer",
          "Lung Cancer",
          "Other",
          "Prostate Cancer",
          "Blood Cancer",
          "Lung Cancer",
          "Lung Cancer",
          "Lung Cancer",
          "Lung Cancer",
          "Other",
          "Blood Cancer",
          "Blood Cancer",
          "Brain Cancer",
          "Brain Cancer",
          "Prostate Cancer",
          "Blood Cancer",
          "Blood Cancer",
          "Other",
          "Other",
          "Blood Cancer",
          "Other",
          "Blood Cancer",
          "Blood Cancer",
          "Blood Cancer",
          "Blood Cancer",
          "liver Cancer",
          "Blood Cancer",
          "Other",
          "Blood Cancer",
          "Prostate Cancer",
          "Prostate Cancer",
          "Other",
          "Lung Cancer",
          "Brain Cancer",
          "Brain Cancer",
          "Brain Cancer",
          "Lung Cancer",
          "Lung Cancer",
          "Pancreatic Cancer",
          "Pancreatic Cancer",
          "Lung Cancer",
          "Blood Cancer",
          "Blood Cancer",
          "Blood Cancer",
          "Blood Cancer",
          "Blood Cancer",
          "Lung Cancer",
          "Lung Cancer",
          "Lung Cancer",
          "Lung Cancer",
          "Lung Cancer",
          "Lung Cancer",
          "Blood Cancer",
          "Blood Cancer",
          "Brain Cancer",
          "Other",
          "Other",
          "Blood Cancer",
          "Blood Cancer",
          "Lung Cancer",
          "Brain Cancer",
          "Brain Cancer",
          "Brain Cancer",
          "Brain Cancer",
          "Blood Cancer",
          "Blood Cancer",
          "Other",
          "Other",
          "Other",
          "Other",
          "Lung Cancer",
          "Lung Cancer",
          "Blood Cancer",
          "Blood Cancer",
          "Lung Cancer",
          "Lung Cancer",
          "Lung Cancer",
          "Lung Cancer",
          "Other",
          "Other",
          "Other",
          "Lung Cancer",
          "Other",
          "Other",
          "Lung Cancer",
          "Lung Cancer",
          "breast Cancer",
          "breast Cancer",
          "liver Cancer",
          "liver Cancer",
          "Other",
          "Other",
          "Other",
          "Other",
          "kidney Cancer",
          "kidney Cancer",
          "kidney Cancer",
          "kidney Cancer",
          "liver Cancer",
          "liver Cancer",
          "kidney Cancer",
          "kidney Cancer",
          "Other",
          "Other",
          "Brain Cancer",
          "Brain Cancer",
          "Blood Cancer",
          "Blood Cancer",
          "Lung Cancer",
          "Lung Cancer",
          "Blood Cancer",
          "Blood Cancer",
          "Lymphoma Cancer",
          "Lymphoma Cancer",
          "Lymphoma Cancer",
          "Lymphoma Cancer",
          "Blood Cancer",
          "Blood Cancer",
          "Blood Cancer",
          "Blood Cancer",
          "Blood Cancer",
          "Lung Cancer",
          "Lung Cancer",
          "Other",
          "Other",
          "Blood Cancer",
          "Blood Cancer",
          "Other",
          "Blood Cancer",
          "Lung Cancer",
          "Lung Cancer",
          "Brain Cancer",
          "Brain Cancer",
          "Brain Cancer",
          "Other",
          "Other",
          "Other",
          "Other",
          "Blood Cancer",
          "Blood Cancer",
          "Other",
          "Other",
          "Other",
          "Lung Cancer",
          "Lung Cancer",
          "Lung Cancer",
          "Lung Cancer",
          "Lung Cancer",
          "Lung Cancer",
          "Other",
          "Other",
          "Other",
          "liver Cancer",
          "liver Cancer",
          "Blood Cancer",
          "Blood Cancer",
          "Lung Cancer",
          "Lung Cancer",
          "Other",
          "Other",
          "Other",
          "Other",
          "Other",
          "Lung Cancer",
          "Lung Cancer",
          "Lung Cancer",
          "Lung Cancer",
          "Brain Cancer",
          "Brain Cancer",
          "Lung Cancer",
          "Lung Cancer",
          "Lung Cancer",
          "Other",
          "Brain Cancer",
          "Brain Cancer",
          "kidney Cancer",
          "Lung Cancer",
          "Lung Cancer",
          "Lung Cancer",
          "Lung Cancer",
          "Lung Cancer",
          "Lung Cancer",
          "Lung Cancer",
          "Lung Cancer",
          "Lung Cancer",
          "Other",
          "Other",
          "Other",
          "Other",
          "Other",
          "Other",
          "Lung Cancer",
          "Lung Cancer",
          "Lung Cancer",
          "Blood Cancer",
          "Prostate Cancer",
          "Other",
          "Blood Cancer",
          "Blood Cancer",
          "Blood Cancer",
          "Blood Cancer",
          "Blood Cancer",
          "Brain Cancer",
          "Other",
          "Other",
          "Blood Cancer",
          "Blood Cancer",
          "Blood Cancer",
          "Blood Cancer",
          "Lung Cancer",
          "Lung Cancer",
          "Lung Cancer",
          "Lung Cancer",
          "Brain Cancer",
          "Brain Cancer",
          "Brain Cancer",
          "Blood Cancer",
          "Lung Cancer",
          "Lung Cancer",
          "Lung Cancer",
          "Lung Cancer",
          "Blood Cancer",
          "Blood Cancer",
          "Other",
          "Other",
          "Other",
          "Other",
          "Other",
          "kidney Cancer",
          "Lung Cancer",
          "Lung Cancer",
          "Lung Cancer",
          "Lung Cancer",
          "Lung Cancer",
          "Lung Cancer",
          "Lung Cancer",
          "Lung Cancer",
          "Other",
          "Other",
          "Other",
          "Other",
          "Other",
          "Other",
          "Other",
          "Other",
          "Other",
          "Other",
          "Other",
          "Other",
          "Other",
          "Blood Cancer",
          "Blood Cancer",
          "Blood Cancer",
          "Blood Cancer",
          "Blood Cancer",
          "Blood Cancer",
          "Other",
          "Other",
          "Other",
          "Other",
          "Other",
          "Other",
          "Blood Cancer",
          "liver Cancer",
          "liver Cancer",
          "Other",
          "Other",
          "Other",
          "Other",
          "Lung Cancer",
          "Lung Cancer",
          "Other",
          "Lung Cancer",
          "Lung Cancer",
          "Lung Cancer",
          "Lung Cancer",
          "Lung Cancer",
          "Lung Cancer",
          "Lung Cancer",
          "Other",
          "Other",
          "Other",
          "Other",
          "Other",
          "Other",
          "Lung Cancer",
          "Lung Cancer",
          "Other",
          "Other",
          "Other",
          "Other",
          "Brain Cancer",
          "Brain Cancer",
          "Other",
          "Other",
          "Other",
          "Other",
          "Other",
          "Other",
          "Other",
          "Prostate Cancer",
          "Lung Cancer",
          "Other",
          "Other",
          "Pancreatic Cancer",
          "Blood Cancer",
          "Other",
          "liver Cancer",
          "liver Cancer",
          "Blood Cancer",
          "Other",
          "Other",
          "Blood Cancer",
          "Pancreatic Cancer",
          "Pancreatic Cancer",
          "Other",
          "Prostate Cancer",
          "Prostate Cancer",
          "Blood Cancer",
          "Other",
          "Pancreatic Cancer",
          "Pancreatic Cancer",
          "Lung Cancer",
          "Blood Cancer",
          "Blood Cancer",
          "Other",
          "Other",
          "Blood Cancer",
          "Lung Cancer",
          "Lung Cancer",
          "Lung Cancer",
          "Other",
          "Other",
          "Other",
          "kidney Cancer",
          "kidney Cancer",
          "Other",
          "Other",
          "Lung Cancer",
          "Lung Cancer",
          "Brain Cancer",
          "Brain Cancer",
          "Brain Cancer",
          "Brain Cancer",
          "Blood Cancer",
          "Lung Cancer",
          "Lung Cancer",
          "Blood Cancer",
          "Blood Cancer",
          "Blood Cancer",
          "Blood Cancer",
          "Brain Cancer"
         ],
         "x0": " ",
         "xaxis": "x",
         "y": [
          798,
          1753,
          1753,
          1753,
          1885,
          3817,
          3817,
          3817,
          3817,
          3817,
          3817,
          1882,
          1882,
          3789,
          3789,
          3789,
          3789,
          1242,
          1359,
          2196,
          2196,
          3580,
          1678,
          3653,
          3653,
          3653,
          3653,
          2528,
          2528,
          2528,
          2528,
          812,
          812,
          1329,
          2249,
          2249,
          2249,
          2190,
          2190,
          1431,
          2505,
          837,
          837,
          953,
          953,
          1098,
          1098,
          1098,
          1098,
          3000,
          3000,
          3000,
          3112,
          3112,
          3112,
          3488,
          3713,
          3713,
          3713,
          3053,
          3053,
          3122,
          3122,
          1410,
          1410,
          2680,
          2680,
          2680,
          2680,
          1011,
          1011,
          2202,
          2202,
          1379,
          1379,
          1615,
          1615,
          2811,
          2811,
          2811,
          2811,
          1530,
          1530,
          2690,
          2690,
          3044,
          3044,
          3044,
          3044,
          3044,
          3475,
          3475,
          3475,
          3521,
          1862,
          257,
          2693,
          2693,
          2731,
          2731,
          3651,
          478,
          478,
          2663,
          2663,
          2663,
          2663,
          3046,
          3046,
          454,
          454,
          889,
          352,
          1652,
          1652,
          1652,
          1652,
          1652,
          1652,
          1652,
          1652,
          1652,
          1652,
          1666,
          1666,
          1666,
          1666,
          719,
          719,
          2607,
          3031,
          1275,
          1275,
          3124,
          3124,
          3107,
          3107,
          2418,
          2418,
          2418,
          2418,
          2418,
          2418,
          260,
          260,
          1405,
          1405,
          1405,
          2519,
          2519,
          805,
          805,
          3221,
          3221,
          3221,
          2351,
          2351,
          2923,
          2923,
          2923,
          2923,
          384,
          384,
          384,
          233,
          233,
          233,
          233,
          2179,
          2179,
          2179,
          2179,
          2336,
          2336,
          2336,
          2063,
          2795,
          2795,
          672,
          672,
          672,
          771,
          344,
          344,
          344,
          344,
          2510,
          2510,
          216,
          216,
          216,
          216,
          231,
          1294,
          1294,
          616,
          616,
          616,
          2531,
          2531,
          2294,
          2294,
          2294,
          2102,
          2102,
          1182,
          1182,
          2094,
          1745,
          1745,
          1996,
          1784,
          1784,
          2882,
          2882,
          2882,
          3597,
          5155,
          5155,
          464,
          889,
          1776,
          1776,
          1248,
          1248,
          1248,
          2749,
          959,
          3501,
          1043,
          1043,
          1043,
          1043,
          833,
          2135,
          2135,
          1728,
          1728,
          265,
          1314,
          1314,
          2145,
          2145,
          3493,
          1384,
          834,
          834,
          402,
          402,
          1305,
          1491,
          409,
          3200,
          2418,
          2418,
          2909,
          1799,
          2147,
          2147,
          2147,
          2683,
          2683,
          3605,
          3605,
          936,
          1075,
          1075,
          3641,
          3641,
          3641,
          285,
          285,
          285,
          285,
          1562,
          1562,
          3495,
          2280,
          2565,
          3145,
          3145,
          2301,
          2301,
          1563,
          2694,
          2694,
          2694,
          2694,
          3645,
          3645,
          1540,
          1540,
          2213,
          2213,
          1544,
          1544,
          2536,
          2536,
          3152,
          3152,
          3152,
          3152,
          432,
          1957,
          1957,
          813,
          1916,
          1916,
          3152,
          3152,
          171,
          171,
          1608,
          1608,
          221,
          221,
          2194,
          2194,
          1966,
          1966,
          1966,
          1966,
          536,
          536,
          1625,
          1625,
          2577,
          2577,
          2232,
          2232,
          312,
          312,
          1603,
          1603,
          757,
          3200,
          3817,
          3817,
          3817,
          3817,
          539,
          539,
          3403,
          3403,
          3403,
          1728,
          1728,
          699,
          699,
          2508,
          2508,
          740,
          1447,
          3745,
          3745,
          2310,
          2310,
          2310,
          1025,
          1025,
          2919,
          2919,
          3201,
          3298,
          1780,
          1780,
          3473,
          1308,
          1308,
          1308,
          3056,
          3056,
          3056,
          2259,
          2259,
          2259,
          926,
          926,
          2205,
          2205,
          846,
          846,
          3117,
          3117,
          215,
          215,
          215,
          1689,
          1689,
          3867,
          3867,
          1351,
          1351,
          1981,
          1981,
          1981,
          1605,
          2417,
          2417,
          922,
          2795,
          2795,
          2698,
          2698,
          2698,
          1646,
          1646,
          1646,
          1646,
          2388,
          2388,
          2388,
          1276,
          1276,
          1276,
          1442,
          1442,
          1442,
          175,
          2509,
          449,
          2042,
          2042,
          2042,
          2042,
          2042,
          1330,
          2738,
          2738,
          2751,
          2751,
          1630,
          1630,
          3056,
          3056,
          3056,
          3056,
          1916,
          1916,
          1916,
          3387,
          2443,
          2443,
          2443,
          2443,
          586,
          586,
          979,
          979,
          979,
          1911,
          1911,
          3177,
          2647,
          2647,
          2647,
          2647,
          2647,
          2647,
          2647,
          2647,
          1483,
          2363,
          2363,
          2363,
          2363,
          2363,
          2363,
          2363,
          2363,
          319,
          3362,
          3362,
          3362,
          1809,
          3567,
          3567,
          3567,
          3567,
          3567,
          3540,
          3540,
          906,
          906,
          906,
          906,
          4702,
          874,
          874,
          1927,
          1927,
          1927,
          1927,
          2604,
          2604,
          1768,
          3572,
          3572,
          3572,
          3572,
          2084,
          2084,
          2084,
          2108,
          2108,
          2108,
          2108,
          2108,
          2108,
          2855,
          2855,
          1020,
          1020,
          1593,
          1593,
          2499,
          2499,
          3215,
          3215,
          2101,
          2101,
          3481,
          3481,
          1295,
          1679,
          2426,
          2889,
          2889,
          244,
          3488,
          1866,
          2370,
          2370,
          3597,
          2045,
          2045,
          1960,
          1860,
          1860,
          1505,
          2475,
          2411,
          3493,
          9,
          2415,
          2415,
          1701,
          2097,
          2097,
          3337,
          3337,
          3201,
          3578,
          3578,
          718,
          2788,
          2788,
          940,
          3062,
          3062,
          1437,
          1437,
          2435,
          2435,
          2029,
          2029,
          2029,
          2029,
          1608,
          144,
          144,
          1689,
          3132,
          3132,
          3132,
          1372
         ],
         "y0": " ",
         "yaxis": "y"
        },
        {
         "alignmentgroup": "True",
         "hovertemplate": "Funder Type=NETWORK<br>Major Condition=%{x}<br>Duration (Days)=%{y}<extra></extra>",
         "legendgroup": "NETWORK",
         "marker": {
          "color": "#00cc96"
         },
         "name": "NETWORK",
         "notched": false,
         "offsetgroup": "NETWORK",
         "orientation": "v",
         "showlegend": true,
         "type": "box",
         "x": [
          "Other",
          "Other",
          "Other",
          "Other",
          "Other",
          "Blood Cancer",
          "Blood Cancer",
          "Blood Cancer",
          "Blood Cancer",
          "Blood Cancer",
          "Blood Cancer",
          "Brain Cancer",
          "Brain Cancer",
          "Lung Cancer",
          "Lung Cancer",
          "Lung Cancer",
          "Lung Cancer",
          "Lung Cancer",
          "Blood Cancer",
          "Blood Cancer",
          "Lung Cancer",
          "Lung Cancer",
          "Lung Cancer",
          "Lung Cancer",
          "Lung Cancer",
          "Lung Cancer",
          "breast Cancer",
          "Other",
          "Other",
          "Brain Cancer",
          "Brain Cancer",
          "Lung Cancer",
          "Lung Cancer",
          "Brain Cancer",
          "Blood Cancer",
          "Blood Cancer",
          "Other",
          "Other",
          "Other",
          "Other",
          "Other",
          "Blood Cancer",
          "Blood Cancer",
          "Blood Cancer",
          "Lung Cancer",
          "Lung Cancer",
          "Other",
          "Other",
          "Other",
          "Lung Cancer",
          "Other",
          "Other",
          "Other",
          "Other",
          "Blood Cancer",
          "Blood Cancer",
          "Blood Cancer",
          "Blood Cancer",
          "Blood Cancer",
          "Blood Cancer",
          "Blood Cancer",
          "Blood Cancer",
          "Other",
          "Other",
          "Lung Cancer",
          "Lung Cancer",
          "Blood Cancer",
          "Blood Cancer",
          "Other",
          "Lung Cancer",
          "Other",
          "Other",
          "Blood Cancer",
          "Blood Cancer",
          "Brain Cancer",
          "Brain Cancer",
          "Brain Cancer",
          "Brain Cancer",
          "Other",
          "Other",
          "Lung Cancer",
          "Lung Cancer",
          "Other",
          "Other"
         ],
         "x0": " ",
         "xaxis": "x",
         "y": [
          2962,
          2962,
          1078,
          1078,
          1078,
          2615,
          2615,
          2615,
          2615,
          2615,
          2615,
          809,
          809,
          2550,
          2550,
          2550,
          1875,
          1875,
          1705,
          1705,
          3510,
          3510,
          3510,
          3510,
          3510,
          3510,
          5639,
          2791,
          2791,
          3250,
          3250,
          1580,
          1580,
          2833,
          2696,
          2696,
          2342,
          2342,
          2342,
          2342,
          3256,
          2446,
          3351,
          3351,
          2455,
          2455,
          3476,
          3476,
          3476,
          1903,
          1268,
          1493,
          1493,
          3017,
          3294,
          3294,
          3294,
          3294,
          3294,
          3294,
          3294,
          3294,
          2448,
          2448,
          3381,
          3381,
          1764,
          1764,
          1068,
          1599,
          3101,
          3101,
          2253,
          2253,
          2180,
          2180,
          1540,
          1540,
          2222,
          2222,
          1505,
          1505,
          2595,
          2595
         ],
         "y0": " ",
         "yaxis": "y"
        },
        {
         "alignmentgroup": "True",
         "hovertemplate": "Funder Type=INDUSTRY<br>Major Condition=%{x}<br>Duration (Days)=%{y}<extra></extra>",
         "legendgroup": "INDUSTRY",
         "marker": {
          "color": "#ab63fa"
         },
         "name": "INDUSTRY",
         "notched": false,
         "offsetgroup": "INDUSTRY",
         "orientation": "v",
         "showlegend": true,
         "type": "box",
         "x": [
          "Blood Cancer",
          "Other",
          "Other",
          "Lung Cancer",
          "Other",
          "Other",
          "Other",
          "Other",
          "liver Cancer",
          "liver Cancer",
          "Prostate Cancer",
          "Other",
          "Other",
          "Other"
         ],
         "x0": " ",
         "xaxis": "x",
         "y": [
          4097,
          687,
          687,
          2323,
          794,
          492,
          492,
          912,
          425,
          425,
          1409,
          1584,
          1584,
          1584
         ],
         "y0": " ",
         "yaxis": "y"
        }
       ],
       "layout": {
        "boxmode": "group",
        "legend": {
         "title": {
          "text": "Funder Type"
         },
         "tracegroupgap": 0
        },
        "plot_bgcolor": "white",
        "template": {
         "data": {
          "bar": [
           {
            "error_x": {
             "color": "#2a3f5f"
            },
            "error_y": {
             "color": "#2a3f5f"
            },
            "marker": {
             "line": {
              "color": "#E5ECF6",
              "width": 0.5
             },
             "pattern": {
              "fillmode": "overlay",
              "size": 10,
              "solidity": 0.2
             }
            },
            "type": "bar"
           }
          ],
          "barpolar": [
           {
            "marker": {
             "line": {
              "color": "#E5ECF6",
              "width": 0.5
             },
             "pattern": {
              "fillmode": "overlay",
              "size": 10,
              "solidity": 0.2
             }
            },
            "type": "barpolar"
           }
          ],
          "carpet": [
           {
            "aaxis": {
             "endlinecolor": "#2a3f5f",
             "gridcolor": "white",
             "linecolor": "white",
             "minorgridcolor": "white",
             "startlinecolor": "#2a3f5f"
            },
            "baxis": {
             "endlinecolor": "#2a3f5f",
             "gridcolor": "white",
             "linecolor": "white",
             "minorgridcolor": "white",
             "startlinecolor": "#2a3f5f"
            },
            "type": "carpet"
           }
          ],
          "choropleth": [
           {
            "colorbar": {
             "outlinewidth": 0,
             "ticks": ""
            },
            "type": "choropleth"
           }
          ],
          "contour": [
           {
            "colorbar": {
             "outlinewidth": 0,
             "ticks": ""
            },
            "colorscale": [
             [
              0,
              "#0d0887"
             ],
             [
              0.1111111111111111,
              "#46039f"
             ],
             [
              0.2222222222222222,
              "#7201a8"
             ],
             [
              0.3333333333333333,
              "#9c179e"
             ],
             [
              0.4444444444444444,
              "#bd3786"
             ],
             [
              0.5555555555555556,
              "#d8576b"
             ],
             [
              0.6666666666666666,
              "#ed7953"
             ],
             [
              0.7777777777777778,
              "#fb9f3a"
             ],
             [
              0.8888888888888888,
              "#fdca26"
             ],
             [
              1,
              "#f0f921"
             ]
            ],
            "type": "contour"
           }
          ],
          "contourcarpet": [
           {
            "colorbar": {
             "outlinewidth": 0,
             "ticks": ""
            },
            "type": "contourcarpet"
           }
          ],
          "heatmap": [
           {
            "colorbar": {
             "outlinewidth": 0,
             "ticks": ""
            },
            "colorscale": [
             [
              0,
              "#0d0887"
             ],
             [
              0.1111111111111111,
              "#46039f"
             ],
             [
              0.2222222222222222,
              "#7201a8"
             ],
             [
              0.3333333333333333,
              "#9c179e"
             ],
             [
              0.4444444444444444,
              "#bd3786"
             ],
             [
              0.5555555555555556,
              "#d8576b"
             ],
             [
              0.6666666666666666,
              "#ed7953"
             ],
             [
              0.7777777777777778,
              "#fb9f3a"
             ],
             [
              0.8888888888888888,
              "#fdca26"
             ],
             [
              1,
              "#f0f921"
             ]
            ],
            "type": "heatmap"
           }
          ],
          "heatmapgl": [
           {
            "colorbar": {
             "outlinewidth": 0,
             "ticks": ""
            },
            "colorscale": [
             [
              0,
              "#0d0887"
             ],
             [
              0.1111111111111111,
              "#46039f"
             ],
             [
              0.2222222222222222,
              "#7201a8"
             ],
             [
              0.3333333333333333,
              "#9c179e"
             ],
             [
              0.4444444444444444,
              "#bd3786"
             ],
             [
              0.5555555555555556,
              "#d8576b"
             ],
             [
              0.6666666666666666,
              "#ed7953"
             ],
             [
              0.7777777777777778,
              "#fb9f3a"
             ],
             [
              0.8888888888888888,
              "#fdca26"
             ],
             [
              1,
              "#f0f921"
             ]
            ],
            "type": "heatmapgl"
           }
          ],
          "histogram": [
           {
            "marker": {
             "pattern": {
              "fillmode": "overlay",
              "size": 10,
              "solidity": 0.2
             }
            },
            "type": "histogram"
           }
          ],
          "histogram2d": [
           {
            "colorbar": {
             "outlinewidth": 0,
             "ticks": ""
            },
            "colorscale": [
             [
              0,
              "#0d0887"
             ],
             [
              0.1111111111111111,
              "#46039f"
             ],
             [
              0.2222222222222222,
              "#7201a8"
             ],
             [
              0.3333333333333333,
              "#9c179e"
             ],
             [
              0.4444444444444444,
              "#bd3786"
             ],
             [
              0.5555555555555556,
              "#d8576b"
             ],
             [
              0.6666666666666666,
              "#ed7953"
             ],
             [
              0.7777777777777778,
              "#fb9f3a"
             ],
             [
              0.8888888888888888,
              "#fdca26"
             ],
             [
              1,
              "#f0f921"
             ]
            ],
            "type": "histogram2d"
           }
          ],
          "histogram2dcontour": [
           {
            "colorbar": {
             "outlinewidth": 0,
             "ticks": ""
            },
            "colorscale": [
             [
              0,
              "#0d0887"
             ],
             [
              0.1111111111111111,
              "#46039f"
             ],
             [
              0.2222222222222222,
              "#7201a8"
             ],
             [
              0.3333333333333333,
              "#9c179e"
             ],
             [
              0.4444444444444444,
              "#bd3786"
             ],
             [
              0.5555555555555556,
              "#d8576b"
             ],
             [
              0.6666666666666666,
              "#ed7953"
             ],
             [
              0.7777777777777778,
              "#fb9f3a"
             ],
             [
              0.8888888888888888,
              "#fdca26"
             ],
             [
              1,
              "#f0f921"
             ]
            ],
            "type": "histogram2dcontour"
           }
          ],
          "mesh3d": [
           {
            "colorbar": {
             "outlinewidth": 0,
             "ticks": ""
            },
            "type": "mesh3d"
           }
          ],
          "parcoords": [
           {
            "line": {
             "colorbar": {
              "outlinewidth": 0,
              "ticks": ""
             }
            },
            "type": "parcoords"
           }
          ],
          "pie": [
           {
            "automargin": true,
            "type": "pie"
           }
          ],
          "scatter": [
           {
            "fillpattern": {
             "fillmode": "overlay",
             "size": 10,
             "solidity": 0.2
            },
            "type": "scatter"
           }
          ],
          "scatter3d": [
           {
            "line": {
             "colorbar": {
              "outlinewidth": 0,
              "ticks": ""
             }
            },
            "marker": {
             "colorbar": {
              "outlinewidth": 0,
              "ticks": ""
             }
            },
            "type": "scatter3d"
           }
          ],
          "scattercarpet": [
           {
            "marker": {
             "colorbar": {
              "outlinewidth": 0,
              "ticks": ""
             }
            },
            "type": "scattercarpet"
           }
          ],
          "scattergeo": [
           {
            "marker": {
             "colorbar": {
              "outlinewidth": 0,
              "ticks": ""
             }
            },
            "type": "scattergeo"
           }
          ],
          "scattergl": [
           {
            "marker": {
             "colorbar": {
              "outlinewidth": 0,
              "ticks": ""
             }
            },
            "type": "scattergl"
           }
          ],
          "scattermapbox": [
           {
            "marker": {
             "colorbar": {
              "outlinewidth": 0,
              "ticks": ""
             }
            },
            "type": "scattermapbox"
           }
          ],
          "scatterpolar": [
           {
            "marker": {
             "colorbar": {
              "outlinewidth": 0,
              "ticks": ""
             }
            },
            "type": "scatterpolar"
           }
          ],
          "scatterpolargl": [
           {
            "marker": {
             "colorbar": {
              "outlinewidth": 0,
              "ticks": ""
             }
            },
            "type": "scatterpolargl"
           }
          ],
          "scatterternary": [
           {
            "marker": {
             "colorbar": {
              "outlinewidth": 0,
              "ticks": ""
             }
            },
            "type": "scatterternary"
           }
          ],
          "surface": [
           {
            "colorbar": {
             "outlinewidth": 0,
             "ticks": ""
            },
            "colorscale": [
             [
              0,
              "#0d0887"
             ],
             [
              0.1111111111111111,
              "#46039f"
             ],
             [
              0.2222222222222222,
              "#7201a8"
             ],
             [
              0.3333333333333333,
              "#9c179e"
             ],
             [
              0.4444444444444444,
              "#bd3786"
             ],
             [
              0.5555555555555556,
              "#d8576b"
             ],
             [
              0.6666666666666666,
              "#ed7953"
             ],
             [
              0.7777777777777778,
              "#fb9f3a"
             ],
             [
              0.8888888888888888,
              "#fdca26"
             ],
             [
              1,
              "#f0f921"
             ]
            ],
            "type": "surface"
           }
          ],
          "table": [
           {
            "cells": {
             "fill": {
              "color": "#EBF0F8"
             },
             "line": {
              "color": "white"
             }
            },
            "header": {
             "fill": {
              "color": "#C8D4E3"
             },
             "line": {
              "color": "white"
             }
            },
            "type": "table"
           }
          ]
         },
         "layout": {
          "annotationdefaults": {
           "arrowcolor": "#2a3f5f",
           "arrowhead": 0,
           "arrowwidth": 1
          },
          "autotypenumbers": "strict",
          "coloraxis": {
           "colorbar": {
            "outlinewidth": 0,
            "ticks": ""
           }
          },
          "colorscale": {
           "diverging": [
            [
             0,
             "#8e0152"
            ],
            [
             0.1,
             "#c51b7d"
            ],
            [
             0.2,
             "#de77ae"
            ],
            [
             0.3,
             "#f1b6da"
            ],
            [
             0.4,
             "#fde0ef"
            ],
            [
             0.5,
             "#f7f7f7"
            ],
            [
             0.6,
             "#e6f5d0"
            ],
            [
             0.7,
             "#b8e186"
            ],
            [
             0.8,
             "#7fbc41"
            ],
            [
             0.9,
             "#4d9221"
            ],
            [
             1,
             "#276419"
            ]
           ],
           "sequential": [
            [
             0,
             "#0d0887"
            ],
            [
             0.1111111111111111,
             "#46039f"
            ],
            [
             0.2222222222222222,
             "#7201a8"
            ],
            [
             0.3333333333333333,
             "#9c179e"
            ],
            [
             0.4444444444444444,
             "#bd3786"
            ],
            [
             0.5555555555555556,
             "#d8576b"
            ],
            [
             0.6666666666666666,
             "#ed7953"
            ],
            [
             0.7777777777777778,
             "#fb9f3a"
            ],
            [
             0.8888888888888888,
             "#fdca26"
            ],
            [
             1,
             "#f0f921"
            ]
           ],
           "sequentialminus": [
            [
             0,
             "#0d0887"
            ],
            [
             0.1111111111111111,
             "#46039f"
            ],
            [
             0.2222222222222222,
             "#7201a8"
            ],
            [
             0.3333333333333333,
             "#9c179e"
            ],
            [
             0.4444444444444444,
             "#bd3786"
            ],
            [
             0.5555555555555556,
             "#d8576b"
            ],
            [
             0.6666666666666666,
             "#ed7953"
            ],
            [
             0.7777777777777778,
             "#fb9f3a"
            ],
            [
             0.8888888888888888,
             "#fdca26"
            ],
            [
             1,
             "#f0f921"
            ]
           ]
          },
          "colorway": [
           "#636efa",
           "#EF553B",
           "#00cc96",
           "#ab63fa",
           "#FFA15A",
           "#19d3f3",
           "#FF6692",
           "#B6E880",
           "#FF97FF",
           "#FECB52"
          ],
          "font": {
           "color": "#2a3f5f"
          },
          "geo": {
           "bgcolor": "white",
           "lakecolor": "white",
           "landcolor": "#E5ECF6",
           "showlakes": true,
           "showland": true,
           "subunitcolor": "white"
          },
          "hoverlabel": {
           "align": "left"
          },
          "hovermode": "closest",
          "mapbox": {
           "style": "light"
          },
          "paper_bgcolor": "white",
          "plot_bgcolor": "#E5ECF6",
          "polar": {
           "angularaxis": {
            "gridcolor": "white",
            "linecolor": "white",
            "ticks": ""
           },
           "bgcolor": "#E5ECF6",
           "radialaxis": {
            "gridcolor": "white",
            "linecolor": "white",
            "ticks": ""
           }
          },
          "scene": {
           "xaxis": {
            "backgroundcolor": "#E5ECF6",
            "gridcolor": "white",
            "gridwidth": 2,
            "linecolor": "white",
            "showbackground": true,
            "ticks": "",
            "zerolinecolor": "white"
           },
           "yaxis": {
            "backgroundcolor": "#E5ECF6",
            "gridcolor": "white",
            "gridwidth": 2,
            "linecolor": "white",
            "showbackground": true,
            "ticks": "",
            "zerolinecolor": "white"
           },
           "zaxis": {
            "backgroundcolor": "#E5ECF6",
            "gridcolor": "white",
            "gridwidth": 2,
            "linecolor": "white",
            "showbackground": true,
            "ticks": "",
            "zerolinecolor": "white"
           }
          },
          "shapedefaults": {
           "line": {
            "color": "#2a3f5f"
           }
          },
          "ternary": {
           "aaxis": {
            "gridcolor": "white",
            "linecolor": "white",
            "ticks": ""
           },
           "baxis": {
            "gridcolor": "white",
            "linecolor": "white",
            "ticks": ""
           },
           "bgcolor": "#E5ECF6",
           "caxis": {
            "gridcolor": "white",
            "linecolor": "white",
            "ticks": ""
           }
          },
          "title": {
           "x": 0.05
          },
          "xaxis": {
           "automargin": true,
           "gridcolor": "white",
           "linecolor": "white",
           "ticks": "",
           "title": {
            "standoff": 15
           },
           "zerolinecolor": "white",
           "zerolinewidth": 2
          },
          "yaxis": {
           "automargin": true,
           "gridcolor": "white",
           "linecolor": "white",
           "ticks": "",
           "title": {
            "standoff": 15
           },
           "zerolinecolor": "white",
           "zerolinewidth": 2
          }
         }
        },
        "title": {
         "text": "Study Duration by Condition and Funder Type"
        },
        "updatemenus": [
         {
          "buttons": [
           {
            "args": [
             {
              "visible": [
               true,
               false,
               false,
               false
              ]
             }
            ],
            "label": "Network",
            "method": "update"
           },
           {
            "args": [
             {
              "visible": [
               false,
               true,
               false,
               false
              ]
             }
            ],
            "label": "Industry",
            "method": "update"
           },
           {
            "args": [
             {
              "visible": [
               false,
               false,
               true,
               false
              ]
             }
            ],
            "label": "NIH",
            "method": "update"
           },
           {
            "args": [
             {
              "visible": [
               false,
               false,
               false,
               true
              ]
             }
            ],
            "label": "Other",
            "method": "update"
           },
           {
            "args": [
             {
              "visible": [
               true,
               true,
               true,
               true
              ]
             }
            ],
            "label": "All",
            "method": "update"
           }
          ],
          "direction": "down",
          "showactive": true,
          "type": "dropdown"
         }
        ],
        "xaxis": {
         "anchor": "y",
         "domain": [
          0,
          1
         ],
         "gridcolor": "LightGrey",
         "showgrid": true,
         "title": {
          "text": "Major Condition"
         }
        },
        "yaxis": {
         "anchor": "x",
         "domain": [
          0,
          1
         ],
         "gridcolor": "LightGrey",
         "showgrid": true,
         "title": {
          "text": "Duration (Days)"
         }
        }
       }
      },
      "text/html": [
       "<div>                            <div id=\"33079d38-b22d-45ff-8f80-f4a68891bb31\" class=\"plotly-graph-div\" style=\"height:525px; width:100%;\"></div>            <script type=\"text/javascript\">                require([\"plotly\"], function(Plotly) {                    window.PLOTLYENV=window.PLOTLYENV || {};                                    if (document.getElementById(\"33079d38-b22d-45ff-8f80-f4a68891bb31\")) {                    Plotly.newPlot(                        \"33079d38-b22d-45ff-8f80-f4a68891bb31\",                        [{\"alignmentgroup\":\"True\",\"hovertemplate\":\"Funder Type=OTHER<br>Major Condition=%{x}<br>Duration (Days)=%{y}<extra></extra>\",\"legendgroup\":\"OTHER\",\"marker\":{\"color\":\"#636efa\"},\"name\":\"OTHER\",\"notched\":false,\"offsetgroup\":\"OTHER\",\"orientation\":\"v\",\"showlegend\":true,\"x\":[\"Other\",\"Other\",\"Other\",\"Other\",\"Blood Cancer\",\"Lung Cancer\",\"breast Cancer\",\"breast Cancer\",\"Prostate Cancer\",\"Prostate Cancer\",\"Prostate Cancer\",\"Prostate Cancer\",\"Lung Cancer\",\"Lung Cancer\",\"Lung Cancer\",\"Lung Cancer\",\"Lung Cancer\",\"Blood Cancer\",\"Lung Cancer\",\"Lung Cancer\",\"Other\",\"Other\",\"Brain Cancer\",\"Brain Cancer\",\"Brain Cancer\",\"Other\",\"breast Cancer\",\"Other\",\"Other\",\"Other\",\"Other\",\"Blood Cancer\",\"Blood Cancer\",\"Blood Cancer\",\"Blood Cancer\",\"Other\",\"Lung Cancer\",\"Lung Cancer\",\"Lung Cancer\",\"Lung Cancer\",\"Blood Cancer\",\"Blood Cancer\",\"Other\",\"Other\",\"Other\",\"Other\",\"Other\",\"Other\",\"Other\",\"Brain Cancer\",\"Brain Cancer\",\"Brain Cancer\",\"Brain Cancer\",\"Brain Cancer\",\"Brain Cancer\",\"Brain Cancer\",\"Brain Cancer\",\"Blood Cancer\",\"Blood Cancer\",\"Blood Cancer\",\"Blood Cancer\",\"Blood Cancer\",\"Blood Cancer\",\"Blood Cancer\",\"Other\",\"Other\",\"Other\",\"Other\",\"Other\",\"Other\",\"Other\",\"Other\",\"Blood Cancer\",\"Blood Cancer\",\"Lung Cancer\",\"Lung Cancer\",\"Other\",\"Blood Cancer\",\"Blood Cancer\",\"Other\",\"Other\",\"Other\",\"Other\",\"Other\",\"Lung Cancer\",\"Lung Cancer\",\"Lung Cancer\",\"Lung Cancer\",\"Lung Cancer\",\"Lung Cancer\",\"Lung Cancer\",\"Lung Cancer\",\"Other\",\"Other\",\"Blood Cancer\",\"Blood Cancer\",\"Blood Cancer\",\"Other\",\"Other\",\"Other\",\"Other\",\"Other\",\"Other\",\"Other\",\"Other\",\"Other\",\"Other\",\"Blood Cancer\",\"Blood Cancer\",\"Blood Cancer\",\"Prostate Cancer\",\"Prostate Cancer\",\"liver Cancer\",\"Lung Cancer\",\"Lung Cancer\",\"Other\",\"Other\",\"Lung Cancer\",\"Lung Cancer\",\"Lung Cancer\",\"Lung Cancer\",\"Blood Cancer\",\"Blood Cancer\",\"Blood Cancer\",\"Blood Cancer\",\"Blood Cancer\",\"Blood Cancer\",\"Prostate Cancer\",\"Prostate Cancer\",\"Other\",\"Lung Cancer\",\"Lung Cancer\",\"Lung Cancer\",\"Lung Cancer\",\"Other\",\"Pancreatic Cancer\",\"Lung Cancer\",\"Lung Cancer\",\"Blood Cancer\",\"Blood Cancer\",\"liver Cancer\",\"liver Cancer\",\"liver Cancer\",\"liver Cancer\",\"Lung Cancer\",\"Lung Cancer\",\"Lung Cancer\",\"breast Cancer\",\"breast Cancer\",\"Other\",\"Other\",\"Blood Cancer\",\"Blood Cancer\",\"Blood Cancer\",\"Blood Cancer\",\"Blood Cancer\",\"Blood Cancer\",\"Blood Cancer\",\"Blood Cancer\",\"Other\",\"Other\",\"Other\",\"Other\",\"Other\",\"Other\",\"Other\",\"Other\",\"Other\",\"Other\",\"Brain Cancer\",\"Brain Cancer\",\"Lung Cancer\",\"Lung Cancer\",\"Lung Cancer\",\"Lung Cancer\",\"Lung Cancer\",\"Other\",\"Other\",\"Other\",\"Other\",\"Blood Cancer\",\"Blood Cancer\",\"Lung Cancer\",\"Other\",\"Brain Cancer\",\"Brain Cancer\",\"Blood Cancer\",\"Blood Cancer\",\"Blood Cancer\",\"Blood Cancer\",\"Blood Cancer\",\"Blood Cancer\",\"Prostate Cancer\",\"Lung Cancer\",\"breast Cancer\",\"breast Cancer\",\"Prostate Cancer\",\"Prostate Cancer\",\"liver Cancer\",\"liver Cancer\",\"liver Cancer\",\"Other\",\"Other\",\"Other\",\"Other\",\"Other\",\"Other\",\"Other\",\"Blood Cancer\",\"Other\",\"Other\",\"Brain Cancer\",\"Blood Cancer\",\"Blood Cancer\",\"Blood Cancer\",\"Blood Cancer\",\"Other\",\"breast Cancer\",\"breast Cancer\",\"Blood Cancer\",\"Blood Cancer\",\"Other\",\"Lung Cancer\",\"Lung Cancer\",\"Lung Cancer\",\"Other\",\"Other\",\"Other\",\"Other\",\"Other\",\"Other\",\"Other\",\"Other\",\"Brain Cancer\",\"Brain Cancer\",\"Brain Cancer\",\"Lung Cancer\",\"Lung Cancer\",\"Lung Cancer\",\"Lung Cancer\",\"Lung Cancer\",\"Lung Cancer\",\"kidney Cancer\",\"kidney Cancer\",\"kidney Cancer\",\"kidney Cancer\",\"Blood Cancer\",\"Other\",\"Lung Cancer\",\"Lung Cancer\",\"Lung Cancer\",\"Blood Cancer\",\"Blood Cancer\",\"Other\",\"Other\",\"Other\",\"Other\",\"Other\",\"liver Cancer\",\"liver Cancer\",\"Other\",\"Other\",\"Other\",\"kidney Cancer\",\"kidney Cancer\",\"Other\",\"Other\",\"Other\",\"Other\",\"Other\",\"Brain Cancer\",\"Brain Cancer\",\"Brain Cancer\",\"Blood Cancer\",\"Blood Cancer\",\"Blood Cancer\",\"Other\",\"Other\",\"breast Cancer\",\"Lung Cancer\",\"Lung Cancer\",\"Lung Cancer\",\"Lung Cancer\",\"Lung Cancer\",\"Lung Cancer\",\"Lung Cancer\",\"Lung Cancer\",\"Blood Cancer\",\"Blood Cancer\",\"Other\",\"Other\",\"Other\",\"Blood Cancer\",\"Blood Cancer\",\"Blood Cancer\",\"Lung Cancer\",\"Lung Cancer\",\"Other\",\"Other\",\"Lung Cancer\",\"liver Cancer\",\"Other\",\"Other\",\"Other\",\"Other\",\"Other\",\"Lung Cancer\",\"Lung Cancer\",\"Other\",\"Other\",\"Other\",\"Other\",\"Other\",\"Other\",\"Other\",\"breast Cancer\",\"Blood Cancer\",\"Blood Cancer\",\"Blood Cancer\",\"breast Cancer\",\"breast Cancer\",\"Blood Cancer\",\"Blood Cancer\",\"Blood Cancer\",\"Other\",\"Other\",\"Other\",\"Blood Cancer\",\"Other\",\"Other\",\"Other\",\"Brain Cancer\",\"Brain Cancer\",\"Lung Cancer\",\"Lung Cancer\",\"Brain Cancer\",\"Brain Cancer\",\"Brain Cancer\",\"Brain Cancer\",\"Brain Cancer\",\"Other\",\"Other\",\"Other\",\"liver Cancer\",\"liver Cancer\",\"liver Cancer\",\"Other\",\"Other\",\"Other\",\"Lung Cancer\",\"Lung Cancer\",\"Lung Cancer\",\"Lung Cancer\",\"Prostate Cancer\",\"Blood Cancer\",\"Blood Cancer\",\"Blood Cancer\",\"Other\",\"Other\",\"Other\",\"Other\",\"Other\",\"Other\",\"Blood Cancer\",\"Blood Cancer\",\"Blood Cancer\",\"Blood Cancer\",\"Blood Cancer\",\"Blood Cancer\",\"Blood Cancer\",\"Blood Cancer\",\"Blood Cancer\",\"Blood Cancer\",\"Blood Cancer\",\"Blood Cancer\",\"Brain Cancer\",\"Brain Cancer\",\"Blood Cancer\",\"Blood Cancer\",\"Blood Cancer\",\"Lung Cancer\",\"Lung Cancer\",\"Lung Cancer\",\"Prostate Cancer\",\"Blood Cancer\",\"Blood Cancer\",\"Blood Cancer\",\"Lung Cancer\",\"Other\",\"Other\",\"Other\",\"Other\",\"Lung Cancer\",\"Lung Cancer\",\"Lung Cancer\",\"Lung Cancer\",\"Lung Cancer\",\"Lung Cancer\",\"Lung Cancer\",\"Lung Cancer\",\"Lung Cancer\",\"Lung Cancer\",\"Blood Cancer\",\"Blood Cancer\",\"Blood Cancer\",\"Blood Cancer\",\"Lung Cancer\",\"Blood Cancer\",\"Blood Cancer\",\"Blood Cancer\",\"Blood Cancer\",\"Blood Cancer\",\"Blood Cancer\",\"Blood Cancer\",\"Blood Cancer\",\"Blood Cancer\",\"Brain Cancer\",\"Other\",\"Other\",\"Other\",\"Other\",\"Pancreatic Cancer\",\"Brain Cancer\",\"Brain Cancer\",\"Brain Cancer\",\"Brain Cancer\",\"Other\",\"Other\",\"Lung Cancer\",\"Lung Cancer\",\"Lung Cancer\",\"Lung Cancer\",\"Lung Cancer\",\"Lung Cancer\",\"Lung Cancer\",\"Lung Cancer\",\"Lung Cancer\",\"Lung Cancer\",\"Lung Cancer\",\"Blood Cancer\",\"Blood Cancer\",\"Blood Cancer\",\"Blood Cancer\",\"Blood Cancer\",\"Other\",\"Other\",\"Lung Cancer\",\"Lung Cancer\",\"Lung Cancer\",\"Blood Cancer\",\"Blood Cancer\",\"Blood Cancer\",\"kidney Cancer\",\"kidney Cancer\",\"Prostate Cancer\",\"Prostate Cancer\",\"Other\",\"Blood Cancer\",\"Blood Cancer\",\"Blood Cancer\",\"Blood Cancer\",\"Lung Cancer\",\"Lung Cancer\",\"Lung Cancer\",\"Lung Cancer\",\"Brain Cancer\",\"Brain Cancer\",\"Brain Cancer\",\"Blood Cancer\",\"Lung Cancer\",\"Lung Cancer\",\"Lung Cancer\",\"Other\",\"Other\",\"Blood Cancer\",\"Blood Cancer\",\"Lung Cancer\",\"Lung Cancer\",\"Lung Cancer\",\"Lung Cancer\",\"Blood Cancer\",\"Blood Cancer\",\"Blood Cancer\",\"Blood Cancer\",\"Blood Cancer\",\"Blood Cancer\",\"kidney Cancer\",\"kidney Cancer\",\"kidney Cancer\",\"Other\",\"Other\",\"Other\",\"Other\",\"Other\",\"Other\",\"Other\",\"Other\",\"Other\",\"Prostate Cancer\",\"Prostate Cancer\",\"Prostate Cancer\",\"Other\",\"Prostate Cancer\",\"Other\",\"Other\",\"Other\",\"Other\",\"Pancreatic Cancer\",\"Blood Cancer\",\"Blood Cancer\",\"Blood Cancer\",\"kidney Cancer\",\"Blood Cancer\",\"Blood Cancer\",\"Other\",\"Prostate Cancer\",\"Prostate Cancer\",\"Blood Cancer\",\"Blood Cancer\",\"Blood Cancer\",\"Blood Cancer\",\"Blood Cancer\",\"Blood Cancer\",\"Other\",\"Other\",\"Blood Cancer\",\"Blood Cancer\",\"Other\",\"Other\",\"Blood Cancer\",\"Blood Cancer\",\"Blood Cancer\",\"Blood Cancer\",\"Blood Cancer\",\"Blood Cancer\",\"Blood Cancer\",\"Blood Cancer\",\"Other\",\"Other\",\"Lung Cancer\",\"Blood Cancer\",\"Blood Cancer\",\"Other\",\"Other\",\"Other\",\"Other\",\"Other\",\"Blood Cancer\",\"Blood Cancer\",\"Blood Cancer\",\"Blood Cancer\",\"Other\",\"Other\",\"Other\",\"Other\",\"Lung Cancer\",\"Other\",\"Other\",\"Prostate Cancer\",\"Other\",\"Other\",\"Other\",\"Other\",\"Other\",\"Other\",\"Other\",\"Other\",\"Other\",\"Other\",\"Other\",\"Other\",\"Other\",\"Other\",\"Blood Cancer\",\"Blood Cancer\",\"Other\",\"Other\",\"breast Cancer\",\"breast Cancer\",\"Lung Cancer\",\"Lung Cancer\",\"Lung Cancer\",\"Blood Cancer\",\"Other\",\"Other\",\"Lymphoma Cancer\",\"Lymphoma Cancer\",\"Lung Cancer\",\"Blood Cancer\",\"Blood Cancer\",\"Blood Cancer\",\"Blood Cancer\",\"Other\",\"Other\",\"Other\",\"Other\",\"Lung Cancer\",\"Lung Cancer\",\"Lung Cancer\",\"Lung Cancer\",\"Lung Cancer\",\"Blood Cancer\",\"Blood Cancer\",\"Blood Cancer\",\"Other\",\"Other\",\"Other\",\"Lung Cancer\",\"Lung Cancer\",\"Lung Cancer\",\"Lung Cancer\",\"Lung Cancer\",\"Lung Cancer\",\"Lung Cancer\",\"Lung Cancer\",\"Other\",\"Lung Cancer\",\"Lung Cancer\",\"Lung Cancer\",\"Lung Cancer\",\"Other\",\"Other\",\"Other\",\"kidney Cancer\",\"Other\",\"Other\",\"Other\",\"Blood Cancer\",\"Other\",\"Lung Cancer\",\"Lung Cancer\",\"Blood Cancer\",\"Blood Cancer\",\"Prostate Cancer\",\"Lung Cancer\",\"Other\",\"Other\",\"Other\",\"Other\",\"Blood Cancer\",\"Blood Cancer\",\"Blood Cancer\",\"Blood Cancer\",\"Blood Cancer\",\"Blood Cancer\",\"Blood Cancer\",\"Blood Cancer\",\"Blood Cancer\",\"Blood Cancer\",\"Blood Cancer\",\"Blood Cancer\",\"Other\",\"Other\",\"Other\",\"Lymphoma Cancer\",\"Lymphoma Cancer\",\"Lymphoma Cancer\",\"Other\",\"Other\",\"Brain Cancer\",\"Brain Cancer\",\"Brain Cancer\",\"Other\",\"Blood Cancer\",\"Blood Cancer\",\"Other\",\"Other\",\"Other\",\"Other\",\"Other\",\"Blood Cancer\",\"Blood Cancer\",\"Blood Cancer\",\"Blood Cancer\",\"Blood Cancer\",\"Blood Cancer\",\"Lung Cancer\",\"Lung Cancer\",\"Lung Cancer\",\"Lung Cancer\",\"Lung Cancer\",\"Blood Cancer\",\"Blood Cancer\",\"Blood Cancer\",\"Other\",\"Other\",\"Other\",\"Other\",\"liver Cancer\",\"liver Cancer\",\"Blood Cancer\",\"Blood Cancer\",\"Blood Cancer\",\"Blood Cancer\",\"Blood Cancer\",\"Blood Cancer\",\"Blood Cancer\",\"Blood Cancer\",\"Other\",\"Blood Cancer\",\"Blood Cancer\",\"Blood Cancer\",\"Blood Cancer\",\"Pancreatic Cancer\",\"Pancreatic Cancer\",\"Blood Cancer\",\"Lung Cancer\",\"Lung Cancer\",\"Blood Cancer\",\"Brain Cancer\",\"Brain Cancer\",\"breast Cancer\",\"breast Cancer\",\"breast Cancer\",\"breast Cancer\",\"Blood Cancer\",\"Blood Cancer\",\"Lung Cancer\",\"Lung Cancer\",\"Lung Cancer\",\"Lung Cancer\",\"liver Cancer\",\"Other\",\"Other\",\"Blood Cancer\",\"Other\",\"Other\",\"breast Cancer\",\"breast Cancer\",\"Blood Cancer\",\"Blood Cancer\",\"Blood Cancer\",\"Blood Cancer\",\"Lung Cancer\",\"Lung Cancer\",\"Lung Cancer\",\"Lung Cancer\",\"Lung Cancer\",\"Lung Cancer\",\"Lung Cancer\",\"Lung Cancer\",\"Other\",\"Other\",\"Other\",\"Other\",\"Other\",\"Other\",\"Other\",\"Other\",\"Other\",\"Lung Cancer\",\"Other\",\"Other\",\"Other\",\"Pancreatic Cancer\",\"Blood Cancer\",\"Blood Cancer\",\"Blood Cancer\",\"Prostate Cancer\",\"Other\",\"Other\",\"breast Cancer\",\"Blood Cancer\",\"Blood Cancer\",\"Other\",\"Prostate Cancer\",\"Prostate Cancer\",\"Prostate Cancer\",\"Other\",\"Other\",\"Prostate Cancer\",\"Prostate Cancer\",\"breast Cancer\",\"breast Cancer\",\"Other\",\"Other\",\"Other\",\"Other\",\"Other\",\"Other\",\"breast Cancer\",\"breast Cancer\",\"breast Cancer\",\"breast Cancer\",\"Blood Cancer\",\"Blood Cancer\",\"Blood Cancer\",\"Blood Cancer\",\"Other\",\"Other\",\"Other\",\"Other\",\"Other\",\"Other\"],\"x0\":\" \",\"xaxis\":\"x\",\"y\":[1255,1255,1255,1255,1385,964,1835,1835,1569,1569,1569,1569,1129,1129,1129,1129,1129,253,295,295,1110,1607,1202,1202,1202,328,374,1810,1810,1810,1810,938,938,938,938,3597,4379,4379,4379,4379,1724,1724,1748,1748,1748,1748,2448,2448,2448,2093,2093,2093,2093,2093,2093,2093,2093,1803,1803,1803,1803,1120,1120,1120,1404,1404,1404,1404,1404,1404,2078,2078,3039,3039,1184,1184,1360,2400,2400,2550,2550,2550,1312,1312,1614,1614,1246,1246,2673,2673,2673,2673,1465,1465,736,736,736,1138,1138,1138,1138,1138,1138,1138,1138,1138,1138,2723,2723,2723,1238,1238,1812,2022,2022,1307,1307,2659,2659,2659,2659,1861,1861,1861,1861,1861,1861,1628,1628,1886,2236,2236,2236,2236,621,1363,1380,1380,1800,1800,878,878,878,878,1666,1208,1208,1980,1980,1946,1946,1254,1254,1254,1254,1840,1840,1840,1840,2899,2899,2899,2899,2899,2899,1201,497,497,497,1286,1286,2897,2897,1750,1750,1750,2947,2947,2947,2947,1326,1326,2167,1096,2071,2071,1500,1500,1500,1500,1014,1014,596,1744,1817,1817,839,839,1228,1228,1228,2997,2997,591,591,591,591,591,1534,965,965,1529,1068,1068,2922,2922,1703,504,504,3512,3512,1672,1971,1971,1971,5479,5479,5479,5479,5479,5479,5479,5479,4265,4265,4265,330,330,1442,1442,1442,1442,677,677,677,677,1148,1659,947,947,947,1182,1182,578,578,578,1918,1918,2374,2374,571,223,223,1495,1495,1144,1144,922,1365,1365,1182,1182,1182,2016,2016,2016,1681,1681,2260,1866,1866,1866,1866,1866,1866,1866,1866,1502,1502,1378,1378,1378,1406,1406,1406,2361,2361,671,671,1888,159,453,453,453,453,503,1489,1489,2397,2397,1248,1248,1248,226,226,2533,3193,3193,3193,1179,1179,2511,2511,2511,1118,1445,1445,1335,1978,1978,1978,995,995,2564,2564,1096,1096,1096,1525,1525,2595,1966,1966,2499,2499,2499,2331,2331,2331,1392,1392,1392,1392,1587,1574,1574,1574,293,293,1888,1888,1521,1521,1519,1519,1519,378,378,378,1135,1135,1135,1893,1893,1893,971,971,883,883,3116,2053,2053,1369,2152,2432,2432,2432,513,1948,1948,945,945,2685,2685,2685,2685,2685,2685,2685,2685,2685,2685,2022,2022,2022,2022,274,1378,1378,1378,1378,1378,655,655,997,997,2098,1832,1832,2267,2267,839,1264,1264,1264,1264,914,1659,1659,2627,2202,2202,2202,2202,1996,1996,1372,1372,2957,729,2227,2227,2227,2227,1427,1427,35,35,35,375,375,375,3425,3425,1622,1622,1572,1569,1569,1569,1569,1819,1819,1819,1819,3220,3220,3220,2312,2395,2395,930,887,1080,966,966,1404,1404,1404,1404,2315,2315,2315,2315,2315,2315,1505,1505,1505,1511,1511,3006,3006,2558,2551,2551,2551,1618,2635,2058,2058,2789,1043,1349,1349,1372,1372,1140,2828,2828,2828,934,1771,1771,1700,1942,1942,1875,1875,4008,4008,4008,4008,635,1848,2767,2767,2649,2649,1309,1309,1309,1309,1309,771,771,771,2191,2191,892,1639,1639,1960,1960,1742,1742,1742,1706,1706,2024,2024,1303,1303,1303,1303,1078,2734,2734,1230,4087,4087,4087,4087,1035,1035,1343,1343,1343,1343,1343,1343,1343,1343,2956,2956,2002,2002,2635,2635,2385,2385,2385,1997,504,504,3163,3163,1614,3343,3343,3086,3086,1660,1660,1660,1660,1853,1853,1853,1853,513,1724,1724,1023,1170,1170,1170,1693,1693,1693,515,515,1627,1627,1627,903,4147,4147,4147,4147,1239,1239,1239,1121,2057,2949,2949,1851,1936,2609,2609,1093,1093,2377,695,1443,1443,1443,1346,2574,2574,742,742,1655,1655,3501,3501,3501,3501,3501,3501,240,240,1549,2069,2069,2069,2884,2884,1324,1324,1324,1063,1947,1947,908,659,659,659,659,2793,2793,2793,2793,2793,2793,9644,9644,9644,9644,9644,1359,1359,1359,981,981,981,981,778,778,1203,1203,706,706,706,706,706,706,2878,952,952,952,952,1552,1552,832,203,203,1164,1197,1197,3090,3090,3090,3090,696,696,2472,2472,2472,2472,1001,660,660,1231,1582,1582,3465,3465,2381,2381,2381,2381,1767,1767,1767,1767,1767,1767,1767,1767,3307,3307,1406,1367,1367,4158,4158,4158,4158,1014,1040,2261,2842,433,1169,1169,1169,1706,2614,2614,1568,1217,1217,381,1902,1902,1902,2709,2709,1960,1960,2120,2120,1753,1753,1753,1753,1753,1753,848,2833,2833,2833,2533,2533,2533,2533,2141,2141,2141,2141,2141,2141],\"y0\":\" \",\"yaxis\":\"y\",\"type\":\"box\"},{\"alignmentgroup\":\"True\",\"hovertemplate\":\"Funder Type=NIH<br>Major Condition=%{x}<br>Duration (Days)=%{y}<extra></extra>\",\"legendgroup\":\"NIH\",\"marker\":{\"color\":\"#EF553B\"},\"name\":\"NIH\",\"notched\":false,\"offsetgroup\":\"NIH\",\"orientation\":\"v\",\"showlegend\":true,\"x\":[\"Prostate Cancer\",\"Lung Cancer\",\"Lung Cancer\",\"Lung Cancer\",\"Lung Cancer\",\"Lung Cancer\",\"Lung Cancer\",\"Lung Cancer\",\"Lung Cancer\",\"Lung Cancer\",\"Lung Cancer\",\"Brain Cancer\",\"Brain Cancer\",\"Lung Cancer\",\"Lung Cancer\",\"Lung Cancer\",\"Lung Cancer\",\"Blood Cancer\",\"breast Cancer\",\"Brain Cancer\",\"Brain Cancer\",\"Blood Cancer\",\"Blood Cancer\",\"Brain Cancer\",\"Brain Cancer\",\"Brain Cancer\",\"Brain Cancer\",\"Other\",\"Other\",\"Other\",\"Other\",\"Blood Cancer\",\"Blood Cancer\",\"Other\",\"Other\",\"Other\",\"Other\",\"Prostate Cancer\",\"Prostate Cancer\",\"Other\",\"Brain Cancer\",\"Blood Cancer\",\"Blood Cancer\",\"Other\",\"Other\",\"Other\",\"Other\",\"Other\",\"Other\",\"Lung Cancer\",\"Lung Cancer\",\"Lung Cancer\",\"Lung Cancer\",\"Lung Cancer\",\"Lung Cancer\",\"Blood Cancer\",\"Brain Cancer\",\"Brain Cancer\",\"Brain Cancer\",\"Blood Cancer\",\"Blood Cancer\",\"Other\",\"Other\",\"Lung Cancer\",\"Lung Cancer\",\"Lung Cancer\",\"Lung Cancer\",\"Lung Cancer\",\"Lung Cancer\",\"Other\",\"Other\",\"Other\",\"Other\",\"Other\",\"Other\",\"Other\",\"Other\",\"Other\",\"Other\",\"Other\",\"Other\",\"kidney Cancer\",\"kidney Cancer\",\"Blood Cancer\",\"Blood Cancer\",\"Lung Cancer\",\"Lung Cancer\",\"Lung Cancer\",\"Lung Cancer\",\"Lung Cancer\",\"Blood Cancer\",\"Blood Cancer\",\"Blood Cancer\",\"Blood Cancer\",\"Other\",\"Other\",\"Brain Cancer\",\"Brain Cancer\",\"Other\",\"Other\",\"Prostate Cancer\",\"kidney Cancer\",\"kidney Cancer\",\"liver Cancer\",\"liver Cancer\",\"liver Cancer\",\"liver Cancer\",\"Lung Cancer\",\"Lung Cancer\",\"Other\",\"Other\",\"Other\",\"Other\",\"Brain Cancer\",\"Brain Cancer\",\"Brain Cancer\",\"Brain Cancer\",\"Brain Cancer\",\"Brain Cancer\",\"Brain Cancer\",\"Brain Cancer\",\"Brain Cancer\",\"Brain Cancer\",\"Lung Cancer\",\"Lung Cancer\",\"Lung Cancer\",\"Lung Cancer\",\"Lung Cancer\",\"Lung Cancer\",\"Other\",\"Blood Cancer\",\"Other\",\"Other\",\"Prostate Cancer\",\"Prostate Cancer\",\"Lung Cancer\",\"Lung Cancer\",\"Prostate Cancer\",\"Prostate Cancer\",\"Prostate Cancer\",\"Prostate Cancer\",\"Prostate Cancer\",\"Prostate Cancer\",\"Lung Cancer\",\"Lung Cancer\",\"Lung Cancer\",\"Lung Cancer\",\"Lung Cancer\",\"Brain Cancer\",\"Brain Cancer\",\"Lung Cancer\",\"Lung Cancer\",\"Blood Cancer\",\"Blood Cancer\",\"Blood Cancer\",\"Lung Cancer\",\"Lung Cancer\",\"Brain Cancer\",\"Brain Cancer\",\"Brain Cancer\",\"Brain Cancer\",\"Blood Cancer\",\"Blood Cancer\",\"Blood Cancer\",\"Other\",\"Other\",\"Other\",\"Other\",\"Other\",\"Other\",\"Other\",\"Other\",\"Other\",\"Other\",\"Other\",\"Other\",\"Lung Cancer\",\"Lung Cancer\",\"Lung Cancer\",\"Lung Cancer\",\"Lung Cancer\",\"Other\",\"breast Cancer\",\"breast Cancer\",\"breast Cancer\",\"breast Cancer\",\"Brain Cancer\",\"Brain Cancer\",\"Other\",\"Other\",\"Other\",\"Other\",\"Other\",\"Lung Cancer\",\"Lung Cancer\",\"Blood Cancer\",\"Blood Cancer\",\"Blood Cancer\",\"Lung Cancer\",\"Lung Cancer\",\"Other\",\"Other\",\"Other\",\"kidney Cancer\",\"kidney Cancer\",\"Other\",\"Other\",\"Other\",\"Blood Cancer\",\"Blood Cancer\",\"Other\",\"Other\",\"Other\",\"Prostate Cancer\",\"Prostate Cancer\",\"Prostate Cancer\",\"Blood Cancer\",\"kidney Cancer\",\"kidney Cancer\",\"Other\",\"Lung Cancer\",\"Blood Cancer\",\"Blood Cancer\",\"Lung Cancer\",\"Lung Cancer\",\"Lung Cancer\",\"Other\",\"Prostate Cancer\",\"Blood Cancer\",\"Lung Cancer\",\"Lung Cancer\",\"Lung Cancer\",\"Lung Cancer\",\"Other\",\"Blood Cancer\",\"Blood Cancer\",\"Brain Cancer\",\"Brain Cancer\",\"Prostate Cancer\",\"Blood Cancer\",\"Blood Cancer\",\"Other\",\"Other\",\"Blood Cancer\",\"Other\",\"Blood Cancer\",\"Blood Cancer\",\"Blood Cancer\",\"Blood Cancer\",\"liver Cancer\",\"Blood Cancer\",\"Other\",\"Blood Cancer\",\"Prostate Cancer\",\"Prostate Cancer\",\"Other\",\"Lung Cancer\",\"Brain Cancer\",\"Brain Cancer\",\"Brain Cancer\",\"Lung Cancer\",\"Lung Cancer\",\"Pancreatic Cancer\",\"Pancreatic Cancer\",\"Lung Cancer\",\"Blood Cancer\",\"Blood Cancer\",\"Blood Cancer\",\"Blood Cancer\",\"Blood Cancer\",\"Lung Cancer\",\"Lung Cancer\",\"Lung Cancer\",\"Lung Cancer\",\"Lung Cancer\",\"Lung Cancer\",\"Blood Cancer\",\"Blood Cancer\",\"Brain Cancer\",\"Other\",\"Other\",\"Blood Cancer\",\"Blood Cancer\",\"Lung Cancer\",\"Brain Cancer\",\"Brain Cancer\",\"Brain Cancer\",\"Brain Cancer\",\"Blood Cancer\",\"Blood Cancer\",\"Other\",\"Other\",\"Other\",\"Other\",\"Lung Cancer\",\"Lung Cancer\",\"Blood Cancer\",\"Blood Cancer\",\"Lung Cancer\",\"Lung Cancer\",\"Lung Cancer\",\"Lung Cancer\",\"Other\",\"Other\",\"Other\",\"Lung Cancer\",\"Other\",\"Other\",\"Lung Cancer\",\"Lung Cancer\",\"breast Cancer\",\"breast Cancer\",\"liver Cancer\",\"liver Cancer\",\"Other\",\"Other\",\"Other\",\"Other\",\"kidney Cancer\",\"kidney Cancer\",\"kidney Cancer\",\"kidney Cancer\",\"liver Cancer\",\"liver Cancer\",\"kidney Cancer\",\"kidney Cancer\",\"Other\",\"Other\",\"Brain Cancer\",\"Brain Cancer\",\"Blood Cancer\",\"Blood Cancer\",\"Lung Cancer\",\"Lung Cancer\",\"Blood Cancer\",\"Blood Cancer\",\"Lymphoma Cancer\",\"Lymphoma Cancer\",\"Lymphoma Cancer\",\"Lymphoma Cancer\",\"Blood Cancer\",\"Blood Cancer\",\"Blood Cancer\",\"Blood Cancer\",\"Blood Cancer\",\"Lung Cancer\",\"Lung Cancer\",\"Other\",\"Other\",\"Blood Cancer\",\"Blood Cancer\",\"Other\",\"Blood Cancer\",\"Lung Cancer\",\"Lung Cancer\",\"Brain Cancer\",\"Brain Cancer\",\"Brain Cancer\",\"Other\",\"Other\",\"Other\",\"Other\",\"Blood Cancer\",\"Blood Cancer\",\"Other\",\"Other\",\"Other\",\"Lung Cancer\",\"Lung Cancer\",\"Lung Cancer\",\"Lung Cancer\",\"Lung Cancer\",\"Lung Cancer\",\"Other\",\"Other\",\"Other\",\"liver Cancer\",\"liver Cancer\",\"Blood Cancer\",\"Blood Cancer\",\"Lung Cancer\",\"Lung Cancer\",\"Other\",\"Other\",\"Other\",\"Other\",\"Other\",\"Lung Cancer\",\"Lung Cancer\",\"Lung Cancer\",\"Lung Cancer\",\"Brain Cancer\",\"Brain Cancer\",\"Lung Cancer\",\"Lung Cancer\",\"Lung Cancer\",\"Other\",\"Brain Cancer\",\"Brain Cancer\",\"kidney Cancer\",\"Lung Cancer\",\"Lung Cancer\",\"Lung Cancer\",\"Lung Cancer\",\"Lung Cancer\",\"Lung Cancer\",\"Lung Cancer\",\"Lung Cancer\",\"Lung Cancer\",\"Other\",\"Other\",\"Other\",\"Other\",\"Other\",\"Other\",\"Lung Cancer\",\"Lung Cancer\",\"Lung Cancer\",\"Blood Cancer\",\"Prostate Cancer\",\"Other\",\"Blood Cancer\",\"Blood Cancer\",\"Blood Cancer\",\"Blood Cancer\",\"Blood Cancer\",\"Brain Cancer\",\"Other\",\"Other\",\"Blood Cancer\",\"Blood Cancer\",\"Blood Cancer\",\"Blood Cancer\",\"Lung Cancer\",\"Lung Cancer\",\"Lung Cancer\",\"Lung Cancer\",\"Brain Cancer\",\"Brain Cancer\",\"Brain Cancer\",\"Blood Cancer\",\"Lung Cancer\",\"Lung Cancer\",\"Lung Cancer\",\"Lung Cancer\",\"Blood Cancer\",\"Blood Cancer\",\"Other\",\"Other\",\"Other\",\"Other\",\"Other\",\"kidney Cancer\",\"Lung Cancer\",\"Lung Cancer\",\"Lung Cancer\",\"Lung Cancer\",\"Lung Cancer\",\"Lung Cancer\",\"Lung Cancer\",\"Lung Cancer\",\"Other\",\"Other\",\"Other\",\"Other\",\"Other\",\"Other\",\"Other\",\"Other\",\"Other\",\"Other\",\"Other\",\"Other\",\"Other\",\"Blood Cancer\",\"Blood Cancer\",\"Blood Cancer\",\"Blood Cancer\",\"Blood Cancer\",\"Blood Cancer\",\"Other\",\"Other\",\"Other\",\"Other\",\"Other\",\"Other\",\"Blood Cancer\",\"liver Cancer\",\"liver Cancer\",\"Other\",\"Other\",\"Other\",\"Other\",\"Lung Cancer\",\"Lung Cancer\",\"Other\",\"Lung Cancer\",\"Lung Cancer\",\"Lung Cancer\",\"Lung Cancer\",\"Lung Cancer\",\"Lung Cancer\",\"Lung Cancer\",\"Other\",\"Other\",\"Other\",\"Other\",\"Other\",\"Other\",\"Lung Cancer\",\"Lung Cancer\",\"Other\",\"Other\",\"Other\",\"Other\",\"Brain Cancer\",\"Brain Cancer\",\"Other\",\"Other\",\"Other\",\"Other\",\"Other\",\"Other\",\"Other\",\"Prostate Cancer\",\"Lung Cancer\",\"Other\",\"Other\",\"Pancreatic Cancer\",\"Blood Cancer\",\"Other\",\"liver Cancer\",\"liver Cancer\",\"Blood Cancer\",\"Other\",\"Other\",\"Blood Cancer\",\"Pancreatic Cancer\",\"Pancreatic Cancer\",\"Other\",\"Prostate Cancer\",\"Prostate Cancer\",\"Blood Cancer\",\"Other\",\"Pancreatic Cancer\",\"Pancreatic Cancer\",\"Lung Cancer\",\"Blood Cancer\",\"Blood Cancer\",\"Other\",\"Other\",\"Blood Cancer\",\"Lung Cancer\",\"Lung Cancer\",\"Lung Cancer\",\"Other\",\"Other\",\"Other\",\"kidney Cancer\",\"kidney Cancer\",\"Other\",\"Other\",\"Lung Cancer\",\"Lung Cancer\",\"Brain Cancer\",\"Brain Cancer\",\"Brain Cancer\",\"Brain Cancer\",\"Blood Cancer\",\"Lung Cancer\",\"Lung Cancer\",\"Blood Cancer\",\"Blood Cancer\",\"Blood Cancer\",\"Blood Cancer\",\"Brain Cancer\"],\"x0\":\" \",\"xaxis\":\"x\",\"y\":[798,1753,1753,1753,1885,3817,3817,3817,3817,3817,3817,1882,1882,3789,3789,3789,3789,1242,1359,2196,2196,3580,1678,3653,3653,3653,3653,2528,2528,2528,2528,812,812,1329,2249,2249,2249,2190,2190,1431,2505,837,837,953,953,1098,1098,1098,1098,3000,3000,3000,3112,3112,3112,3488,3713,3713,3713,3053,3053,3122,3122,1410,1410,2680,2680,2680,2680,1011,1011,2202,2202,1379,1379,1615,1615,2811,2811,2811,2811,1530,1530,2690,2690,3044,3044,3044,3044,3044,3475,3475,3475,3521,1862,257,2693,2693,2731,2731,3651,478,478,2663,2663,2663,2663,3046,3046,454,454,889,352,1652,1652,1652,1652,1652,1652,1652,1652,1652,1652,1666,1666,1666,1666,719,719,2607,3031,1275,1275,3124,3124,3107,3107,2418,2418,2418,2418,2418,2418,260,260,1405,1405,1405,2519,2519,805,805,3221,3221,3221,2351,2351,2923,2923,2923,2923,384,384,384,233,233,233,233,2179,2179,2179,2179,2336,2336,2336,2063,2795,2795,672,672,672,771,344,344,344,344,2510,2510,216,216,216,216,231,1294,1294,616,616,616,2531,2531,2294,2294,2294,2102,2102,1182,1182,2094,1745,1745,1996,1784,1784,2882,2882,2882,3597,5155,5155,464,889,1776,1776,1248,1248,1248,2749,959,3501,1043,1043,1043,1043,833,2135,2135,1728,1728,265,1314,1314,2145,2145,3493,1384,834,834,402,402,1305,1491,409,3200,2418,2418,2909,1799,2147,2147,2147,2683,2683,3605,3605,936,1075,1075,3641,3641,3641,285,285,285,285,1562,1562,3495,2280,2565,3145,3145,2301,2301,1563,2694,2694,2694,2694,3645,3645,1540,1540,2213,2213,1544,1544,2536,2536,3152,3152,3152,3152,432,1957,1957,813,1916,1916,3152,3152,171,171,1608,1608,221,221,2194,2194,1966,1966,1966,1966,536,536,1625,1625,2577,2577,2232,2232,312,312,1603,1603,757,3200,3817,3817,3817,3817,539,539,3403,3403,3403,1728,1728,699,699,2508,2508,740,1447,3745,3745,2310,2310,2310,1025,1025,2919,2919,3201,3298,1780,1780,3473,1308,1308,1308,3056,3056,3056,2259,2259,2259,926,926,2205,2205,846,846,3117,3117,215,215,215,1689,1689,3867,3867,1351,1351,1981,1981,1981,1605,2417,2417,922,2795,2795,2698,2698,2698,1646,1646,1646,1646,2388,2388,2388,1276,1276,1276,1442,1442,1442,175,2509,449,2042,2042,2042,2042,2042,1330,2738,2738,2751,2751,1630,1630,3056,3056,3056,3056,1916,1916,1916,3387,2443,2443,2443,2443,586,586,979,979,979,1911,1911,3177,2647,2647,2647,2647,2647,2647,2647,2647,1483,2363,2363,2363,2363,2363,2363,2363,2363,319,3362,3362,3362,1809,3567,3567,3567,3567,3567,3540,3540,906,906,906,906,4702,874,874,1927,1927,1927,1927,2604,2604,1768,3572,3572,3572,3572,2084,2084,2084,2108,2108,2108,2108,2108,2108,2855,2855,1020,1020,1593,1593,2499,2499,3215,3215,2101,2101,3481,3481,1295,1679,2426,2889,2889,244,3488,1866,2370,2370,3597,2045,2045,1960,1860,1860,1505,2475,2411,3493,9,2415,2415,1701,2097,2097,3337,3337,3201,3578,3578,718,2788,2788,940,3062,3062,1437,1437,2435,2435,2029,2029,2029,2029,1608,144,144,1689,3132,3132,3132,1372],\"y0\":\" \",\"yaxis\":\"y\",\"type\":\"box\"},{\"alignmentgroup\":\"True\",\"hovertemplate\":\"Funder Type=NETWORK<br>Major Condition=%{x}<br>Duration (Days)=%{y}<extra></extra>\",\"legendgroup\":\"NETWORK\",\"marker\":{\"color\":\"#00cc96\"},\"name\":\"NETWORK\",\"notched\":false,\"offsetgroup\":\"NETWORK\",\"orientation\":\"v\",\"showlegend\":true,\"x\":[\"Other\",\"Other\",\"Other\",\"Other\",\"Other\",\"Blood Cancer\",\"Blood Cancer\",\"Blood Cancer\",\"Blood Cancer\",\"Blood Cancer\",\"Blood Cancer\",\"Brain Cancer\",\"Brain Cancer\",\"Lung Cancer\",\"Lung Cancer\",\"Lung Cancer\",\"Lung Cancer\",\"Lung Cancer\",\"Blood Cancer\",\"Blood Cancer\",\"Lung Cancer\",\"Lung Cancer\",\"Lung Cancer\",\"Lung Cancer\",\"Lung Cancer\",\"Lung Cancer\",\"breast Cancer\",\"Other\",\"Other\",\"Brain Cancer\",\"Brain Cancer\",\"Lung Cancer\",\"Lung Cancer\",\"Brain Cancer\",\"Blood Cancer\",\"Blood Cancer\",\"Other\",\"Other\",\"Other\",\"Other\",\"Other\",\"Blood Cancer\",\"Blood Cancer\",\"Blood Cancer\",\"Lung Cancer\",\"Lung Cancer\",\"Other\",\"Other\",\"Other\",\"Lung Cancer\",\"Other\",\"Other\",\"Other\",\"Other\",\"Blood Cancer\",\"Blood Cancer\",\"Blood Cancer\",\"Blood Cancer\",\"Blood Cancer\",\"Blood Cancer\",\"Blood Cancer\",\"Blood Cancer\",\"Other\",\"Other\",\"Lung Cancer\",\"Lung Cancer\",\"Blood Cancer\",\"Blood Cancer\",\"Other\",\"Lung Cancer\",\"Other\",\"Other\",\"Blood Cancer\",\"Blood Cancer\",\"Brain Cancer\",\"Brain Cancer\",\"Brain Cancer\",\"Brain Cancer\",\"Other\",\"Other\",\"Lung Cancer\",\"Lung Cancer\",\"Other\",\"Other\"],\"x0\":\" \",\"xaxis\":\"x\",\"y\":[2962,2962,1078,1078,1078,2615,2615,2615,2615,2615,2615,809,809,2550,2550,2550,1875,1875,1705,1705,3510,3510,3510,3510,3510,3510,5639,2791,2791,3250,3250,1580,1580,2833,2696,2696,2342,2342,2342,2342,3256,2446,3351,3351,2455,2455,3476,3476,3476,1903,1268,1493,1493,3017,3294,3294,3294,3294,3294,3294,3294,3294,2448,2448,3381,3381,1764,1764,1068,1599,3101,3101,2253,2253,2180,2180,1540,1540,2222,2222,1505,1505,2595,2595],\"y0\":\" \",\"yaxis\":\"y\",\"type\":\"box\"},{\"alignmentgroup\":\"True\",\"hovertemplate\":\"Funder Type=INDUSTRY<br>Major Condition=%{x}<br>Duration (Days)=%{y}<extra></extra>\",\"legendgroup\":\"INDUSTRY\",\"marker\":{\"color\":\"#ab63fa\"},\"name\":\"INDUSTRY\",\"notched\":false,\"offsetgroup\":\"INDUSTRY\",\"orientation\":\"v\",\"showlegend\":true,\"x\":[\"Blood Cancer\",\"Other\",\"Other\",\"Lung Cancer\",\"Other\",\"Other\",\"Other\",\"Other\",\"liver Cancer\",\"liver Cancer\",\"Prostate Cancer\",\"Other\",\"Other\",\"Other\"],\"x0\":\" \",\"xaxis\":\"x\",\"y\":[4097,687,687,2323,794,492,492,912,425,425,1409,1584,1584,1584],\"y0\":\" \",\"yaxis\":\"y\",\"type\":\"box\"}],                        {\"template\":{\"data\":{\"histogram2dcontour\":[{\"type\":\"histogram2dcontour\",\"colorbar\":{\"outlinewidth\":0,\"ticks\":\"\"},\"colorscale\":[[0.0,\"#0d0887\"],[0.1111111111111111,\"#46039f\"],[0.2222222222222222,\"#7201a8\"],[0.3333333333333333,\"#9c179e\"],[0.4444444444444444,\"#bd3786\"],[0.5555555555555556,\"#d8576b\"],[0.6666666666666666,\"#ed7953\"],[0.7777777777777778,\"#fb9f3a\"],[0.8888888888888888,\"#fdca26\"],[1.0,\"#f0f921\"]]}],\"choropleth\":[{\"type\":\"choropleth\",\"colorbar\":{\"outlinewidth\":0,\"ticks\":\"\"}}],\"histogram2d\":[{\"type\":\"histogram2d\",\"colorbar\":{\"outlinewidth\":0,\"ticks\":\"\"},\"colorscale\":[[0.0,\"#0d0887\"],[0.1111111111111111,\"#46039f\"],[0.2222222222222222,\"#7201a8\"],[0.3333333333333333,\"#9c179e\"],[0.4444444444444444,\"#bd3786\"],[0.5555555555555556,\"#d8576b\"],[0.6666666666666666,\"#ed7953\"],[0.7777777777777778,\"#fb9f3a\"],[0.8888888888888888,\"#fdca26\"],[1.0,\"#f0f921\"]]}],\"heatmap\":[{\"type\":\"heatmap\",\"colorbar\":{\"outlinewidth\":0,\"ticks\":\"\"},\"colorscale\":[[0.0,\"#0d0887\"],[0.1111111111111111,\"#46039f\"],[0.2222222222222222,\"#7201a8\"],[0.3333333333333333,\"#9c179e\"],[0.4444444444444444,\"#bd3786\"],[0.5555555555555556,\"#d8576b\"],[0.6666666666666666,\"#ed7953\"],[0.7777777777777778,\"#fb9f3a\"],[0.8888888888888888,\"#fdca26\"],[1.0,\"#f0f921\"]]}],\"heatmapgl\":[{\"type\":\"heatmapgl\",\"colorbar\":{\"outlinewidth\":0,\"ticks\":\"\"},\"colorscale\":[[0.0,\"#0d0887\"],[0.1111111111111111,\"#46039f\"],[0.2222222222222222,\"#7201a8\"],[0.3333333333333333,\"#9c179e\"],[0.4444444444444444,\"#bd3786\"],[0.5555555555555556,\"#d8576b\"],[0.6666666666666666,\"#ed7953\"],[0.7777777777777778,\"#fb9f3a\"],[0.8888888888888888,\"#fdca26\"],[1.0,\"#f0f921\"]]}],\"contourcarpet\":[{\"type\":\"contourcarpet\",\"colorbar\":{\"outlinewidth\":0,\"ticks\":\"\"}}],\"contour\":[{\"type\":\"contour\",\"colorbar\":{\"outlinewidth\":0,\"ticks\":\"\"},\"colorscale\":[[0.0,\"#0d0887\"],[0.1111111111111111,\"#46039f\"],[0.2222222222222222,\"#7201a8\"],[0.3333333333333333,\"#9c179e\"],[0.4444444444444444,\"#bd3786\"],[0.5555555555555556,\"#d8576b\"],[0.6666666666666666,\"#ed7953\"],[0.7777777777777778,\"#fb9f3a\"],[0.8888888888888888,\"#fdca26\"],[1.0,\"#f0f921\"]]}],\"surface\":[{\"type\":\"surface\",\"colorbar\":{\"outlinewidth\":0,\"ticks\":\"\"},\"colorscale\":[[0.0,\"#0d0887\"],[0.1111111111111111,\"#46039f\"],[0.2222222222222222,\"#7201a8\"],[0.3333333333333333,\"#9c179e\"],[0.4444444444444444,\"#bd3786\"],[0.5555555555555556,\"#d8576b\"],[0.6666666666666666,\"#ed7953\"],[0.7777777777777778,\"#fb9f3a\"],[0.8888888888888888,\"#fdca26\"],[1.0,\"#f0f921\"]]}],\"mesh3d\":[{\"type\":\"mesh3d\",\"colorbar\":{\"outlinewidth\":0,\"ticks\":\"\"}}],\"scatter\":[{\"fillpattern\":{\"fillmode\":\"overlay\",\"size\":10,\"solidity\":0.2},\"type\":\"scatter\"}],\"parcoords\":[{\"type\":\"parcoords\",\"line\":{\"colorbar\":{\"outlinewidth\":0,\"ticks\":\"\"}}}],\"scatterpolargl\":[{\"type\":\"scatterpolargl\",\"marker\":{\"colorbar\":{\"outlinewidth\":0,\"ticks\":\"\"}}}],\"bar\":[{\"error_x\":{\"color\":\"#2a3f5f\"},\"error_y\":{\"color\":\"#2a3f5f\"},\"marker\":{\"line\":{\"color\":\"#E5ECF6\",\"width\":0.5},\"pattern\":{\"fillmode\":\"overlay\",\"size\":10,\"solidity\":0.2}},\"type\":\"bar\"}],\"scattergeo\":[{\"type\":\"scattergeo\",\"marker\":{\"colorbar\":{\"outlinewidth\":0,\"ticks\":\"\"}}}],\"scatterpolar\":[{\"type\":\"scatterpolar\",\"marker\":{\"colorbar\":{\"outlinewidth\":0,\"ticks\":\"\"}}}],\"histogram\":[{\"marker\":{\"pattern\":{\"fillmode\":\"overlay\",\"size\":10,\"solidity\":0.2}},\"type\":\"histogram\"}],\"scattergl\":[{\"type\":\"scattergl\",\"marker\":{\"colorbar\":{\"outlinewidth\":0,\"ticks\":\"\"}}}],\"scatter3d\":[{\"type\":\"scatter3d\",\"line\":{\"colorbar\":{\"outlinewidth\":0,\"ticks\":\"\"}},\"marker\":{\"colorbar\":{\"outlinewidth\":0,\"ticks\":\"\"}}}],\"scattermapbox\":[{\"type\":\"scattermapbox\",\"marker\":{\"colorbar\":{\"outlinewidth\":0,\"ticks\":\"\"}}}],\"scatterternary\":[{\"type\":\"scatterternary\",\"marker\":{\"colorbar\":{\"outlinewidth\":0,\"ticks\":\"\"}}}],\"scattercarpet\":[{\"type\":\"scattercarpet\",\"marker\":{\"colorbar\":{\"outlinewidth\":0,\"ticks\":\"\"}}}],\"carpet\":[{\"aaxis\":{\"endlinecolor\":\"#2a3f5f\",\"gridcolor\":\"white\",\"linecolor\":\"white\",\"minorgridcolor\":\"white\",\"startlinecolor\":\"#2a3f5f\"},\"baxis\":{\"endlinecolor\":\"#2a3f5f\",\"gridcolor\":\"white\",\"linecolor\":\"white\",\"minorgridcolor\":\"white\",\"startlinecolor\":\"#2a3f5f\"},\"type\":\"carpet\"}],\"table\":[{\"cells\":{\"fill\":{\"color\":\"#EBF0F8\"},\"line\":{\"color\":\"white\"}},\"header\":{\"fill\":{\"color\":\"#C8D4E3\"},\"line\":{\"color\":\"white\"}},\"type\":\"table\"}],\"barpolar\":[{\"marker\":{\"line\":{\"color\":\"#E5ECF6\",\"width\":0.5},\"pattern\":{\"fillmode\":\"overlay\",\"size\":10,\"solidity\":0.2}},\"type\":\"barpolar\"}],\"pie\":[{\"automargin\":true,\"type\":\"pie\"}]},\"layout\":{\"autotypenumbers\":\"strict\",\"colorway\":[\"#636efa\",\"#EF553B\",\"#00cc96\",\"#ab63fa\",\"#FFA15A\",\"#19d3f3\",\"#FF6692\",\"#B6E880\",\"#FF97FF\",\"#FECB52\"],\"font\":{\"color\":\"#2a3f5f\"},\"hovermode\":\"closest\",\"hoverlabel\":{\"align\":\"left\"},\"paper_bgcolor\":\"white\",\"plot_bgcolor\":\"#E5ECF6\",\"polar\":{\"bgcolor\":\"#E5ECF6\",\"angularaxis\":{\"gridcolor\":\"white\",\"linecolor\":\"white\",\"ticks\":\"\"},\"radialaxis\":{\"gridcolor\":\"white\",\"linecolor\":\"white\",\"ticks\":\"\"}},\"ternary\":{\"bgcolor\":\"#E5ECF6\",\"aaxis\":{\"gridcolor\":\"white\",\"linecolor\":\"white\",\"ticks\":\"\"},\"baxis\":{\"gridcolor\":\"white\",\"linecolor\":\"white\",\"ticks\":\"\"},\"caxis\":{\"gridcolor\":\"white\",\"linecolor\":\"white\",\"ticks\":\"\"}},\"coloraxis\":{\"colorbar\":{\"outlinewidth\":0,\"ticks\":\"\"}},\"colorscale\":{\"sequential\":[[0.0,\"#0d0887\"],[0.1111111111111111,\"#46039f\"],[0.2222222222222222,\"#7201a8\"],[0.3333333333333333,\"#9c179e\"],[0.4444444444444444,\"#bd3786\"],[0.5555555555555556,\"#d8576b\"],[0.6666666666666666,\"#ed7953\"],[0.7777777777777778,\"#fb9f3a\"],[0.8888888888888888,\"#fdca26\"],[1.0,\"#f0f921\"]],\"sequentialminus\":[[0.0,\"#0d0887\"],[0.1111111111111111,\"#46039f\"],[0.2222222222222222,\"#7201a8\"],[0.3333333333333333,\"#9c179e\"],[0.4444444444444444,\"#bd3786\"],[0.5555555555555556,\"#d8576b\"],[0.6666666666666666,\"#ed7953\"],[0.7777777777777778,\"#fb9f3a\"],[0.8888888888888888,\"#fdca26\"],[1.0,\"#f0f921\"]],\"diverging\":[[0,\"#8e0152\"],[0.1,\"#c51b7d\"],[0.2,\"#de77ae\"],[0.3,\"#f1b6da\"],[0.4,\"#fde0ef\"],[0.5,\"#f7f7f7\"],[0.6,\"#e6f5d0\"],[0.7,\"#b8e186\"],[0.8,\"#7fbc41\"],[0.9,\"#4d9221\"],[1,\"#276419\"]]},\"xaxis\":{\"gridcolor\":\"white\",\"linecolor\":\"white\",\"ticks\":\"\",\"title\":{\"standoff\":15},\"zerolinecolor\":\"white\",\"automargin\":true,\"zerolinewidth\":2},\"yaxis\":{\"gridcolor\":\"white\",\"linecolor\":\"white\",\"ticks\":\"\",\"title\":{\"standoff\":15},\"zerolinecolor\":\"white\",\"automargin\":true,\"zerolinewidth\":2},\"scene\":{\"xaxis\":{\"backgroundcolor\":\"#E5ECF6\",\"gridcolor\":\"white\",\"linecolor\":\"white\",\"showbackground\":true,\"ticks\":\"\",\"zerolinecolor\":\"white\",\"gridwidth\":2},\"yaxis\":{\"backgroundcolor\":\"#E5ECF6\",\"gridcolor\":\"white\",\"linecolor\":\"white\",\"showbackground\":true,\"ticks\":\"\",\"zerolinecolor\":\"white\",\"gridwidth\":2},\"zaxis\":{\"backgroundcolor\":\"#E5ECF6\",\"gridcolor\":\"white\",\"linecolor\":\"white\",\"showbackground\":true,\"ticks\":\"\",\"zerolinecolor\":\"white\",\"gridwidth\":2}},\"shapedefaults\":{\"line\":{\"color\":\"#2a3f5f\"}},\"annotationdefaults\":{\"arrowcolor\":\"#2a3f5f\",\"arrowhead\":0,\"arrowwidth\":1},\"geo\":{\"bgcolor\":\"white\",\"landcolor\":\"#E5ECF6\",\"subunitcolor\":\"white\",\"showland\":true,\"showlakes\":true,\"lakecolor\":\"white\"},\"title\":{\"x\":0.05},\"mapbox\":{\"style\":\"light\"}}},\"xaxis\":{\"anchor\":\"y\",\"domain\":[0.0,1.0],\"title\":{\"text\":\"Major Condition\"},\"showgrid\":true,\"gridcolor\":\"LightGrey\"},\"yaxis\":{\"anchor\":\"x\",\"domain\":[0.0,1.0],\"title\":{\"text\":\"Duration (Days)\"},\"showgrid\":true,\"gridcolor\":\"LightGrey\"},\"legend\":{\"title\":{\"text\":\"Funder Type\"},\"tracegroupgap\":0},\"title\":{\"text\":\"Study Duration by Condition and Funder Type\"},\"boxmode\":\"group\",\"plot_bgcolor\":\"white\",\"updatemenus\":[{\"buttons\":[{\"args\":[{\"visible\":[true,false,false,false]}],\"label\":\"Network\",\"method\":\"update\"},{\"args\":[{\"visible\":[false,true,false,false]}],\"label\":\"Industry\",\"method\":\"update\"},{\"args\":[{\"visible\":[false,false,true,false]}],\"label\":\"NIH\",\"method\":\"update\"},{\"args\":[{\"visible\":[false,false,false,true]}],\"label\":\"Other\",\"method\":\"update\"},{\"args\":[{\"visible\":[true,true,true,true]}],\"label\":\"All\",\"method\":\"update\"}],\"direction\":\"down\",\"showactive\":true,\"type\":\"dropdown\"}]},                        {\"responsive\": true}                    ).then(function(){\n",
       "                            \n",
       "var gd = document.getElementById('33079d38-b22d-45ff-8f80-f4a68891bb31');\n",
       "var x = new MutationObserver(function (mutations, observer) {{\n",
       "        var display = window.getComputedStyle(gd).display;\n",
       "        if (!display || display === 'none') {{\n",
       "            console.log([gd, 'removed!']);\n",
       "            Plotly.purge(gd);\n",
       "            observer.disconnect();\n",
       "        }}\n",
       "}});\n",
       "\n",
       "// Listen for the removal of the full notebook cells\n",
       "var notebookContainer = gd.closest('#notebook-container');\n",
       "if (notebookContainer) {{\n",
       "    x.observe(notebookContainer, {childList: true});\n",
       "}}\n",
       "\n",
       "// Listen for the clearing of the current output cell\n",
       "var outputEl = gd.closest('.output');\n",
       "if (outputEl) {{\n",
       "    x.observe(outputEl, {childList: true});\n",
       "}}\n",
       "\n",
       "                        })                };                });            </script>        </div>"
      ]
     },
     "metadata": {},
     "output_type": "display_data"
    }
   ],
   "source": [
    "# Plot using Plotly Express with Phases as color\n",
    "fig = px.box(New_Reduced_df, x='Major Condition', y='Duration (Days)', color='Funder Type',\n",
    "             title='Study Duration by Condition and Funder Type',\n",
    "             labels={'Duration (Days)': 'Duration (Days)', 'Major Condition': 'Major Condition', 'Funder Type': 'Funder Type'})\n",
    "\n",
    "# Customize layout: Set background to white and add interactive buttons for Funder Type\n",
    "fig.update_layout(\n",
    "    plot_bgcolor='white',  # Set the background color to white\n",
    "    xaxis=dict(showgrid=True, gridcolor='LightGrey'),\n",
    "    yaxis=dict(showgrid=True, gridcolor='LightGrey'),\n",
    "    updatemenus=[\n",
    "        dict(\n",
    "            type='dropdown',\n",
    "            buttons=[\n",
    "                dict(\n",
    "                    args=[{'visible': [True, False, False, False]}],\n",
    "                    label=\"Network\",\n",
    "                    method=\"update\"\n",
    "                ),\n",
    "                dict(\n",
    "                    args=[{'visible': [False, True, False, False]}],\n",
    "                    label=\"Industry\",\n",
    "                    method=\"update\"\n",
    "                ),\n",
    "                dict(\n",
    "                    args=[{'visible': [False, False, True, False]}],\n",
    "                    label=\"NIH\",\n",
    "                    method=\"update\"\n",
    "                ),\n",
    "                dict(\n",
    "                    args=[{'visible': [False, False, False, True]}],\n",
    "                    label=\"Other\",\n",
    "                    method=\"update\"\n",
    "                ),\n",
    "                dict(\n",
    "                    args=[{'visible': [True, True, True, True]}],\n",
    "                    label=\"All\",\n",
    "                    method=\"update\"\n",
    "                )\n",
    "            ],\n",
    "            direction='down',  # This creates a dropdown menu\n",
    "            showactive=True\n",
    "        )\n",
    "    ]\n",
    ")\n",
    "\n",
    "# Show the plot\n",
    "fig.show()\n",
    "\n",
    "# Save the plot as an image\n",
    "pio.write_image(fig, 'Condition_Funder.png', format='png')"
   ]
  },
  {
   "cell_type": "markdown",
   "id": "da34e83e",
   "metadata": {},
   "source": [
    "# Plot interactive box plot: Major Condition and Funding type"
   ]
  },
  {
   "cell_type": "code",
   "execution_count": 44,
   "id": "bd090344",
   "metadata": {},
   "outputs": [
    {
     "data": {
      "application/vnd.plotly.v1+json": {
       "config": {
        "plotlyServerURL": "https://plot.ly"
       },
       "data": [
        {
         "alignmentgroup": "True",
         "hovertemplate": "Funder Type=INDUSTRY<br>Major Condition=%{x}<br>Number of Studies=%{y}<extra></extra>",
         "legendgroup": "INDUSTRY",
         "marker": {
          "color": "#636efa",
          "pattern": {
           "shape": ""
          }
         },
         "name": "INDUSTRY",
         "offsetgroup": "INDUSTRY",
         "orientation": "v",
         "showlegend": true,
         "textposition": "auto",
         "type": "bar",
         "x": [
          "Blood Cancer",
          "Lung Cancer",
          "Other",
          "Prostate Cancer",
          "liver Cancer"
         ],
         "xaxis": "x",
         "y": [
          1,
          1,
          9,
          1,
          2
         ],
         "yaxis": "y"
        },
        {
         "alignmentgroup": "True",
         "hovertemplate": "Funder Type=NETWORK<br>Major Condition=%{x}<br>Number of Studies=%{y}<extra></extra>",
         "legendgroup": "NETWORK",
         "marker": {
          "color": "#EF553B",
          "pattern": {
           "shape": ""
          }
         },
         "name": "NETWORK",
         "offsetgroup": "NETWORK",
         "orientation": "v",
         "showlegend": true,
         "textposition": "auto",
         "type": "bar",
         "x": [
          "Blood Cancer",
          "Brain Cancer",
          "Lung Cancer",
          "Other",
          "breast Cancer"
         ],
         "xaxis": "x",
         "y": [
          25,
          9,
          21,
          28,
          1
         ],
         "yaxis": "y"
        },
        {
         "alignmentgroup": "True",
         "hovertemplate": "Funder Type=NIH<br>Major Condition=%{x}<br>Number of Studies=%{y}<extra></extra>",
         "legendgroup": "NIH",
         "marker": {
          "color": "#00cc96",
          "pattern": {
           "shape": ""
          }
         },
         "name": "NIH",
         "offsetgroup": "NIH",
         "orientation": "v",
         "showlegend": true,
         "textposition": "auto",
         "type": "bar",
         "x": [
          "Blood Cancer",
          "Brain Cancer",
          "Lung Cancer",
          "Lymphoma Cancer",
          "Other",
          "Pancreatic Cancer",
          "Prostate Cancer",
          "breast Cancer",
          "kidney Cancer",
          "liver Cancer"
         ],
         "xaxis": "x",
         "y": [
          104,
          62,
          156,
          4,
          180,
          7,
          23,
          7,
          18,
          15
         ],
         "yaxis": "y"
        },
        {
         "alignmentgroup": "True",
         "hovertemplate": "Funder Type=OTHER<br>Major Condition=%{x}<br>Number of Studies=%{y}<extra></extra>",
         "legendgroup": "OTHER",
         "marker": {
          "color": "#ab63fa",
          "pattern": {
           "shape": ""
          }
         },
         "name": "OTHER",
         "offsetgroup": "OTHER",
         "orientation": "v",
         "showlegend": true,
         "textposition": "auto",
         "type": "bar",
         "x": [
          "Blood Cancer",
          "Brain Cancer",
          "Lung Cancer",
          "Lymphoma Cancer",
          "Other",
          "Pancreatic Cancer",
          "Prostate Cancer",
          "breast Cancer",
          "kidney Cancer",
          "liver Cancer"
         ],
         "xaxis": "x",
         "y": [
          222,
          44,
          161,
          5,
          269,
          6,
          29,
          28,
          13,
          17
         ],
         "yaxis": "y"
        }
       ],
       "layout": {
        "barmode": "group",
        "legend": {
         "title": {
          "text": "Funder Type"
         },
         "tracegroupgap": 0
        },
        "plot_bgcolor": "white",
        "template": {
         "data": {
          "bar": [
           {
            "error_x": {
             "color": "#2a3f5f"
            },
            "error_y": {
             "color": "#2a3f5f"
            },
            "marker": {
             "line": {
              "color": "#E5ECF6",
              "width": 0.5
             },
             "pattern": {
              "fillmode": "overlay",
              "size": 10,
              "solidity": 0.2
             }
            },
            "type": "bar"
           }
          ],
          "barpolar": [
           {
            "marker": {
             "line": {
              "color": "#E5ECF6",
              "width": 0.5
             },
             "pattern": {
              "fillmode": "overlay",
              "size": 10,
              "solidity": 0.2
             }
            },
            "type": "barpolar"
           }
          ],
          "carpet": [
           {
            "aaxis": {
             "endlinecolor": "#2a3f5f",
             "gridcolor": "white",
             "linecolor": "white",
             "minorgridcolor": "white",
             "startlinecolor": "#2a3f5f"
            },
            "baxis": {
             "endlinecolor": "#2a3f5f",
             "gridcolor": "white",
             "linecolor": "white",
             "minorgridcolor": "white",
             "startlinecolor": "#2a3f5f"
            },
            "type": "carpet"
           }
          ],
          "choropleth": [
           {
            "colorbar": {
             "outlinewidth": 0,
             "ticks": ""
            },
            "type": "choropleth"
           }
          ],
          "contour": [
           {
            "colorbar": {
             "outlinewidth": 0,
             "ticks": ""
            },
            "colorscale": [
             [
              0,
              "#0d0887"
             ],
             [
              0.1111111111111111,
              "#46039f"
             ],
             [
              0.2222222222222222,
              "#7201a8"
             ],
             [
              0.3333333333333333,
              "#9c179e"
             ],
             [
              0.4444444444444444,
              "#bd3786"
             ],
             [
              0.5555555555555556,
              "#d8576b"
             ],
             [
              0.6666666666666666,
              "#ed7953"
             ],
             [
              0.7777777777777778,
              "#fb9f3a"
             ],
             [
              0.8888888888888888,
              "#fdca26"
             ],
             [
              1,
              "#f0f921"
             ]
            ],
            "type": "contour"
           }
          ],
          "contourcarpet": [
           {
            "colorbar": {
             "outlinewidth": 0,
             "ticks": ""
            },
            "type": "contourcarpet"
           }
          ],
          "heatmap": [
           {
            "colorbar": {
             "outlinewidth": 0,
             "ticks": ""
            },
            "colorscale": [
             [
              0,
              "#0d0887"
             ],
             [
              0.1111111111111111,
              "#46039f"
             ],
             [
              0.2222222222222222,
              "#7201a8"
             ],
             [
              0.3333333333333333,
              "#9c179e"
             ],
             [
              0.4444444444444444,
              "#bd3786"
             ],
             [
              0.5555555555555556,
              "#d8576b"
             ],
             [
              0.6666666666666666,
              "#ed7953"
             ],
             [
              0.7777777777777778,
              "#fb9f3a"
             ],
             [
              0.8888888888888888,
              "#fdca26"
             ],
             [
              1,
              "#f0f921"
             ]
            ],
            "type": "heatmap"
           }
          ],
          "heatmapgl": [
           {
            "colorbar": {
             "outlinewidth": 0,
             "ticks": ""
            },
            "colorscale": [
             [
              0,
              "#0d0887"
             ],
             [
              0.1111111111111111,
              "#46039f"
             ],
             [
              0.2222222222222222,
              "#7201a8"
             ],
             [
              0.3333333333333333,
              "#9c179e"
             ],
             [
              0.4444444444444444,
              "#bd3786"
             ],
             [
              0.5555555555555556,
              "#d8576b"
             ],
             [
              0.6666666666666666,
              "#ed7953"
             ],
             [
              0.7777777777777778,
              "#fb9f3a"
             ],
             [
              0.8888888888888888,
              "#fdca26"
             ],
             [
              1,
              "#f0f921"
             ]
            ],
            "type": "heatmapgl"
           }
          ],
          "histogram": [
           {
            "marker": {
             "pattern": {
              "fillmode": "overlay",
              "size": 10,
              "solidity": 0.2
             }
            },
            "type": "histogram"
           }
          ],
          "histogram2d": [
           {
            "colorbar": {
             "outlinewidth": 0,
             "ticks": ""
            },
            "colorscale": [
             [
              0,
              "#0d0887"
             ],
             [
              0.1111111111111111,
              "#46039f"
             ],
             [
              0.2222222222222222,
              "#7201a8"
             ],
             [
              0.3333333333333333,
              "#9c179e"
             ],
             [
              0.4444444444444444,
              "#bd3786"
             ],
             [
              0.5555555555555556,
              "#d8576b"
             ],
             [
              0.6666666666666666,
              "#ed7953"
             ],
             [
              0.7777777777777778,
              "#fb9f3a"
             ],
             [
              0.8888888888888888,
              "#fdca26"
             ],
             [
              1,
              "#f0f921"
             ]
            ],
            "type": "histogram2d"
           }
          ],
          "histogram2dcontour": [
           {
            "colorbar": {
             "outlinewidth": 0,
             "ticks": ""
            },
            "colorscale": [
             [
              0,
              "#0d0887"
             ],
             [
              0.1111111111111111,
              "#46039f"
             ],
             [
              0.2222222222222222,
              "#7201a8"
             ],
             [
              0.3333333333333333,
              "#9c179e"
             ],
             [
              0.4444444444444444,
              "#bd3786"
             ],
             [
              0.5555555555555556,
              "#d8576b"
             ],
             [
              0.6666666666666666,
              "#ed7953"
             ],
             [
              0.7777777777777778,
              "#fb9f3a"
             ],
             [
              0.8888888888888888,
              "#fdca26"
             ],
             [
              1,
              "#f0f921"
             ]
            ],
            "type": "histogram2dcontour"
           }
          ],
          "mesh3d": [
           {
            "colorbar": {
             "outlinewidth": 0,
             "ticks": ""
            },
            "type": "mesh3d"
           }
          ],
          "parcoords": [
           {
            "line": {
             "colorbar": {
              "outlinewidth": 0,
              "ticks": ""
             }
            },
            "type": "parcoords"
           }
          ],
          "pie": [
           {
            "automargin": true,
            "type": "pie"
           }
          ],
          "scatter": [
           {
            "fillpattern": {
             "fillmode": "overlay",
             "size": 10,
             "solidity": 0.2
            },
            "type": "scatter"
           }
          ],
          "scatter3d": [
           {
            "line": {
             "colorbar": {
              "outlinewidth": 0,
              "ticks": ""
             }
            },
            "marker": {
             "colorbar": {
              "outlinewidth": 0,
              "ticks": ""
             }
            },
            "type": "scatter3d"
           }
          ],
          "scattercarpet": [
           {
            "marker": {
             "colorbar": {
              "outlinewidth": 0,
              "ticks": ""
             }
            },
            "type": "scattercarpet"
           }
          ],
          "scattergeo": [
           {
            "marker": {
             "colorbar": {
              "outlinewidth": 0,
              "ticks": ""
             }
            },
            "type": "scattergeo"
           }
          ],
          "scattergl": [
           {
            "marker": {
             "colorbar": {
              "outlinewidth": 0,
              "ticks": ""
             }
            },
            "type": "scattergl"
           }
          ],
          "scattermapbox": [
           {
            "marker": {
             "colorbar": {
              "outlinewidth": 0,
              "ticks": ""
             }
            },
            "type": "scattermapbox"
           }
          ],
          "scatterpolar": [
           {
            "marker": {
             "colorbar": {
              "outlinewidth": 0,
              "ticks": ""
             }
            },
            "type": "scatterpolar"
           }
          ],
          "scatterpolargl": [
           {
            "marker": {
             "colorbar": {
              "outlinewidth": 0,
              "ticks": ""
             }
            },
            "type": "scatterpolargl"
           }
          ],
          "scatterternary": [
           {
            "marker": {
             "colorbar": {
              "outlinewidth": 0,
              "ticks": ""
             }
            },
            "type": "scatterternary"
           }
          ],
          "surface": [
           {
            "colorbar": {
             "outlinewidth": 0,
             "ticks": ""
            },
            "colorscale": [
             [
              0,
              "#0d0887"
             ],
             [
              0.1111111111111111,
              "#46039f"
             ],
             [
              0.2222222222222222,
              "#7201a8"
             ],
             [
              0.3333333333333333,
              "#9c179e"
             ],
             [
              0.4444444444444444,
              "#bd3786"
             ],
             [
              0.5555555555555556,
              "#d8576b"
             ],
             [
              0.6666666666666666,
              "#ed7953"
             ],
             [
              0.7777777777777778,
              "#fb9f3a"
             ],
             [
              0.8888888888888888,
              "#fdca26"
             ],
             [
              1,
              "#f0f921"
             ]
            ],
            "type": "surface"
           }
          ],
          "table": [
           {
            "cells": {
             "fill": {
              "color": "#EBF0F8"
             },
             "line": {
              "color": "white"
             }
            },
            "header": {
             "fill": {
              "color": "#C8D4E3"
             },
             "line": {
              "color": "white"
             }
            },
            "type": "table"
           }
          ]
         },
         "layout": {
          "annotationdefaults": {
           "arrowcolor": "#2a3f5f",
           "arrowhead": 0,
           "arrowwidth": 1
          },
          "autotypenumbers": "strict",
          "coloraxis": {
           "colorbar": {
            "outlinewidth": 0,
            "ticks": ""
           }
          },
          "colorscale": {
           "diverging": [
            [
             0,
             "#8e0152"
            ],
            [
             0.1,
             "#c51b7d"
            ],
            [
             0.2,
             "#de77ae"
            ],
            [
             0.3,
             "#f1b6da"
            ],
            [
             0.4,
             "#fde0ef"
            ],
            [
             0.5,
             "#f7f7f7"
            ],
            [
             0.6,
             "#e6f5d0"
            ],
            [
             0.7,
             "#b8e186"
            ],
            [
             0.8,
             "#7fbc41"
            ],
            [
             0.9,
             "#4d9221"
            ],
            [
             1,
             "#276419"
            ]
           ],
           "sequential": [
            [
             0,
             "#0d0887"
            ],
            [
             0.1111111111111111,
             "#46039f"
            ],
            [
             0.2222222222222222,
             "#7201a8"
            ],
            [
             0.3333333333333333,
             "#9c179e"
            ],
            [
             0.4444444444444444,
             "#bd3786"
            ],
            [
             0.5555555555555556,
             "#d8576b"
            ],
            [
             0.6666666666666666,
             "#ed7953"
            ],
            [
             0.7777777777777778,
             "#fb9f3a"
            ],
            [
             0.8888888888888888,
             "#fdca26"
            ],
            [
             1,
             "#f0f921"
            ]
           ],
           "sequentialminus": [
            [
             0,
             "#0d0887"
            ],
            [
             0.1111111111111111,
             "#46039f"
            ],
            [
             0.2222222222222222,
             "#7201a8"
            ],
            [
             0.3333333333333333,
             "#9c179e"
            ],
            [
             0.4444444444444444,
             "#bd3786"
            ],
            [
             0.5555555555555556,
             "#d8576b"
            ],
            [
             0.6666666666666666,
             "#ed7953"
            ],
            [
             0.7777777777777778,
             "#fb9f3a"
            ],
            [
             0.8888888888888888,
             "#fdca26"
            ],
            [
             1,
             "#f0f921"
            ]
           ]
          },
          "colorway": [
           "#636efa",
           "#EF553B",
           "#00cc96",
           "#ab63fa",
           "#FFA15A",
           "#19d3f3",
           "#FF6692",
           "#B6E880",
           "#FF97FF",
           "#FECB52"
          ],
          "font": {
           "color": "#2a3f5f"
          },
          "geo": {
           "bgcolor": "white",
           "lakecolor": "white",
           "landcolor": "#E5ECF6",
           "showlakes": true,
           "showland": true,
           "subunitcolor": "white"
          },
          "hoverlabel": {
           "align": "left"
          },
          "hovermode": "closest",
          "mapbox": {
           "style": "light"
          },
          "paper_bgcolor": "white",
          "plot_bgcolor": "#E5ECF6",
          "polar": {
           "angularaxis": {
            "gridcolor": "white",
            "linecolor": "white",
            "ticks": ""
           },
           "bgcolor": "#E5ECF6",
           "radialaxis": {
            "gridcolor": "white",
            "linecolor": "white",
            "ticks": ""
           }
          },
          "scene": {
           "xaxis": {
            "backgroundcolor": "#E5ECF6",
            "gridcolor": "white",
            "gridwidth": 2,
            "linecolor": "white",
            "showbackground": true,
            "ticks": "",
            "zerolinecolor": "white"
           },
           "yaxis": {
            "backgroundcolor": "#E5ECF6",
            "gridcolor": "white",
            "gridwidth": 2,
            "linecolor": "white",
            "showbackground": true,
            "ticks": "",
            "zerolinecolor": "white"
           },
           "zaxis": {
            "backgroundcolor": "#E5ECF6",
            "gridcolor": "white",
            "gridwidth": 2,
            "linecolor": "white",
            "showbackground": true,
            "ticks": "",
            "zerolinecolor": "white"
           }
          },
          "shapedefaults": {
           "line": {
            "color": "#2a3f5f"
           }
          },
          "ternary": {
           "aaxis": {
            "gridcolor": "white",
            "linecolor": "white",
            "ticks": ""
           },
           "baxis": {
            "gridcolor": "white",
            "linecolor": "white",
            "ticks": ""
           },
           "bgcolor": "#E5ECF6",
           "caxis": {
            "gridcolor": "white",
            "linecolor": "white",
            "ticks": ""
           }
          },
          "title": {
           "x": 0.05
          },
          "xaxis": {
           "automargin": true,
           "gridcolor": "white",
           "linecolor": "white",
           "ticks": "",
           "title": {
            "standoff": 15
           },
           "zerolinecolor": "white",
           "zerolinewidth": 2
          },
          "yaxis": {
           "automargin": true,
           "gridcolor": "white",
           "linecolor": "white",
           "ticks": "",
           "title": {
            "standoff": 15
           },
           "zerolinecolor": "white",
           "zerolinewidth": 2
          }
         }
        },
        "title": {
         "text": "Number of Studies by Major Condition and Funder Type"
        },
        "updatemenus": [
         {
          "buttons": [
           {
            "args": [
             {
              "visible": [
               true,
               false,
               false,
               false
              ]
             }
            ],
            "label": "Network",
            "method": "update"
           },
           {
            "args": [
             {
              "visible": [
               false,
               true,
               false,
               false
              ]
             }
            ],
            "label": "Industry",
            "method": "update"
           },
           {
            "args": [
             {
              "visible": [
               false,
               false,
               true,
               false
              ]
             }
            ],
            "label": "NIH",
            "method": "update"
           },
           {
            "args": [
             {
              "visible": [
               false,
               false,
               false,
               true
              ]
             }
            ],
            "label": "Other",
            "method": "update"
           },
           {
            "args": [
             {
              "visible": [
               true,
               true,
               true,
               true
              ]
             }
            ],
            "label": "All",
            "method": "update"
           }
          ],
          "direction": "down",
          "showactive": true,
          "x": 1.15,
          "xanchor": "right",
          "y": 1.15,
          "yanchor": "top"
         }
        ],
        "xaxis": {
         "anchor": "y",
         "domain": [
          0,
          1
         ],
         "gridcolor": "LightGrey",
         "showgrid": true,
         "title": {
          "text": "Major Condition"
         }
        },
        "yaxis": {
         "anchor": "x",
         "domain": [
          0,
          1
         ],
         "gridcolor": "LightGrey",
         "showgrid": true,
         "title": {
          "text": "Number of Studies"
         }
        }
       }
      },
      "text/html": [
       "<div>                            <div id=\"0e43fffa-5067-48ea-8113-753276d9d50d\" class=\"plotly-graph-div\" style=\"height:525px; width:100%;\"></div>            <script type=\"text/javascript\">                require([\"plotly\"], function(Plotly) {                    window.PLOTLYENV=window.PLOTLYENV || {};                                    if (document.getElementById(\"0e43fffa-5067-48ea-8113-753276d9d50d\")) {                    Plotly.newPlot(                        \"0e43fffa-5067-48ea-8113-753276d9d50d\",                        [{\"alignmentgroup\":\"True\",\"hovertemplate\":\"Funder Type=INDUSTRY<br>Major Condition=%{x}<br>Number of Studies=%{y}<extra></extra>\",\"legendgroup\":\"INDUSTRY\",\"marker\":{\"color\":\"#636efa\",\"pattern\":{\"shape\":\"\"}},\"name\":\"INDUSTRY\",\"offsetgroup\":\"INDUSTRY\",\"orientation\":\"v\",\"showlegend\":true,\"textposition\":\"auto\",\"x\":[\"Blood Cancer\",\"Lung Cancer\",\"Other\",\"Prostate Cancer\",\"liver Cancer\"],\"xaxis\":\"x\",\"y\":[1,1,9,1,2],\"yaxis\":\"y\",\"type\":\"bar\"},{\"alignmentgroup\":\"True\",\"hovertemplate\":\"Funder Type=NETWORK<br>Major Condition=%{x}<br>Number of Studies=%{y}<extra></extra>\",\"legendgroup\":\"NETWORK\",\"marker\":{\"color\":\"#EF553B\",\"pattern\":{\"shape\":\"\"}},\"name\":\"NETWORK\",\"offsetgroup\":\"NETWORK\",\"orientation\":\"v\",\"showlegend\":true,\"textposition\":\"auto\",\"x\":[\"Blood Cancer\",\"Brain Cancer\",\"Lung Cancer\",\"Other\",\"breast Cancer\"],\"xaxis\":\"x\",\"y\":[25,9,21,28,1],\"yaxis\":\"y\",\"type\":\"bar\"},{\"alignmentgroup\":\"True\",\"hovertemplate\":\"Funder Type=NIH<br>Major Condition=%{x}<br>Number of Studies=%{y}<extra></extra>\",\"legendgroup\":\"NIH\",\"marker\":{\"color\":\"#00cc96\",\"pattern\":{\"shape\":\"\"}},\"name\":\"NIH\",\"offsetgroup\":\"NIH\",\"orientation\":\"v\",\"showlegend\":true,\"textposition\":\"auto\",\"x\":[\"Blood Cancer\",\"Brain Cancer\",\"Lung Cancer\",\"Lymphoma Cancer\",\"Other\",\"Pancreatic Cancer\",\"Prostate Cancer\",\"breast Cancer\",\"kidney Cancer\",\"liver Cancer\"],\"xaxis\":\"x\",\"y\":[104,62,156,4,180,7,23,7,18,15],\"yaxis\":\"y\",\"type\":\"bar\"},{\"alignmentgroup\":\"True\",\"hovertemplate\":\"Funder Type=OTHER<br>Major Condition=%{x}<br>Number of Studies=%{y}<extra></extra>\",\"legendgroup\":\"OTHER\",\"marker\":{\"color\":\"#ab63fa\",\"pattern\":{\"shape\":\"\"}},\"name\":\"OTHER\",\"offsetgroup\":\"OTHER\",\"orientation\":\"v\",\"showlegend\":true,\"textposition\":\"auto\",\"x\":[\"Blood Cancer\",\"Brain Cancer\",\"Lung Cancer\",\"Lymphoma Cancer\",\"Other\",\"Pancreatic Cancer\",\"Prostate Cancer\",\"breast Cancer\",\"kidney Cancer\",\"liver Cancer\"],\"xaxis\":\"x\",\"y\":[222,44,161,5,269,6,29,28,13,17],\"yaxis\":\"y\",\"type\":\"bar\"}],                        {\"template\":{\"data\":{\"histogram2dcontour\":[{\"type\":\"histogram2dcontour\",\"colorbar\":{\"outlinewidth\":0,\"ticks\":\"\"},\"colorscale\":[[0.0,\"#0d0887\"],[0.1111111111111111,\"#46039f\"],[0.2222222222222222,\"#7201a8\"],[0.3333333333333333,\"#9c179e\"],[0.4444444444444444,\"#bd3786\"],[0.5555555555555556,\"#d8576b\"],[0.6666666666666666,\"#ed7953\"],[0.7777777777777778,\"#fb9f3a\"],[0.8888888888888888,\"#fdca26\"],[1.0,\"#f0f921\"]]}],\"choropleth\":[{\"type\":\"choropleth\",\"colorbar\":{\"outlinewidth\":0,\"ticks\":\"\"}}],\"histogram2d\":[{\"type\":\"histogram2d\",\"colorbar\":{\"outlinewidth\":0,\"ticks\":\"\"},\"colorscale\":[[0.0,\"#0d0887\"],[0.1111111111111111,\"#46039f\"],[0.2222222222222222,\"#7201a8\"],[0.3333333333333333,\"#9c179e\"],[0.4444444444444444,\"#bd3786\"],[0.5555555555555556,\"#d8576b\"],[0.6666666666666666,\"#ed7953\"],[0.7777777777777778,\"#fb9f3a\"],[0.8888888888888888,\"#fdca26\"],[1.0,\"#f0f921\"]]}],\"heatmap\":[{\"type\":\"heatmap\",\"colorbar\":{\"outlinewidth\":0,\"ticks\":\"\"},\"colorscale\":[[0.0,\"#0d0887\"],[0.1111111111111111,\"#46039f\"],[0.2222222222222222,\"#7201a8\"],[0.3333333333333333,\"#9c179e\"],[0.4444444444444444,\"#bd3786\"],[0.5555555555555556,\"#d8576b\"],[0.6666666666666666,\"#ed7953\"],[0.7777777777777778,\"#fb9f3a\"],[0.8888888888888888,\"#fdca26\"],[1.0,\"#f0f921\"]]}],\"heatmapgl\":[{\"type\":\"heatmapgl\",\"colorbar\":{\"outlinewidth\":0,\"ticks\":\"\"},\"colorscale\":[[0.0,\"#0d0887\"],[0.1111111111111111,\"#46039f\"],[0.2222222222222222,\"#7201a8\"],[0.3333333333333333,\"#9c179e\"],[0.4444444444444444,\"#bd3786\"],[0.5555555555555556,\"#d8576b\"],[0.6666666666666666,\"#ed7953\"],[0.7777777777777778,\"#fb9f3a\"],[0.8888888888888888,\"#fdca26\"],[1.0,\"#f0f921\"]]}],\"contourcarpet\":[{\"type\":\"contourcarpet\",\"colorbar\":{\"outlinewidth\":0,\"ticks\":\"\"}}],\"contour\":[{\"type\":\"contour\",\"colorbar\":{\"outlinewidth\":0,\"ticks\":\"\"},\"colorscale\":[[0.0,\"#0d0887\"],[0.1111111111111111,\"#46039f\"],[0.2222222222222222,\"#7201a8\"],[0.3333333333333333,\"#9c179e\"],[0.4444444444444444,\"#bd3786\"],[0.5555555555555556,\"#d8576b\"],[0.6666666666666666,\"#ed7953\"],[0.7777777777777778,\"#fb9f3a\"],[0.8888888888888888,\"#fdca26\"],[1.0,\"#f0f921\"]]}],\"surface\":[{\"type\":\"surface\",\"colorbar\":{\"outlinewidth\":0,\"ticks\":\"\"},\"colorscale\":[[0.0,\"#0d0887\"],[0.1111111111111111,\"#46039f\"],[0.2222222222222222,\"#7201a8\"],[0.3333333333333333,\"#9c179e\"],[0.4444444444444444,\"#bd3786\"],[0.5555555555555556,\"#d8576b\"],[0.6666666666666666,\"#ed7953\"],[0.7777777777777778,\"#fb9f3a\"],[0.8888888888888888,\"#fdca26\"],[1.0,\"#f0f921\"]]}],\"mesh3d\":[{\"type\":\"mesh3d\",\"colorbar\":{\"outlinewidth\":0,\"ticks\":\"\"}}],\"scatter\":[{\"fillpattern\":{\"fillmode\":\"overlay\",\"size\":10,\"solidity\":0.2},\"type\":\"scatter\"}],\"parcoords\":[{\"type\":\"parcoords\",\"line\":{\"colorbar\":{\"outlinewidth\":0,\"ticks\":\"\"}}}],\"scatterpolargl\":[{\"type\":\"scatterpolargl\",\"marker\":{\"colorbar\":{\"outlinewidth\":0,\"ticks\":\"\"}}}],\"bar\":[{\"error_x\":{\"color\":\"#2a3f5f\"},\"error_y\":{\"color\":\"#2a3f5f\"},\"marker\":{\"line\":{\"color\":\"#E5ECF6\",\"width\":0.5},\"pattern\":{\"fillmode\":\"overlay\",\"size\":10,\"solidity\":0.2}},\"type\":\"bar\"}],\"scattergeo\":[{\"type\":\"scattergeo\",\"marker\":{\"colorbar\":{\"outlinewidth\":0,\"ticks\":\"\"}}}],\"scatterpolar\":[{\"type\":\"scatterpolar\",\"marker\":{\"colorbar\":{\"outlinewidth\":0,\"ticks\":\"\"}}}],\"histogram\":[{\"marker\":{\"pattern\":{\"fillmode\":\"overlay\",\"size\":10,\"solidity\":0.2}},\"type\":\"histogram\"}],\"scattergl\":[{\"type\":\"scattergl\",\"marker\":{\"colorbar\":{\"outlinewidth\":0,\"ticks\":\"\"}}}],\"scatter3d\":[{\"type\":\"scatter3d\",\"line\":{\"colorbar\":{\"outlinewidth\":0,\"ticks\":\"\"}},\"marker\":{\"colorbar\":{\"outlinewidth\":0,\"ticks\":\"\"}}}],\"scattermapbox\":[{\"type\":\"scattermapbox\",\"marker\":{\"colorbar\":{\"outlinewidth\":0,\"ticks\":\"\"}}}],\"scatterternary\":[{\"type\":\"scatterternary\",\"marker\":{\"colorbar\":{\"outlinewidth\":0,\"ticks\":\"\"}}}],\"scattercarpet\":[{\"type\":\"scattercarpet\",\"marker\":{\"colorbar\":{\"outlinewidth\":0,\"ticks\":\"\"}}}],\"carpet\":[{\"aaxis\":{\"endlinecolor\":\"#2a3f5f\",\"gridcolor\":\"white\",\"linecolor\":\"white\",\"minorgridcolor\":\"white\",\"startlinecolor\":\"#2a3f5f\"},\"baxis\":{\"endlinecolor\":\"#2a3f5f\",\"gridcolor\":\"white\",\"linecolor\":\"white\",\"minorgridcolor\":\"white\",\"startlinecolor\":\"#2a3f5f\"},\"type\":\"carpet\"}],\"table\":[{\"cells\":{\"fill\":{\"color\":\"#EBF0F8\"},\"line\":{\"color\":\"white\"}},\"header\":{\"fill\":{\"color\":\"#C8D4E3\"},\"line\":{\"color\":\"white\"}},\"type\":\"table\"}],\"barpolar\":[{\"marker\":{\"line\":{\"color\":\"#E5ECF6\",\"width\":0.5},\"pattern\":{\"fillmode\":\"overlay\",\"size\":10,\"solidity\":0.2}},\"type\":\"barpolar\"}],\"pie\":[{\"automargin\":true,\"type\":\"pie\"}]},\"layout\":{\"autotypenumbers\":\"strict\",\"colorway\":[\"#636efa\",\"#EF553B\",\"#00cc96\",\"#ab63fa\",\"#FFA15A\",\"#19d3f3\",\"#FF6692\",\"#B6E880\",\"#FF97FF\",\"#FECB52\"],\"font\":{\"color\":\"#2a3f5f\"},\"hovermode\":\"closest\",\"hoverlabel\":{\"align\":\"left\"},\"paper_bgcolor\":\"white\",\"plot_bgcolor\":\"#E5ECF6\",\"polar\":{\"bgcolor\":\"#E5ECF6\",\"angularaxis\":{\"gridcolor\":\"white\",\"linecolor\":\"white\",\"ticks\":\"\"},\"radialaxis\":{\"gridcolor\":\"white\",\"linecolor\":\"white\",\"ticks\":\"\"}},\"ternary\":{\"bgcolor\":\"#E5ECF6\",\"aaxis\":{\"gridcolor\":\"white\",\"linecolor\":\"white\",\"ticks\":\"\"},\"baxis\":{\"gridcolor\":\"white\",\"linecolor\":\"white\",\"ticks\":\"\"},\"caxis\":{\"gridcolor\":\"white\",\"linecolor\":\"white\",\"ticks\":\"\"}},\"coloraxis\":{\"colorbar\":{\"outlinewidth\":0,\"ticks\":\"\"}},\"colorscale\":{\"sequential\":[[0.0,\"#0d0887\"],[0.1111111111111111,\"#46039f\"],[0.2222222222222222,\"#7201a8\"],[0.3333333333333333,\"#9c179e\"],[0.4444444444444444,\"#bd3786\"],[0.5555555555555556,\"#d8576b\"],[0.6666666666666666,\"#ed7953\"],[0.7777777777777778,\"#fb9f3a\"],[0.8888888888888888,\"#fdca26\"],[1.0,\"#f0f921\"]],\"sequentialminus\":[[0.0,\"#0d0887\"],[0.1111111111111111,\"#46039f\"],[0.2222222222222222,\"#7201a8\"],[0.3333333333333333,\"#9c179e\"],[0.4444444444444444,\"#bd3786\"],[0.5555555555555556,\"#d8576b\"],[0.6666666666666666,\"#ed7953\"],[0.7777777777777778,\"#fb9f3a\"],[0.8888888888888888,\"#fdca26\"],[1.0,\"#f0f921\"]],\"diverging\":[[0,\"#8e0152\"],[0.1,\"#c51b7d\"],[0.2,\"#de77ae\"],[0.3,\"#f1b6da\"],[0.4,\"#fde0ef\"],[0.5,\"#f7f7f7\"],[0.6,\"#e6f5d0\"],[0.7,\"#b8e186\"],[0.8,\"#7fbc41\"],[0.9,\"#4d9221\"],[1,\"#276419\"]]},\"xaxis\":{\"gridcolor\":\"white\",\"linecolor\":\"white\",\"ticks\":\"\",\"title\":{\"standoff\":15},\"zerolinecolor\":\"white\",\"automargin\":true,\"zerolinewidth\":2},\"yaxis\":{\"gridcolor\":\"white\",\"linecolor\":\"white\",\"ticks\":\"\",\"title\":{\"standoff\":15},\"zerolinecolor\":\"white\",\"automargin\":true,\"zerolinewidth\":2},\"scene\":{\"xaxis\":{\"backgroundcolor\":\"#E5ECF6\",\"gridcolor\":\"white\",\"linecolor\":\"white\",\"showbackground\":true,\"ticks\":\"\",\"zerolinecolor\":\"white\",\"gridwidth\":2},\"yaxis\":{\"backgroundcolor\":\"#E5ECF6\",\"gridcolor\":\"white\",\"linecolor\":\"white\",\"showbackground\":true,\"ticks\":\"\",\"zerolinecolor\":\"white\",\"gridwidth\":2},\"zaxis\":{\"backgroundcolor\":\"#E5ECF6\",\"gridcolor\":\"white\",\"linecolor\":\"white\",\"showbackground\":true,\"ticks\":\"\",\"zerolinecolor\":\"white\",\"gridwidth\":2}},\"shapedefaults\":{\"line\":{\"color\":\"#2a3f5f\"}},\"annotationdefaults\":{\"arrowcolor\":\"#2a3f5f\",\"arrowhead\":0,\"arrowwidth\":1},\"geo\":{\"bgcolor\":\"white\",\"landcolor\":\"#E5ECF6\",\"subunitcolor\":\"white\",\"showland\":true,\"showlakes\":true,\"lakecolor\":\"white\"},\"title\":{\"x\":0.05},\"mapbox\":{\"style\":\"light\"}}},\"xaxis\":{\"anchor\":\"y\",\"domain\":[0.0,1.0],\"title\":{\"text\":\"Major Condition\"},\"showgrid\":true,\"gridcolor\":\"LightGrey\"},\"yaxis\":{\"anchor\":\"x\",\"domain\":[0.0,1.0],\"title\":{\"text\":\"Number of Studies\"},\"showgrid\":true,\"gridcolor\":\"LightGrey\"},\"legend\":{\"title\":{\"text\":\"Funder Type\"},\"tracegroupgap\":0},\"title\":{\"text\":\"Number of Studies by Major Condition and Funder Type\"},\"barmode\":\"group\",\"plot_bgcolor\":\"white\",\"updatemenus\":[{\"buttons\":[{\"args\":[{\"visible\":[true,false,false,false]}],\"label\":\"Network\",\"method\":\"update\"},{\"args\":[{\"visible\":[false,true,false,false]}],\"label\":\"Industry\",\"method\":\"update\"},{\"args\":[{\"visible\":[false,false,true,false]}],\"label\":\"NIH\",\"method\":\"update\"},{\"args\":[{\"visible\":[false,false,false,true]}],\"label\":\"Other\",\"method\":\"update\"},{\"args\":[{\"visible\":[true,true,true,true]}],\"label\":\"All\",\"method\":\"update\"}],\"direction\":\"down\",\"showactive\":true,\"x\":1.15,\"xanchor\":\"right\",\"y\":1.15,\"yanchor\":\"top\"}]},                        {\"responsive\": true}                    ).then(function(){\n",
       "                            \n",
       "var gd = document.getElementById('0e43fffa-5067-48ea-8113-753276d9d50d');\n",
       "var x = new MutationObserver(function (mutations, observer) {{\n",
       "        var display = window.getComputedStyle(gd).display;\n",
       "        if (!display || display === 'none') {{\n",
       "            console.log([gd, 'removed!']);\n",
       "            Plotly.purge(gd);\n",
       "            observer.disconnect();\n",
       "        }}\n",
       "}});\n",
       "\n",
       "// Listen for the removal of the full notebook cells\n",
       "var notebookContainer = gd.closest('#notebook-container');\n",
       "if (notebookContainer) {{\n",
       "    x.observe(notebookContainer, {childList: true});\n",
       "}}\n",
       "\n",
       "// Listen for the clearing of the current output cell\n",
       "var outputEl = gd.closest('.output');\n",
       "if (outputEl) {{\n",
       "    x.observe(outputEl, {childList: true});\n",
       "}}\n",
       "\n",
       "                        })                };                });            </script>        </div>"
      ]
     },
     "metadata": {},
     "output_type": "display_data"
    }
   ],
   "source": [
    "# Aggregate data for the bar plot (e.g., counts of studies)\n",
    "agg_df = New_Reduced_df.groupby(['Major Condition', 'Funder Type']).size().reset_index(name='Counts')\n",
    "\n",
    "# Create a bar plot using Plotly Express\n",
    "fig = px.bar(agg_df, x='Major Condition', y='Counts', color='Funder Type',\n",
    "             title='Number of Studies by Major Condition and Funder Type',\n",
    "             labels={'Counts': 'Number of Studies', 'Major Condition': 'Major Condition', 'Funder Type': 'Funder Type'},\n",
    "             barmode='group')  # Use 'group' to show bars side by side\n",
    "\n",
    "# Customize layout: Set background to white and add interactive buttons for Funder Type\n",
    "fig.update_layout(\n",
    "    plot_bgcolor='white',  # Set the background color to white\n",
    "    xaxis=dict(showgrid=True, gridcolor='LightGrey'),\n",
    "    yaxis=dict(showgrid=True, gridcolor='LightGrey'),\n",
    "    updatemenus=[\n",
    "        dict(\n",
    "            buttons=[\n",
    "                dict(\n",
    "                    args=[{'visible': [True, False, False, False]}],\n",
    "                    label=\"Network\",\n",
    "                    method=\"update\"\n",
    "                ),\n",
    "                dict(\n",
    "                    args=[{'visible': [False, True, False, False]}],\n",
    "                    label=\"Industry\",\n",
    "                    method=\"update\"\n",
    "                ),\n",
    "                dict(\n",
    "                    args=[{'visible': [False, False, True, False]}],\n",
    "                    label=\"NIH\",\n",
    "                    method=\"update\"\n",
    "                ),\n",
    "                dict(\n",
    "                    args=[{'visible': [False, False, False, True]}],\n",
    "                    label=\"Other\",\n",
    "                    method=\"update\"\n",
    "                ),\n",
    "                dict(\n",
    "                    args=[{'visible': [True, True, True, True]}],\n",
    "                    label=\"All\",\n",
    "                    method=\"update\"\n",
    "                )\n",
    "            ],\n",
    "            direction=\"down\",\n",
    "            showactive=True,\n",
    "            x=1.15,  # Adjust the x-position\n",
    "            xanchor='right',\n",
    "            y=1.15,  # Adjust the y-position\n",
    "            yanchor='top'\n",
    "        ),\n",
    "    ]\n",
    ")\n",
    "\n",
    "# Show the plot\n",
    "fig.show()\n",
    "\n",
    "# Save the figure as a PNG image\n",
    "pio.write_image(fig, 'Condition_Funder_Bar.png', format='png')"
   ]
  },
  {
   "cell_type": "markdown",
   "id": "a5d8803f",
   "metadata": {},
   "source": [
    "# Plot interactive pie plot: Major Condition and Funding type"
   ]
  },
  {
   "cell_type": "code",
   "execution_count": 43,
   "id": "d01a9994",
   "metadata": {},
   "outputs": [
    {
     "data": {
      "application/vnd.plotly.v1+json": {
       "config": {
        "plotlyServerURL": "https://plot.ly"
       },
       "data": [
        {
         "customdata": [
          [
           "INDUSTRY"
          ],
          [
           "NETWORK"
          ],
          [
           "NIH"
          ],
          [
           "OTHER"
          ],
          [
           "NETWORK"
          ],
          [
           "NIH"
          ],
          [
           "OTHER"
          ],
          [
           "INDUSTRY"
          ],
          [
           "NETWORK"
          ],
          [
           "NIH"
          ],
          [
           "OTHER"
          ],
          [
           "NIH"
          ],
          [
           "OTHER"
          ],
          [
           "INDUSTRY"
          ],
          [
           "NETWORK"
          ],
          [
           "NIH"
          ],
          [
           "OTHER"
          ],
          [
           "NIH"
          ],
          [
           "OTHER"
          ],
          [
           "INDUSTRY"
          ],
          [
           "NIH"
          ],
          [
           "OTHER"
          ],
          [
           "NETWORK"
          ],
          [
           "NIH"
          ],
          [
           "OTHER"
          ],
          [
           "NIH"
          ],
          [
           "OTHER"
          ],
          [
           "INDUSTRY"
          ],
          [
           "NIH"
          ],
          [
           "OTHER"
          ]
         ],
         "domain": {
          "x": [
           0,
           1
          ],
          "y": [
           0,
           1
          ]
         },
         "hovertemplate": "Major Condition=%{label}<br>Number of Studies=%{value}<br>Funder Type=%{customdata[0]}<extra></extra>",
         "labels": [
          "Blood Cancer",
          "Blood Cancer",
          "Blood Cancer",
          "Blood Cancer",
          "Brain Cancer",
          "Brain Cancer",
          "Brain Cancer",
          "Lung Cancer",
          "Lung Cancer",
          "Lung Cancer",
          "Lung Cancer",
          "Lymphoma Cancer",
          "Lymphoma Cancer",
          "Other",
          "Other",
          "Other",
          "Other",
          "Pancreatic Cancer",
          "Pancreatic Cancer",
          "Prostate Cancer",
          "Prostate Cancer",
          "Prostate Cancer",
          "breast Cancer",
          "breast Cancer",
          "breast Cancer",
          "kidney Cancer",
          "kidney Cancer",
          "liver Cancer",
          "liver Cancer",
          "liver Cancer"
         ],
         "legendgroup": "",
         "marker": {
          "colors": [
           "#636efa",
           "#EF553B",
           "#00cc96",
           "#ab63fa",
           "#EF553B",
           "#00cc96",
           "#ab63fa",
           "#636efa",
           "#EF553B",
           "#00cc96",
           "#ab63fa",
           "#00cc96",
           "#ab63fa",
           "#636efa",
           "#EF553B",
           "#00cc96",
           "#ab63fa",
           "#00cc96",
           "#ab63fa",
           "#636efa",
           "#00cc96",
           "#ab63fa",
           "#EF553B",
           "#00cc96",
           "#ab63fa",
           "#00cc96",
           "#ab63fa",
           "#636efa",
           "#00cc96",
           "#ab63fa"
          ]
         },
         "name": "",
         "showlegend": true,
         "type": "pie",
         "values": [
          1,
          25,
          104,
          222,
          9,
          62,
          44,
          1,
          21,
          156,
          161,
          4,
          5,
          9,
          28,
          180,
          269,
          7,
          6,
          1,
          23,
          29,
          1,
          7,
          28,
          18,
          13,
          2,
          15,
          17
         ]
        }
       ],
       "layout": {
        "legend": {
         "title": {
          "text": "Funder Type"
         },
         "tracegroupgap": 0
        },
        "plot_bgcolor": "white",
        "template": {
         "data": {
          "bar": [
           {
            "error_x": {
             "color": "#2a3f5f"
            },
            "error_y": {
             "color": "#2a3f5f"
            },
            "marker": {
             "line": {
              "color": "#E5ECF6",
              "width": 0.5
             },
             "pattern": {
              "fillmode": "overlay",
              "size": 10,
              "solidity": 0.2
             }
            },
            "type": "bar"
           }
          ],
          "barpolar": [
           {
            "marker": {
             "line": {
              "color": "#E5ECF6",
              "width": 0.5
             },
             "pattern": {
              "fillmode": "overlay",
              "size": 10,
              "solidity": 0.2
             }
            },
            "type": "barpolar"
           }
          ],
          "carpet": [
           {
            "aaxis": {
             "endlinecolor": "#2a3f5f",
             "gridcolor": "white",
             "linecolor": "white",
             "minorgridcolor": "white",
             "startlinecolor": "#2a3f5f"
            },
            "baxis": {
             "endlinecolor": "#2a3f5f",
             "gridcolor": "white",
             "linecolor": "white",
             "minorgridcolor": "white",
             "startlinecolor": "#2a3f5f"
            },
            "type": "carpet"
           }
          ],
          "choropleth": [
           {
            "colorbar": {
             "outlinewidth": 0,
             "ticks": ""
            },
            "type": "choropleth"
           }
          ],
          "contour": [
           {
            "colorbar": {
             "outlinewidth": 0,
             "ticks": ""
            },
            "colorscale": [
             [
              0,
              "#0d0887"
             ],
             [
              0.1111111111111111,
              "#46039f"
             ],
             [
              0.2222222222222222,
              "#7201a8"
             ],
             [
              0.3333333333333333,
              "#9c179e"
             ],
             [
              0.4444444444444444,
              "#bd3786"
             ],
             [
              0.5555555555555556,
              "#d8576b"
             ],
             [
              0.6666666666666666,
              "#ed7953"
             ],
             [
              0.7777777777777778,
              "#fb9f3a"
             ],
             [
              0.8888888888888888,
              "#fdca26"
             ],
             [
              1,
              "#f0f921"
             ]
            ],
            "type": "contour"
           }
          ],
          "contourcarpet": [
           {
            "colorbar": {
             "outlinewidth": 0,
             "ticks": ""
            },
            "type": "contourcarpet"
           }
          ],
          "heatmap": [
           {
            "colorbar": {
             "outlinewidth": 0,
             "ticks": ""
            },
            "colorscale": [
             [
              0,
              "#0d0887"
             ],
             [
              0.1111111111111111,
              "#46039f"
             ],
             [
              0.2222222222222222,
              "#7201a8"
             ],
             [
              0.3333333333333333,
              "#9c179e"
             ],
             [
              0.4444444444444444,
              "#bd3786"
             ],
             [
              0.5555555555555556,
              "#d8576b"
             ],
             [
              0.6666666666666666,
              "#ed7953"
             ],
             [
              0.7777777777777778,
              "#fb9f3a"
             ],
             [
              0.8888888888888888,
              "#fdca26"
             ],
             [
              1,
              "#f0f921"
             ]
            ],
            "type": "heatmap"
           }
          ],
          "heatmapgl": [
           {
            "colorbar": {
             "outlinewidth": 0,
             "ticks": ""
            },
            "colorscale": [
             [
              0,
              "#0d0887"
             ],
             [
              0.1111111111111111,
              "#46039f"
             ],
             [
              0.2222222222222222,
              "#7201a8"
             ],
             [
              0.3333333333333333,
              "#9c179e"
             ],
             [
              0.4444444444444444,
              "#bd3786"
             ],
             [
              0.5555555555555556,
              "#d8576b"
             ],
             [
              0.6666666666666666,
              "#ed7953"
             ],
             [
              0.7777777777777778,
              "#fb9f3a"
             ],
             [
              0.8888888888888888,
              "#fdca26"
             ],
             [
              1,
              "#f0f921"
             ]
            ],
            "type": "heatmapgl"
           }
          ],
          "histogram": [
           {
            "marker": {
             "pattern": {
              "fillmode": "overlay",
              "size": 10,
              "solidity": 0.2
             }
            },
            "type": "histogram"
           }
          ],
          "histogram2d": [
           {
            "colorbar": {
             "outlinewidth": 0,
             "ticks": ""
            },
            "colorscale": [
             [
              0,
              "#0d0887"
             ],
             [
              0.1111111111111111,
              "#46039f"
             ],
             [
              0.2222222222222222,
              "#7201a8"
             ],
             [
              0.3333333333333333,
              "#9c179e"
             ],
             [
              0.4444444444444444,
              "#bd3786"
             ],
             [
              0.5555555555555556,
              "#d8576b"
             ],
             [
              0.6666666666666666,
              "#ed7953"
             ],
             [
              0.7777777777777778,
              "#fb9f3a"
             ],
             [
              0.8888888888888888,
              "#fdca26"
             ],
             [
              1,
              "#f0f921"
             ]
            ],
            "type": "histogram2d"
           }
          ],
          "histogram2dcontour": [
           {
            "colorbar": {
             "outlinewidth": 0,
             "ticks": ""
            },
            "colorscale": [
             [
              0,
              "#0d0887"
             ],
             [
              0.1111111111111111,
              "#46039f"
             ],
             [
              0.2222222222222222,
              "#7201a8"
             ],
             [
              0.3333333333333333,
              "#9c179e"
             ],
             [
              0.4444444444444444,
              "#bd3786"
             ],
             [
              0.5555555555555556,
              "#d8576b"
             ],
             [
              0.6666666666666666,
              "#ed7953"
             ],
             [
              0.7777777777777778,
              "#fb9f3a"
             ],
             [
              0.8888888888888888,
              "#fdca26"
             ],
             [
              1,
              "#f0f921"
             ]
            ],
            "type": "histogram2dcontour"
           }
          ],
          "mesh3d": [
           {
            "colorbar": {
             "outlinewidth": 0,
             "ticks": ""
            },
            "type": "mesh3d"
           }
          ],
          "parcoords": [
           {
            "line": {
             "colorbar": {
              "outlinewidth": 0,
              "ticks": ""
             }
            },
            "type": "parcoords"
           }
          ],
          "pie": [
           {
            "automargin": true,
            "type": "pie"
           }
          ],
          "scatter": [
           {
            "fillpattern": {
             "fillmode": "overlay",
             "size": 10,
             "solidity": 0.2
            },
            "type": "scatter"
           }
          ],
          "scatter3d": [
           {
            "line": {
             "colorbar": {
              "outlinewidth": 0,
              "ticks": ""
             }
            },
            "marker": {
             "colorbar": {
              "outlinewidth": 0,
              "ticks": ""
             }
            },
            "type": "scatter3d"
           }
          ],
          "scattercarpet": [
           {
            "marker": {
             "colorbar": {
              "outlinewidth": 0,
              "ticks": ""
             }
            },
            "type": "scattercarpet"
           }
          ],
          "scattergeo": [
           {
            "marker": {
             "colorbar": {
              "outlinewidth": 0,
              "ticks": ""
             }
            },
            "type": "scattergeo"
           }
          ],
          "scattergl": [
           {
            "marker": {
             "colorbar": {
              "outlinewidth": 0,
              "ticks": ""
             }
            },
            "type": "scattergl"
           }
          ],
          "scattermapbox": [
           {
            "marker": {
             "colorbar": {
              "outlinewidth": 0,
              "ticks": ""
             }
            },
            "type": "scattermapbox"
           }
          ],
          "scatterpolar": [
           {
            "marker": {
             "colorbar": {
              "outlinewidth": 0,
              "ticks": ""
             }
            },
            "type": "scatterpolar"
           }
          ],
          "scatterpolargl": [
           {
            "marker": {
             "colorbar": {
              "outlinewidth": 0,
              "ticks": ""
             }
            },
            "type": "scatterpolargl"
           }
          ],
          "scatterternary": [
           {
            "marker": {
             "colorbar": {
              "outlinewidth": 0,
              "ticks": ""
             }
            },
            "type": "scatterternary"
           }
          ],
          "surface": [
           {
            "colorbar": {
             "outlinewidth": 0,
             "ticks": ""
            },
            "colorscale": [
             [
              0,
              "#0d0887"
             ],
             [
              0.1111111111111111,
              "#46039f"
             ],
             [
              0.2222222222222222,
              "#7201a8"
             ],
             [
              0.3333333333333333,
              "#9c179e"
             ],
             [
              0.4444444444444444,
              "#bd3786"
             ],
             [
              0.5555555555555556,
              "#d8576b"
             ],
             [
              0.6666666666666666,
              "#ed7953"
             ],
             [
              0.7777777777777778,
              "#fb9f3a"
             ],
             [
              0.8888888888888888,
              "#fdca26"
             ],
             [
              1,
              "#f0f921"
             ]
            ],
            "type": "surface"
           }
          ],
          "table": [
           {
            "cells": {
             "fill": {
              "color": "#EBF0F8"
             },
             "line": {
              "color": "white"
             }
            },
            "header": {
             "fill": {
              "color": "#C8D4E3"
             },
             "line": {
              "color": "white"
             }
            },
            "type": "table"
           }
          ]
         },
         "layout": {
          "annotationdefaults": {
           "arrowcolor": "#2a3f5f",
           "arrowhead": 0,
           "arrowwidth": 1
          },
          "autotypenumbers": "strict",
          "coloraxis": {
           "colorbar": {
            "outlinewidth": 0,
            "ticks": ""
           }
          },
          "colorscale": {
           "diverging": [
            [
             0,
             "#8e0152"
            ],
            [
             0.1,
             "#c51b7d"
            ],
            [
             0.2,
             "#de77ae"
            ],
            [
             0.3,
             "#f1b6da"
            ],
            [
             0.4,
             "#fde0ef"
            ],
            [
             0.5,
             "#f7f7f7"
            ],
            [
             0.6,
             "#e6f5d0"
            ],
            [
             0.7,
             "#b8e186"
            ],
            [
             0.8,
             "#7fbc41"
            ],
            [
             0.9,
             "#4d9221"
            ],
            [
             1,
             "#276419"
            ]
           ],
           "sequential": [
            [
             0,
             "#0d0887"
            ],
            [
             0.1111111111111111,
             "#46039f"
            ],
            [
             0.2222222222222222,
             "#7201a8"
            ],
            [
             0.3333333333333333,
             "#9c179e"
            ],
            [
             0.4444444444444444,
             "#bd3786"
            ],
            [
             0.5555555555555556,
             "#d8576b"
            ],
            [
             0.6666666666666666,
             "#ed7953"
            ],
            [
             0.7777777777777778,
             "#fb9f3a"
            ],
            [
             0.8888888888888888,
             "#fdca26"
            ],
            [
             1,
             "#f0f921"
            ]
           ],
           "sequentialminus": [
            [
             0,
             "#0d0887"
            ],
            [
             0.1111111111111111,
             "#46039f"
            ],
            [
             0.2222222222222222,
             "#7201a8"
            ],
            [
             0.3333333333333333,
             "#9c179e"
            ],
            [
             0.4444444444444444,
             "#bd3786"
            ],
            [
             0.5555555555555556,
             "#d8576b"
            ],
            [
             0.6666666666666666,
             "#ed7953"
            ],
            [
             0.7777777777777778,
             "#fb9f3a"
            ],
            [
             0.8888888888888888,
             "#fdca26"
            ],
            [
             1,
             "#f0f921"
            ]
           ]
          },
          "colorway": [
           "#636efa",
           "#EF553B",
           "#00cc96",
           "#ab63fa",
           "#FFA15A",
           "#19d3f3",
           "#FF6692",
           "#B6E880",
           "#FF97FF",
           "#FECB52"
          ],
          "font": {
           "color": "#2a3f5f"
          },
          "geo": {
           "bgcolor": "white",
           "lakecolor": "white",
           "landcolor": "#E5ECF6",
           "showlakes": true,
           "showland": true,
           "subunitcolor": "white"
          },
          "hoverlabel": {
           "align": "left"
          },
          "hovermode": "closest",
          "mapbox": {
           "style": "light"
          },
          "paper_bgcolor": "white",
          "plot_bgcolor": "#E5ECF6",
          "polar": {
           "angularaxis": {
            "gridcolor": "white",
            "linecolor": "white",
            "ticks": ""
           },
           "bgcolor": "#E5ECF6",
           "radialaxis": {
            "gridcolor": "white",
            "linecolor": "white",
            "ticks": ""
           }
          },
          "scene": {
           "xaxis": {
            "backgroundcolor": "#E5ECF6",
            "gridcolor": "white",
            "gridwidth": 2,
            "linecolor": "white",
            "showbackground": true,
            "ticks": "",
            "zerolinecolor": "white"
           },
           "yaxis": {
            "backgroundcolor": "#E5ECF6",
            "gridcolor": "white",
            "gridwidth": 2,
            "linecolor": "white",
            "showbackground": true,
            "ticks": "",
            "zerolinecolor": "white"
           },
           "zaxis": {
            "backgroundcolor": "#E5ECF6",
            "gridcolor": "white",
            "gridwidth": 2,
            "linecolor": "white",
            "showbackground": true,
            "ticks": "",
            "zerolinecolor": "white"
           }
          },
          "shapedefaults": {
           "line": {
            "color": "#2a3f5f"
           }
          },
          "ternary": {
           "aaxis": {
            "gridcolor": "white",
            "linecolor": "white",
            "ticks": ""
           },
           "baxis": {
            "gridcolor": "white",
            "linecolor": "white",
            "ticks": ""
           },
           "bgcolor": "#E5ECF6",
           "caxis": {
            "gridcolor": "white",
            "linecolor": "white",
            "ticks": ""
           }
          },
          "title": {
           "x": 0.05
          },
          "xaxis": {
           "automargin": true,
           "gridcolor": "white",
           "linecolor": "white",
           "ticks": "",
           "title": {
            "standoff": 15
           },
           "zerolinecolor": "white",
           "zerolinewidth": 2
          },
          "yaxis": {
           "automargin": true,
           "gridcolor": "white",
           "linecolor": "white",
           "ticks": "",
           "title": {
            "standoff": 15
           },
           "zerolinecolor": "white",
           "zerolinewidth": 2
          }
         }
        },
        "title": {
         "text": "Distribution of Studies by Major Condition and Funder Type"
        },
        "updatemenus": [
         {
          "buttons": [
           {
            "args": [
             {
              "labels": [
               [
                "Blood Cancer",
                "Lung Cancer",
                "Other",
                "Prostate Cancer",
                "liver Cancer"
               ],
               [
                "Blood Cancer",
                "Brain Cancer",
                "Lung Cancer",
                "Other",
                "breast Cancer"
               ],
               [
                "Blood Cancer",
                "Brain Cancer",
                "Lung Cancer",
                "Lymphoma Cancer",
                "Other",
                "Pancreatic Cancer",
                "Prostate Cancer",
                "breast Cancer",
                "kidney Cancer",
                "liver Cancer"
               ],
               [
                "Blood Cancer",
                "Brain Cancer",
                "Lung Cancer",
                "Lymphoma Cancer",
                "Other",
                "Pancreatic Cancer",
                "Prostate Cancer",
                "breast Cancer",
                "kidney Cancer",
                "liver Cancer"
               ]
              ],
              "values": [
               [
                1,
                1,
                9,
                1,
                2
               ],
               [
                25,
                9,
                21,
                28,
                1
               ],
               [
                104,
                62,
                156,
                4,
                180,
                7,
                23,
                7,
                18,
                15
               ],
               [
                222,
                44,
                161,
                5,
                269,
                6,
                29,
                28,
                13,
                17
               ]
              ]
             }
            ],
            "label": "All",
            "method": "update"
           },
           {
            "args": [
             {
              "labels": [
               []
              ],
              "values": [
               []
              ]
             }
            ],
            "label": "Government",
            "method": "update"
           },
           {
            "args": [
             {
              "labels": [
               []
              ],
              "values": [
               []
              ]
             }
            ],
            "label": "Industry",
            "method": "update"
           },
           {
            "args": [
             {
              "labels": [
               []
              ],
              "values": [
               []
              ]
             }
            ],
            "label": "Other",
            "method": "update"
           }
          ],
          "direction": "down",
          "showactive": true,
          "x": 1.15,
          "xanchor": "right",
          "y": 1.15,
          "yanchor": "top"
         }
        ]
       }
      },
      "text/html": [
       "<div>                            <div id=\"312eb78f-e571-4866-8ec4-726dcc9b2956\" class=\"plotly-graph-div\" style=\"height:525px; width:100%;\"></div>            <script type=\"text/javascript\">                require([\"plotly\"], function(Plotly) {                    window.PLOTLYENV=window.PLOTLYENV || {};                                    if (document.getElementById(\"312eb78f-e571-4866-8ec4-726dcc9b2956\")) {                    Plotly.newPlot(                        \"312eb78f-e571-4866-8ec4-726dcc9b2956\",                        [{\"customdata\":[[\"INDUSTRY\"],[\"NETWORK\"],[\"NIH\"],[\"OTHER\"],[\"NETWORK\"],[\"NIH\"],[\"OTHER\"],[\"INDUSTRY\"],[\"NETWORK\"],[\"NIH\"],[\"OTHER\"],[\"NIH\"],[\"OTHER\"],[\"INDUSTRY\"],[\"NETWORK\"],[\"NIH\"],[\"OTHER\"],[\"NIH\"],[\"OTHER\"],[\"INDUSTRY\"],[\"NIH\"],[\"OTHER\"],[\"NETWORK\"],[\"NIH\"],[\"OTHER\"],[\"NIH\"],[\"OTHER\"],[\"INDUSTRY\"],[\"NIH\"],[\"OTHER\"]],\"domain\":{\"x\":[0.0,1.0],\"y\":[0.0,1.0]},\"hovertemplate\":\"Major Condition=%{label}<br>Number of Studies=%{value}<br>Funder Type=%{customdata[0]}<extra></extra>\",\"labels\":[\"Blood Cancer\",\"Blood Cancer\",\"Blood Cancer\",\"Blood Cancer\",\"Brain Cancer\",\"Brain Cancer\",\"Brain Cancer\",\"Lung Cancer\",\"Lung Cancer\",\"Lung Cancer\",\"Lung Cancer\",\"Lymphoma Cancer\",\"Lymphoma Cancer\",\"Other\",\"Other\",\"Other\",\"Other\",\"Pancreatic Cancer\",\"Pancreatic Cancer\",\"Prostate Cancer\",\"Prostate Cancer\",\"Prostate Cancer\",\"breast Cancer\",\"breast Cancer\",\"breast Cancer\",\"kidney Cancer\",\"kidney Cancer\",\"liver Cancer\",\"liver Cancer\",\"liver Cancer\"],\"legendgroup\":\"\",\"marker\":{\"colors\":[\"#636efa\",\"#EF553B\",\"#00cc96\",\"#ab63fa\",\"#EF553B\",\"#00cc96\",\"#ab63fa\",\"#636efa\",\"#EF553B\",\"#00cc96\",\"#ab63fa\",\"#00cc96\",\"#ab63fa\",\"#636efa\",\"#EF553B\",\"#00cc96\",\"#ab63fa\",\"#00cc96\",\"#ab63fa\",\"#636efa\",\"#00cc96\",\"#ab63fa\",\"#EF553B\",\"#00cc96\",\"#ab63fa\",\"#00cc96\",\"#ab63fa\",\"#636efa\",\"#00cc96\",\"#ab63fa\"]},\"name\":\"\",\"showlegend\":true,\"values\":[1,25,104,222,9,62,44,1,21,156,161,4,5,9,28,180,269,7,6,1,23,29,1,7,28,18,13,2,15,17],\"type\":\"pie\"}],                        {\"template\":{\"data\":{\"histogram2dcontour\":[{\"type\":\"histogram2dcontour\",\"colorbar\":{\"outlinewidth\":0,\"ticks\":\"\"},\"colorscale\":[[0.0,\"#0d0887\"],[0.1111111111111111,\"#46039f\"],[0.2222222222222222,\"#7201a8\"],[0.3333333333333333,\"#9c179e\"],[0.4444444444444444,\"#bd3786\"],[0.5555555555555556,\"#d8576b\"],[0.6666666666666666,\"#ed7953\"],[0.7777777777777778,\"#fb9f3a\"],[0.8888888888888888,\"#fdca26\"],[1.0,\"#f0f921\"]]}],\"choropleth\":[{\"type\":\"choropleth\",\"colorbar\":{\"outlinewidth\":0,\"ticks\":\"\"}}],\"histogram2d\":[{\"type\":\"histogram2d\",\"colorbar\":{\"outlinewidth\":0,\"ticks\":\"\"},\"colorscale\":[[0.0,\"#0d0887\"],[0.1111111111111111,\"#46039f\"],[0.2222222222222222,\"#7201a8\"],[0.3333333333333333,\"#9c179e\"],[0.4444444444444444,\"#bd3786\"],[0.5555555555555556,\"#d8576b\"],[0.6666666666666666,\"#ed7953\"],[0.7777777777777778,\"#fb9f3a\"],[0.8888888888888888,\"#fdca26\"],[1.0,\"#f0f921\"]]}],\"heatmap\":[{\"type\":\"heatmap\",\"colorbar\":{\"outlinewidth\":0,\"ticks\":\"\"},\"colorscale\":[[0.0,\"#0d0887\"],[0.1111111111111111,\"#46039f\"],[0.2222222222222222,\"#7201a8\"],[0.3333333333333333,\"#9c179e\"],[0.4444444444444444,\"#bd3786\"],[0.5555555555555556,\"#d8576b\"],[0.6666666666666666,\"#ed7953\"],[0.7777777777777778,\"#fb9f3a\"],[0.8888888888888888,\"#fdca26\"],[1.0,\"#f0f921\"]]}],\"heatmapgl\":[{\"type\":\"heatmapgl\",\"colorbar\":{\"outlinewidth\":0,\"ticks\":\"\"},\"colorscale\":[[0.0,\"#0d0887\"],[0.1111111111111111,\"#46039f\"],[0.2222222222222222,\"#7201a8\"],[0.3333333333333333,\"#9c179e\"],[0.4444444444444444,\"#bd3786\"],[0.5555555555555556,\"#d8576b\"],[0.6666666666666666,\"#ed7953\"],[0.7777777777777778,\"#fb9f3a\"],[0.8888888888888888,\"#fdca26\"],[1.0,\"#f0f921\"]]}],\"contourcarpet\":[{\"type\":\"contourcarpet\",\"colorbar\":{\"outlinewidth\":0,\"ticks\":\"\"}}],\"contour\":[{\"type\":\"contour\",\"colorbar\":{\"outlinewidth\":0,\"ticks\":\"\"},\"colorscale\":[[0.0,\"#0d0887\"],[0.1111111111111111,\"#46039f\"],[0.2222222222222222,\"#7201a8\"],[0.3333333333333333,\"#9c179e\"],[0.4444444444444444,\"#bd3786\"],[0.5555555555555556,\"#d8576b\"],[0.6666666666666666,\"#ed7953\"],[0.7777777777777778,\"#fb9f3a\"],[0.8888888888888888,\"#fdca26\"],[1.0,\"#f0f921\"]]}],\"surface\":[{\"type\":\"surface\",\"colorbar\":{\"outlinewidth\":0,\"ticks\":\"\"},\"colorscale\":[[0.0,\"#0d0887\"],[0.1111111111111111,\"#46039f\"],[0.2222222222222222,\"#7201a8\"],[0.3333333333333333,\"#9c179e\"],[0.4444444444444444,\"#bd3786\"],[0.5555555555555556,\"#d8576b\"],[0.6666666666666666,\"#ed7953\"],[0.7777777777777778,\"#fb9f3a\"],[0.8888888888888888,\"#fdca26\"],[1.0,\"#f0f921\"]]}],\"mesh3d\":[{\"type\":\"mesh3d\",\"colorbar\":{\"outlinewidth\":0,\"ticks\":\"\"}}],\"scatter\":[{\"fillpattern\":{\"fillmode\":\"overlay\",\"size\":10,\"solidity\":0.2},\"type\":\"scatter\"}],\"parcoords\":[{\"type\":\"parcoords\",\"line\":{\"colorbar\":{\"outlinewidth\":0,\"ticks\":\"\"}}}],\"scatterpolargl\":[{\"type\":\"scatterpolargl\",\"marker\":{\"colorbar\":{\"outlinewidth\":0,\"ticks\":\"\"}}}],\"bar\":[{\"error_x\":{\"color\":\"#2a3f5f\"},\"error_y\":{\"color\":\"#2a3f5f\"},\"marker\":{\"line\":{\"color\":\"#E5ECF6\",\"width\":0.5},\"pattern\":{\"fillmode\":\"overlay\",\"size\":10,\"solidity\":0.2}},\"type\":\"bar\"}],\"scattergeo\":[{\"type\":\"scattergeo\",\"marker\":{\"colorbar\":{\"outlinewidth\":0,\"ticks\":\"\"}}}],\"scatterpolar\":[{\"type\":\"scatterpolar\",\"marker\":{\"colorbar\":{\"outlinewidth\":0,\"ticks\":\"\"}}}],\"histogram\":[{\"marker\":{\"pattern\":{\"fillmode\":\"overlay\",\"size\":10,\"solidity\":0.2}},\"type\":\"histogram\"}],\"scattergl\":[{\"type\":\"scattergl\",\"marker\":{\"colorbar\":{\"outlinewidth\":0,\"ticks\":\"\"}}}],\"scatter3d\":[{\"type\":\"scatter3d\",\"line\":{\"colorbar\":{\"outlinewidth\":0,\"ticks\":\"\"}},\"marker\":{\"colorbar\":{\"outlinewidth\":0,\"ticks\":\"\"}}}],\"scattermapbox\":[{\"type\":\"scattermapbox\",\"marker\":{\"colorbar\":{\"outlinewidth\":0,\"ticks\":\"\"}}}],\"scatterternary\":[{\"type\":\"scatterternary\",\"marker\":{\"colorbar\":{\"outlinewidth\":0,\"ticks\":\"\"}}}],\"scattercarpet\":[{\"type\":\"scattercarpet\",\"marker\":{\"colorbar\":{\"outlinewidth\":0,\"ticks\":\"\"}}}],\"carpet\":[{\"aaxis\":{\"endlinecolor\":\"#2a3f5f\",\"gridcolor\":\"white\",\"linecolor\":\"white\",\"minorgridcolor\":\"white\",\"startlinecolor\":\"#2a3f5f\"},\"baxis\":{\"endlinecolor\":\"#2a3f5f\",\"gridcolor\":\"white\",\"linecolor\":\"white\",\"minorgridcolor\":\"white\",\"startlinecolor\":\"#2a3f5f\"},\"type\":\"carpet\"}],\"table\":[{\"cells\":{\"fill\":{\"color\":\"#EBF0F8\"},\"line\":{\"color\":\"white\"}},\"header\":{\"fill\":{\"color\":\"#C8D4E3\"},\"line\":{\"color\":\"white\"}},\"type\":\"table\"}],\"barpolar\":[{\"marker\":{\"line\":{\"color\":\"#E5ECF6\",\"width\":0.5},\"pattern\":{\"fillmode\":\"overlay\",\"size\":10,\"solidity\":0.2}},\"type\":\"barpolar\"}],\"pie\":[{\"automargin\":true,\"type\":\"pie\"}]},\"layout\":{\"autotypenumbers\":\"strict\",\"colorway\":[\"#636efa\",\"#EF553B\",\"#00cc96\",\"#ab63fa\",\"#FFA15A\",\"#19d3f3\",\"#FF6692\",\"#B6E880\",\"#FF97FF\",\"#FECB52\"],\"font\":{\"color\":\"#2a3f5f\"},\"hovermode\":\"closest\",\"hoverlabel\":{\"align\":\"left\"},\"paper_bgcolor\":\"white\",\"plot_bgcolor\":\"#E5ECF6\",\"polar\":{\"bgcolor\":\"#E5ECF6\",\"angularaxis\":{\"gridcolor\":\"white\",\"linecolor\":\"white\",\"ticks\":\"\"},\"radialaxis\":{\"gridcolor\":\"white\",\"linecolor\":\"white\",\"ticks\":\"\"}},\"ternary\":{\"bgcolor\":\"#E5ECF6\",\"aaxis\":{\"gridcolor\":\"white\",\"linecolor\":\"white\",\"ticks\":\"\"},\"baxis\":{\"gridcolor\":\"white\",\"linecolor\":\"white\",\"ticks\":\"\"},\"caxis\":{\"gridcolor\":\"white\",\"linecolor\":\"white\",\"ticks\":\"\"}},\"coloraxis\":{\"colorbar\":{\"outlinewidth\":0,\"ticks\":\"\"}},\"colorscale\":{\"sequential\":[[0.0,\"#0d0887\"],[0.1111111111111111,\"#46039f\"],[0.2222222222222222,\"#7201a8\"],[0.3333333333333333,\"#9c179e\"],[0.4444444444444444,\"#bd3786\"],[0.5555555555555556,\"#d8576b\"],[0.6666666666666666,\"#ed7953\"],[0.7777777777777778,\"#fb9f3a\"],[0.8888888888888888,\"#fdca26\"],[1.0,\"#f0f921\"]],\"sequentialminus\":[[0.0,\"#0d0887\"],[0.1111111111111111,\"#46039f\"],[0.2222222222222222,\"#7201a8\"],[0.3333333333333333,\"#9c179e\"],[0.4444444444444444,\"#bd3786\"],[0.5555555555555556,\"#d8576b\"],[0.6666666666666666,\"#ed7953\"],[0.7777777777777778,\"#fb9f3a\"],[0.8888888888888888,\"#fdca26\"],[1.0,\"#f0f921\"]],\"diverging\":[[0,\"#8e0152\"],[0.1,\"#c51b7d\"],[0.2,\"#de77ae\"],[0.3,\"#f1b6da\"],[0.4,\"#fde0ef\"],[0.5,\"#f7f7f7\"],[0.6,\"#e6f5d0\"],[0.7,\"#b8e186\"],[0.8,\"#7fbc41\"],[0.9,\"#4d9221\"],[1,\"#276419\"]]},\"xaxis\":{\"gridcolor\":\"white\",\"linecolor\":\"white\",\"ticks\":\"\",\"title\":{\"standoff\":15},\"zerolinecolor\":\"white\",\"automargin\":true,\"zerolinewidth\":2},\"yaxis\":{\"gridcolor\":\"white\",\"linecolor\":\"white\",\"ticks\":\"\",\"title\":{\"standoff\":15},\"zerolinecolor\":\"white\",\"automargin\":true,\"zerolinewidth\":2},\"scene\":{\"xaxis\":{\"backgroundcolor\":\"#E5ECF6\",\"gridcolor\":\"white\",\"linecolor\":\"white\",\"showbackground\":true,\"ticks\":\"\",\"zerolinecolor\":\"white\",\"gridwidth\":2},\"yaxis\":{\"backgroundcolor\":\"#E5ECF6\",\"gridcolor\":\"white\",\"linecolor\":\"white\",\"showbackground\":true,\"ticks\":\"\",\"zerolinecolor\":\"white\",\"gridwidth\":2},\"zaxis\":{\"backgroundcolor\":\"#E5ECF6\",\"gridcolor\":\"white\",\"linecolor\":\"white\",\"showbackground\":true,\"ticks\":\"\",\"zerolinecolor\":\"white\",\"gridwidth\":2}},\"shapedefaults\":{\"line\":{\"color\":\"#2a3f5f\"}},\"annotationdefaults\":{\"arrowcolor\":\"#2a3f5f\",\"arrowhead\":0,\"arrowwidth\":1},\"geo\":{\"bgcolor\":\"white\",\"landcolor\":\"#E5ECF6\",\"subunitcolor\":\"white\",\"showland\":true,\"showlakes\":true,\"lakecolor\":\"white\"},\"title\":{\"x\":0.05},\"mapbox\":{\"style\":\"light\"}}},\"legend\":{\"tracegroupgap\":0,\"title\":{\"text\":\"Funder Type\"}},\"title\":{\"text\":\"Distribution of Studies by Major Condition and Funder Type\"},\"plot_bgcolor\":\"white\",\"updatemenus\":[{\"buttons\":[{\"args\":[{\"labels\":[[\"Blood Cancer\",\"Lung Cancer\",\"Other\",\"Prostate Cancer\",\"liver Cancer\"],[\"Blood Cancer\",\"Brain Cancer\",\"Lung Cancer\",\"Other\",\"breast Cancer\"],[\"Blood Cancer\",\"Brain Cancer\",\"Lung Cancer\",\"Lymphoma Cancer\",\"Other\",\"Pancreatic Cancer\",\"Prostate Cancer\",\"breast Cancer\",\"kidney Cancer\",\"liver Cancer\"],[\"Blood Cancer\",\"Brain Cancer\",\"Lung Cancer\",\"Lymphoma Cancer\",\"Other\",\"Pancreatic Cancer\",\"Prostate Cancer\",\"breast Cancer\",\"kidney Cancer\",\"liver Cancer\"]],\"values\":[[1,1,9,1,2],[25,9,21,28,1],[104,62,156,4,180,7,23,7,18,15],[222,44,161,5,269,6,29,28,13,17]]}],\"label\":\"All\",\"method\":\"update\"},{\"args\":[{\"labels\":[[]],\"values\":[[]]}],\"label\":\"Government\",\"method\":\"update\"},{\"args\":[{\"labels\":[[]],\"values\":[[]]}],\"label\":\"Industry\",\"method\":\"update\"},{\"args\":[{\"labels\":[[]],\"values\":[[]]}],\"label\":\"Other\",\"method\":\"update\"}],\"direction\":\"down\",\"showactive\":true,\"x\":1.15,\"xanchor\":\"right\",\"y\":1.15,\"yanchor\":\"top\"}]},                        {\"responsive\": true}                    ).then(function(){\n",
       "                            \n",
       "var gd = document.getElementById('312eb78f-e571-4866-8ec4-726dcc9b2956');\n",
       "var x = new MutationObserver(function (mutations, observer) {{\n",
       "        var display = window.getComputedStyle(gd).display;\n",
       "        if (!display || display === 'none') {{\n",
       "            console.log([gd, 'removed!']);\n",
       "            Plotly.purge(gd);\n",
       "            observer.disconnect();\n",
       "        }}\n",
       "}});\n",
       "\n",
       "// Listen for the removal of the full notebook cells\n",
       "var notebookContainer = gd.closest('#notebook-container');\n",
       "if (notebookContainer) {{\n",
       "    x.observe(notebookContainer, {childList: true});\n",
       "}}\n",
       "\n",
       "// Listen for the clearing of the current output cell\n",
       "var outputEl = gd.closest('.output');\n",
       "if (outputEl) {{\n",
       "    x.observe(outputEl, {childList: true});\n",
       "}}\n",
       "\n",
       "                        })                };                });            </script>        </div>"
      ]
     },
     "metadata": {},
     "output_type": "display_data"
    }
   ],
   "source": [
    "# Aggregate data for pie chart (e.g., counts of studies by Major Condition)\n",
    "agg_df = New_Reduced_df.groupby(['Major Condition', 'Funder Type']).size().reset_index(name='Counts')\n",
    "\n",
    "# Create pie chart using Plotly Express\n",
    "fig = px.pie(agg_df, names='Major Condition', values='Counts', color='Funder Type',\n",
    "             title='Distribution of Studies by Major Condition and Funder Type',\n",
    "             labels={'Counts': 'Number of Studies', 'Major Condition': 'Major Condition', 'Funder Type': 'Funder Type'})\n",
    "\n",
    "# Customize layout and add interactive buttons for Funder Type\n",
    "fig.update_layout(\n",
    "    plot_bgcolor='white',  # Set the background color to white\n",
    "    legend_title_text='Funder Type',\n",
    "    updatemenus=[\n",
    "        dict(\n",
    "            buttons=[\n",
    "                dict(\n",
    "                    args=[{'labels': [agg_df[agg_df['Funder Type'] == funder]['Major Condition'].tolist() for funder in agg_df['Funder Type'].unique()],\n",
    "                           'values': [agg_df[agg_df['Funder Type'] == funder]['Counts'].tolist() for funder in agg_df['Funder Type'].unique()]}],\n",
    "                    label=\"All\",\n",
    "                    method=\"update\"\n",
    "                ),\n",
    "                dict(\n",
    "                    args=[{'labels': [agg_df[agg_df['Funder Type'] == 'Government']['Major Condition'].tolist()],\n",
    "                           'values': [agg_df[agg_df['Funder Type'] == 'Government']['Counts'].tolist()]}],\n",
    "                    label=\"Government\",\n",
    "                    method=\"update\"\n",
    "                ),\n",
    "                dict(\n",
    "                    args=[{'labels': [agg_df[agg_df['Funder Type'] == 'Industry']['Major Condition'].tolist()],\n",
    "                           'values': [agg_df[agg_df['Funder Type'] == 'Industry']['Counts'].tolist()]}],\n",
    "                    label=\"Industry\",\n",
    "                    method=\"update\"\n",
    "                ),\n",
    "                dict(\n",
    "                    args=[{'labels': [agg_df[agg_df['Funder Type'] == 'Other']['Major Condition'].tolist()],\n",
    "                           'values': [agg_df[agg_df['Funder Type'] == 'Other']['Counts'].tolist()]}],\n",
    "                    label=\"Other\",\n",
    "                    method=\"update\"\n",
    "                )\n",
    "            ],\n",
    "            direction=\"down\",\n",
    "            showactive=True,\n",
    "            x=1.15,  # Adjust the x-position\n",
    "            xanchor='right',\n",
    "            y=1.15,  # Adjust the y-position\n",
    "            yanchor='top'\n",
    "        ),\n",
    "    ]\n",
    ")\n",
    "\n",
    "# Show the plot\n",
    "fig.show()\n",
    "\n",
    "# Save the figure as a PNG image\n",
    "pio.write_image(fig, 'Condition_Funder_Pie.png', format='png')"
   ]
  },
  {
   "cell_type": "markdown",
   "id": "3512d2b7",
   "metadata": {},
   "source": [
    "# Plot interactive box plot: Major Condition, Major interventions, and trial duration"
   ]
  },
  {
   "cell_type": "code",
   "execution_count": 19,
   "id": "1d5211cb",
   "metadata": {},
   "outputs": [
    {
     "name": "stderr",
     "output_type": "stream",
     "text": [
      "/var/folders/_n/lvm0vpcj1rx073qxcpg_05g40000gn/T/ipykernel_5233/2411840325.py:2: SettingWithCopyWarning:\n",
      "\n",
      "\n",
      "A value is trying to be set on a copy of a slice from a DataFrame.\n",
      "Try using .loc[row_indexer,col_indexer] = value instead\n",
      "\n",
      "See the caveats in the documentation: https://pandas.pydata.org/pandas-docs/stable/user_guide/indexing.html#returning-a-view-versus-a-copy\n",
      "\n"
     ]
    },
    {
     "data": {
      "application/vnd.plotly.v1+json": {
       "config": {
        "plotlyServerURL": "https://plot.ly"
       },
       "data": [
        {
         "alignmentgroup": "True",
         "hovertemplate": "Major Interventions=Drug<br>Major Condition=%{x}<br>Duration (Days)=%{y}<extra></extra>",
         "legendgroup": "Drug",
         "marker": {
          "color": "#636efa"
         },
         "name": "Drug",
         "notched": false,
         "offsetgroup": "Drug",
         "orientation": "v",
         "showlegend": true,
         "type": "box",
         "x": [
          "Other",
          "Other",
          "Prostate Cancer",
          "Lung Cancer",
          "Blood Cancer",
          "Lung Cancer",
          "Lung Cancer",
          "Lung Cancer",
          "Lung Cancer",
          "Brain Cancer",
          "Brain Cancer",
          "Prostate Cancer",
          "Prostate Cancer",
          "Lung Cancer",
          "Lung Cancer",
          "Blood Cancer",
          "Blood Cancer",
          "Lung Cancer",
          "Other",
          "Other",
          "breast Cancer",
          "Brain Cancer",
          "Brain Cancer",
          "Other",
          "breast Cancer",
          "Blood Cancer",
          "Brain Cancer",
          "Brain Cancer",
          "Other",
          "Other",
          "Blood Cancer",
          "Other",
          "Blood Cancer",
          "Other",
          "Other",
          "Other",
          "Prostate Cancer",
          "Blood Cancer",
          "Blood Cancer",
          "Other",
          "Brain Cancer",
          "Blood Cancer",
          "Blood Cancer",
          "Other",
          "Other",
          "Other",
          "Brain Cancer",
          "Brain Cancer",
          "Brain Cancer",
          "Blood Cancer",
          "Lung Cancer",
          "Blood Cancer",
          "Other",
          "Other",
          "Other",
          "Lung Cancer",
          "Blood Cancer",
          "Lung Cancer",
          "Brain Cancer",
          "Blood Cancer",
          "Lung Cancer",
          "Lung Cancer",
          "Blood Cancer",
          "Other",
          "Lung Cancer",
          "Lung Cancer",
          "Other",
          "Blood Cancer",
          "Other",
          "Other",
          "Lung Cancer",
          "Other",
          "Lung Cancer",
          "Other",
          "Other",
          "kidney Cancer",
          "Blood Cancer",
          "Blood Cancer",
          "Lung Cancer",
          "Lung Cancer",
          "Lung Cancer",
          "Blood Cancer",
          "Blood Cancer",
          "Blood Cancer",
          "Other",
          "Other",
          "Blood Cancer",
          "Other",
          "Brain Cancer",
          "breast Cancer",
          "Other",
          "Prostate Cancer",
          "Blood Cancer",
          "kidney Cancer",
          "liver Cancer",
          "liver Cancer",
          "Other",
          "Other",
          "Brain Cancer",
          "Lung Cancer",
          "Lung Cancer",
          "Other",
          "Other",
          "Other",
          "Brain Cancer",
          "Brain Cancer",
          "Lung Cancer",
          "Lung Cancer",
          "Blood Cancer",
          "Blood Cancer",
          "Prostate Cancer",
          "Prostate Cancer",
          "Lung Cancer",
          "Lung Cancer",
          "Other",
          "Blood Cancer",
          "Lung Cancer",
          "Lung Cancer",
          "Pancreatic Cancer",
          "Lung Cancer",
          "Blood Cancer",
          "Other",
          "Prostate Cancer",
          "liver Cancer",
          "liver Cancer",
          "Brain Cancer",
          "Lung Cancer",
          "Prostate Cancer",
          "Prostate Cancer",
          "Lung Cancer",
          "Lung Cancer",
          "breast Cancer",
          "Other",
          "Lung Cancer",
          "Blood Cancer",
          "Blood Cancer",
          "Blood Cancer",
          "Blood Cancer",
          "Other",
          "Other",
          "Brain Cancer",
          "Lung Cancer",
          "Blood Cancer",
          "Brain Cancer",
          "Lung Cancer",
          "Lung Cancer",
          "Lung Cancer",
          "Blood Cancer",
          "Other",
          "Other",
          "Blood Cancer",
          "Other",
          "Other",
          "Lung Cancer",
          "Other",
          "Other",
          "Other",
          "Other",
          "Other",
          "Lung Cancer",
          "Lung Cancer",
          "Other",
          "Blood Cancer",
          "Blood Cancer",
          "Blood Cancer",
          "Prostate Cancer",
          "breast Cancer",
          "breast Cancer",
          "Brain Cancer",
          "Lung Cancer",
          "breast Cancer",
          "Prostate Cancer",
          "liver Cancer",
          "Other",
          "Blood Cancer",
          "Other",
          "Other",
          "Other",
          "Other",
          "Blood Cancer",
          "Other",
          "Lung Cancer",
          "Lung Cancer",
          "Blood Cancer",
          "Other",
          "Lung Cancer",
          "Other",
          "Other",
          "kidney Cancer",
          "Other",
          "Lung Cancer",
          "Lung Cancer",
          "kidney Cancer",
          "Blood Cancer",
          "Other",
          "Other",
          "Lung Cancer",
          "Blood Cancer",
          "Blood Cancer",
          "Other",
          "Other",
          "Other",
          "Prostate Cancer",
          "Other",
          "kidney Cancer",
          "Other",
          "Other",
          "Lung Cancer",
          "Blood Cancer",
          "Other",
          "Other",
          "Brain Cancer",
          "Other",
          "Lung Cancer",
          "Blood Cancer",
          "Blood Cancer",
          "Lung Cancer",
          "breast Cancer",
          "Other",
          "Lung Cancer",
          "Lung Cancer",
          "Blood Cancer",
          "Blood Cancer",
          "Lung Cancer",
          "Other",
          "Blood Cancer",
          "Lung Cancer",
          "Lung Cancer",
          "Other",
          "Other",
          "Blood Cancer",
          "Brain Cancer",
          "Lung Cancer",
          "Prostate Cancer",
          "liver Cancer",
          "Other",
          "Other",
          "Other",
          "Blood Cancer",
          "Blood Cancer",
          "Other",
          "Blood Cancer",
          "Lung Cancer",
          "Other",
          "Blood Cancer",
          "Other",
          "liver Cancer",
          "Other",
          "Other",
          "Blood Cancer",
          "Blood Cancer",
          "Other",
          "Blood Cancer",
          "Prostate Cancer",
          "Other",
          "breast Cancer",
          "Lung Cancer",
          "Brain Cancer",
          "Lung Cancer",
          "Blood Cancer",
          "Other",
          "Other",
          "Blood Cancer",
          "Lung Cancer",
          "Other",
          "Blood Cancer",
          "Blood Cancer",
          "Brain Cancer",
          "Brain Cancer",
          "Other",
          "Brain Cancer",
          "Other",
          "Lung Cancer",
          "liver Cancer",
          "Other",
          "Lung Cancer",
          "Lung Cancer",
          "Prostate Cancer",
          "Blood Cancer",
          "Lung Cancer",
          "Lung Cancer",
          "Other",
          "Other",
          "Other",
          "Blood Cancer",
          "Lung Cancer",
          "Lung Cancer",
          "Blood Cancer",
          "Blood Cancer",
          "Blood Cancer",
          "Brain Cancer",
          "Blood Cancer",
          "Lung Cancer",
          "Blood Cancer",
          "Brain Cancer",
          "Prostate Cancer",
          "Blood Cancer",
          "Lung Cancer",
          "Other",
          "Other",
          "Other",
          "Blood Cancer",
          "Lung Cancer",
          "Lung Cancer",
          "Lung Cancer",
          "Blood Cancer",
          "Blood Cancer",
          "Lung Cancer",
          "Brain Cancer",
          "Blood Cancer",
          "Other",
          "Blood Cancer",
          "Blood Cancer",
          "Blood Cancer",
          "Lung Cancer",
          "Blood Cancer",
          "Lung Cancer",
          "Lung Cancer",
          "Other",
          "Pancreatic Cancer",
          "Brain Cancer",
          "Other",
          "Other",
          "Lung Cancer",
          "Lung Cancer",
          "Lung Cancer",
          "Lung Cancer",
          "Other",
          "Lung Cancer",
          "Lung Cancer",
          "Lung Cancer",
          "Other",
          "Blood Cancer",
          "Lung Cancer",
          "Blood Cancer",
          "Blood Cancer",
          "Other",
          "Lung Cancer",
          "Lung Cancer",
          "breast Cancer",
          "Blood Cancer",
          "Prostate Cancer",
          "liver Cancer",
          "Other",
          "Blood Cancer",
          "Lung Cancer",
          "Lung Cancer",
          "Brain Cancer",
          "kidney Cancer",
          "Lung Cancer",
          "Other",
          "kidney Cancer",
          "kidney Cancer",
          "Other",
          "Blood Cancer",
          "Lung Cancer",
          "Blood Cancer",
          "Blood Cancer",
          "kidney Cancer",
          "Other",
          "Other",
          "Other",
          "Other",
          "Brain Cancer",
          "Other",
          "Blood Cancer",
          "Blood Cancer",
          "Lung Cancer",
          "Prostate Cancer",
          "Prostate Cancer",
          "Other",
          "Blood Cancer",
          "Prostate Cancer",
          "Other",
          "Lymphoma Cancer",
          "Blood Cancer",
          "Blood Cancer",
          "Other",
          "Lung Cancer",
          "Lung Cancer",
          "Pancreatic Cancer",
          "Blood Cancer",
          "kidney Cancer",
          "Other",
          "Other",
          "Blood Cancer",
          "Other",
          "Other",
          "Other",
          "Lung Cancer",
          "Lung Cancer",
          "Brain Cancer",
          "Prostate Cancer",
          "Blood Cancer",
          "Blood Cancer",
          "Blood Cancer",
          "Other",
          "Other",
          "Blood Cancer",
          "Blood Cancer",
          "Other",
          "Other",
          "Blood Cancer",
          "Blood Cancer",
          "Other",
          "Blood Cancer",
          "Lung Cancer",
          "Other",
          "Blood Cancer",
          "Lung Cancer",
          "Blood Cancer",
          "Other",
          "Other",
          "liver Cancer",
          "Blood Cancer",
          "Blood Cancer",
          "Other",
          "Lung Cancer",
          "Lung Cancer",
          "Other",
          "Other",
          "Lung Cancer",
          "Other",
          "Lung Cancer",
          "Blood Cancer",
          "Blood Cancer",
          "Blood Cancer",
          "Other",
          "Lung Cancer",
          "Brain Cancer",
          "Brain Cancer",
          "Other",
          "Other",
          "Other",
          "Brain Cancer",
          "Other",
          "Other",
          "kidney Cancer",
          "Blood Cancer",
          "Lung Cancer",
          "Lung Cancer",
          "Other",
          "breast Cancer",
          "Lung Cancer",
          "Other",
          "Lung Cancer",
          "Blood Cancer",
          "Blood Cancer",
          "Other",
          "Lymphoma Cancer",
          "Lung Cancer",
          "Blood Cancer",
          "liver Cancer",
          "Other",
          "Other",
          "Lung Cancer",
          "Lung Cancer",
          "Brain Cancer",
          "Other",
          "Prostate Cancer",
          "Blood Cancer",
          "Lung Cancer",
          "Blood Cancer",
          "Blood Cancer",
          "Other",
          "Brain Cancer",
          "Blood Cancer",
          "Other",
          "Lung Cancer",
          "Lung Cancer",
          "Other",
          "Lung Cancer",
          "Other",
          "Blood Cancer",
          "kidney Cancer",
          "Other",
          "Other",
          "Other",
          "Other",
          "kidney Cancer",
          "Lung Cancer",
          "Lung Cancer",
          "Lung Cancer",
          "Blood Cancer",
          "Lung Cancer",
          "Other",
          "Other",
          "Blood Cancer",
          "Blood Cancer",
          "Blood Cancer",
          "Blood Cancer",
          "Blood Cancer",
          "Blood Cancer",
          "Other",
          "Other",
          "Other",
          "Blood Cancer",
          "Other",
          "Lymphoma Cancer",
          "liver Cancer",
          "Other",
          "Other",
          "Blood Cancer",
          "Blood Cancer",
          "Other",
          "Other",
          "Other",
          "Blood Cancer",
          "Blood Cancer",
          "Lung Cancer",
          "Blood Cancer",
          "Other",
          "Other",
          "liver Cancer",
          "Blood Cancer",
          "Blood Cancer",
          "Lung Cancer",
          "Lung Cancer",
          "Blood Cancer",
          "Blood Cancer",
          "Lung Cancer",
          "Brain Cancer",
          "Other",
          "Blood Cancer",
          "Blood Cancer",
          "Other",
          "Pancreatic Cancer",
          "Lung Cancer",
          "Lung Cancer",
          "Blood Cancer",
          "Other",
          "Brain Cancer",
          "Brain Cancer",
          "Other",
          "Other",
          "Lung Cancer",
          "Lung Cancer",
          "Other",
          "Other",
          "Lung Cancer",
          "Blood Cancer",
          "Other",
          "Other",
          "Other",
          "liver Cancer",
          "Blood Cancer",
          "Blood Cancer",
          "Pancreatic Cancer",
          "Other",
          "Prostate Cancer",
          "Blood Cancer",
          "Other",
          "breast Cancer",
          "Blood Cancer",
          "Blood Cancer",
          "Lung Cancer",
          "Lung Cancer",
          "Lung Cancer",
          "Pancreatic Cancer",
          "Pancreatic Cancer",
          "Other",
          "Lung Cancer",
          "Other",
          "Blood Cancer",
          "Other",
          "Other",
          "Other",
          "Other",
          "Blood Cancer",
          "Other",
          "Lung Cancer",
          "Other",
          "Pancreatic Cancer",
          "Blood Cancer",
          "Prostate Cancer",
          "Other",
          "breast Cancer",
          "Blood Cancer",
          "Blood Cancer",
          "Other",
          "kidney Cancer",
          "Other",
          "Other",
          "Other",
          "Other",
          "Prostate Cancer",
          "Lung Cancer",
          "Brain Cancer",
          "Other",
          "Prostate Cancer",
          "Blood Cancer",
          "Blood Cancer",
          "breast Cancer",
          "Other",
          "Other",
          "breast Cancer",
          "Brain Cancer",
          "Blood Cancer",
          "Blood Cancer",
          "Other",
          "Other"
         ],
         "x0": " ",
         "xaxis": "x",
         "y": [
          1255,
          1255,
          798,
          1753,
          1385,
          964,
          1885,
          3817,
          3817,
          1882,
          1882,
          1569,
          1569,
          3789,
          1129,
          253,
          1242,
          295,
          1110,
          1607,
          1359,
          2196,
          1202,
          328,
          374,
          3580,
          3653,
          3653,
          1078,
          2528,
          812,
          3597,
          1724,
          2249,
          1748,
          1748,
          2190,
          2615,
          2615,
          1431,
          2505,
          837,
          837,
          1098,
          1098,
          2448,
          809,
          2093,
          2093,
          1803,
          3000,
          1120,
          1404,
          1404,
          2078,
          3112,
          3488,
          2550,
          3713,
          3039,
          1875,
          1184,
          3053,
          3122,
          1410,
          2680,
          1011,
          2400,
          2202,
          1379,
          1246,
          1615,
          2673,
          2811,
          1465,
          1530,
          1705,
          2690,
          3510,
          3510,
          3044,
          3475,
          736,
          3521,
          1138,
          1138,
          2723,
          1862,
          2693,
          5639,
          2731,
          3651,
          4097,
          478,
          2663,
          2663,
          2791,
          1307,
          3250,
          3046,
          3046,
          454,
          889,
          352,
          1652,
          1652,
          1666,
          1666,
          1861,
          1861,
          1628,
          1628,
          719,
          719,
          1886,
          3031,
          2236,
          2236,
          1363,
          1380,
          1800,
          1275,
          3124,
          878,
          878,
          2833,
          3107,
          2418,
          2418,
          260,
          1208,
          1980,
          1946,
          1405,
          1254,
          1254,
          1840,
          1840,
          2899,
          2899,
          2519,
          805,
          3221,
          1286,
          2897,
          2351,
          1750,
          2696,
          2947,
          2947,
          1326,
          233,
          233,
          2167,
          2336,
          687,
          687,
          2063,
          1096,
          2795,
          672,
          771,
          1500,
          1500,
          1014,
          596,
          344,
          344,
          2510,
          1744,
          1817,
          839,
          1228,
          3256,
          2446,
          216,
          216,
          591,
          965,
          2922,
          1703,
          1294,
          1294,
          616,
          1672,
          1971,
          5479,
          5479,
          2102,
          1182,
          330,
          1442,
          677,
          1148,
          1659,
          2094,
          947,
          1745,
          1182,
          1918,
          1784,
          1784,
          2882,
          223,
          1495,
          1144,
          1144,
          2323,
          3597,
          922,
          1365,
          1182,
          464,
          889,
          2016,
          1776,
          1248,
          2260,
          2749,
          1866,
          1866,
          1502,
          3501,
          1043,
          1378,
          1406,
          2361,
          2361,
          671,
          833,
          2135,
          1728,
          1888,
          265,
          159,
          453,
          453,
          503,
          1314,
          1314,
          2145,
          3493,
          1489,
          1384,
          834,
          2397,
          1305,
          1248,
          226,
          3351,
          1491,
          409,
          3200,
          2418,
          2909,
          1179,
          1799,
          2147,
          2683,
          2511,
          1118,
          1445,
          1335,
          2455,
          1978,
          1075,
          3641,
          995,
          1096,
          3476,
          1525,
          2595,
          1903,
          2499,
          2331,
          1392,
          1392,
          1587,
          1574,
          285,
          285,
          293,
          293,
          1521,
          1519,
          1562,
          1562,
          378,
          1135,
          1893,
          971,
          3116,
          2053,
          2280,
          2565,
          2152,
          2432,
          513,
          3145,
          3145,
          945,
          2301,
          1563,
          2685,
          2685,
          2022,
          2022,
          274,
          2694,
          3645,
          1540,
          1378,
          655,
          997,
          1544,
          2536,
          3152,
          3152,
          1832,
          839,
          1264,
          914,
          1659,
          1659,
          2627,
          2202,
          2202,
          432,
          1996,
          1372,
          2957,
          1957,
          729,
          813,
          2227,
          2227,
          1427,
          35,
          3152,
          171,
          375,
          1622,
          1608,
          2194,
          1569,
          1819,
          1819,
          3220,
          1966,
          2395,
          887,
          1625,
          1625,
          1080,
          966,
          1404,
          2315,
          2315,
          1505,
          1511,
          1511,
          2558,
          2551,
          2232,
          1618,
          312,
          312,
          1603,
          2635,
          2058,
          1493,
          3200,
          1043,
          1349,
          3817,
          539,
          3403,
          1372,
          1728,
          1728,
          1140,
          2828,
          934,
          699,
          3017,
          1771,
          492,
          492,
          1700,
          3745,
          3745,
          2310,
          1942,
          3294,
          3294,
          1875,
          2448,
          1025,
          4008,
          4008,
          635,
          2919,
          3201,
          3298,
          1780,
          2767,
          1308,
          2649,
          1309,
          3056,
          771,
          2259,
          2191,
          926,
          1639,
          2205,
          1960,
          846,
          846,
          3117,
          215,
          1689,
          1742,
          3867,
          1764,
          1706,
          2024,
          1303,
          1078,
          1351,
          1351,
          2734,
          1605,
          1068,
          2417,
          4087,
          1035,
          922,
          2956,
          1646,
          1646,
          2388,
          2635,
          2385,
          1276,
          1442,
          1997,
          175,
          504,
          3163,
          1614,
          2042,
          425,
          1660,
          1660,
          1599,
          1853,
          1330,
          2738,
          1409,
          2751,
          3056,
          1724,
          1023,
          1170,
          1916,
          3387,
          3101,
          1693,
          1627,
          903,
          2443,
          1239,
          586,
          1121,
          979,
          2057,
          2949,
          1911,
          3177,
          2647,
          2647,
          2609,
          1093,
          695,
          319,
          1346,
          1809,
          3567,
          2574,
          1655,
          3501,
          3501,
          3540,
          906,
          906,
          4702,
          1549,
          2069,
          874,
          2884,
          1063,
          1947,
          1947,
          908,
          659,
          659,
          2793,
          2793,
          9644,
          1359,
          1768,
          981,
          778,
          1203,
          1203,
          3572,
          2084,
          706,
          706,
          2855,
          1540,
          2878,
          952,
          952,
          1020,
          1552,
          203,
          203,
          1164,
          1593,
          2499,
          1197,
          2101,
          3481,
          2472,
          2472,
          1295,
          2222,
          2426,
          3488,
          1866,
          660,
          660,
          2370,
          3597,
          1231,
          1860,
          1505,
          2411,
          3493,
          1582,
          3465,
          2381,
          2381,
          1767,
          1767,
          1505,
          2415,
          2415,
          3307,
          1701,
          1367,
          2097,
          4158,
          4158,
          3337,
          1040,
          3201,
          2261,
          718,
          2842,
          433,
          1169,
          1706,
          2614,
          1568,
          1217,
          1217,
          940,
          3062,
          2595,
          1437,
          1437,
          381,
          1902,
          2435,
          2029,
          2709,
          1960,
          1689,
          3132,
          2120,
          1753,
          1753,
          2833,
          1372,
          2533,
          2533,
          2141,
          2141
         ],
         "y0": " ",
         "yaxis": "y"
        },
        {
         "alignmentgroup": "True",
         "hovertemplate": "Major Interventions=Biological<br>Major Condition=%{x}<br>Duration (Days)=%{y}<extra></extra>",
         "legendgroup": "Biological",
         "marker": {
          "color": "#EF553B"
         },
         "name": "Biological",
         "notched": false,
         "offsetgroup": "Biological",
         "orientation": "v",
         "showlegend": true,
         "type": "box",
         "x": [
          "Other",
          "Other",
          "Lung Cancer",
          "breast Cancer",
          "Lung Cancer",
          "Lung Cancer",
          "Brain Cancer",
          "Other",
          "Other",
          "Other",
          "Blood Cancer",
          "Other",
          "Other",
          "Blood Cancer",
          "Blood Cancer",
          "Blood Cancer",
          "Other",
          "Blood Cancer",
          "Blood Cancer",
          "Other",
          "Other",
          "Other",
          "Other",
          "Brain Cancer",
          "Brain Cancer",
          "Blood Cancer",
          "Blood Cancer",
          "Other",
          "Other",
          "Other",
          "Lung Cancer",
          "Lung Cancer",
          "Blood Cancer",
          "Lung Cancer",
          "Lung Cancer",
          "Other",
          "Other",
          "Blood Cancer",
          "Other",
          "Lung Cancer",
          "Other",
          "Blood Cancer",
          "Lung Cancer",
          "Lung Cancer",
          "Lung Cancer",
          "Blood Cancer",
          "Blood Cancer",
          "Other",
          "Other",
          "Blood Cancer",
          "Other",
          "liver Cancer",
          "Lung Cancer",
          "kidney Cancer",
          "Lung Cancer",
          "Lung Cancer",
          "Brain Cancer",
          "Brain Cancer",
          "Lung Cancer",
          "Lung Cancer",
          "Other",
          "Prostate Cancer",
          "liver Cancer",
          "liver Cancer",
          "Prostate Cancer",
          "Prostate Cancer",
          "Lung Cancer",
          "Other",
          "Other",
          "Other",
          "Other",
          "Lung Cancer",
          "Brain Cancer",
          "Brain Cancer",
          "Brain Cancer",
          "Lung Cancer",
          "Blood Cancer",
          "Other",
          "Other",
          "Other",
          "Other",
          "Blood Cancer",
          "Blood Cancer",
          "breast Cancer",
          "breast Cancer",
          "Prostate Cancer",
          "liver Cancer",
          "Other",
          "Blood Cancer",
          "Other",
          "Brain Cancer",
          "Blood Cancer",
          "Blood Cancer",
          "breast Cancer",
          "Blood Cancer",
          "Blood Cancer",
          "Lung Cancer",
          "Lung Cancer",
          "Other",
          "Other",
          "Brain Cancer",
          "Other",
          "kidney Cancer",
          "Lung Cancer",
          "Blood Cancer",
          "Other",
          "liver Cancer",
          "Other",
          "Other",
          "kidney Cancer",
          "Blood Cancer",
          "Blood Cancer",
          "Other",
          "Lung Cancer",
          "Lung Cancer",
          "Prostate Cancer",
          "Lung Cancer",
          "Other",
          "Blood Cancer",
          "Blood Cancer",
          "Other",
          "Other",
          "Blood Cancer",
          "Blood Cancer",
          "breast Cancer",
          "Blood Cancer",
          "breast Cancer",
          "Blood Cancer",
          "Pancreatic Cancer",
          "Lung Cancer",
          "Other",
          "Blood Cancer",
          "Lung Cancer",
          "Brain Cancer",
          "Brain Cancer",
          "Other",
          "Other",
          "Other",
          "Lung Cancer",
          "Lung Cancer",
          "Blood Cancer",
          "Lung Cancer",
          "Lung Cancer",
          "Other",
          "Blood Cancer",
          "Blood Cancer",
          "Blood Cancer",
          "Blood Cancer",
          "Blood Cancer",
          "Blood Cancer",
          "Blood Cancer",
          "Lung Cancer",
          "Blood Cancer",
          "Other",
          "Blood Cancer",
          "Lung Cancer",
          "Lung Cancer",
          "Blood Cancer",
          "Other",
          "Other",
          "Blood Cancer",
          "Brain Cancer",
          "Other",
          "Brain Cancer",
          "Other",
          "Other",
          "breast Cancer",
          "Blood Cancer",
          "kidney Cancer",
          "liver Cancer",
          "Other",
          "Lung Cancer",
          "Lung Cancer",
          "Brain Cancer",
          "kidney Cancer",
          "liver Cancer",
          "liver Cancer",
          "Blood Cancer",
          "Lung Cancer",
          "Lung Cancer",
          "Other",
          "Blood Cancer",
          "Blood Cancer",
          "kidney Cancer",
          "Other",
          "Other",
          "Lung Cancer",
          "Blood Cancer",
          "Other",
          "Blood Cancer",
          "Blood Cancer",
          "Blood Cancer",
          "Other",
          "Blood Cancer",
          "Other",
          "Blood Cancer",
          "Blood Cancer",
          "Blood Cancer",
          "Blood Cancer",
          "Other",
          "Lung Cancer",
          "Other",
          "Other",
          "Lung Cancer",
          "Blood Cancer",
          "Blood Cancer",
          "Other",
          "Lung Cancer",
          "Blood Cancer",
          "Other",
          "Lung Cancer",
          "Lung Cancer",
          "Brain Cancer",
          "Other",
          "Other",
          "Blood Cancer",
          "Lung Cancer",
          "Lung Cancer",
          "Lung Cancer",
          "Lung Cancer",
          "Other",
          "Lung Cancer",
          "Prostate Cancer",
          "Blood Cancer",
          "Blood Cancer",
          "Blood Cancer",
          "Lung Cancer",
          "Blood Cancer",
          "Blood Cancer",
          "Brain Cancer",
          "Lung Cancer",
          "Lung Cancer",
          "Lung Cancer",
          "Other",
          "Blood Cancer",
          "Other",
          "Blood Cancer",
          "Lung Cancer",
          "Lung Cancer",
          "Other",
          "Other",
          "Other",
          "Other",
          "Blood Cancer",
          "Brain Cancer",
          "Other",
          "Blood Cancer",
          "Blood Cancer",
          "Blood Cancer",
          "Blood Cancer",
          "Blood Cancer",
          "Other",
          "Other",
          "Lymphoma Cancer",
          "liver Cancer",
          "Brain Cancer",
          "Blood Cancer",
          "Blood Cancer",
          "Other",
          "Other",
          "Lung Cancer",
          "Other",
          "Lung Cancer",
          "Other",
          "Lung Cancer",
          "Blood Cancer",
          "Blood Cancer",
          "Other",
          "Other",
          "Blood Cancer",
          "Other",
          "breast Cancer",
          "Blood Cancer",
          "Prostate Cancer",
          "Other",
          "Pancreatic Cancer",
          "Other",
          "Blood Cancer",
          "Prostate Cancer",
          "Other",
          "Other",
          "Other",
          "Blood Cancer",
          "Lung Cancer",
          "Lung Cancer",
          "Other",
          "Blood Cancer",
          "Prostate Cancer",
          "Lung Cancer",
          "Brain Cancer",
          "Blood Cancer",
          "Prostate Cancer",
          "Other",
          "Other",
          "breast Cancer",
          "breast Cancer",
          "Blood Cancer",
          "Blood Cancer",
          "Other",
          "Other"
         ],
         "x0": " ",
         "xaxis": "x",
         "y": [
          1255,
          1255,
          1753,
          1835,
          3789,
          1129,
          1202,
          2962,
          1810,
          1810,
          1678,
          1078,
          2528,
          812,
          938,
          938,
          1329,
          2615,
          2615,
          953,
          1098,
          1098,
          2448,
          2093,
          2093,
          1803,
          1120,
          1404,
          1404,
          2078,
          3112,
          2550,
          3039,
          1875,
          1184,
          1360,
          1011,
          2400,
          2550,
          1614,
          2811,
          1705,
          3510,
          3510,
          3044,
          3475,
          736,
          1138,
          1138,
          2723,
          257,
          1812,
          2022,
          478,
          1580,
          2659,
          1652,
          1652,
          1666,
          1666,
          2607,
          3124,
          878,
          878,
          2418,
          2418,
          1405,
          2899,
          2899,
          1201,
          497,
          805,
          1286,
          2923,
          2923,
          1750,
          384,
          2179,
          2179,
          2342,
          2342,
          1500,
          1500,
          344,
          344,
          839,
          1228,
          591,
          1534,
          231,
          1529,
          1068,
          2922,
          504,
          616,
          3512,
          2531,
          1971,
          5479,
          5479,
          4265,
          2294,
          2102,
          1442,
          1745,
          578,
          2374,
          571,
          223,
          5155,
          2016,
          1776,
          1681,
          1866,
          1866,
          959,
          1043,
          1378,
          1406,
          2135,
          453,
          453,
          834,
          402,
          2533,
          3193,
          1179,
          2511,
          3605,
          936,
          1978,
          1075,
          2564,
          1096,
          1525,
          1966,
          1966,
          2331,
          1392,
          1392,
          1574,
          285,
          285,
          1888,
          1519,
          378,
          1135,
          1893,
          883,
          883,
          3495,
          1369,
          2432,
          1948,
          2301,
          2685,
          2685,
          1378,
          2213,
          2213,
          2536,
          2098,
          2267,
          1264,
          1957,
          1916,
          171,
          375,
          3425,
          1608,
          1572,
          1819,
          1819,
          3220,
          1966,
          536,
          536,
          2312,
          2395,
          1404,
          2577,
          2315,
          2315,
          1505,
          3006,
          2551,
          1603,
          757,
          2789,
          539,
          3403,
          2828,
          699,
          2508,
          740,
          1447,
          3294,
          3294,
          1875,
          1848,
          3381,
          1780,
          3473,
          1308,
          1309,
          771,
          2191,
          892,
          1639,
          215,
          1689,
          1981,
          2417,
          1343,
          1343,
          2956,
          2795,
          2698,
          1646,
          1646,
          2002,
          2385,
          2509,
          3343,
          3086,
          2042,
          1853,
          1630,
          1630,
          1916,
          515,
          1627,
          2443,
          1239,
          586,
          979,
          1851,
          2647,
          2647,
          1936,
          2363,
          2363,
          1443,
          2253,
          2180,
          3362,
          3567,
          742,
          1655,
          3501,
          3501,
          906,
          906,
          2069,
          874,
          1324,
          2793,
          2793,
          1927,
          1927,
          2604,
          1584,
          9644,
          981,
          3572,
          706,
          706,
          2108,
          2108,
          832,
          3215,
          3090,
          696,
          1679,
          2889,
          244,
          2045,
          1960,
          2475,
          1582,
          9,
          1406,
          2097,
          1014,
          3578,
          2788,
          1169,
          1902,
          2435,
          2029,
          1608,
          1960,
          1753,
          1753,
          848,
          2833,
          2533,
          2533,
          2141,
          2141
         ],
         "y0": " ",
         "yaxis": "y"
        },
        {
         "alignmentgroup": "True",
         "hovertemplate": "Major Interventions=Procedure<br>Major Condition=%{x}<br>Duration (Days)=%{y}<extra></extra>",
         "legendgroup": "Procedure",
         "marker": {
          "color": "#00cc96"
         },
         "name": "Procedure",
         "notched": false,
         "offsetgroup": "Procedure",
         "orientation": "v",
         "showlegend": true,
         "type": "box",
         "x": [
          "Lung Cancer",
          "Lung Cancer",
          "Lung Cancer",
          "Lung Cancer",
          "Lung Cancer",
          "Lung Cancer",
          "Other",
          "Other",
          "Lung Cancer",
          "Lung Cancer",
          "Other",
          "Other",
          "Brain Cancer",
          "Brain Cancer",
          "Blood Cancer",
          "Lung Cancer",
          "Lung Cancer",
          "Brain Cancer",
          "Lung Cancer",
          "Other",
          "Other",
          "Other",
          "Other",
          "Lung Cancer",
          "Other",
          "kidney Cancer",
          "Blood Cancer",
          "Lung Cancer",
          "Other",
          "Other",
          "Prostate Cancer",
          "Other",
          "Lung Cancer",
          "Brain Cancer",
          "Brain Cancer",
          "Blood Cancer",
          "Blood Cancer",
          "Lung Cancer",
          "Lung Cancer",
          "Prostate Cancer",
          "Prostate Cancer",
          "Lung Cancer",
          "Lung Cancer",
          "Other",
          "Blood Cancer",
          "Lung Cancer",
          "Blood Cancer",
          "Blood Cancer",
          "Other",
          "Brain Cancer",
          "Lung Cancer",
          "Other",
          "Other",
          "Other",
          "Other",
          "Blood Cancer",
          "Other",
          "Other",
          "Brain Cancer",
          "Other",
          "Lung Cancer",
          "Lung Cancer",
          "kidney Cancer",
          "Lung Cancer",
          "Blood Cancer",
          "Other",
          "Other",
          "Prostate Cancer",
          "kidney Cancer",
          "Brain Cancer",
          "Other",
          "Lung Cancer",
          "Lung Cancer",
          "Lung Cancer",
          "Lung Cancer",
          "Other",
          "Blood Cancer",
          "Other",
          "Other",
          "Brain Cancer",
          "Other",
          "Other",
          "Lung Cancer",
          "Blood Cancer",
          "Other",
          "liver Cancer",
          "Blood Cancer",
          "Other",
          "Other",
          "Lung Cancer",
          "Lung Cancer",
          "Brain Cancer",
          "Blood Cancer",
          "Other",
          "Blood Cancer",
          "Brain Cancer",
          "Lung Cancer",
          "Blood Cancer",
          "kidney Cancer",
          "Lung Cancer",
          "Lung Cancer",
          "Lymphoma Cancer",
          "Blood Cancer",
          "Blood Cancer",
          "Brain Cancer",
          "Blood Cancer",
          "Blood Cancer",
          "Other",
          "Lung Cancer",
          "Blood Cancer",
          "Lung Cancer",
          "Other",
          "liver Cancer",
          "Blood Cancer",
          "Other",
          "Other",
          "Blood Cancer",
          "Other",
          "Lung Cancer",
          "Other",
          "Other",
          "Other",
          "Other",
          "Other",
          "Lung Cancer",
          "Other",
          "Other",
          "Lung Cancer",
          "Blood Cancer",
          "liver Cancer",
          "Lung Cancer",
          "Other",
          "Blood Cancer",
          "Lung Cancer",
          "Other",
          "Brain Cancer",
          "Lung Cancer",
          "Lung Cancer",
          "Lung Cancer",
          "Lung Cancer",
          "Other",
          "Lung Cancer",
          "Lung Cancer",
          "Other",
          "Other",
          "Other",
          "Other",
          "Blood Cancer",
          "Other",
          "Blood Cancer",
          "Other",
          "Brain Cancer",
          "Blood Cancer",
          "Blood Cancer",
          "Other",
          "Other",
          "Other",
          "Lung Cancer",
          "Blood Cancer",
          "Other",
          "liver Cancer",
          "Lung Cancer",
          "Lung Cancer",
          "Other",
          "Other",
          "Other",
          "Brain Cancer",
          "Brain Cancer",
          "Other",
          "breast Cancer",
          "Blood Cancer",
          "Other",
          "liver Cancer",
          "Other",
          "Pancreatic Cancer",
          "Lung Cancer",
          "Lung Cancer",
          "Other",
          "kidney Cancer",
          "Brain Cancer",
          "Blood Cancer"
         ],
         "x0": " ",
         "xaxis": "x",
         "y": [
          1753,
          3817,
          3817,
          3789,
          1129,
          295,
          1078,
          2528,
          4379,
          4379,
          2249,
          953,
          2093,
          2093,
          1803,
          3000,
          3112,
          3713,
          2680,
          2550,
          1312,
          1312,
          2202,
          2673,
          2811,
          1530,
          2690,
          3044,
          1138,
          1138,
          1238,
          2731,
          2659,
          1652,
          1652,
          1861,
          1861,
          2236,
          2236,
          2418,
          2418,
          260,
          1208,
          497,
          3221,
          2351,
          2696,
          384,
          2336,
          2071,
          672,
          2997,
          216,
          216,
          591,
          616,
          5479,
          5479,
          4265,
          2294,
          330,
          1442,
          677,
          947,
          1182,
          578,
          1996,
          2882,
          5155,
          1182,
          1681,
          1248,
          1866,
          1866,
          1043,
          1378,
          1406,
          1248,
          226,
          2147,
          794,
          1445,
          2455,
          3641,
          3476,
          2499,
          1574,
          1521,
          945,
          2685,
          2685,
          2694,
          3645,
          1540,
          1378,
          1264,
          35,
          1569,
          1966,
          930,
          1404,
          3817,
          3403,
          2508,
          2310,
          3294,
          3294,
          2448,
          1308,
          1309,
          3056,
          2259,
          926,
          2205,
          215,
          1742,
          1706,
          1303,
          1981,
          2734,
          4087,
          1035,
          1343,
          1343,
          2698,
          2388,
          1276,
          1442,
          2042,
          425,
          1853,
          2738,
          2751,
          3056,
          1170,
          1916,
          1693,
          4147,
          4147,
          2443,
          1239,
          2647,
          2647,
          1483,
          2363,
          2363,
          1443,
          2253,
          3362,
          3567,
          2884,
          1324,
          2793,
          2793,
          1927,
          1927,
          1584,
          9644,
          1359,
          981,
          778,
          3572,
          2084,
          2108,
          2108,
          1593,
          2499,
          1197,
          3215,
          3090,
          696,
          2889,
          2370,
          2045,
          1860,
          1767,
          1767,
          2614,
          3062,
          2029,
          3132
         ],
         "y0": " ",
         "yaxis": "y"
        },
        {
         "alignmentgroup": "True",
         "hovertemplate": "Major Interventions=Others<br>Major Condition=%{x}<br>Duration (Days)=%{y}<extra></extra>",
         "legendgroup": "Others",
         "marker": {
          "color": "#ab63fa"
         },
         "name": "Others",
         "notched": false,
         "offsetgroup": "Others",
         "orientation": "v",
         "showlegend": true,
         "type": "box",
         "x": [
          "breast Cancer",
          "Prostate Cancer",
          "Prostate Cancer",
          "Lung Cancer",
          "Lung Cancer",
          "Brain Cancer",
          "Brain Cancer",
          "Other",
          "Other",
          "Other",
          "Brain Cancer",
          "Brain Cancer",
          "Other",
          "Blood Cancer",
          "Blood Cancer",
          "Blood Cancer",
          "Other",
          "Other",
          "Other",
          "Prostate Cancer",
          "Blood Cancer",
          "Blood Cancer",
          "Other",
          "Brain Cancer",
          "Brain Cancer",
          "Brain Cancer",
          "Lung Cancer",
          "Blood Cancer",
          "Other",
          "Other",
          "Lung Cancer",
          "Brain Cancer",
          "Blood Cancer",
          "Other",
          "Lung Cancer",
          "Lung Cancer",
          "Other",
          "Other",
          "Lung Cancer",
          "Lung Cancer",
          "Other",
          "Lung Cancer",
          "Other",
          "Other",
          "Lung Cancer",
          "Lung Cancer",
          "Lung Cancer",
          "Blood Cancer",
          "Blood Cancer",
          "Other",
          "Other",
          "Blood Cancer",
          "Brain Cancer",
          "Prostate Cancer",
          "Lung Cancer",
          "liver Cancer",
          "liver Cancer",
          "Other",
          "Other",
          "Brain Cancer",
          "Other",
          "Lung Cancer",
          "Lung Cancer",
          "Brain Cancer",
          "Brain Cancer",
          "Blood Cancer",
          "Blood Cancer",
          "Lung Cancer",
          "Blood Cancer",
          "Other",
          "Lung Cancer",
          "breast Cancer",
          "Other",
          "Lung Cancer",
          "Blood Cancer",
          "Blood Cancer",
          "Blood Cancer",
          "Blood Cancer",
          "Other",
          "Other",
          "Brain Cancer",
          "Blood Cancer",
          "Lung Cancer",
          "Brain Cancer",
          "Brain Cancer",
          "Lung Cancer",
          "Other",
          "Other",
          "Blood Cancer",
          "Other",
          "Other",
          "Other",
          "Other",
          "Other",
          "Lung Cancer",
          "Blood Cancer",
          "Brain Cancer",
          "breast Cancer",
          "liver Cancer",
          "Other",
          "Other",
          "Other",
          "Blood Cancer",
          "breast Cancer",
          "Blood Cancer",
          "Lung Cancer",
          "Lung Cancer",
          "Other",
          "Other",
          "Brain Cancer",
          "Other",
          "Lung Cancer",
          "kidney Cancer",
          "Other",
          "Other",
          "liver Cancer",
          "kidney Cancer",
          "Other",
          "Brain Cancer",
          "Blood Cancer",
          "Lung Cancer",
          "Lung Cancer",
          "Lung Cancer",
          "Blood Cancer",
          "Other",
          "Brain Cancer",
          "Other",
          "Lung Cancer",
          "Other",
          "Blood Cancer",
          "Other",
          "Blood Cancer",
          "Blood Cancer",
          "Lung Cancer",
          "Blood Cancer",
          "Pancreatic Cancer",
          "Other",
          "Brain Cancer",
          "Lung Cancer",
          "Brain Cancer",
          "Other",
          "Other",
          "Other",
          "Blood Cancer",
          "Blood Cancer",
          "Blood Cancer",
          "Blood Cancer",
          "Lung Cancer",
          "Blood Cancer",
          "Other",
          "Lung Cancer",
          "Lung Cancer",
          "Blood Cancer",
          "Blood Cancer",
          "Brain Cancer",
          "Blood Cancer",
          "Blood Cancer",
          "Blood Cancer",
          "Lung Cancer",
          "Lung Cancer",
          "Lung Cancer",
          "Other",
          "Other",
          "Brain Cancer",
          "Lung Cancer",
          "Lung Cancer",
          "Lung Cancer",
          "Lung Cancer",
          "Blood Cancer",
          "Blood Cancer",
          "Other",
          "Other",
          "Lung Cancer",
          "Blood Cancer",
          "kidney Cancer",
          "Prostate Cancer",
          "Other",
          "Blood Cancer",
          "Brain Cancer",
          "kidney Cancer",
          "Blood Cancer",
          "Lung Cancer",
          "Other",
          "Blood Cancer",
          "Blood Cancer",
          "kidney Cancer",
          "Other",
          "Other",
          "Brain Cancer",
          "Prostate Cancer",
          "Other",
          "Other",
          "Other",
          "Lymphoma Cancer",
          "Other",
          "Blood Cancer",
          "Blood Cancer",
          "Brain Cancer",
          "Prostate Cancer",
          "Blood Cancer",
          "Blood Cancer",
          "Other",
          "Blood Cancer",
          "Blood Cancer",
          "Other",
          "Lung Cancer",
          "Blood Cancer",
          "Other",
          "Blood Cancer",
          "Lung Cancer",
          "Blood Cancer",
          "Other",
          "Other",
          "Other",
          "Other",
          "Lung Cancer",
          "Blood Cancer",
          "Blood Cancer",
          "Other",
          "Prostate Cancer",
          "Other",
          "Other",
          "Other",
          "Lung Cancer",
          "Other",
          "Other",
          "breast Cancer",
          "Lung Cancer",
          "Other",
          "Other",
          "Blood Cancer",
          "Blood Cancer",
          "Blood Cancer",
          "Other",
          "Other",
          "Lung Cancer",
          "Lung Cancer",
          "Lung Cancer",
          "Blood Cancer",
          "Other",
          "Other",
          "Lung Cancer",
          "Lung Cancer",
          "Other",
          "Other",
          "Other",
          "Lung Cancer",
          "Lung Cancer",
          "Lung Cancer",
          "Blood Cancer",
          "Other",
          "Other",
          "Brain Cancer",
          "Other",
          "Blood Cancer",
          "Blood Cancer",
          "Blood Cancer",
          "Blood Cancer",
          "Blood Cancer",
          "Other",
          "Lymphoma Cancer",
          "Brain Cancer",
          "Other",
          "Other",
          "Lung Cancer",
          "Lung Cancer",
          "Blood Cancer",
          "Other",
          "Blood Cancer",
          "Blood Cancer",
          "Lung Cancer",
          "Brain Cancer",
          "Blood Cancer",
          "Blood Cancer",
          "Other",
          "Pancreatic Cancer",
          "Other",
          "Other",
          "breast Cancer",
          "Lung Cancer",
          "Lung Cancer",
          "Other",
          "breast Cancer",
          "Blood Cancer",
          "Blood Cancer",
          "Lung Cancer",
          "Lung Cancer",
          "Lung Cancer",
          "Other",
          "Other",
          "Other",
          "Other",
          "Other",
          "Lung Cancer",
          "Other",
          "Blood Cancer",
          "Other",
          "Prostate Cancer",
          "Other",
          "Lung Cancer",
          "Blood Cancer",
          "breast Cancer",
          "Other",
          "Other",
          "breast Cancer",
          "Other",
          "Other"
         ],
         "x0": " ",
         "xaxis": "x",
         "y": [
          1835,
          1569,
          1569,
          3789,
          1129,
          2196,
          1202,
          2962,
          1810,
          1810,
          3653,
          3653,
          2528,
          938,
          938,
          1724,
          2249,
          1748,
          1748,
          2190,
          2615,
          2615,
          2448,
          809,
          2093,
          2093,
          3000,
          1120,
          1404,
          1404,
          2550,
          3713,
          3053,
          3122,
          1410,
          2680,
          2550,
          1379,
          1614,
          1246,
          1615,
          2673,
          2811,
          1465,
          3510,
          3510,
          3044,
          3475,
          736,
          1138,
          1138,
          2723,
          2693,
          1238,
          2022,
          2663,
          2663,
          2791,
          1307,
          3250,
          454,
          1580,
          2659,
          1652,
          1652,
          1861,
          1861,
          1380,
          1800,
          1275,
          3107,
          1980,
          1946,
          1405,
          1254,
          1254,
          1840,
          1840,
          2899,
          2899,
          2519,
          3221,
          2897,
          2923,
          2923,
          1750,
          2947,
          2947,
          1326,
          2179,
          2179,
          2336,
          2342,
          2342,
          2795,
          1014,
          2510,
          1817,
          1228,
          2997,
          591,
          965,
          1068,
          504,
          3512,
          2531,
          1971,
          5479,
          5479,
          4265,
          1182,
          1442,
          677,
          578,
          1918,
          2374,
          1495,
          1365,
          1182,
          2016,
          1248,
          1866,
          1866,
          1502,
          671,
          1728,
          2145,
          1489,
          2397,
          402,
          1248,
          3351,
          3193,
          2683,
          2511,
          3605,
          1978,
          995,
          2564,
          1096,
          3476,
          2331,
          1888,
          1519,
          378,
          1135,
          1893,
          2053,
          2432,
          1948,
          2685,
          2685,
          2022,
          2022,
          2694,
          1378,
          655,
          997,
          1544,
          3152,
          3152,
          1832,
          2267,
          1264,
          2202,
          2202,
          1996,
          1372,
          2227,
          2227,
          1427,
          1916,
          3152,
          375,
          3425,
          1622,
          2194,
          1569,
          3220,
          1966,
          966,
          1404,
          2577,
          2315,
          2315,
          1505,
          3006,
          2551,
          2232,
          2058,
          1268,
          1493,
          1349,
          3817,
          1372,
          2828,
          1771,
          2310,
          1942,
          3294,
          3294,
          1025,
          4008,
          4008,
          2919,
          3381,
          2767,
          2649,
          1309,
          3056,
          771,
          912,
          1960,
          3117,
          1742,
          3867,
          1764,
          2024,
          1303,
          1230,
          4087,
          1343,
          1343,
          2795,
          2388,
          2002,
          2635,
          2385,
          1276,
          504,
          3343,
          3086,
          2042,
          1660,
          1660,
          1853,
          513,
          3056,
          1724,
          1170,
          3101,
          515,
          1627,
          979,
          2949,
          1911,
          2647,
          2647,
          2609,
          1093,
          2363,
          2363,
          2180,
          3362,
          3567,
          2574,
          742,
          3501,
          3501,
          3540,
          2069,
          1324,
          659,
          659,
          2604,
          9644,
          1359,
          981,
          706,
          706,
          2855,
          1540,
          952,
          952,
          1020,
          1552,
          2101,
          3481,
          3090,
          2472,
          2472,
          2222,
          3465,
          2381,
          2381,
          1767,
          1767,
          1505,
          3307,
          1367,
          4158,
          4158,
          3337,
          3578,
          2788,
          1169,
          2595,
          1902,
          2709,
          144,
          3132,
          2120,
          1753,
          1753,
          2833,
          2141,
          2141
         ],
         "y0": " ",
         "yaxis": "y"
        },
        {
         "alignmentgroup": "True",
         "hovertemplate": "Major Interventions=Radiation<br>Major Condition=%{x}<br>Duration (Days)=%{y}<extra></extra>",
         "legendgroup": "Radiation",
         "marker": {
          "color": "#FFA15A"
         },
         "name": "Radiation",
         "notched": false,
         "offsetgroup": "Radiation",
         "orientation": "v",
         "showlegend": true,
         "type": "box",
         "x": [
          "Lung Cancer",
          "Lung Cancer",
          "Lung Cancer",
          "Lung Cancer",
          "Lung Cancer",
          "Blood Cancer",
          "Lung Cancer",
          "Lung Cancer",
          "Lung Cancer",
          "Other",
          "Other",
          "Lung Cancer",
          "Brain Cancer",
          "Brain Cancer",
          "Other",
          "Blood Cancer",
          "Other",
          "Other",
          "Brain Cancer",
          "Lung Cancer",
          "Other",
          "Other",
          "kidney Cancer",
          "Lung Cancer",
          "Prostate Cancer",
          "Lung Cancer",
          "Blood Cancer",
          "Prostate Cancer",
          "Brain Cancer",
          "Blood Cancer",
          "liver Cancer",
          "Brain Cancer",
          "Lung Cancer",
          "Lung Cancer",
          "Brain Cancer",
          "Blood Cancer",
          "Lung Cancer",
          "Blood Cancer",
          "Lymphoma Cancer",
          "Blood Cancer",
          "Other",
          "Other",
          "Lung Cancer",
          "Other",
          "Other",
          "Other",
          "Lung Cancer",
          "Lung Cancer",
          "Lymphoma Cancer",
          "Blood Cancer",
          "Lung Cancer",
          "Lung Cancer",
          "Lung Cancer",
          "Lung Cancer",
          "Lung Cancer",
          "Prostate Cancer",
          "Other",
          "Other",
          "Other",
          "Blood Cancer",
          "Other",
          "Lung Cancer",
          "Lung Cancer",
          "Lung Cancer",
          "Other",
          "Other",
          "breast Cancer",
          "Lung Cancer",
          "Lung Cancer",
          "Brain Cancer",
          "Lung Cancer"
         ],
         "x0": " ",
         "xaxis": "x",
         "y": [
          3817,
          3817,
          1129,
          4379,
          4379,
          1803,
          2680,
          2673,
          3044,
          1138,
          1138,
          2659,
          1652,
          1652,
          497,
          384,
          233,
          233,
          2071,
          672,
          591,
          2294,
          677,
          947,
          2882,
          1043,
          3193,
          2418,
          2147,
          3641,
          2499,
          971,
          2685,
          2685,
          2694,
          1378,
          35,
          1569,
          3817,
          1309,
          2259,
          1303,
          1981,
          4087,
          1343,
          1343,
          2698,
          1442,
          3163,
          2042,
          3056,
          1693,
          4147,
          4147,
          2443,
          2377,
          2363,
          2363,
          1443,
          3567,
          1584,
          9644,
          3572,
          2084,
          2108,
          2108,
          3090,
          1767,
          1767,
          2029,
          144
         ],
         "y0": " ",
         "yaxis": "y"
        },
        {
         "alignmentgroup": "True",
         "hovertemplate": "Major Interventions=Uncategorized<br>Major Condition=%{x}<br>Duration (Days)=%{y}<extra></extra>",
         "legendgroup": "Uncategorized",
         "marker": {
          "color": "#19d3f3"
         },
         "name": "Uncategorized",
         "notched": false,
         "offsetgroup": "Uncategorized",
         "orientation": "v",
         "showlegend": true,
         "type": "box",
         "x": [
          "Other",
          "Lung Cancer",
          "Other",
          "Other",
          "Other",
          "Other",
          "Other",
          "liver Cancer"
         ],
         "x0": " ",
         "xaxis": "x",
         "y": [
          621,
          1666,
          221,
          221,
          449,
          240,
          240,
          1001
         ],
         "y0": " ",
         "yaxis": "y"
        }
       ],
       "layout": {
        "boxmode": "group",
        "legend": {
         "title": {
          "text": "Major Interventions"
         },
         "tracegroupgap": 0
        },
        "template": {
         "data": {
          "bar": [
           {
            "error_x": {
             "color": "#2a3f5f"
            },
            "error_y": {
             "color": "#2a3f5f"
            },
            "marker": {
             "line": {
              "color": "#E5ECF6",
              "width": 0.5
             },
             "pattern": {
              "fillmode": "overlay",
              "size": 10,
              "solidity": 0.2
             }
            },
            "type": "bar"
           }
          ],
          "barpolar": [
           {
            "marker": {
             "line": {
              "color": "#E5ECF6",
              "width": 0.5
             },
             "pattern": {
              "fillmode": "overlay",
              "size": 10,
              "solidity": 0.2
             }
            },
            "type": "barpolar"
           }
          ],
          "carpet": [
           {
            "aaxis": {
             "endlinecolor": "#2a3f5f",
             "gridcolor": "white",
             "linecolor": "white",
             "minorgridcolor": "white",
             "startlinecolor": "#2a3f5f"
            },
            "baxis": {
             "endlinecolor": "#2a3f5f",
             "gridcolor": "white",
             "linecolor": "white",
             "minorgridcolor": "white",
             "startlinecolor": "#2a3f5f"
            },
            "type": "carpet"
           }
          ],
          "choropleth": [
           {
            "colorbar": {
             "outlinewidth": 0,
             "ticks": ""
            },
            "type": "choropleth"
           }
          ],
          "contour": [
           {
            "colorbar": {
             "outlinewidth": 0,
             "ticks": ""
            },
            "colorscale": [
             [
              0,
              "#0d0887"
             ],
             [
              0.1111111111111111,
              "#46039f"
             ],
             [
              0.2222222222222222,
              "#7201a8"
             ],
             [
              0.3333333333333333,
              "#9c179e"
             ],
             [
              0.4444444444444444,
              "#bd3786"
             ],
             [
              0.5555555555555556,
              "#d8576b"
             ],
             [
              0.6666666666666666,
              "#ed7953"
             ],
             [
              0.7777777777777778,
              "#fb9f3a"
             ],
             [
              0.8888888888888888,
              "#fdca26"
             ],
             [
              1,
              "#f0f921"
             ]
            ],
            "type": "contour"
           }
          ],
          "contourcarpet": [
           {
            "colorbar": {
             "outlinewidth": 0,
             "ticks": ""
            },
            "type": "contourcarpet"
           }
          ],
          "heatmap": [
           {
            "colorbar": {
             "outlinewidth": 0,
             "ticks": ""
            },
            "colorscale": [
             [
              0,
              "#0d0887"
             ],
             [
              0.1111111111111111,
              "#46039f"
             ],
             [
              0.2222222222222222,
              "#7201a8"
             ],
             [
              0.3333333333333333,
              "#9c179e"
             ],
             [
              0.4444444444444444,
              "#bd3786"
             ],
             [
              0.5555555555555556,
              "#d8576b"
             ],
             [
              0.6666666666666666,
              "#ed7953"
             ],
             [
              0.7777777777777778,
              "#fb9f3a"
             ],
             [
              0.8888888888888888,
              "#fdca26"
             ],
             [
              1,
              "#f0f921"
             ]
            ],
            "type": "heatmap"
           }
          ],
          "heatmapgl": [
           {
            "colorbar": {
             "outlinewidth": 0,
             "ticks": ""
            },
            "colorscale": [
             [
              0,
              "#0d0887"
             ],
             [
              0.1111111111111111,
              "#46039f"
             ],
             [
              0.2222222222222222,
              "#7201a8"
             ],
             [
              0.3333333333333333,
              "#9c179e"
             ],
             [
              0.4444444444444444,
              "#bd3786"
             ],
             [
              0.5555555555555556,
              "#d8576b"
             ],
             [
              0.6666666666666666,
              "#ed7953"
             ],
             [
              0.7777777777777778,
              "#fb9f3a"
             ],
             [
              0.8888888888888888,
              "#fdca26"
             ],
             [
              1,
              "#f0f921"
             ]
            ],
            "type": "heatmapgl"
           }
          ],
          "histogram": [
           {
            "marker": {
             "pattern": {
              "fillmode": "overlay",
              "size": 10,
              "solidity": 0.2
             }
            },
            "type": "histogram"
           }
          ],
          "histogram2d": [
           {
            "colorbar": {
             "outlinewidth": 0,
             "ticks": ""
            },
            "colorscale": [
             [
              0,
              "#0d0887"
             ],
             [
              0.1111111111111111,
              "#46039f"
             ],
             [
              0.2222222222222222,
              "#7201a8"
             ],
             [
              0.3333333333333333,
              "#9c179e"
             ],
             [
              0.4444444444444444,
              "#bd3786"
             ],
             [
              0.5555555555555556,
              "#d8576b"
             ],
             [
              0.6666666666666666,
              "#ed7953"
             ],
             [
              0.7777777777777778,
              "#fb9f3a"
             ],
             [
              0.8888888888888888,
              "#fdca26"
             ],
             [
              1,
              "#f0f921"
             ]
            ],
            "type": "histogram2d"
           }
          ],
          "histogram2dcontour": [
           {
            "colorbar": {
             "outlinewidth": 0,
             "ticks": ""
            },
            "colorscale": [
             [
              0,
              "#0d0887"
             ],
             [
              0.1111111111111111,
              "#46039f"
             ],
             [
              0.2222222222222222,
              "#7201a8"
             ],
             [
              0.3333333333333333,
              "#9c179e"
             ],
             [
              0.4444444444444444,
              "#bd3786"
             ],
             [
              0.5555555555555556,
              "#d8576b"
             ],
             [
              0.6666666666666666,
              "#ed7953"
             ],
             [
              0.7777777777777778,
              "#fb9f3a"
             ],
             [
              0.8888888888888888,
              "#fdca26"
             ],
             [
              1,
              "#f0f921"
             ]
            ],
            "type": "histogram2dcontour"
           }
          ],
          "mesh3d": [
           {
            "colorbar": {
             "outlinewidth": 0,
             "ticks": ""
            },
            "type": "mesh3d"
           }
          ],
          "parcoords": [
           {
            "line": {
             "colorbar": {
              "outlinewidth": 0,
              "ticks": ""
             }
            },
            "type": "parcoords"
           }
          ],
          "pie": [
           {
            "automargin": true,
            "type": "pie"
           }
          ],
          "scatter": [
           {
            "fillpattern": {
             "fillmode": "overlay",
             "size": 10,
             "solidity": 0.2
            },
            "type": "scatter"
           }
          ],
          "scatter3d": [
           {
            "line": {
             "colorbar": {
              "outlinewidth": 0,
              "ticks": ""
             }
            },
            "marker": {
             "colorbar": {
              "outlinewidth": 0,
              "ticks": ""
             }
            },
            "type": "scatter3d"
           }
          ],
          "scattercarpet": [
           {
            "marker": {
             "colorbar": {
              "outlinewidth": 0,
              "ticks": ""
             }
            },
            "type": "scattercarpet"
           }
          ],
          "scattergeo": [
           {
            "marker": {
             "colorbar": {
              "outlinewidth": 0,
              "ticks": ""
             }
            },
            "type": "scattergeo"
           }
          ],
          "scattergl": [
           {
            "marker": {
             "colorbar": {
              "outlinewidth": 0,
              "ticks": ""
             }
            },
            "type": "scattergl"
           }
          ],
          "scattermapbox": [
           {
            "marker": {
             "colorbar": {
              "outlinewidth": 0,
              "ticks": ""
             }
            },
            "type": "scattermapbox"
           }
          ],
          "scatterpolar": [
           {
            "marker": {
             "colorbar": {
              "outlinewidth": 0,
              "ticks": ""
             }
            },
            "type": "scatterpolar"
           }
          ],
          "scatterpolargl": [
           {
            "marker": {
             "colorbar": {
              "outlinewidth": 0,
              "ticks": ""
             }
            },
            "type": "scatterpolargl"
           }
          ],
          "scatterternary": [
           {
            "marker": {
             "colorbar": {
              "outlinewidth": 0,
              "ticks": ""
             }
            },
            "type": "scatterternary"
           }
          ],
          "surface": [
           {
            "colorbar": {
             "outlinewidth": 0,
             "ticks": ""
            },
            "colorscale": [
             [
              0,
              "#0d0887"
             ],
             [
              0.1111111111111111,
              "#46039f"
             ],
             [
              0.2222222222222222,
              "#7201a8"
             ],
             [
              0.3333333333333333,
              "#9c179e"
             ],
             [
              0.4444444444444444,
              "#bd3786"
             ],
             [
              0.5555555555555556,
              "#d8576b"
             ],
             [
              0.6666666666666666,
              "#ed7953"
             ],
             [
              0.7777777777777778,
              "#fb9f3a"
             ],
             [
              0.8888888888888888,
              "#fdca26"
             ],
             [
              1,
              "#f0f921"
             ]
            ],
            "type": "surface"
           }
          ],
          "table": [
           {
            "cells": {
             "fill": {
              "color": "#EBF0F8"
             },
             "line": {
              "color": "white"
             }
            },
            "header": {
             "fill": {
              "color": "#C8D4E3"
             },
             "line": {
              "color": "white"
             }
            },
            "type": "table"
           }
          ]
         },
         "layout": {
          "annotationdefaults": {
           "arrowcolor": "#2a3f5f",
           "arrowhead": 0,
           "arrowwidth": 1
          },
          "autotypenumbers": "strict",
          "coloraxis": {
           "colorbar": {
            "outlinewidth": 0,
            "ticks": ""
           }
          },
          "colorscale": {
           "diverging": [
            [
             0,
             "#8e0152"
            ],
            [
             0.1,
             "#c51b7d"
            ],
            [
             0.2,
             "#de77ae"
            ],
            [
             0.3,
             "#f1b6da"
            ],
            [
             0.4,
             "#fde0ef"
            ],
            [
             0.5,
             "#f7f7f7"
            ],
            [
             0.6,
             "#e6f5d0"
            ],
            [
             0.7,
             "#b8e186"
            ],
            [
             0.8,
             "#7fbc41"
            ],
            [
             0.9,
             "#4d9221"
            ],
            [
             1,
             "#276419"
            ]
           ],
           "sequential": [
            [
             0,
             "#0d0887"
            ],
            [
             0.1111111111111111,
             "#46039f"
            ],
            [
             0.2222222222222222,
             "#7201a8"
            ],
            [
             0.3333333333333333,
             "#9c179e"
            ],
            [
             0.4444444444444444,
             "#bd3786"
            ],
            [
             0.5555555555555556,
             "#d8576b"
            ],
            [
             0.6666666666666666,
             "#ed7953"
            ],
            [
             0.7777777777777778,
             "#fb9f3a"
            ],
            [
             0.8888888888888888,
             "#fdca26"
            ],
            [
             1,
             "#f0f921"
            ]
           ],
           "sequentialminus": [
            [
             0,
             "#0d0887"
            ],
            [
             0.1111111111111111,
             "#46039f"
            ],
            [
             0.2222222222222222,
             "#7201a8"
            ],
            [
             0.3333333333333333,
             "#9c179e"
            ],
            [
             0.4444444444444444,
             "#bd3786"
            ],
            [
             0.5555555555555556,
             "#d8576b"
            ],
            [
             0.6666666666666666,
             "#ed7953"
            ],
            [
             0.7777777777777778,
             "#fb9f3a"
            ],
            [
             0.8888888888888888,
             "#fdca26"
            ],
            [
             1,
             "#f0f921"
            ]
           ]
          },
          "colorway": [
           "#636efa",
           "#EF553B",
           "#00cc96",
           "#ab63fa",
           "#FFA15A",
           "#19d3f3",
           "#FF6692",
           "#B6E880",
           "#FF97FF",
           "#FECB52"
          ],
          "font": {
           "color": "#2a3f5f"
          },
          "geo": {
           "bgcolor": "white",
           "lakecolor": "white",
           "landcolor": "#E5ECF6",
           "showlakes": true,
           "showland": true,
           "subunitcolor": "white"
          },
          "hoverlabel": {
           "align": "left"
          },
          "hovermode": "closest",
          "mapbox": {
           "style": "light"
          },
          "paper_bgcolor": "white",
          "plot_bgcolor": "#E5ECF6",
          "polar": {
           "angularaxis": {
            "gridcolor": "white",
            "linecolor": "white",
            "ticks": ""
           },
           "bgcolor": "#E5ECF6",
           "radialaxis": {
            "gridcolor": "white",
            "linecolor": "white",
            "ticks": ""
           }
          },
          "scene": {
           "xaxis": {
            "backgroundcolor": "#E5ECF6",
            "gridcolor": "white",
            "gridwidth": 2,
            "linecolor": "white",
            "showbackground": true,
            "ticks": "",
            "zerolinecolor": "white"
           },
           "yaxis": {
            "backgroundcolor": "#E5ECF6",
            "gridcolor": "white",
            "gridwidth": 2,
            "linecolor": "white",
            "showbackground": true,
            "ticks": "",
            "zerolinecolor": "white"
           },
           "zaxis": {
            "backgroundcolor": "#E5ECF6",
            "gridcolor": "white",
            "gridwidth": 2,
            "linecolor": "white",
            "showbackground": true,
            "ticks": "",
            "zerolinecolor": "white"
           }
          },
          "shapedefaults": {
           "line": {
            "color": "#2a3f5f"
           }
          },
          "ternary": {
           "aaxis": {
            "gridcolor": "white",
            "linecolor": "white",
            "ticks": ""
           },
           "baxis": {
            "gridcolor": "white",
            "linecolor": "white",
            "ticks": ""
           },
           "bgcolor": "#E5ECF6",
           "caxis": {
            "gridcolor": "white",
            "linecolor": "white",
            "ticks": ""
           }
          },
          "title": {
           "x": 0.05
          },
          "xaxis": {
           "automargin": true,
           "gridcolor": "white",
           "linecolor": "white",
           "ticks": "",
           "title": {
            "standoff": 15
           },
           "zerolinecolor": "white",
           "zerolinewidth": 2
          },
          "yaxis": {
           "automargin": true,
           "gridcolor": "white",
           "linecolor": "white",
           "ticks": "",
           "title": {
            "standoff": 15
           },
           "zerolinecolor": "white",
           "zerolinewidth": 2
          }
         }
        },
        "title": {
         "text": "Study Duration by Condition and Phases"
        },
        "xaxis": {
         "anchor": "y",
         "domain": [
          0,
          1
         ],
         "title": {
          "text": "Major Condition"
         }
        },
        "yaxis": {
         "anchor": "x",
         "domain": [
          0,
          1
         ],
         "title": {
          "text": "Duration (Days)"
         }
        }
       }
      },
      "text/html": [
       "<div>                            <div id=\"8ed70d0e-10ae-4002-8707-871dedf14d68\" class=\"plotly-graph-div\" style=\"height:525px; width:100%;\"></div>            <script type=\"text/javascript\">                require([\"plotly\"], function(Plotly) {                    window.PLOTLYENV=window.PLOTLYENV || {};                                    if (document.getElementById(\"8ed70d0e-10ae-4002-8707-871dedf14d68\")) {                    Plotly.newPlot(                        \"8ed70d0e-10ae-4002-8707-871dedf14d68\",                        [{\"alignmentgroup\":\"True\",\"hovertemplate\":\"Major Interventions=Drug<br>Major Condition=%{x}<br>Duration (Days)=%{y}<extra></extra>\",\"legendgroup\":\"Drug\",\"marker\":{\"color\":\"#636efa\"},\"name\":\"Drug\",\"notched\":false,\"offsetgroup\":\"Drug\",\"orientation\":\"v\",\"showlegend\":true,\"x\":[\"Other\",\"Other\",\"Prostate Cancer\",\"Lung Cancer\",\"Blood Cancer\",\"Lung Cancer\",\"Lung Cancer\",\"Lung Cancer\",\"Lung Cancer\",\"Brain Cancer\",\"Brain Cancer\",\"Prostate Cancer\",\"Prostate Cancer\",\"Lung Cancer\",\"Lung Cancer\",\"Blood Cancer\",\"Blood Cancer\",\"Lung Cancer\",\"Other\",\"Other\",\"breast Cancer\",\"Brain Cancer\",\"Brain Cancer\",\"Other\",\"breast Cancer\",\"Blood Cancer\",\"Brain Cancer\",\"Brain Cancer\",\"Other\",\"Other\",\"Blood Cancer\",\"Other\",\"Blood Cancer\",\"Other\",\"Other\",\"Other\",\"Prostate Cancer\",\"Blood Cancer\",\"Blood Cancer\",\"Other\",\"Brain Cancer\",\"Blood Cancer\",\"Blood Cancer\",\"Other\",\"Other\",\"Other\",\"Brain Cancer\",\"Brain Cancer\",\"Brain Cancer\",\"Blood Cancer\",\"Lung Cancer\",\"Blood Cancer\",\"Other\",\"Other\",\"Other\",\"Lung Cancer\",\"Blood Cancer\",\"Lung Cancer\",\"Brain Cancer\",\"Blood Cancer\",\"Lung Cancer\",\"Lung Cancer\",\"Blood Cancer\",\"Other\",\"Lung Cancer\",\"Lung Cancer\",\"Other\",\"Blood Cancer\",\"Other\",\"Other\",\"Lung Cancer\",\"Other\",\"Lung Cancer\",\"Other\",\"Other\",\"kidney Cancer\",\"Blood Cancer\",\"Blood Cancer\",\"Lung Cancer\",\"Lung Cancer\",\"Lung Cancer\",\"Blood Cancer\",\"Blood Cancer\",\"Blood Cancer\",\"Other\",\"Other\",\"Blood Cancer\",\"Other\",\"Brain Cancer\",\"breast Cancer\",\"Other\",\"Prostate Cancer\",\"Blood Cancer\",\"kidney Cancer\",\"liver Cancer\",\"liver Cancer\",\"Other\",\"Other\",\"Brain Cancer\",\"Lung Cancer\",\"Lung Cancer\",\"Other\",\"Other\",\"Other\",\"Brain Cancer\",\"Brain Cancer\",\"Lung Cancer\",\"Lung Cancer\",\"Blood Cancer\",\"Blood Cancer\",\"Prostate Cancer\",\"Prostate Cancer\",\"Lung Cancer\",\"Lung Cancer\",\"Other\",\"Blood Cancer\",\"Lung Cancer\",\"Lung Cancer\",\"Pancreatic Cancer\",\"Lung Cancer\",\"Blood Cancer\",\"Other\",\"Prostate Cancer\",\"liver Cancer\",\"liver Cancer\",\"Brain Cancer\",\"Lung Cancer\",\"Prostate Cancer\",\"Prostate Cancer\",\"Lung Cancer\",\"Lung Cancer\",\"breast Cancer\",\"Other\",\"Lung Cancer\",\"Blood Cancer\",\"Blood Cancer\",\"Blood Cancer\",\"Blood Cancer\",\"Other\",\"Other\",\"Brain Cancer\",\"Lung Cancer\",\"Blood Cancer\",\"Brain Cancer\",\"Lung Cancer\",\"Lung Cancer\",\"Lung Cancer\",\"Blood Cancer\",\"Other\",\"Other\",\"Blood Cancer\",\"Other\",\"Other\",\"Lung Cancer\",\"Other\",\"Other\",\"Other\",\"Other\",\"Other\",\"Lung Cancer\",\"Lung Cancer\",\"Other\",\"Blood Cancer\",\"Blood Cancer\",\"Blood Cancer\",\"Prostate Cancer\",\"breast Cancer\",\"breast Cancer\",\"Brain Cancer\",\"Lung Cancer\",\"breast Cancer\",\"Prostate Cancer\",\"liver Cancer\",\"Other\",\"Blood Cancer\",\"Other\",\"Other\",\"Other\",\"Other\",\"Blood Cancer\",\"Other\",\"Lung Cancer\",\"Lung Cancer\",\"Blood Cancer\",\"Other\",\"Lung Cancer\",\"Other\",\"Other\",\"kidney Cancer\",\"Other\",\"Lung Cancer\",\"Lung Cancer\",\"kidney Cancer\",\"Blood Cancer\",\"Other\",\"Other\",\"Lung Cancer\",\"Blood Cancer\",\"Blood Cancer\",\"Other\",\"Other\",\"Other\",\"Prostate Cancer\",\"Other\",\"kidney Cancer\",\"Other\",\"Other\",\"Lung Cancer\",\"Blood Cancer\",\"Other\",\"Other\",\"Brain Cancer\",\"Other\",\"Lung Cancer\",\"Blood Cancer\",\"Blood Cancer\",\"Lung Cancer\",\"breast Cancer\",\"Other\",\"Lung Cancer\",\"Lung Cancer\",\"Blood Cancer\",\"Blood Cancer\",\"Lung Cancer\",\"Other\",\"Blood Cancer\",\"Lung Cancer\",\"Lung Cancer\",\"Other\",\"Other\",\"Blood Cancer\",\"Brain Cancer\",\"Lung Cancer\",\"Prostate Cancer\",\"liver Cancer\",\"Other\",\"Other\",\"Other\",\"Blood Cancer\",\"Blood Cancer\",\"Other\",\"Blood Cancer\",\"Lung Cancer\",\"Other\",\"Blood Cancer\",\"Other\",\"liver Cancer\",\"Other\",\"Other\",\"Blood Cancer\",\"Blood Cancer\",\"Other\",\"Blood Cancer\",\"Prostate Cancer\",\"Other\",\"breast Cancer\",\"Lung Cancer\",\"Brain Cancer\",\"Lung Cancer\",\"Blood Cancer\",\"Other\",\"Other\",\"Blood Cancer\",\"Lung Cancer\",\"Other\",\"Blood Cancer\",\"Blood Cancer\",\"Brain Cancer\",\"Brain Cancer\",\"Other\",\"Brain Cancer\",\"Other\",\"Lung Cancer\",\"liver Cancer\",\"Other\",\"Lung Cancer\",\"Lung Cancer\",\"Prostate Cancer\",\"Blood Cancer\",\"Lung Cancer\",\"Lung Cancer\",\"Other\",\"Other\",\"Other\",\"Blood Cancer\",\"Lung Cancer\",\"Lung Cancer\",\"Blood Cancer\",\"Blood Cancer\",\"Blood Cancer\",\"Brain Cancer\",\"Blood Cancer\",\"Lung Cancer\",\"Blood Cancer\",\"Brain Cancer\",\"Prostate Cancer\",\"Blood Cancer\",\"Lung Cancer\",\"Other\",\"Other\",\"Other\",\"Blood Cancer\",\"Lung Cancer\",\"Lung Cancer\",\"Lung Cancer\",\"Blood Cancer\",\"Blood Cancer\",\"Lung Cancer\",\"Brain Cancer\",\"Blood Cancer\",\"Other\",\"Blood Cancer\",\"Blood Cancer\",\"Blood Cancer\",\"Lung Cancer\",\"Blood Cancer\",\"Lung Cancer\",\"Lung Cancer\",\"Other\",\"Pancreatic Cancer\",\"Brain Cancer\",\"Other\",\"Other\",\"Lung Cancer\",\"Lung Cancer\",\"Lung Cancer\",\"Lung Cancer\",\"Other\",\"Lung Cancer\",\"Lung Cancer\",\"Lung Cancer\",\"Other\",\"Blood Cancer\",\"Lung Cancer\",\"Blood Cancer\",\"Blood Cancer\",\"Other\",\"Lung Cancer\",\"Lung Cancer\",\"breast Cancer\",\"Blood Cancer\",\"Prostate Cancer\",\"liver Cancer\",\"Other\",\"Blood Cancer\",\"Lung Cancer\",\"Lung Cancer\",\"Brain Cancer\",\"kidney Cancer\",\"Lung Cancer\",\"Other\",\"kidney Cancer\",\"kidney Cancer\",\"Other\",\"Blood Cancer\",\"Lung Cancer\",\"Blood Cancer\",\"Blood Cancer\",\"kidney Cancer\",\"Other\",\"Other\",\"Other\",\"Other\",\"Brain Cancer\",\"Other\",\"Blood Cancer\",\"Blood Cancer\",\"Lung Cancer\",\"Prostate Cancer\",\"Prostate Cancer\",\"Other\",\"Blood Cancer\",\"Prostate Cancer\",\"Other\",\"Lymphoma Cancer\",\"Blood Cancer\",\"Blood Cancer\",\"Other\",\"Lung Cancer\",\"Lung Cancer\",\"Pancreatic Cancer\",\"Blood Cancer\",\"kidney Cancer\",\"Other\",\"Other\",\"Blood Cancer\",\"Other\",\"Other\",\"Other\",\"Lung Cancer\",\"Lung Cancer\",\"Brain Cancer\",\"Prostate Cancer\",\"Blood Cancer\",\"Blood Cancer\",\"Blood Cancer\",\"Other\",\"Other\",\"Blood Cancer\",\"Blood Cancer\",\"Other\",\"Other\",\"Blood Cancer\",\"Blood Cancer\",\"Other\",\"Blood Cancer\",\"Lung Cancer\",\"Other\",\"Blood Cancer\",\"Lung Cancer\",\"Blood Cancer\",\"Other\",\"Other\",\"liver Cancer\",\"Blood Cancer\",\"Blood Cancer\",\"Other\",\"Lung Cancer\",\"Lung Cancer\",\"Other\",\"Other\",\"Lung Cancer\",\"Other\",\"Lung Cancer\",\"Blood Cancer\",\"Blood Cancer\",\"Blood Cancer\",\"Other\",\"Lung Cancer\",\"Brain Cancer\",\"Brain Cancer\",\"Other\",\"Other\",\"Other\",\"Brain Cancer\",\"Other\",\"Other\",\"kidney Cancer\",\"Blood Cancer\",\"Lung Cancer\",\"Lung Cancer\",\"Other\",\"breast Cancer\",\"Lung Cancer\",\"Other\",\"Lung Cancer\",\"Blood Cancer\",\"Blood Cancer\",\"Other\",\"Lymphoma Cancer\",\"Lung Cancer\",\"Blood Cancer\",\"liver Cancer\",\"Other\",\"Other\",\"Lung Cancer\",\"Lung Cancer\",\"Brain Cancer\",\"Other\",\"Prostate Cancer\",\"Blood Cancer\",\"Lung Cancer\",\"Blood Cancer\",\"Blood Cancer\",\"Other\",\"Brain Cancer\",\"Blood Cancer\",\"Other\",\"Lung Cancer\",\"Lung Cancer\",\"Other\",\"Lung Cancer\",\"Other\",\"Blood Cancer\",\"kidney Cancer\",\"Other\",\"Other\",\"Other\",\"Other\",\"kidney Cancer\",\"Lung Cancer\",\"Lung Cancer\",\"Lung Cancer\",\"Blood Cancer\",\"Lung Cancer\",\"Other\",\"Other\",\"Blood Cancer\",\"Blood Cancer\",\"Blood Cancer\",\"Blood Cancer\",\"Blood Cancer\",\"Blood Cancer\",\"Other\",\"Other\",\"Other\",\"Blood Cancer\",\"Other\",\"Lymphoma Cancer\",\"liver Cancer\",\"Other\",\"Other\",\"Blood Cancer\",\"Blood Cancer\",\"Other\",\"Other\",\"Other\",\"Blood Cancer\",\"Blood Cancer\",\"Lung Cancer\",\"Blood Cancer\",\"Other\",\"Other\",\"liver Cancer\",\"Blood Cancer\",\"Blood Cancer\",\"Lung Cancer\",\"Lung Cancer\",\"Blood Cancer\",\"Blood Cancer\",\"Lung Cancer\",\"Brain Cancer\",\"Other\",\"Blood Cancer\",\"Blood Cancer\",\"Other\",\"Pancreatic Cancer\",\"Lung Cancer\",\"Lung Cancer\",\"Blood Cancer\",\"Other\",\"Brain Cancer\",\"Brain Cancer\",\"Other\",\"Other\",\"Lung Cancer\",\"Lung Cancer\",\"Other\",\"Other\",\"Lung Cancer\",\"Blood Cancer\",\"Other\",\"Other\",\"Other\",\"liver Cancer\",\"Blood Cancer\",\"Blood Cancer\",\"Pancreatic Cancer\",\"Other\",\"Prostate Cancer\",\"Blood Cancer\",\"Other\",\"breast Cancer\",\"Blood Cancer\",\"Blood Cancer\",\"Lung Cancer\",\"Lung Cancer\",\"Lung Cancer\",\"Pancreatic Cancer\",\"Pancreatic Cancer\",\"Other\",\"Lung Cancer\",\"Other\",\"Blood Cancer\",\"Other\",\"Other\",\"Other\",\"Other\",\"Blood Cancer\",\"Other\",\"Lung Cancer\",\"Other\",\"Pancreatic Cancer\",\"Blood Cancer\",\"Prostate Cancer\",\"Other\",\"breast Cancer\",\"Blood Cancer\",\"Blood Cancer\",\"Other\",\"kidney Cancer\",\"Other\",\"Other\",\"Other\",\"Other\",\"Prostate Cancer\",\"Lung Cancer\",\"Brain Cancer\",\"Other\",\"Prostate Cancer\",\"Blood Cancer\",\"Blood Cancer\",\"breast Cancer\",\"Other\",\"Other\",\"breast Cancer\",\"Brain Cancer\",\"Blood Cancer\",\"Blood Cancer\",\"Other\",\"Other\"],\"x0\":\" \",\"xaxis\":\"x\",\"y\":[1255,1255,798,1753,1385,964,1885,3817,3817,1882,1882,1569,1569,3789,1129,253,1242,295,1110,1607,1359,2196,1202,328,374,3580,3653,3653,1078,2528,812,3597,1724,2249,1748,1748,2190,2615,2615,1431,2505,837,837,1098,1098,2448,809,2093,2093,1803,3000,1120,1404,1404,2078,3112,3488,2550,3713,3039,1875,1184,3053,3122,1410,2680,1011,2400,2202,1379,1246,1615,2673,2811,1465,1530,1705,2690,3510,3510,3044,3475,736,3521,1138,1138,2723,1862,2693,5639,2731,3651,4097,478,2663,2663,2791,1307,3250,3046,3046,454,889,352,1652,1652,1666,1666,1861,1861,1628,1628,719,719,1886,3031,2236,2236,1363,1380,1800,1275,3124,878,878,2833,3107,2418,2418,260,1208,1980,1946,1405,1254,1254,1840,1840,2899,2899,2519,805,3221,1286,2897,2351,1750,2696,2947,2947,1326,233,233,2167,2336,687,687,2063,1096,2795,672,771,1500,1500,1014,596,344,344,2510,1744,1817,839,1228,3256,2446,216,216,591,965,2922,1703,1294,1294,616,1672,1971,5479,5479,2102,1182,330,1442,677,1148,1659,2094,947,1745,1182,1918,1784,1784,2882,223,1495,1144,1144,2323,3597,922,1365,1182,464,889,2016,1776,1248,2260,2749,1866,1866,1502,3501,1043,1378,1406,2361,2361,671,833,2135,1728,1888,265,159,453,453,503,1314,1314,2145,3493,1489,1384,834,2397,1305,1248,226,3351,1491,409,3200,2418,2909,1179,1799,2147,2683,2511,1118,1445,1335,2455,1978,1075,3641,995,1096,3476,1525,2595,1903,2499,2331,1392,1392,1587,1574,285,285,293,293,1521,1519,1562,1562,378,1135,1893,971,3116,2053,2280,2565,2152,2432,513,3145,3145,945,2301,1563,2685,2685,2022,2022,274,2694,3645,1540,1378,655,997,1544,2536,3152,3152,1832,839,1264,914,1659,1659,2627,2202,2202,432,1996,1372,2957,1957,729,813,2227,2227,1427,35,3152,171,375,1622,1608,2194,1569,1819,1819,3220,1966,2395,887,1625,1625,1080,966,1404,2315,2315,1505,1511,1511,2558,2551,2232,1618,312,312,1603,2635,2058,1493,3200,1043,1349,3817,539,3403,1372,1728,1728,1140,2828,934,699,3017,1771,492,492,1700,3745,3745,2310,1942,3294,3294,1875,2448,1025,4008,4008,635,2919,3201,3298,1780,2767,1308,2649,1309,3056,771,2259,2191,926,1639,2205,1960,846,846,3117,215,1689,1742,3867,1764,1706,2024,1303,1078,1351,1351,2734,1605,1068,2417,4087,1035,922,2956,1646,1646,2388,2635,2385,1276,1442,1997,175,504,3163,1614,2042,425,1660,1660,1599,1853,1330,2738,1409,2751,3056,1724,1023,1170,1916,3387,3101,1693,1627,903,2443,1239,586,1121,979,2057,2949,1911,3177,2647,2647,2609,1093,695,319,1346,1809,3567,2574,1655,3501,3501,3540,906,906,4702,1549,2069,874,2884,1063,1947,1947,908,659,659,2793,2793,9644,1359,1768,981,778,1203,1203,3572,2084,706,706,2855,1540,2878,952,952,1020,1552,203,203,1164,1593,2499,1197,2101,3481,2472,2472,1295,2222,2426,3488,1866,660,660,2370,3597,1231,1860,1505,2411,3493,1582,3465,2381,2381,1767,1767,1505,2415,2415,3307,1701,1367,2097,4158,4158,3337,1040,3201,2261,718,2842,433,1169,1706,2614,1568,1217,1217,940,3062,2595,1437,1437,381,1902,2435,2029,2709,1960,1689,3132,2120,1753,1753,2833,1372,2533,2533,2141,2141],\"y0\":\" \",\"yaxis\":\"y\",\"type\":\"box\"},{\"alignmentgroup\":\"True\",\"hovertemplate\":\"Major Interventions=Biological<br>Major Condition=%{x}<br>Duration (Days)=%{y}<extra></extra>\",\"legendgroup\":\"Biological\",\"marker\":{\"color\":\"#EF553B\"},\"name\":\"Biological\",\"notched\":false,\"offsetgroup\":\"Biological\",\"orientation\":\"v\",\"showlegend\":true,\"x\":[\"Other\",\"Other\",\"Lung Cancer\",\"breast Cancer\",\"Lung Cancer\",\"Lung Cancer\",\"Brain Cancer\",\"Other\",\"Other\",\"Other\",\"Blood Cancer\",\"Other\",\"Other\",\"Blood Cancer\",\"Blood Cancer\",\"Blood Cancer\",\"Other\",\"Blood Cancer\",\"Blood Cancer\",\"Other\",\"Other\",\"Other\",\"Other\",\"Brain Cancer\",\"Brain Cancer\",\"Blood Cancer\",\"Blood Cancer\",\"Other\",\"Other\",\"Other\",\"Lung Cancer\",\"Lung Cancer\",\"Blood Cancer\",\"Lung Cancer\",\"Lung Cancer\",\"Other\",\"Other\",\"Blood Cancer\",\"Other\",\"Lung Cancer\",\"Other\",\"Blood Cancer\",\"Lung Cancer\",\"Lung Cancer\",\"Lung Cancer\",\"Blood Cancer\",\"Blood Cancer\",\"Other\",\"Other\",\"Blood Cancer\",\"Other\",\"liver Cancer\",\"Lung Cancer\",\"kidney Cancer\",\"Lung Cancer\",\"Lung Cancer\",\"Brain Cancer\",\"Brain Cancer\",\"Lung Cancer\",\"Lung Cancer\",\"Other\",\"Prostate Cancer\",\"liver Cancer\",\"liver Cancer\",\"Prostate Cancer\",\"Prostate Cancer\",\"Lung Cancer\",\"Other\",\"Other\",\"Other\",\"Other\",\"Lung Cancer\",\"Brain Cancer\",\"Brain Cancer\",\"Brain Cancer\",\"Lung Cancer\",\"Blood Cancer\",\"Other\",\"Other\",\"Other\",\"Other\",\"Blood Cancer\",\"Blood Cancer\",\"breast Cancer\",\"breast Cancer\",\"Prostate Cancer\",\"liver Cancer\",\"Other\",\"Blood Cancer\",\"Other\",\"Brain Cancer\",\"Blood Cancer\",\"Blood Cancer\",\"breast Cancer\",\"Blood Cancer\",\"Blood Cancer\",\"Lung Cancer\",\"Lung Cancer\",\"Other\",\"Other\",\"Brain Cancer\",\"Other\",\"kidney Cancer\",\"Lung Cancer\",\"Blood Cancer\",\"Other\",\"liver Cancer\",\"Other\",\"Other\",\"kidney Cancer\",\"Blood Cancer\",\"Blood Cancer\",\"Other\",\"Lung Cancer\",\"Lung Cancer\",\"Prostate Cancer\",\"Lung Cancer\",\"Other\",\"Blood Cancer\",\"Blood Cancer\",\"Other\",\"Other\",\"Blood Cancer\",\"Blood Cancer\",\"breast Cancer\",\"Blood Cancer\",\"breast Cancer\",\"Blood Cancer\",\"Pancreatic Cancer\",\"Lung Cancer\",\"Other\",\"Blood Cancer\",\"Lung Cancer\",\"Brain Cancer\",\"Brain Cancer\",\"Other\",\"Other\",\"Other\",\"Lung Cancer\",\"Lung Cancer\",\"Blood Cancer\",\"Lung Cancer\",\"Lung Cancer\",\"Other\",\"Blood Cancer\",\"Blood Cancer\",\"Blood Cancer\",\"Blood Cancer\",\"Blood Cancer\",\"Blood Cancer\",\"Blood Cancer\",\"Lung Cancer\",\"Blood Cancer\",\"Other\",\"Blood Cancer\",\"Lung Cancer\",\"Lung Cancer\",\"Blood Cancer\",\"Other\",\"Other\",\"Blood Cancer\",\"Brain Cancer\",\"Other\",\"Brain Cancer\",\"Other\",\"Other\",\"breast Cancer\",\"Blood Cancer\",\"kidney Cancer\",\"liver Cancer\",\"Other\",\"Lung Cancer\",\"Lung Cancer\",\"Brain Cancer\",\"kidney Cancer\",\"liver Cancer\",\"liver Cancer\",\"Blood Cancer\",\"Lung Cancer\",\"Lung Cancer\",\"Other\",\"Blood Cancer\",\"Blood Cancer\",\"kidney Cancer\",\"Other\",\"Other\",\"Lung Cancer\",\"Blood Cancer\",\"Other\",\"Blood Cancer\",\"Blood Cancer\",\"Blood Cancer\",\"Other\",\"Blood Cancer\",\"Other\",\"Blood Cancer\",\"Blood Cancer\",\"Blood Cancer\",\"Blood Cancer\",\"Other\",\"Lung Cancer\",\"Other\",\"Other\",\"Lung Cancer\",\"Blood Cancer\",\"Blood Cancer\",\"Other\",\"Lung Cancer\",\"Blood Cancer\",\"Other\",\"Lung Cancer\",\"Lung Cancer\",\"Brain Cancer\",\"Other\",\"Other\",\"Blood Cancer\",\"Lung Cancer\",\"Lung Cancer\",\"Lung Cancer\",\"Lung Cancer\",\"Other\",\"Lung Cancer\",\"Prostate Cancer\",\"Blood Cancer\",\"Blood Cancer\",\"Blood Cancer\",\"Lung Cancer\",\"Blood Cancer\",\"Blood Cancer\",\"Brain Cancer\",\"Lung Cancer\",\"Lung Cancer\",\"Lung Cancer\",\"Other\",\"Blood Cancer\",\"Other\",\"Blood Cancer\",\"Lung Cancer\",\"Lung Cancer\",\"Other\",\"Other\",\"Other\",\"Other\",\"Blood Cancer\",\"Brain Cancer\",\"Other\",\"Blood Cancer\",\"Blood Cancer\",\"Blood Cancer\",\"Blood Cancer\",\"Blood Cancer\",\"Other\",\"Other\",\"Lymphoma Cancer\",\"liver Cancer\",\"Brain Cancer\",\"Blood Cancer\",\"Blood Cancer\",\"Other\",\"Other\",\"Lung Cancer\",\"Other\",\"Lung Cancer\",\"Other\",\"Lung Cancer\",\"Blood Cancer\",\"Blood Cancer\",\"Other\",\"Other\",\"Blood Cancer\",\"Other\",\"breast Cancer\",\"Blood Cancer\",\"Prostate Cancer\",\"Other\",\"Pancreatic Cancer\",\"Other\",\"Blood Cancer\",\"Prostate Cancer\",\"Other\",\"Other\",\"Other\",\"Blood Cancer\",\"Lung Cancer\",\"Lung Cancer\",\"Other\",\"Blood Cancer\",\"Prostate Cancer\",\"Lung Cancer\",\"Brain Cancer\",\"Blood Cancer\",\"Prostate Cancer\",\"Other\",\"Other\",\"breast Cancer\",\"breast Cancer\",\"Blood Cancer\",\"Blood Cancer\",\"Other\",\"Other\"],\"x0\":\" \",\"xaxis\":\"x\",\"y\":[1255,1255,1753,1835,3789,1129,1202,2962,1810,1810,1678,1078,2528,812,938,938,1329,2615,2615,953,1098,1098,2448,2093,2093,1803,1120,1404,1404,2078,3112,2550,3039,1875,1184,1360,1011,2400,2550,1614,2811,1705,3510,3510,3044,3475,736,1138,1138,2723,257,1812,2022,478,1580,2659,1652,1652,1666,1666,2607,3124,878,878,2418,2418,1405,2899,2899,1201,497,805,1286,2923,2923,1750,384,2179,2179,2342,2342,1500,1500,344,344,839,1228,591,1534,231,1529,1068,2922,504,616,3512,2531,1971,5479,5479,4265,2294,2102,1442,1745,578,2374,571,223,5155,2016,1776,1681,1866,1866,959,1043,1378,1406,2135,453,453,834,402,2533,3193,1179,2511,3605,936,1978,1075,2564,1096,1525,1966,1966,2331,1392,1392,1574,285,285,1888,1519,378,1135,1893,883,883,3495,1369,2432,1948,2301,2685,2685,1378,2213,2213,2536,2098,2267,1264,1957,1916,171,375,3425,1608,1572,1819,1819,3220,1966,536,536,2312,2395,1404,2577,2315,2315,1505,3006,2551,1603,757,2789,539,3403,2828,699,2508,740,1447,3294,3294,1875,1848,3381,1780,3473,1308,1309,771,2191,892,1639,215,1689,1981,2417,1343,1343,2956,2795,2698,1646,1646,2002,2385,2509,3343,3086,2042,1853,1630,1630,1916,515,1627,2443,1239,586,979,1851,2647,2647,1936,2363,2363,1443,2253,2180,3362,3567,742,1655,3501,3501,906,906,2069,874,1324,2793,2793,1927,1927,2604,1584,9644,981,3572,706,706,2108,2108,832,3215,3090,696,1679,2889,244,2045,1960,2475,1582,9,1406,2097,1014,3578,2788,1169,1902,2435,2029,1608,1960,1753,1753,848,2833,2533,2533,2141,2141],\"y0\":\" \",\"yaxis\":\"y\",\"type\":\"box\"},{\"alignmentgroup\":\"True\",\"hovertemplate\":\"Major Interventions=Procedure<br>Major Condition=%{x}<br>Duration (Days)=%{y}<extra></extra>\",\"legendgroup\":\"Procedure\",\"marker\":{\"color\":\"#00cc96\"},\"name\":\"Procedure\",\"notched\":false,\"offsetgroup\":\"Procedure\",\"orientation\":\"v\",\"showlegend\":true,\"x\":[\"Lung Cancer\",\"Lung Cancer\",\"Lung Cancer\",\"Lung Cancer\",\"Lung Cancer\",\"Lung Cancer\",\"Other\",\"Other\",\"Lung Cancer\",\"Lung Cancer\",\"Other\",\"Other\",\"Brain Cancer\",\"Brain Cancer\",\"Blood Cancer\",\"Lung Cancer\",\"Lung Cancer\",\"Brain Cancer\",\"Lung Cancer\",\"Other\",\"Other\",\"Other\",\"Other\",\"Lung Cancer\",\"Other\",\"kidney Cancer\",\"Blood Cancer\",\"Lung Cancer\",\"Other\",\"Other\",\"Prostate Cancer\",\"Other\",\"Lung Cancer\",\"Brain Cancer\",\"Brain Cancer\",\"Blood Cancer\",\"Blood Cancer\",\"Lung Cancer\",\"Lung Cancer\",\"Prostate Cancer\",\"Prostate Cancer\",\"Lung Cancer\",\"Lung Cancer\",\"Other\",\"Blood Cancer\",\"Lung Cancer\",\"Blood Cancer\",\"Blood Cancer\",\"Other\",\"Brain Cancer\",\"Lung Cancer\",\"Other\",\"Other\",\"Other\",\"Other\",\"Blood Cancer\",\"Other\",\"Other\",\"Brain Cancer\",\"Other\",\"Lung Cancer\",\"Lung Cancer\",\"kidney Cancer\",\"Lung Cancer\",\"Blood Cancer\",\"Other\",\"Other\",\"Prostate Cancer\",\"kidney Cancer\",\"Brain Cancer\",\"Other\",\"Lung Cancer\",\"Lung Cancer\",\"Lung Cancer\",\"Lung Cancer\",\"Other\",\"Blood Cancer\",\"Other\",\"Other\",\"Brain Cancer\",\"Other\",\"Other\",\"Lung Cancer\",\"Blood Cancer\",\"Other\",\"liver Cancer\",\"Blood Cancer\",\"Other\",\"Other\",\"Lung Cancer\",\"Lung Cancer\",\"Brain Cancer\",\"Blood Cancer\",\"Other\",\"Blood Cancer\",\"Brain Cancer\",\"Lung Cancer\",\"Blood Cancer\",\"kidney Cancer\",\"Lung Cancer\",\"Lung Cancer\",\"Lymphoma Cancer\",\"Blood Cancer\",\"Blood Cancer\",\"Brain Cancer\",\"Blood Cancer\",\"Blood Cancer\",\"Other\",\"Lung Cancer\",\"Blood Cancer\",\"Lung Cancer\",\"Other\",\"liver Cancer\",\"Blood Cancer\",\"Other\",\"Other\",\"Blood Cancer\",\"Other\",\"Lung Cancer\",\"Other\",\"Other\",\"Other\",\"Other\",\"Other\",\"Lung Cancer\",\"Other\",\"Other\",\"Lung Cancer\",\"Blood Cancer\",\"liver Cancer\",\"Lung Cancer\",\"Other\",\"Blood Cancer\",\"Lung Cancer\",\"Other\",\"Brain Cancer\",\"Lung Cancer\",\"Lung Cancer\",\"Lung Cancer\",\"Lung Cancer\",\"Other\",\"Lung Cancer\",\"Lung Cancer\",\"Other\",\"Other\",\"Other\",\"Other\",\"Blood Cancer\",\"Other\",\"Blood Cancer\",\"Other\",\"Brain Cancer\",\"Blood Cancer\",\"Blood Cancer\",\"Other\",\"Other\",\"Other\",\"Lung Cancer\",\"Blood Cancer\",\"Other\",\"liver Cancer\",\"Lung Cancer\",\"Lung Cancer\",\"Other\",\"Other\",\"Other\",\"Brain Cancer\",\"Brain Cancer\",\"Other\",\"breast Cancer\",\"Blood Cancer\",\"Other\",\"liver Cancer\",\"Other\",\"Pancreatic Cancer\",\"Lung Cancer\",\"Lung Cancer\",\"Other\",\"kidney Cancer\",\"Brain Cancer\",\"Blood Cancer\"],\"x0\":\" \",\"xaxis\":\"x\",\"y\":[1753,3817,3817,3789,1129,295,1078,2528,4379,4379,2249,953,2093,2093,1803,3000,3112,3713,2680,2550,1312,1312,2202,2673,2811,1530,2690,3044,1138,1138,1238,2731,2659,1652,1652,1861,1861,2236,2236,2418,2418,260,1208,497,3221,2351,2696,384,2336,2071,672,2997,216,216,591,616,5479,5479,4265,2294,330,1442,677,947,1182,578,1996,2882,5155,1182,1681,1248,1866,1866,1043,1378,1406,1248,226,2147,794,1445,2455,3641,3476,2499,1574,1521,945,2685,2685,2694,3645,1540,1378,1264,35,1569,1966,930,1404,3817,3403,2508,2310,3294,3294,2448,1308,1309,3056,2259,926,2205,215,1742,1706,1303,1981,2734,4087,1035,1343,1343,2698,2388,1276,1442,2042,425,1853,2738,2751,3056,1170,1916,1693,4147,4147,2443,1239,2647,2647,1483,2363,2363,1443,2253,3362,3567,2884,1324,2793,2793,1927,1927,1584,9644,1359,981,778,3572,2084,2108,2108,1593,2499,1197,3215,3090,696,2889,2370,2045,1860,1767,1767,2614,3062,2029,3132],\"y0\":\" \",\"yaxis\":\"y\",\"type\":\"box\"},{\"alignmentgroup\":\"True\",\"hovertemplate\":\"Major Interventions=Others<br>Major Condition=%{x}<br>Duration (Days)=%{y}<extra></extra>\",\"legendgroup\":\"Others\",\"marker\":{\"color\":\"#ab63fa\"},\"name\":\"Others\",\"notched\":false,\"offsetgroup\":\"Others\",\"orientation\":\"v\",\"showlegend\":true,\"x\":[\"breast Cancer\",\"Prostate Cancer\",\"Prostate Cancer\",\"Lung Cancer\",\"Lung Cancer\",\"Brain Cancer\",\"Brain Cancer\",\"Other\",\"Other\",\"Other\",\"Brain Cancer\",\"Brain Cancer\",\"Other\",\"Blood Cancer\",\"Blood Cancer\",\"Blood Cancer\",\"Other\",\"Other\",\"Other\",\"Prostate Cancer\",\"Blood Cancer\",\"Blood Cancer\",\"Other\",\"Brain Cancer\",\"Brain Cancer\",\"Brain Cancer\",\"Lung Cancer\",\"Blood Cancer\",\"Other\",\"Other\",\"Lung Cancer\",\"Brain Cancer\",\"Blood Cancer\",\"Other\",\"Lung Cancer\",\"Lung Cancer\",\"Other\",\"Other\",\"Lung Cancer\",\"Lung Cancer\",\"Other\",\"Lung Cancer\",\"Other\",\"Other\",\"Lung Cancer\",\"Lung Cancer\",\"Lung Cancer\",\"Blood Cancer\",\"Blood Cancer\",\"Other\",\"Other\",\"Blood Cancer\",\"Brain Cancer\",\"Prostate Cancer\",\"Lung Cancer\",\"liver Cancer\",\"liver Cancer\",\"Other\",\"Other\",\"Brain Cancer\",\"Other\",\"Lung Cancer\",\"Lung Cancer\",\"Brain Cancer\",\"Brain Cancer\",\"Blood Cancer\",\"Blood Cancer\",\"Lung Cancer\",\"Blood Cancer\",\"Other\",\"Lung Cancer\",\"breast Cancer\",\"Other\",\"Lung Cancer\",\"Blood Cancer\",\"Blood Cancer\",\"Blood Cancer\",\"Blood Cancer\",\"Other\",\"Other\",\"Brain Cancer\",\"Blood Cancer\",\"Lung Cancer\",\"Brain Cancer\",\"Brain Cancer\",\"Lung Cancer\",\"Other\",\"Other\",\"Blood Cancer\",\"Other\",\"Other\",\"Other\",\"Other\",\"Other\",\"Lung Cancer\",\"Blood Cancer\",\"Brain Cancer\",\"breast Cancer\",\"liver Cancer\",\"Other\",\"Other\",\"Other\",\"Blood Cancer\",\"breast Cancer\",\"Blood Cancer\",\"Lung Cancer\",\"Lung Cancer\",\"Other\",\"Other\",\"Brain Cancer\",\"Other\",\"Lung Cancer\",\"kidney Cancer\",\"Other\",\"Other\",\"liver Cancer\",\"kidney Cancer\",\"Other\",\"Brain Cancer\",\"Blood Cancer\",\"Lung Cancer\",\"Lung Cancer\",\"Lung Cancer\",\"Blood Cancer\",\"Other\",\"Brain Cancer\",\"Other\",\"Lung Cancer\",\"Other\",\"Blood Cancer\",\"Other\",\"Blood Cancer\",\"Blood Cancer\",\"Lung Cancer\",\"Blood Cancer\",\"Pancreatic Cancer\",\"Other\",\"Brain Cancer\",\"Lung Cancer\",\"Brain Cancer\",\"Other\",\"Other\",\"Other\",\"Blood Cancer\",\"Blood Cancer\",\"Blood Cancer\",\"Blood Cancer\",\"Lung Cancer\",\"Blood Cancer\",\"Other\",\"Lung Cancer\",\"Lung Cancer\",\"Blood Cancer\",\"Blood Cancer\",\"Brain Cancer\",\"Blood Cancer\",\"Blood Cancer\",\"Blood Cancer\",\"Lung Cancer\",\"Lung Cancer\",\"Lung Cancer\",\"Other\",\"Other\",\"Brain Cancer\",\"Lung Cancer\",\"Lung Cancer\",\"Lung Cancer\",\"Lung Cancer\",\"Blood Cancer\",\"Blood Cancer\",\"Other\",\"Other\",\"Lung Cancer\",\"Blood Cancer\",\"kidney Cancer\",\"Prostate Cancer\",\"Other\",\"Blood Cancer\",\"Brain Cancer\",\"kidney Cancer\",\"Blood Cancer\",\"Lung Cancer\",\"Other\",\"Blood Cancer\",\"Blood Cancer\",\"kidney Cancer\",\"Other\",\"Other\",\"Brain Cancer\",\"Prostate Cancer\",\"Other\",\"Other\",\"Other\",\"Lymphoma Cancer\",\"Other\",\"Blood Cancer\",\"Blood Cancer\",\"Brain Cancer\",\"Prostate Cancer\",\"Blood Cancer\",\"Blood Cancer\",\"Other\",\"Blood Cancer\",\"Blood Cancer\",\"Other\",\"Lung Cancer\",\"Blood Cancer\",\"Other\",\"Blood Cancer\",\"Lung Cancer\",\"Blood Cancer\",\"Other\",\"Other\",\"Other\",\"Other\",\"Lung Cancer\",\"Blood Cancer\",\"Blood Cancer\",\"Other\",\"Prostate Cancer\",\"Other\",\"Other\",\"Other\",\"Lung Cancer\",\"Other\",\"Other\",\"breast Cancer\",\"Lung Cancer\",\"Other\",\"Other\",\"Blood Cancer\",\"Blood Cancer\",\"Blood Cancer\",\"Other\",\"Other\",\"Lung Cancer\",\"Lung Cancer\",\"Lung Cancer\",\"Blood Cancer\",\"Other\",\"Other\",\"Lung Cancer\",\"Lung Cancer\",\"Other\",\"Other\",\"Other\",\"Lung Cancer\",\"Lung Cancer\",\"Lung Cancer\",\"Blood Cancer\",\"Other\",\"Other\",\"Brain Cancer\",\"Other\",\"Blood Cancer\",\"Blood Cancer\",\"Blood Cancer\",\"Blood Cancer\",\"Blood Cancer\",\"Other\",\"Lymphoma Cancer\",\"Brain Cancer\",\"Other\",\"Other\",\"Lung Cancer\",\"Lung Cancer\",\"Blood Cancer\",\"Other\",\"Blood Cancer\",\"Blood Cancer\",\"Lung Cancer\",\"Brain Cancer\",\"Blood Cancer\",\"Blood Cancer\",\"Other\",\"Pancreatic Cancer\",\"Other\",\"Other\",\"breast Cancer\",\"Lung Cancer\",\"Lung Cancer\",\"Other\",\"breast Cancer\",\"Blood Cancer\",\"Blood Cancer\",\"Lung Cancer\",\"Lung Cancer\",\"Lung Cancer\",\"Other\",\"Other\",\"Other\",\"Other\",\"Other\",\"Lung Cancer\",\"Other\",\"Blood Cancer\",\"Other\",\"Prostate Cancer\",\"Other\",\"Lung Cancer\",\"Blood Cancer\",\"breast Cancer\",\"Other\",\"Other\",\"breast Cancer\",\"Other\",\"Other\"],\"x0\":\" \",\"xaxis\":\"x\",\"y\":[1835,1569,1569,3789,1129,2196,1202,2962,1810,1810,3653,3653,2528,938,938,1724,2249,1748,1748,2190,2615,2615,2448,809,2093,2093,3000,1120,1404,1404,2550,3713,3053,3122,1410,2680,2550,1379,1614,1246,1615,2673,2811,1465,3510,3510,3044,3475,736,1138,1138,2723,2693,1238,2022,2663,2663,2791,1307,3250,454,1580,2659,1652,1652,1861,1861,1380,1800,1275,3107,1980,1946,1405,1254,1254,1840,1840,2899,2899,2519,3221,2897,2923,2923,1750,2947,2947,1326,2179,2179,2336,2342,2342,2795,1014,2510,1817,1228,2997,591,965,1068,504,3512,2531,1971,5479,5479,4265,1182,1442,677,578,1918,2374,1495,1365,1182,2016,1248,1866,1866,1502,671,1728,2145,1489,2397,402,1248,3351,3193,2683,2511,3605,1978,995,2564,1096,3476,2331,1888,1519,378,1135,1893,2053,2432,1948,2685,2685,2022,2022,2694,1378,655,997,1544,3152,3152,1832,2267,1264,2202,2202,1996,1372,2227,2227,1427,1916,3152,375,3425,1622,2194,1569,3220,1966,966,1404,2577,2315,2315,1505,3006,2551,2232,2058,1268,1493,1349,3817,1372,2828,1771,2310,1942,3294,3294,1025,4008,4008,2919,3381,2767,2649,1309,3056,771,912,1960,3117,1742,3867,1764,2024,1303,1230,4087,1343,1343,2795,2388,2002,2635,2385,1276,504,3343,3086,2042,1660,1660,1853,513,3056,1724,1170,3101,515,1627,979,2949,1911,2647,2647,2609,1093,2363,2363,2180,3362,3567,2574,742,3501,3501,3540,2069,1324,659,659,2604,9644,1359,981,706,706,2855,1540,952,952,1020,1552,2101,3481,3090,2472,2472,2222,3465,2381,2381,1767,1767,1505,3307,1367,4158,4158,3337,3578,2788,1169,2595,1902,2709,144,3132,2120,1753,1753,2833,2141,2141],\"y0\":\" \",\"yaxis\":\"y\",\"type\":\"box\"},{\"alignmentgroup\":\"True\",\"hovertemplate\":\"Major Interventions=Radiation<br>Major Condition=%{x}<br>Duration (Days)=%{y}<extra></extra>\",\"legendgroup\":\"Radiation\",\"marker\":{\"color\":\"#FFA15A\"},\"name\":\"Radiation\",\"notched\":false,\"offsetgroup\":\"Radiation\",\"orientation\":\"v\",\"showlegend\":true,\"x\":[\"Lung Cancer\",\"Lung Cancer\",\"Lung Cancer\",\"Lung Cancer\",\"Lung Cancer\",\"Blood Cancer\",\"Lung Cancer\",\"Lung Cancer\",\"Lung Cancer\",\"Other\",\"Other\",\"Lung Cancer\",\"Brain Cancer\",\"Brain Cancer\",\"Other\",\"Blood Cancer\",\"Other\",\"Other\",\"Brain Cancer\",\"Lung Cancer\",\"Other\",\"Other\",\"kidney Cancer\",\"Lung Cancer\",\"Prostate Cancer\",\"Lung Cancer\",\"Blood Cancer\",\"Prostate Cancer\",\"Brain Cancer\",\"Blood Cancer\",\"liver Cancer\",\"Brain Cancer\",\"Lung Cancer\",\"Lung Cancer\",\"Brain Cancer\",\"Blood Cancer\",\"Lung Cancer\",\"Blood Cancer\",\"Lymphoma Cancer\",\"Blood Cancer\",\"Other\",\"Other\",\"Lung Cancer\",\"Other\",\"Other\",\"Other\",\"Lung Cancer\",\"Lung Cancer\",\"Lymphoma Cancer\",\"Blood Cancer\",\"Lung Cancer\",\"Lung Cancer\",\"Lung Cancer\",\"Lung Cancer\",\"Lung Cancer\",\"Prostate Cancer\",\"Other\",\"Other\",\"Other\",\"Blood Cancer\",\"Other\",\"Lung Cancer\",\"Lung Cancer\",\"Lung Cancer\",\"Other\",\"Other\",\"breast Cancer\",\"Lung Cancer\",\"Lung Cancer\",\"Brain Cancer\",\"Lung Cancer\"],\"x0\":\" \",\"xaxis\":\"x\",\"y\":[3817,3817,1129,4379,4379,1803,2680,2673,3044,1138,1138,2659,1652,1652,497,384,233,233,2071,672,591,2294,677,947,2882,1043,3193,2418,2147,3641,2499,971,2685,2685,2694,1378,35,1569,3817,1309,2259,1303,1981,4087,1343,1343,2698,1442,3163,2042,3056,1693,4147,4147,2443,2377,2363,2363,1443,3567,1584,9644,3572,2084,2108,2108,3090,1767,1767,2029,144],\"y0\":\" \",\"yaxis\":\"y\",\"type\":\"box\"},{\"alignmentgroup\":\"True\",\"hovertemplate\":\"Major Interventions=Uncategorized<br>Major Condition=%{x}<br>Duration (Days)=%{y}<extra></extra>\",\"legendgroup\":\"Uncategorized\",\"marker\":{\"color\":\"#19d3f3\"},\"name\":\"Uncategorized\",\"notched\":false,\"offsetgroup\":\"Uncategorized\",\"orientation\":\"v\",\"showlegend\":true,\"x\":[\"Other\",\"Lung Cancer\",\"Other\",\"Other\",\"Other\",\"Other\",\"Other\",\"liver Cancer\"],\"x0\":\" \",\"xaxis\":\"x\",\"y\":[621,1666,221,221,449,240,240,1001],\"y0\":\" \",\"yaxis\":\"y\",\"type\":\"box\"}],                        {\"template\":{\"data\":{\"histogram2dcontour\":[{\"type\":\"histogram2dcontour\",\"colorbar\":{\"outlinewidth\":0,\"ticks\":\"\"},\"colorscale\":[[0.0,\"#0d0887\"],[0.1111111111111111,\"#46039f\"],[0.2222222222222222,\"#7201a8\"],[0.3333333333333333,\"#9c179e\"],[0.4444444444444444,\"#bd3786\"],[0.5555555555555556,\"#d8576b\"],[0.6666666666666666,\"#ed7953\"],[0.7777777777777778,\"#fb9f3a\"],[0.8888888888888888,\"#fdca26\"],[1.0,\"#f0f921\"]]}],\"choropleth\":[{\"type\":\"choropleth\",\"colorbar\":{\"outlinewidth\":0,\"ticks\":\"\"}}],\"histogram2d\":[{\"type\":\"histogram2d\",\"colorbar\":{\"outlinewidth\":0,\"ticks\":\"\"},\"colorscale\":[[0.0,\"#0d0887\"],[0.1111111111111111,\"#46039f\"],[0.2222222222222222,\"#7201a8\"],[0.3333333333333333,\"#9c179e\"],[0.4444444444444444,\"#bd3786\"],[0.5555555555555556,\"#d8576b\"],[0.6666666666666666,\"#ed7953\"],[0.7777777777777778,\"#fb9f3a\"],[0.8888888888888888,\"#fdca26\"],[1.0,\"#f0f921\"]]}],\"heatmap\":[{\"type\":\"heatmap\",\"colorbar\":{\"outlinewidth\":0,\"ticks\":\"\"},\"colorscale\":[[0.0,\"#0d0887\"],[0.1111111111111111,\"#46039f\"],[0.2222222222222222,\"#7201a8\"],[0.3333333333333333,\"#9c179e\"],[0.4444444444444444,\"#bd3786\"],[0.5555555555555556,\"#d8576b\"],[0.6666666666666666,\"#ed7953\"],[0.7777777777777778,\"#fb9f3a\"],[0.8888888888888888,\"#fdca26\"],[1.0,\"#f0f921\"]]}],\"heatmapgl\":[{\"type\":\"heatmapgl\",\"colorbar\":{\"outlinewidth\":0,\"ticks\":\"\"},\"colorscale\":[[0.0,\"#0d0887\"],[0.1111111111111111,\"#46039f\"],[0.2222222222222222,\"#7201a8\"],[0.3333333333333333,\"#9c179e\"],[0.4444444444444444,\"#bd3786\"],[0.5555555555555556,\"#d8576b\"],[0.6666666666666666,\"#ed7953\"],[0.7777777777777778,\"#fb9f3a\"],[0.8888888888888888,\"#fdca26\"],[1.0,\"#f0f921\"]]}],\"contourcarpet\":[{\"type\":\"contourcarpet\",\"colorbar\":{\"outlinewidth\":0,\"ticks\":\"\"}}],\"contour\":[{\"type\":\"contour\",\"colorbar\":{\"outlinewidth\":0,\"ticks\":\"\"},\"colorscale\":[[0.0,\"#0d0887\"],[0.1111111111111111,\"#46039f\"],[0.2222222222222222,\"#7201a8\"],[0.3333333333333333,\"#9c179e\"],[0.4444444444444444,\"#bd3786\"],[0.5555555555555556,\"#d8576b\"],[0.6666666666666666,\"#ed7953\"],[0.7777777777777778,\"#fb9f3a\"],[0.8888888888888888,\"#fdca26\"],[1.0,\"#f0f921\"]]}],\"surface\":[{\"type\":\"surface\",\"colorbar\":{\"outlinewidth\":0,\"ticks\":\"\"},\"colorscale\":[[0.0,\"#0d0887\"],[0.1111111111111111,\"#46039f\"],[0.2222222222222222,\"#7201a8\"],[0.3333333333333333,\"#9c179e\"],[0.4444444444444444,\"#bd3786\"],[0.5555555555555556,\"#d8576b\"],[0.6666666666666666,\"#ed7953\"],[0.7777777777777778,\"#fb9f3a\"],[0.8888888888888888,\"#fdca26\"],[1.0,\"#f0f921\"]]}],\"mesh3d\":[{\"type\":\"mesh3d\",\"colorbar\":{\"outlinewidth\":0,\"ticks\":\"\"}}],\"scatter\":[{\"fillpattern\":{\"fillmode\":\"overlay\",\"size\":10,\"solidity\":0.2},\"type\":\"scatter\"}],\"parcoords\":[{\"type\":\"parcoords\",\"line\":{\"colorbar\":{\"outlinewidth\":0,\"ticks\":\"\"}}}],\"scatterpolargl\":[{\"type\":\"scatterpolargl\",\"marker\":{\"colorbar\":{\"outlinewidth\":0,\"ticks\":\"\"}}}],\"bar\":[{\"error_x\":{\"color\":\"#2a3f5f\"},\"error_y\":{\"color\":\"#2a3f5f\"},\"marker\":{\"line\":{\"color\":\"#E5ECF6\",\"width\":0.5},\"pattern\":{\"fillmode\":\"overlay\",\"size\":10,\"solidity\":0.2}},\"type\":\"bar\"}],\"scattergeo\":[{\"type\":\"scattergeo\",\"marker\":{\"colorbar\":{\"outlinewidth\":0,\"ticks\":\"\"}}}],\"scatterpolar\":[{\"type\":\"scatterpolar\",\"marker\":{\"colorbar\":{\"outlinewidth\":0,\"ticks\":\"\"}}}],\"histogram\":[{\"marker\":{\"pattern\":{\"fillmode\":\"overlay\",\"size\":10,\"solidity\":0.2}},\"type\":\"histogram\"}],\"scattergl\":[{\"type\":\"scattergl\",\"marker\":{\"colorbar\":{\"outlinewidth\":0,\"ticks\":\"\"}}}],\"scatter3d\":[{\"type\":\"scatter3d\",\"line\":{\"colorbar\":{\"outlinewidth\":0,\"ticks\":\"\"}},\"marker\":{\"colorbar\":{\"outlinewidth\":0,\"ticks\":\"\"}}}],\"scattermapbox\":[{\"type\":\"scattermapbox\",\"marker\":{\"colorbar\":{\"outlinewidth\":0,\"ticks\":\"\"}}}],\"scatterternary\":[{\"type\":\"scatterternary\",\"marker\":{\"colorbar\":{\"outlinewidth\":0,\"ticks\":\"\"}}}],\"scattercarpet\":[{\"type\":\"scattercarpet\",\"marker\":{\"colorbar\":{\"outlinewidth\":0,\"ticks\":\"\"}}}],\"carpet\":[{\"aaxis\":{\"endlinecolor\":\"#2a3f5f\",\"gridcolor\":\"white\",\"linecolor\":\"white\",\"minorgridcolor\":\"white\",\"startlinecolor\":\"#2a3f5f\"},\"baxis\":{\"endlinecolor\":\"#2a3f5f\",\"gridcolor\":\"white\",\"linecolor\":\"white\",\"minorgridcolor\":\"white\",\"startlinecolor\":\"#2a3f5f\"},\"type\":\"carpet\"}],\"table\":[{\"cells\":{\"fill\":{\"color\":\"#EBF0F8\"},\"line\":{\"color\":\"white\"}},\"header\":{\"fill\":{\"color\":\"#C8D4E3\"},\"line\":{\"color\":\"white\"}},\"type\":\"table\"}],\"barpolar\":[{\"marker\":{\"line\":{\"color\":\"#E5ECF6\",\"width\":0.5},\"pattern\":{\"fillmode\":\"overlay\",\"size\":10,\"solidity\":0.2}},\"type\":\"barpolar\"}],\"pie\":[{\"automargin\":true,\"type\":\"pie\"}]},\"layout\":{\"autotypenumbers\":\"strict\",\"colorway\":[\"#636efa\",\"#EF553B\",\"#00cc96\",\"#ab63fa\",\"#FFA15A\",\"#19d3f3\",\"#FF6692\",\"#B6E880\",\"#FF97FF\",\"#FECB52\"],\"font\":{\"color\":\"#2a3f5f\"},\"hovermode\":\"closest\",\"hoverlabel\":{\"align\":\"left\"},\"paper_bgcolor\":\"white\",\"plot_bgcolor\":\"#E5ECF6\",\"polar\":{\"bgcolor\":\"#E5ECF6\",\"angularaxis\":{\"gridcolor\":\"white\",\"linecolor\":\"white\",\"ticks\":\"\"},\"radialaxis\":{\"gridcolor\":\"white\",\"linecolor\":\"white\",\"ticks\":\"\"}},\"ternary\":{\"bgcolor\":\"#E5ECF6\",\"aaxis\":{\"gridcolor\":\"white\",\"linecolor\":\"white\",\"ticks\":\"\"},\"baxis\":{\"gridcolor\":\"white\",\"linecolor\":\"white\",\"ticks\":\"\"},\"caxis\":{\"gridcolor\":\"white\",\"linecolor\":\"white\",\"ticks\":\"\"}},\"coloraxis\":{\"colorbar\":{\"outlinewidth\":0,\"ticks\":\"\"}},\"colorscale\":{\"sequential\":[[0.0,\"#0d0887\"],[0.1111111111111111,\"#46039f\"],[0.2222222222222222,\"#7201a8\"],[0.3333333333333333,\"#9c179e\"],[0.4444444444444444,\"#bd3786\"],[0.5555555555555556,\"#d8576b\"],[0.6666666666666666,\"#ed7953\"],[0.7777777777777778,\"#fb9f3a\"],[0.8888888888888888,\"#fdca26\"],[1.0,\"#f0f921\"]],\"sequentialminus\":[[0.0,\"#0d0887\"],[0.1111111111111111,\"#46039f\"],[0.2222222222222222,\"#7201a8\"],[0.3333333333333333,\"#9c179e\"],[0.4444444444444444,\"#bd3786\"],[0.5555555555555556,\"#d8576b\"],[0.6666666666666666,\"#ed7953\"],[0.7777777777777778,\"#fb9f3a\"],[0.8888888888888888,\"#fdca26\"],[1.0,\"#f0f921\"]],\"diverging\":[[0,\"#8e0152\"],[0.1,\"#c51b7d\"],[0.2,\"#de77ae\"],[0.3,\"#f1b6da\"],[0.4,\"#fde0ef\"],[0.5,\"#f7f7f7\"],[0.6,\"#e6f5d0\"],[0.7,\"#b8e186\"],[0.8,\"#7fbc41\"],[0.9,\"#4d9221\"],[1,\"#276419\"]]},\"xaxis\":{\"gridcolor\":\"white\",\"linecolor\":\"white\",\"ticks\":\"\",\"title\":{\"standoff\":15},\"zerolinecolor\":\"white\",\"automargin\":true,\"zerolinewidth\":2},\"yaxis\":{\"gridcolor\":\"white\",\"linecolor\":\"white\",\"ticks\":\"\",\"title\":{\"standoff\":15},\"zerolinecolor\":\"white\",\"automargin\":true,\"zerolinewidth\":2},\"scene\":{\"xaxis\":{\"backgroundcolor\":\"#E5ECF6\",\"gridcolor\":\"white\",\"linecolor\":\"white\",\"showbackground\":true,\"ticks\":\"\",\"zerolinecolor\":\"white\",\"gridwidth\":2},\"yaxis\":{\"backgroundcolor\":\"#E5ECF6\",\"gridcolor\":\"white\",\"linecolor\":\"white\",\"showbackground\":true,\"ticks\":\"\",\"zerolinecolor\":\"white\",\"gridwidth\":2},\"zaxis\":{\"backgroundcolor\":\"#E5ECF6\",\"gridcolor\":\"white\",\"linecolor\":\"white\",\"showbackground\":true,\"ticks\":\"\",\"zerolinecolor\":\"white\",\"gridwidth\":2}},\"shapedefaults\":{\"line\":{\"color\":\"#2a3f5f\"}},\"annotationdefaults\":{\"arrowcolor\":\"#2a3f5f\",\"arrowhead\":0,\"arrowwidth\":1},\"geo\":{\"bgcolor\":\"white\",\"landcolor\":\"#E5ECF6\",\"subunitcolor\":\"white\",\"showland\":true,\"showlakes\":true,\"lakecolor\":\"white\"},\"title\":{\"x\":0.05},\"mapbox\":{\"style\":\"light\"}}},\"xaxis\":{\"anchor\":\"y\",\"domain\":[0.0,1.0],\"title\":{\"text\":\"Major Condition\"}},\"yaxis\":{\"anchor\":\"x\",\"domain\":[0.0,1.0],\"title\":{\"text\":\"Duration (Days)\"}},\"legend\":{\"title\":{\"text\":\"Major Interventions\"},\"tracegroupgap\":0},\"title\":{\"text\":\"Study Duration by Condition and Phases\"},\"boxmode\":\"group\"},                        {\"responsive\": true}                    ).then(function(){\n",
       "                            \n",
       "var gd = document.getElementById('8ed70d0e-10ae-4002-8707-871dedf14d68');\n",
       "var x = new MutationObserver(function (mutations, observer) {{\n",
       "        var display = window.getComputedStyle(gd).display;\n",
       "        if (!display || display === 'none') {{\n",
       "            console.log([gd, 'removed!']);\n",
       "            Plotly.purge(gd);\n",
       "            observer.disconnect();\n",
       "        }}\n",
       "}});\n",
       "\n",
       "// Listen for the removal of the full notebook cells\n",
       "var notebookContainer = gd.closest('#notebook-container');\n",
       "if (notebookContainer) {{\n",
       "    x.observe(notebookContainer, {childList: true});\n",
       "}}\n",
       "\n",
       "// Listen for the clearing of the current output cell\n",
       "var outputEl = gd.closest('.output');\n",
       "if (outputEl) {{\n",
       "    x.observe(outputEl, {childList: true});\n",
       "}}\n",
       "\n",
       "                        })                };                });            </script>        </div>"
      ]
     },
     "metadata": {},
     "output_type": "display_data"
    }
   ],
   "source": [
    "# Convert Duration (Days) to numeric if it's not already\n",
    "New_Reduced_df['Duration (Days)'] = pd.to_numeric(New_Reduced_df['Duration (Days)'], errors='coerce')\n",
    "\n",
    "# Plot using Plotly Express with Phases as color\n",
    "fig = px.box(New_Reduced_df, x='Major Condition', y='Duration (Days)', color='Major Interventions',\n",
    "             title='Study Duration by Condition and Phases',\n",
    "             labels={'Duration (Days)': 'Duration (Days)'})\n",
    "\n",
    "# Show the plot\n",
    "fig.show()"
   ]
  },
  {
   "cell_type": "markdown",
   "id": "3e89442a",
   "metadata": {},
   "source": [
    "# Create Data Frame for active_not_recruiting clinical trials"
   ]
  },
  {
   "cell_type": "code",
   "execution_count": 20,
   "id": "1acadc09",
   "metadata": {},
   "outputs": [
    {
     "data": {
      "text/html": [
       "<div>\n",
       "<style scoped>\n",
       "    .dataframe tbody tr th:only-of-type {\n",
       "        vertical-align: middle;\n",
       "    }\n",
       "\n",
       "    .dataframe tbody tr th {\n",
       "        vertical-align: top;\n",
       "    }\n",
       "\n",
       "    .dataframe thead th {\n",
       "        text-align: right;\n",
       "    }\n",
       "</style>\n",
       "<table border=\"1\" class=\"dataframe\">\n",
       "  <thead>\n",
       "    <tr style=\"text-align: right;\">\n",
       "      <th></th>\n",
       "      <th>NCT Number</th>\n",
       "      <th>Study Status</th>\n",
       "      <th>Conditions</th>\n",
       "      <th>Interventions</th>\n",
       "      <th>Sponsor</th>\n",
       "      <th>Phases</th>\n",
       "      <th>Funder Type</th>\n",
       "      <th>Start Date</th>\n",
       "      <th>Completion Date</th>\n",
       "      <th>Locations</th>\n",
       "      <th>...</th>\n",
       "      <th>PHASE1</th>\n",
       "      <th>PHASE2</th>\n",
       "      <th>PHASE3</th>\n",
       "      <th>PHASE4</th>\n",
       "      <th>State</th>\n",
       "      <th>Zip Code</th>\n",
       "      <th>Major Condition</th>\n",
       "      <th>Major Interventions</th>\n",
       "      <th>Duration</th>\n",
       "      <th>Duration (Days)</th>\n",
       "    </tr>\n",
       "  </thead>\n",
       "  <tbody>\n",
       "    <tr>\n",
       "      <th>2</th>\n",
       "      <td>NCT04034927</td>\n",
       "      <td>ACTIVE_NOT_RECRUITING</td>\n",
       "      <td>Fallopian Tube Endometrioid Tumor|Fallopian Tu...</td>\n",
       "      <td>PROCEDURE: Biospecimen Collection|PROCEDURE: C...</td>\n",
       "      <td>National Cancer Institute (NCI)</td>\n",
       "      <td>PHASE2</td>\n",
       "      <td>NIH</td>\n",
       "      <td>2019-12-04</td>\n",
       "      <td>2024-09-21</td>\n",
       "      <td>UC Irvine Health/Chao Family Comprehensive Can...</td>\n",
       "      <td>...</td>\n",
       "      <td>0</td>\n",
       "      <td>1</td>\n",
       "      <td>0</td>\n",
       "      <td>0</td>\n",
       "      <td>Wisconsin</td>\n",
       "      <td>53226</td>\n",
       "      <td>Lung Cancer</td>\n",
       "      <td>Procedure</td>\n",
       "      <td>1753 days</td>\n",
       "      <td>1753</td>\n",
       "    </tr>\n",
       "    <tr>\n",
       "      <th>2</th>\n",
       "      <td>NCT04034927</td>\n",
       "      <td>ACTIVE_NOT_RECRUITING</td>\n",
       "      <td>Fallopian Tube Endometrioid Tumor|Fallopian Tu...</td>\n",
       "      <td>PROCEDURE: Biospecimen Collection|PROCEDURE: C...</td>\n",
       "      <td>National Cancer Institute (NCI)</td>\n",
       "      <td>PHASE2</td>\n",
       "      <td>NIH</td>\n",
       "      <td>2019-12-04</td>\n",
       "      <td>2024-09-21</td>\n",
       "      <td>UC Irvine Health/Chao Family Comprehensive Can...</td>\n",
       "      <td>...</td>\n",
       "      <td>0</td>\n",
       "      <td>1</td>\n",
       "      <td>0</td>\n",
       "      <td>0</td>\n",
       "      <td>Wisconsin</td>\n",
       "      <td>53226</td>\n",
       "      <td>Lung Cancer</td>\n",
       "      <td>Drug</td>\n",
       "      <td>1753 days</td>\n",
       "      <td>1753</td>\n",
       "    </tr>\n",
       "    <tr>\n",
       "      <th>2</th>\n",
       "      <td>NCT04034927</td>\n",
       "      <td>ACTIVE_NOT_RECRUITING</td>\n",
       "      <td>Fallopian Tube Endometrioid Tumor|Fallopian Tu...</td>\n",
       "      <td>PROCEDURE: Biospecimen Collection|PROCEDURE: C...</td>\n",
       "      <td>National Cancer Institute (NCI)</td>\n",
       "      <td>PHASE2</td>\n",
       "      <td>NIH</td>\n",
       "      <td>2019-12-04</td>\n",
       "      <td>2024-09-21</td>\n",
       "      <td>UC Irvine Health/Chao Family Comprehensive Can...</td>\n",
       "      <td>...</td>\n",
       "      <td>0</td>\n",
       "      <td>1</td>\n",
       "      <td>0</td>\n",
       "      <td>0</td>\n",
       "      <td>Wisconsin</td>\n",
       "      <td>53226</td>\n",
       "      <td>Lung Cancer</td>\n",
       "      <td>Biological</td>\n",
       "      <td>1753 days</td>\n",
       "      <td>1753</td>\n",
       "    </tr>\n",
       "    <tr>\n",
       "      <th>3</th>\n",
       "      <td>NCT04657094</td>\n",
       "      <td>ACTIVE_NOT_RECRUITING</td>\n",
       "      <td>Autoimmune Hemolytic Anemia|Chronic Lymphocyti...</td>\n",
       "      <td>DRUG: Acalabrutinib</td>\n",
       "      <td>City of Hope Medical Center</td>\n",
       "      <td>PHASE2</td>\n",
       "      <td>OTHER</td>\n",
       "      <td>2021-03-16</td>\n",
       "      <td>2024-12-30</td>\n",
       "      <td>City of Hope Medical Center, Duarte, Californi...</td>\n",
       "      <td>...</td>\n",
       "      <td>0</td>\n",
       "      <td>1</td>\n",
       "      <td>0</td>\n",
       "      <td>0</td>\n",
       "      <td>California</td>\n",
       "      <td>91010</td>\n",
       "      <td>Blood Cancer</td>\n",
       "      <td>Drug</td>\n",
       "      <td>1385 days</td>\n",
       "      <td>1385</td>\n",
       "    </tr>\n",
       "    <tr>\n",
       "      <th>7</th>\n",
       "      <td>NCT03737994</td>\n",
       "      <td>ACTIVE_NOT_RECRUITING</td>\n",
       "      <td>Lung Non-Squamous Non-Small Cell Carcinoma|Sta...</td>\n",
       "      <td>DRUG: Alectinib|DRUG: Brigatinib|DRUG: Carbopl...</td>\n",
       "      <td>National Cancer Institute (NCI)</td>\n",
       "      <td>PHASE2</td>\n",
       "      <td>NIH</td>\n",
       "      <td>2019-07-25</td>\n",
       "      <td>2024-09-21</td>\n",
       "      <td>CTCA at Western Regional Medical Center, Goody...</td>\n",
       "      <td>...</td>\n",
       "      <td>0</td>\n",
       "      <td>1</td>\n",
       "      <td>0</td>\n",
       "      <td>0</td>\n",
       "      <td>Wyoming</td>\n",
       "      <td>82801</td>\n",
       "      <td>Lung Cancer</td>\n",
       "      <td>Drug</td>\n",
       "      <td>1885 days</td>\n",
       "      <td>1885</td>\n",
       "    </tr>\n",
       "    <tr>\n",
       "      <th>...</th>\n",
       "      <td>...</td>\n",
       "      <td>...</td>\n",
       "      <td>...</td>\n",
       "      <td>...</td>\n",
       "      <td>...</td>\n",
       "      <td>...</td>\n",
       "      <td>...</td>\n",
       "      <td>...</td>\n",
       "      <td>...</td>\n",
       "      <td>...</td>\n",
       "      <td>...</td>\n",
       "      <td>...</td>\n",
       "      <td>...</td>\n",
       "      <td>...</td>\n",
       "      <td>...</td>\n",
       "      <td>...</td>\n",
       "      <td>...</td>\n",
       "      <td>...</td>\n",
       "      <td>...</td>\n",
       "      <td>...</td>\n",
       "      <td>...</td>\n",
       "    </tr>\n",
       "    <tr>\n",
       "      <th>704</th>\n",
       "      <td>NCT03873805</td>\n",
       "      <td>ACTIVE_NOT_RECRUITING</td>\n",
       "      <td>Castration-Resistant Prostate Carcinoma|Metast...</td>\n",
       "      <td>BIOLOGICAL: Autologous Anti-PSCA-CAR-4-1BB/TCR...</td>\n",
       "      <td>City of Hope Medical Center</td>\n",
       "      <td>PHASE1</td>\n",
       "      <td>OTHER</td>\n",
       "      <td>2019-08-20</td>\n",
       "      <td>2024-12-31</td>\n",
       "      <td>City of Hope Medical Center, Duarte, Californi...</td>\n",
       "      <td>...</td>\n",
       "      <td>1</td>\n",
       "      <td>0</td>\n",
       "      <td>0</td>\n",
       "      <td>0</td>\n",
       "      <td>California</td>\n",
       "      <td>91010</td>\n",
       "      <td>Prostate Cancer</td>\n",
       "      <td>Drug</td>\n",
       "      <td>1960 days</td>\n",
       "      <td>1960</td>\n",
       "    </tr>\n",
       "    <tr>\n",
       "      <th>704</th>\n",
       "      <td>NCT03873805</td>\n",
       "      <td>ACTIVE_NOT_RECRUITING</td>\n",
       "      <td>Castration-Resistant Prostate Carcinoma|Metast...</td>\n",
       "      <td>BIOLOGICAL: Autologous Anti-PSCA-CAR-4-1BB/TCR...</td>\n",
       "      <td>City of Hope Medical Center</td>\n",
       "      <td>PHASE1</td>\n",
       "      <td>OTHER</td>\n",
       "      <td>2019-08-20</td>\n",
       "      <td>2024-12-31</td>\n",
       "      <td>City of Hope Medical Center, Duarte, Californi...</td>\n",
       "      <td>...</td>\n",
       "      <td>1</td>\n",
       "      <td>0</td>\n",
       "      <td>0</td>\n",
       "      <td>0</td>\n",
       "      <td>California</td>\n",
       "      <td>91010</td>\n",
       "      <td>Prostate Cancer</td>\n",
       "      <td>Biological</td>\n",
       "      <td>1960 days</td>\n",
       "      <td>1960</td>\n",
       "    </tr>\n",
       "    <tr>\n",
       "      <th>706</th>\n",
       "      <td>NCT02443077</td>\n",
       "      <td>ACTIVE_NOT_RECRUITING</td>\n",
       "      <td>Recurrent Diffuse Large B-Cell Lymphoma Activa...</td>\n",
       "      <td>PROCEDURE: Autologous Bone Marrow Transplantat...</td>\n",
       "      <td>National Cancer Institute (NCI)</td>\n",
       "      <td>PHASE3</td>\n",
       "      <td>NIH</td>\n",
       "      <td>2016-10-12</td>\n",
       "      <td>2025-05-10</td>\n",
       "      <td>Anchorage Associates in Radiation Medicine, An...</td>\n",
       "      <td>...</td>\n",
       "      <td>0</td>\n",
       "      <td>0</td>\n",
       "      <td>1</td>\n",
       "      <td>0</td>\n",
       "      <td>Riyadh</td>\n",
       "      <td>11211</td>\n",
       "      <td>Blood Cancer</td>\n",
       "      <td>Procedure</td>\n",
       "      <td>3132 days</td>\n",
       "      <td>3132</td>\n",
       "    </tr>\n",
       "    <tr>\n",
       "      <th>706</th>\n",
       "      <td>NCT02443077</td>\n",
       "      <td>ACTIVE_NOT_RECRUITING</td>\n",
       "      <td>Recurrent Diffuse Large B-Cell Lymphoma Activa...</td>\n",
       "      <td>PROCEDURE: Autologous Bone Marrow Transplantat...</td>\n",
       "      <td>National Cancer Institute (NCI)</td>\n",
       "      <td>PHASE3</td>\n",
       "      <td>NIH</td>\n",
       "      <td>2016-10-12</td>\n",
       "      <td>2025-05-10</td>\n",
       "      <td>Anchorage Associates in Radiation Medicine, An...</td>\n",
       "      <td>...</td>\n",
       "      <td>0</td>\n",
       "      <td>0</td>\n",
       "      <td>1</td>\n",
       "      <td>0</td>\n",
       "      <td>Riyadh</td>\n",
       "      <td>11211</td>\n",
       "      <td>Blood Cancer</td>\n",
       "      <td>Others</td>\n",
       "      <td>3132 days</td>\n",
       "      <td>3132</td>\n",
       "    </tr>\n",
       "    <tr>\n",
       "      <th>706</th>\n",
       "      <td>NCT02443077</td>\n",
       "      <td>ACTIVE_NOT_RECRUITING</td>\n",
       "      <td>Recurrent Diffuse Large B-Cell Lymphoma Activa...</td>\n",
       "      <td>PROCEDURE: Autologous Bone Marrow Transplantat...</td>\n",
       "      <td>National Cancer Institute (NCI)</td>\n",
       "      <td>PHASE3</td>\n",
       "      <td>NIH</td>\n",
       "      <td>2016-10-12</td>\n",
       "      <td>2025-05-10</td>\n",
       "      <td>Anchorage Associates in Radiation Medicine, An...</td>\n",
       "      <td>...</td>\n",
       "      <td>0</td>\n",
       "      <td>0</td>\n",
       "      <td>1</td>\n",
       "      <td>0</td>\n",
       "      <td>Riyadh</td>\n",
       "      <td>11211</td>\n",
       "      <td>Blood Cancer</td>\n",
       "      <td>Drug</td>\n",
       "      <td>3132 days</td>\n",
       "      <td>3132</td>\n",
       "    </tr>\n",
       "  </tbody>\n",
       "</table>\n",
       "<p>469 rows × 21 columns</p>\n",
       "</div>"
      ],
      "text/plain": [
       "      NCT Number           Study Status  \\\n",
       "2    NCT04034927  ACTIVE_NOT_RECRUITING   \n",
       "2    NCT04034927  ACTIVE_NOT_RECRUITING   \n",
       "2    NCT04034927  ACTIVE_NOT_RECRUITING   \n",
       "3    NCT04657094  ACTIVE_NOT_RECRUITING   \n",
       "7    NCT03737994  ACTIVE_NOT_RECRUITING   \n",
       "..           ...                    ...   \n",
       "704  NCT03873805  ACTIVE_NOT_RECRUITING   \n",
       "704  NCT03873805  ACTIVE_NOT_RECRUITING   \n",
       "706  NCT02443077  ACTIVE_NOT_RECRUITING   \n",
       "706  NCT02443077  ACTIVE_NOT_RECRUITING   \n",
       "706  NCT02443077  ACTIVE_NOT_RECRUITING   \n",
       "\n",
       "                                            Conditions  \\\n",
       "2    Fallopian Tube Endometrioid Tumor|Fallopian Tu...   \n",
       "2    Fallopian Tube Endometrioid Tumor|Fallopian Tu...   \n",
       "2    Fallopian Tube Endometrioid Tumor|Fallopian Tu...   \n",
       "3    Autoimmune Hemolytic Anemia|Chronic Lymphocyti...   \n",
       "7    Lung Non-Squamous Non-Small Cell Carcinoma|Sta...   \n",
       "..                                                 ...   \n",
       "704  Castration-Resistant Prostate Carcinoma|Metast...   \n",
       "704  Castration-Resistant Prostate Carcinoma|Metast...   \n",
       "706  Recurrent Diffuse Large B-Cell Lymphoma Activa...   \n",
       "706  Recurrent Diffuse Large B-Cell Lymphoma Activa...   \n",
       "706  Recurrent Diffuse Large B-Cell Lymphoma Activa...   \n",
       "\n",
       "                                         Interventions  \\\n",
       "2    PROCEDURE: Biospecimen Collection|PROCEDURE: C...   \n",
       "2    PROCEDURE: Biospecimen Collection|PROCEDURE: C...   \n",
       "2    PROCEDURE: Biospecimen Collection|PROCEDURE: C...   \n",
       "3                                  DRUG: Acalabrutinib   \n",
       "7    DRUG: Alectinib|DRUG: Brigatinib|DRUG: Carbopl...   \n",
       "..                                                 ...   \n",
       "704  BIOLOGICAL: Autologous Anti-PSCA-CAR-4-1BB/TCR...   \n",
       "704  BIOLOGICAL: Autologous Anti-PSCA-CAR-4-1BB/TCR...   \n",
       "706  PROCEDURE: Autologous Bone Marrow Transplantat...   \n",
       "706  PROCEDURE: Autologous Bone Marrow Transplantat...   \n",
       "706  PROCEDURE: Autologous Bone Marrow Transplantat...   \n",
       "\n",
       "                             Sponsor  Phases Funder Type Start Date  \\\n",
       "2    National Cancer Institute (NCI)  PHASE2         NIH 2019-12-04   \n",
       "2    National Cancer Institute (NCI)  PHASE2         NIH 2019-12-04   \n",
       "2    National Cancer Institute (NCI)  PHASE2         NIH 2019-12-04   \n",
       "3        City of Hope Medical Center  PHASE2       OTHER 2021-03-16   \n",
       "7    National Cancer Institute (NCI)  PHASE2         NIH 2019-07-25   \n",
       "..                               ...     ...         ...        ...   \n",
       "704      City of Hope Medical Center  PHASE1       OTHER 2019-08-20   \n",
       "704      City of Hope Medical Center  PHASE1       OTHER 2019-08-20   \n",
       "706  National Cancer Institute (NCI)  PHASE3         NIH 2016-10-12   \n",
       "706  National Cancer Institute (NCI)  PHASE3         NIH 2016-10-12   \n",
       "706  National Cancer Institute (NCI)  PHASE3         NIH 2016-10-12   \n",
       "\n",
       "    Completion Date                                          Locations  ...  \\\n",
       "2        2024-09-21  UC Irvine Health/Chao Family Comprehensive Can...  ...   \n",
       "2        2024-09-21  UC Irvine Health/Chao Family Comprehensive Can...  ...   \n",
       "2        2024-09-21  UC Irvine Health/Chao Family Comprehensive Can...  ...   \n",
       "3        2024-12-30  City of Hope Medical Center, Duarte, Californi...  ...   \n",
       "7        2024-09-21  CTCA at Western Regional Medical Center, Goody...  ...   \n",
       "..              ...                                                ...  ...   \n",
       "704      2024-12-31  City of Hope Medical Center, Duarte, Californi...  ...   \n",
       "704      2024-12-31  City of Hope Medical Center, Duarte, Californi...  ...   \n",
       "706      2025-05-10  Anchorage Associates in Radiation Medicine, An...  ...   \n",
       "706      2025-05-10  Anchorage Associates in Radiation Medicine, An...  ...   \n",
       "706      2025-05-10  Anchorage Associates in Radiation Medicine, An...  ...   \n",
       "\n",
       "     PHASE1  PHASE2  PHASE3  PHASE4       State Zip Code  Major Condition  \\\n",
       "2         0       1       0       0   Wisconsin    53226      Lung Cancer   \n",
       "2         0       1       0       0   Wisconsin    53226      Lung Cancer   \n",
       "2         0       1       0       0   Wisconsin    53226      Lung Cancer   \n",
       "3         0       1       0       0  California    91010     Blood Cancer   \n",
       "7         0       1       0       0     Wyoming    82801      Lung Cancer   \n",
       "..      ...     ...     ...     ...         ...      ...              ...   \n",
       "704       1       0       0       0  California    91010  Prostate Cancer   \n",
       "704       1       0       0       0  California    91010  Prostate Cancer   \n",
       "706       0       0       1       0      Riyadh    11211     Blood Cancer   \n",
       "706       0       0       1       0      Riyadh    11211     Blood Cancer   \n",
       "706       0       0       1       0      Riyadh    11211     Blood Cancer   \n",
       "\n",
       "    Major Interventions  Duration Duration (Days)  \n",
       "2             Procedure 1753 days            1753  \n",
       "2                  Drug 1753 days            1753  \n",
       "2            Biological 1753 days            1753  \n",
       "3                  Drug 1385 days            1385  \n",
       "7                  Drug 1885 days            1885  \n",
       "..                  ...       ...             ...  \n",
       "704                Drug 1960 days            1960  \n",
       "704          Biological 1960 days            1960  \n",
       "706           Procedure 3132 days            3132  \n",
       "706              Others 3132 days            3132  \n",
       "706                Drug 3132 days            3132  \n",
       "\n",
       "[469 rows x 21 columns]"
      ]
     },
     "execution_count": 20,
     "metadata": {},
     "output_type": "execute_result"
    }
   ],
   "source": [
    "# Filter for active studies \n",
    "active_studies_df = New_Reduced_df[New_Reduced_df['Study Status'] == 'ACTIVE_NOT_RECRUITING']\n",
    "active_studies_df"
   ]
  },
  {
   "cell_type": "markdown",
   "id": "90e7a069",
   "metadata": {},
   "source": [
    "# Create Data Frame for recruiting clinical trials"
   ]
  },
  {
   "cell_type": "code",
   "execution_count": 21,
   "id": "a32b84e2",
   "metadata": {},
   "outputs": [
    {
     "data": {
      "text/html": [
       "<div>\n",
       "<style scoped>\n",
       "    .dataframe tbody tr th:only-of-type {\n",
       "        vertical-align: middle;\n",
       "    }\n",
       "\n",
       "    .dataframe tbody tr th {\n",
       "        vertical-align: top;\n",
       "    }\n",
       "\n",
       "    .dataframe thead th {\n",
       "        text-align: right;\n",
       "    }\n",
       "</style>\n",
       "<table border=\"1\" class=\"dataframe\">\n",
       "  <thead>\n",
       "    <tr style=\"text-align: right;\">\n",
       "      <th></th>\n",
       "      <th>NCT Number</th>\n",
       "      <th>Study Status</th>\n",
       "      <th>Conditions</th>\n",
       "      <th>Interventions</th>\n",
       "      <th>Sponsor</th>\n",
       "      <th>Phases</th>\n",
       "      <th>Funder Type</th>\n",
       "      <th>Start Date</th>\n",
       "      <th>Completion Date</th>\n",
       "      <th>Locations</th>\n",
       "      <th>...</th>\n",
       "      <th>PHASE1</th>\n",
       "      <th>PHASE2</th>\n",
       "      <th>PHASE3</th>\n",
       "      <th>PHASE4</th>\n",
       "      <th>State</th>\n",
       "      <th>Zip Code</th>\n",
       "      <th>Major Condition</th>\n",
       "      <th>Major Interventions</th>\n",
       "      <th>Duration</th>\n",
       "      <th>Duration (Days)</th>\n",
       "    </tr>\n",
       "  </thead>\n",
       "  <tbody>\n",
       "    <tr>\n",
       "      <th>64</th>\n",
       "      <td>NCT03155620</td>\n",
       "      <td>RECRUITING</td>\n",
       "      <td>Advanced Malignant Solid Neoplasm|Ann Arbor St...</td>\n",
       "      <td>PROCEDURE: Biopsy|PROCEDURE: Biospecimen Colle...</td>\n",
       "      <td>National Cancer Institute (NCI)</td>\n",
       "      <td>PHASE2</td>\n",
       "      <td>NIH</td>\n",
       "      <td>2017-07-31</td>\n",
       "      <td>2027-09-30</td>\n",
       "      <td>Children's Hospital of Alabama, Birmingham, Al...</td>\n",
       "      <td>...</td>\n",
       "      <td>0</td>\n",
       "      <td>1</td>\n",
       "      <td>0</td>\n",
       "      <td>0</td>\n",
       "      <td>San Juan</td>\n",
       "      <td>00926</td>\n",
       "      <td>Brain Cancer</td>\n",
       "      <td>Procedure</td>\n",
       "      <td>3713 days</td>\n",
       "      <td>3713</td>\n",
       "    </tr>\n",
       "    <tr>\n",
       "      <th>64</th>\n",
       "      <td>NCT03155620</td>\n",
       "      <td>RECRUITING</td>\n",
       "      <td>Advanced Malignant Solid Neoplasm|Ann Arbor St...</td>\n",
       "      <td>PROCEDURE: Biopsy|PROCEDURE: Biospecimen Colle...</td>\n",
       "      <td>National Cancer Institute (NCI)</td>\n",
       "      <td>PHASE2</td>\n",
       "      <td>NIH</td>\n",
       "      <td>2017-07-31</td>\n",
       "      <td>2027-09-30</td>\n",
       "      <td>Children's Hospital of Alabama, Birmingham, Al...</td>\n",
       "      <td>...</td>\n",
       "      <td>0</td>\n",
       "      <td>1</td>\n",
       "      <td>0</td>\n",
       "      <td>0</td>\n",
       "      <td>San Juan</td>\n",
       "      <td>00926</td>\n",
       "      <td>Brain Cancer</td>\n",
       "      <td>Others</td>\n",
       "      <td>3713 days</td>\n",
       "      <td>3713</td>\n",
       "    </tr>\n",
       "    <tr>\n",
       "      <th>64</th>\n",
       "      <td>NCT03155620</td>\n",
       "      <td>RECRUITING</td>\n",
       "      <td>Advanced Malignant Solid Neoplasm|Ann Arbor St...</td>\n",
       "      <td>PROCEDURE: Biopsy|PROCEDURE: Biospecimen Colle...</td>\n",
       "      <td>National Cancer Institute (NCI)</td>\n",
       "      <td>PHASE2</td>\n",
       "      <td>NIH</td>\n",
       "      <td>2017-07-31</td>\n",
       "      <td>2027-09-30</td>\n",
       "      <td>Children's Hospital of Alabama, Birmingham, Al...</td>\n",
       "      <td>...</td>\n",
       "      <td>0</td>\n",
       "      <td>1</td>\n",
       "      <td>0</td>\n",
       "      <td>0</td>\n",
       "      <td>San Juan</td>\n",
       "      <td>00926</td>\n",
       "      <td>Brain Cancer</td>\n",
       "      <td>Drug</td>\n",
       "      <td>3713 days</td>\n",
       "      <td>3713</td>\n",
       "    </tr>\n",
       "    <tr>\n",
       "      <th>166</th>\n",
       "      <td>NCT04203316</td>\n",
       "      <td>RECRUITING</td>\n",
       "      <td>Recurrent Acute Myeloid Leukemia|Refractory Ac...</td>\n",
       "      <td>PROCEDURE: Biospecimen Collection|PROCEDURE: B...</td>\n",
       "      <td>Children's Oncology Group</td>\n",
       "      <td>PHASE2</td>\n",
       "      <td>NETWORK</td>\n",
       "      <td>2023-08-14</td>\n",
       "      <td>2030-12-31</td>\n",
       "      <td>Children's Hospital of Alabama, Birmingham, Al...</td>\n",
       "      <td>...</td>\n",
       "      <td>0</td>\n",
       "      <td>1</td>\n",
       "      <td>0</td>\n",
       "      <td>0</td>\n",
       "      <td>Quebec</td>\n",
       "      <td>H3T 1C5</td>\n",
       "      <td>Blood Cancer</td>\n",
       "      <td>Procedure</td>\n",
       "      <td>2696 days</td>\n",
       "      <td>2696</td>\n",
       "    </tr>\n",
       "    <tr>\n",
       "      <th>166</th>\n",
       "      <td>NCT04203316</td>\n",
       "      <td>RECRUITING</td>\n",
       "      <td>Recurrent Acute Myeloid Leukemia|Refractory Ac...</td>\n",
       "      <td>PROCEDURE: Biospecimen Collection|PROCEDURE: B...</td>\n",
       "      <td>Children's Oncology Group</td>\n",
       "      <td>PHASE2</td>\n",
       "      <td>NETWORK</td>\n",
       "      <td>2023-08-14</td>\n",
       "      <td>2030-12-31</td>\n",
       "      <td>Children's Hospital of Alabama, Birmingham, Al...</td>\n",
       "      <td>...</td>\n",
       "      <td>0</td>\n",
       "      <td>1</td>\n",
       "      <td>0</td>\n",
       "      <td>0</td>\n",
       "      <td>Quebec</td>\n",
       "      <td>H3T 1C5</td>\n",
       "      <td>Blood Cancer</td>\n",
       "      <td>Drug</td>\n",
       "      <td>2696 days</td>\n",
       "      <td>2696</td>\n",
       "    </tr>\n",
       "    <tr>\n",
       "      <th>178</th>\n",
       "      <td>NCT04343157</td>\n",
       "      <td>RECRUITING</td>\n",
       "      <td>Brain Metastases, Adult|Neurocognitive Functio...</td>\n",
       "      <td>RADIATION: Cognitive Sparing Brain Stereotacti...</td>\n",
       "      <td>Jona Hattangadi-Gluth</td>\n",
       "      <td>PHASE2</td>\n",
       "      <td>OTHER</td>\n",
       "      <td>2019-05-01</td>\n",
       "      <td>2024-12-31</td>\n",
       "      <td>Moores Cancer Center, San Diego, California, 9...</td>\n",
       "      <td>...</td>\n",
       "      <td>0</td>\n",
       "      <td>1</td>\n",
       "      <td>0</td>\n",
       "      <td>0</td>\n",
       "      <td>California</td>\n",
       "      <td>92037</td>\n",
       "      <td>Brain Cancer</td>\n",
       "      <td>Procedure</td>\n",
       "      <td>2071 days</td>\n",
       "      <td>2071</td>\n",
       "    </tr>\n",
       "    <tr>\n",
       "      <th>178</th>\n",
       "      <td>NCT04343157</td>\n",
       "      <td>RECRUITING</td>\n",
       "      <td>Brain Metastases, Adult|Neurocognitive Functio...</td>\n",
       "      <td>RADIATION: Cognitive Sparing Brain Stereotacti...</td>\n",
       "      <td>Jona Hattangadi-Gluth</td>\n",
       "      <td>PHASE2</td>\n",
       "      <td>OTHER</td>\n",
       "      <td>2019-05-01</td>\n",
       "      <td>2024-12-31</td>\n",
       "      <td>Moores Cancer Center, San Diego, California, 9...</td>\n",
       "      <td>...</td>\n",
       "      <td>0</td>\n",
       "      <td>1</td>\n",
       "      <td>0</td>\n",
       "      <td>0</td>\n",
       "      <td>California</td>\n",
       "      <td>92037</td>\n",
       "      <td>Brain Cancer</td>\n",
       "      <td>Radiation</td>\n",
       "      <td>2071 days</td>\n",
       "      <td>2071</td>\n",
       "    </tr>\n",
       "    <tr>\n",
       "      <th>414</th>\n",
       "      <td>NCT04393350</td>\n",
       "      <td>RECRUITING</td>\n",
       "      <td>Kidney Cancer|Stage III Renal Cell Cancer AJCC...</td>\n",
       "      <td>DRUG: Lenvatinib|DRUG: Lenvatinib Mesylate|BIO...</td>\n",
       "      <td>Emory University</td>\n",
       "      <td>PHASE2</td>\n",
       "      <td>OTHER</td>\n",
       "      <td>2020-06-22</td>\n",
       "      <td>2024-08-05</td>\n",
       "      <td>Emory University Hospital/Winship Cancer Insti...</td>\n",
       "      <td>...</td>\n",
       "      <td>0</td>\n",
       "      <td>1</td>\n",
       "      <td>0</td>\n",
       "      <td>0</td>\n",
       "      <td>Georgia</td>\n",
       "      <td>30322</td>\n",
       "      <td>kidney Cancer</td>\n",
       "      <td>Drug</td>\n",
       "      <td>1505 days</td>\n",
       "      <td>1505</td>\n",
       "    </tr>\n",
       "    <tr>\n",
       "      <th>414</th>\n",
       "      <td>NCT04393350</td>\n",
       "      <td>RECRUITING</td>\n",
       "      <td>Kidney Cancer|Stage III Renal Cell Cancer AJCC...</td>\n",
       "      <td>DRUG: Lenvatinib|DRUG: Lenvatinib Mesylate|BIO...</td>\n",
       "      <td>Emory University</td>\n",
       "      <td>PHASE2</td>\n",
       "      <td>OTHER</td>\n",
       "      <td>2020-06-22</td>\n",
       "      <td>2024-08-05</td>\n",
       "      <td>Emory University Hospital/Winship Cancer Insti...</td>\n",
       "      <td>...</td>\n",
       "      <td>0</td>\n",
       "      <td>1</td>\n",
       "      <td>0</td>\n",
       "      <td>0</td>\n",
       "      <td>Georgia</td>\n",
       "      <td>30322</td>\n",
       "      <td>kidney Cancer</td>\n",
       "      <td>Others</td>\n",
       "      <td>1505 days</td>\n",
       "      <td>1505</td>\n",
       "    </tr>\n",
       "    <tr>\n",
       "      <th>414</th>\n",
       "      <td>NCT04393350</td>\n",
       "      <td>RECRUITING</td>\n",
       "      <td>Kidney Cancer|Stage III Renal Cell Cancer AJCC...</td>\n",
       "      <td>DRUG: Lenvatinib|DRUG: Lenvatinib Mesylate|BIO...</td>\n",
       "      <td>Emory University</td>\n",
       "      <td>PHASE2</td>\n",
       "      <td>OTHER</td>\n",
       "      <td>2020-06-22</td>\n",
       "      <td>2024-08-05</td>\n",
       "      <td>Emory University Hospital/Winship Cancer Insti...</td>\n",
       "      <td>...</td>\n",
       "      <td>0</td>\n",
       "      <td>1</td>\n",
       "      <td>0</td>\n",
       "      <td>0</td>\n",
       "      <td>Georgia</td>\n",
       "      <td>30322</td>\n",
       "      <td>kidney Cancer</td>\n",
       "      <td>Biological</td>\n",
       "      <td>1505 days</td>\n",
       "      <td>1505</td>\n",
       "    </tr>\n",
       "    <tr>\n",
       "      <th>499</th>\n",
       "      <td>NCT03801902</td>\n",
       "      <td>RECRUITING</td>\n",
       "      <td>Locally Advanced Lung Non-Small Cell Carcinoma...</td>\n",
       "      <td>RADIATION: Accelerated Hypofractionated Radiat...</td>\n",
       "      <td>National Cancer Institute (NCI)</td>\n",
       "      <td>PHASE1</td>\n",
       "      <td>NIH</td>\n",
       "      <td>2019-10-28</td>\n",
       "      <td>2025-03-31</td>\n",
       "      <td>Grady Health System, Atlanta, Georgia, 30303, ...</td>\n",
       "      <td>...</td>\n",
       "      <td>1</td>\n",
       "      <td>0</td>\n",
       "      <td>0</td>\n",
       "      <td>0</td>\n",
       "      <td>West Virginia</td>\n",
       "      <td>26506</td>\n",
       "      <td>Lung Cancer</td>\n",
       "      <td>Procedure</td>\n",
       "      <td>1981 days</td>\n",
       "      <td>1981</td>\n",
       "    </tr>\n",
       "    <tr>\n",
       "      <th>499</th>\n",
       "      <td>NCT03801902</td>\n",
       "      <td>RECRUITING</td>\n",
       "      <td>Locally Advanced Lung Non-Small Cell Carcinoma...</td>\n",
       "      <td>RADIATION: Accelerated Hypofractionated Radiat...</td>\n",
       "      <td>National Cancer Institute (NCI)</td>\n",
       "      <td>PHASE1</td>\n",
       "      <td>NIH</td>\n",
       "      <td>2019-10-28</td>\n",
       "      <td>2025-03-31</td>\n",
       "      <td>Grady Health System, Atlanta, Georgia, 30303, ...</td>\n",
       "      <td>...</td>\n",
       "      <td>1</td>\n",
       "      <td>0</td>\n",
       "      <td>0</td>\n",
       "      <td>0</td>\n",
       "      <td>West Virginia</td>\n",
       "      <td>26506</td>\n",
       "      <td>Lung Cancer</td>\n",
       "      <td>Radiation</td>\n",
       "      <td>1981 days</td>\n",
       "      <td>1981</td>\n",
       "    </tr>\n",
       "    <tr>\n",
       "      <th>499</th>\n",
       "      <td>NCT03801902</td>\n",
       "      <td>RECRUITING</td>\n",
       "      <td>Locally Advanced Lung Non-Small Cell Carcinoma...</td>\n",
       "      <td>RADIATION: Accelerated Hypofractionated Radiat...</td>\n",
       "      <td>National Cancer Institute (NCI)</td>\n",
       "      <td>PHASE1</td>\n",
       "      <td>NIH</td>\n",
       "      <td>2019-10-28</td>\n",
       "      <td>2025-03-31</td>\n",
       "      <td>Grady Health System, Atlanta, Georgia, 30303, ...</td>\n",
       "      <td>...</td>\n",
       "      <td>1</td>\n",
       "      <td>0</td>\n",
       "      <td>0</td>\n",
       "      <td>0</td>\n",
       "      <td>West Virginia</td>\n",
       "      <td>26506</td>\n",
       "      <td>Lung Cancer</td>\n",
       "      <td>Biological</td>\n",
       "      <td>1981 days</td>\n",
       "      <td>1981</td>\n",
       "    </tr>\n",
       "  </tbody>\n",
       "</table>\n",
       "<p>13 rows × 21 columns</p>\n",
       "</div>"
      ],
      "text/plain": [
       "      NCT Number Study Status  \\\n",
       "64   NCT03155620   RECRUITING   \n",
       "64   NCT03155620   RECRUITING   \n",
       "64   NCT03155620   RECRUITING   \n",
       "166  NCT04203316   RECRUITING   \n",
       "166  NCT04203316   RECRUITING   \n",
       "178  NCT04343157   RECRUITING   \n",
       "178  NCT04343157   RECRUITING   \n",
       "414  NCT04393350   RECRUITING   \n",
       "414  NCT04393350   RECRUITING   \n",
       "414  NCT04393350   RECRUITING   \n",
       "499  NCT03801902   RECRUITING   \n",
       "499  NCT03801902   RECRUITING   \n",
       "499  NCT03801902   RECRUITING   \n",
       "\n",
       "                                            Conditions  \\\n",
       "64   Advanced Malignant Solid Neoplasm|Ann Arbor St...   \n",
       "64   Advanced Malignant Solid Neoplasm|Ann Arbor St...   \n",
       "64   Advanced Malignant Solid Neoplasm|Ann Arbor St...   \n",
       "166  Recurrent Acute Myeloid Leukemia|Refractory Ac...   \n",
       "166  Recurrent Acute Myeloid Leukemia|Refractory Ac...   \n",
       "178  Brain Metastases, Adult|Neurocognitive Functio...   \n",
       "178  Brain Metastases, Adult|Neurocognitive Functio...   \n",
       "414  Kidney Cancer|Stage III Renal Cell Cancer AJCC...   \n",
       "414  Kidney Cancer|Stage III Renal Cell Cancer AJCC...   \n",
       "414  Kidney Cancer|Stage III Renal Cell Cancer AJCC...   \n",
       "499  Locally Advanced Lung Non-Small Cell Carcinoma...   \n",
       "499  Locally Advanced Lung Non-Small Cell Carcinoma...   \n",
       "499  Locally Advanced Lung Non-Small Cell Carcinoma...   \n",
       "\n",
       "                                         Interventions  \\\n",
       "64   PROCEDURE: Biopsy|PROCEDURE: Biospecimen Colle...   \n",
       "64   PROCEDURE: Biopsy|PROCEDURE: Biospecimen Colle...   \n",
       "64   PROCEDURE: Biopsy|PROCEDURE: Biospecimen Colle...   \n",
       "166  PROCEDURE: Biospecimen Collection|PROCEDURE: B...   \n",
       "166  PROCEDURE: Biospecimen Collection|PROCEDURE: B...   \n",
       "178  RADIATION: Cognitive Sparing Brain Stereotacti...   \n",
       "178  RADIATION: Cognitive Sparing Brain Stereotacti...   \n",
       "414  DRUG: Lenvatinib|DRUG: Lenvatinib Mesylate|BIO...   \n",
       "414  DRUG: Lenvatinib|DRUG: Lenvatinib Mesylate|BIO...   \n",
       "414  DRUG: Lenvatinib|DRUG: Lenvatinib Mesylate|BIO...   \n",
       "499  RADIATION: Accelerated Hypofractionated Radiat...   \n",
       "499  RADIATION: Accelerated Hypofractionated Radiat...   \n",
       "499  RADIATION: Accelerated Hypofractionated Radiat...   \n",
       "\n",
       "                             Sponsor  Phases Funder Type Start Date  \\\n",
       "64   National Cancer Institute (NCI)  PHASE2         NIH 2017-07-31   \n",
       "64   National Cancer Institute (NCI)  PHASE2         NIH 2017-07-31   \n",
       "64   National Cancer Institute (NCI)  PHASE2         NIH 2017-07-31   \n",
       "166        Children's Oncology Group  PHASE2     NETWORK 2023-08-14   \n",
       "166        Children's Oncology Group  PHASE2     NETWORK 2023-08-14   \n",
       "178            Jona Hattangadi-Gluth  PHASE2       OTHER 2019-05-01   \n",
       "178            Jona Hattangadi-Gluth  PHASE2       OTHER 2019-05-01   \n",
       "414                 Emory University  PHASE2       OTHER 2020-06-22   \n",
       "414                 Emory University  PHASE2       OTHER 2020-06-22   \n",
       "414                 Emory University  PHASE2       OTHER 2020-06-22   \n",
       "499  National Cancer Institute (NCI)  PHASE1         NIH 2019-10-28   \n",
       "499  National Cancer Institute (NCI)  PHASE1         NIH 2019-10-28   \n",
       "499  National Cancer Institute (NCI)  PHASE1         NIH 2019-10-28   \n",
       "\n",
       "    Completion Date                                          Locations  ...  \\\n",
       "64       2027-09-30  Children's Hospital of Alabama, Birmingham, Al...  ...   \n",
       "64       2027-09-30  Children's Hospital of Alabama, Birmingham, Al...  ...   \n",
       "64       2027-09-30  Children's Hospital of Alabama, Birmingham, Al...  ...   \n",
       "166      2030-12-31  Children's Hospital of Alabama, Birmingham, Al...  ...   \n",
       "166      2030-12-31  Children's Hospital of Alabama, Birmingham, Al...  ...   \n",
       "178      2024-12-31  Moores Cancer Center, San Diego, California, 9...  ...   \n",
       "178      2024-12-31  Moores Cancer Center, San Diego, California, 9...  ...   \n",
       "414      2024-08-05  Emory University Hospital/Winship Cancer Insti...  ...   \n",
       "414      2024-08-05  Emory University Hospital/Winship Cancer Insti...  ...   \n",
       "414      2024-08-05  Emory University Hospital/Winship Cancer Insti...  ...   \n",
       "499      2025-03-31  Grady Health System, Atlanta, Georgia, 30303, ...  ...   \n",
       "499      2025-03-31  Grady Health System, Atlanta, Georgia, 30303, ...  ...   \n",
       "499      2025-03-31  Grady Health System, Atlanta, Georgia, 30303, ...  ...   \n",
       "\n",
       "     PHASE1  PHASE2  PHASE3  PHASE4          State Zip Code Major Condition  \\\n",
       "64        0       1       0       0       San Juan    00926    Brain Cancer   \n",
       "64        0       1       0       0       San Juan    00926    Brain Cancer   \n",
       "64        0       1       0       0       San Juan    00926    Brain Cancer   \n",
       "166       0       1       0       0         Quebec  H3T 1C5    Blood Cancer   \n",
       "166       0       1       0       0         Quebec  H3T 1C5    Blood Cancer   \n",
       "178       0       1       0       0     California    92037    Brain Cancer   \n",
       "178       0       1       0       0     California    92037    Brain Cancer   \n",
       "414       0       1       0       0        Georgia    30322   kidney Cancer   \n",
       "414       0       1       0       0        Georgia    30322   kidney Cancer   \n",
       "414       0       1       0       0        Georgia    30322   kidney Cancer   \n",
       "499       1       0       0       0  West Virginia    26506     Lung Cancer   \n",
       "499       1       0       0       0  West Virginia    26506     Lung Cancer   \n",
       "499       1       0       0       0  West Virginia    26506     Lung Cancer   \n",
       "\n",
       "    Major Interventions  Duration Duration (Days)  \n",
       "64            Procedure 3713 days            3713  \n",
       "64               Others 3713 days            3713  \n",
       "64                 Drug 3713 days            3713  \n",
       "166           Procedure 2696 days            2696  \n",
       "166                Drug 2696 days            2696  \n",
       "178           Procedure 2071 days            2071  \n",
       "178           Radiation 2071 days            2071  \n",
       "414                Drug 1505 days            1505  \n",
       "414              Others 1505 days            1505  \n",
       "414          Biological 1505 days            1505  \n",
       "499           Procedure 1981 days            1981  \n",
       "499           Radiation 1981 days            1981  \n",
       "499          Biological 1981 days            1981  \n",
       "\n",
       "[13 rows x 21 columns]"
      ]
     },
     "execution_count": 21,
     "metadata": {},
     "output_type": "execute_result"
    }
   ],
   "source": [
    "# Filter for actively recruiting trials  \n",
    "recruiting_studies_df = New_Reduced_df[New_Reduced_df['Study Status'] == 'RECRUITING']\n",
    "recruiting_studies_df"
   ]
  },
  {
   "cell_type": "markdown",
   "id": "7b81ae21",
   "metadata": {},
   "source": [
    "# # Create Data Frame for completed clinical trials"
   ]
  },
  {
   "cell_type": "code",
   "execution_count": 49,
   "id": "865f7f1b",
   "metadata": {},
   "outputs": [
    {
     "data": {
      "text/html": [
       "<div>\n",
       "<style scoped>\n",
       "    .dataframe tbody tr th:only-of-type {\n",
       "        vertical-align: middle;\n",
       "    }\n",
       "\n",
       "    .dataframe tbody tr th {\n",
       "        vertical-align: top;\n",
       "    }\n",
       "\n",
       "    .dataframe thead th {\n",
       "        text-align: right;\n",
       "    }\n",
       "</style>\n",
       "<table border=\"1\" class=\"dataframe\">\n",
       "  <thead>\n",
       "    <tr style=\"text-align: right;\">\n",
       "      <th></th>\n",
       "      <th>NCT Number</th>\n",
       "      <th>Study Status</th>\n",
       "      <th>Conditions</th>\n",
       "      <th>Interventions</th>\n",
       "      <th>Sponsor</th>\n",
       "      <th>Phases</th>\n",
       "      <th>Funder Type</th>\n",
       "      <th>Start Date</th>\n",
       "      <th>Completion Date</th>\n",
       "      <th>Locations</th>\n",
       "      <th>...</th>\n",
       "      <th>PHASE1</th>\n",
       "      <th>PHASE2</th>\n",
       "      <th>PHASE3</th>\n",
       "      <th>PHASE4</th>\n",
       "      <th>State</th>\n",
       "      <th>Zip Code</th>\n",
       "      <th>Major Condition</th>\n",
       "      <th>Major Interventions</th>\n",
       "      <th>Duration</th>\n",
       "      <th>Duration (Days)</th>\n",
       "    </tr>\n",
       "  </thead>\n",
       "  <tbody>\n",
       "    <tr>\n",
       "      <th>0</th>\n",
       "      <td>NCT02515227</td>\n",
       "      <td>COMPLETED</td>\n",
       "      <td>Melanoma</td>\n",
       "      <td>BIOLOGICAL: 6MHP|DRUG: Pembrolizumab</td>\n",
       "      <td>Craig L Slingluff, Jr</td>\n",
       "      <td>PHASE1</td>\n",
       "      <td>OTHER</td>\n",
       "      <td>2016-10-06</td>\n",
       "      <td>2020-03-14</td>\n",
       "      <td>University of Virginia Cancer Center, Charlott...</td>\n",
       "      <td>...</td>\n",
       "      <td>1</td>\n",
       "      <td>0</td>\n",
       "      <td>0</td>\n",
       "      <td>0</td>\n",
       "      <td>Virginia</td>\n",
       "      <td>22908</td>\n",
       "      <td>Other</td>\n",
       "      <td>Drug</td>\n",
       "      <td>1255 days</td>\n",
       "      <td>1255</td>\n",
       "    </tr>\n",
       "    <tr>\n",
       "      <th>0</th>\n",
       "      <td>NCT02515227</td>\n",
       "      <td>COMPLETED</td>\n",
       "      <td>Melanoma</td>\n",
       "      <td>BIOLOGICAL: 6MHP|DRUG: Pembrolizumab</td>\n",
       "      <td>Craig L Slingluff, Jr</td>\n",
       "      <td>PHASE1</td>\n",
       "      <td>OTHER</td>\n",
       "      <td>2016-10-06</td>\n",
       "      <td>2020-03-14</td>\n",
       "      <td>University of Virginia Cancer Center, Charlott...</td>\n",
       "      <td>...</td>\n",
       "      <td>1</td>\n",
       "      <td>0</td>\n",
       "      <td>0</td>\n",
       "      <td>0</td>\n",
       "      <td>Virginia</td>\n",
       "      <td>22908</td>\n",
       "      <td>Other</td>\n",
       "      <td>Biological</td>\n",
       "      <td>1255 days</td>\n",
       "      <td>1255</td>\n",
       "    </tr>\n",
       "    <tr>\n",
       "      <th>0</th>\n",
       "      <td>NCT02515227</td>\n",
       "      <td>COMPLETED</td>\n",
       "      <td>Melanoma</td>\n",
       "      <td>BIOLOGICAL: 6MHP|DRUG: Pembrolizumab</td>\n",
       "      <td>Craig L Slingluff, Jr</td>\n",
       "      <td>PHASE2</td>\n",
       "      <td>OTHER</td>\n",
       "      <td>2016-10-06</td>\n",
       "      <td>2020-03-14</td>\n",
       "      <td>University of Virginia Cancer Center, Charlott...</td>\n",
       "      <td>...</td>\n",
       "      <td>0</td>\n",
       "      <td>1</td>\n",
       "      <td>0</td>\n",
       "      <td>0</td>\n",
       "      <td>Virginia</td>\n",
       "      <td>22908</td>\n",
       "      <td>Other</td>\n",
       "      <td>Drug</td>\n",
       "      <td>1255 days</td>\n",
       "      <td>1255</td>\n",
       "    </tr>\n",
       "    <tr>\n",
       "      <th>0</th>\n",
       "      <td>NCT02515227</td>\n",
       "      <td>COMPLETED</td>\n",
       "      <td>Melanoma</td>\n",
       "      <td>BIOLOGICAL: 6MHP|DRUG: Pembrolizumab</td>\n",
       "      <td>Craig L Slingluff, Jr</td>\n",
       "      <td>PHASE2</td>\n",
       "      <td>OTHER</td>\n",
       "      <td>2016-10-06</td>\n",
       "      <td>2020-03-14</td>\n",
       "      <td>University of Virginia Cancer Center, Charlott...</td>\n",
       "      <td>...</td>\n",
       "      <td>0</td>\n",
       "      <td>1</td>\n",
       "      <td>0</td>\n",
       "      <td>0</td>\n",
       "      <td>Virginia</td>\n",
       "      <td>22908</td>\n",
       "      <td>Other</td>\n",
       "      <td>Biological</td>\n",
       "      <td>1255 days</td>\n",
       "      <td>1255</td>\n",
       "    </tr>\n",
       "    <tr>\n",
       "      <th>4</th>\n",
       "      <td>NCT03861091</td>\n",
       "      <td>COMPLETED</td>\n",
       "      <td>Lung Neoplasm</td>\n",
       "      <td>DRUG: risedronate|DRUG: Matching placebo</td>\n",
       "      <td>Wake Forest University Health Sciences</td>\n",
       "      <td>PHASE2</td>\n",
       "      <td>OTHER</td>\n",
       "      <td>2019-07-12</td>\n",
       "      <td>2022-03-02</td>\n",
       "      <td>High Point Regional Medical Center, High Point...</td>\n",
       "      <td>...</td>\n",
       "      <td>0</td>\n",
       "      <td>1</td>\n",
       "      <td>0</td>\n",
       "      <td>0</td>\n",
       "      <td>North Carolina</td>\n",
       "      <td>27157</td>\n",
       "      <td>Lung Cancer</td>\n",
       "      <td>Drug</td>\n",
       "      <td>964 days</td>\n",
       "      <td>964</td>\n",
       "    </tr>\n",
       "    <tr>\n",
       "      <th>...</th>\n",
       "      <td>...</td>\n",
       "      <td>...</td>\n",
       "      <td>...</td>\n",
       "      <td>...</td>\n",
       "      <td>...</td>\n",
       "      <td>...</td>\n",
       "      <td>...</td>\n",
       "      <td>...</td>\n",
       "      <td>...</td>\n",
       "      <td>...</td>\n",
       "      <td>...</td>\n",
       "      <td>...</td>\n",
       "      <td>...</td>\n",
       "      <td>...</td>\n",
       "      <td>...</td>\n",
       "      <td>...</td>\n",
       "      <td>...</td>\n",
       "      <td>...</td>\n",
       "      <td>...</td>\n",
       "      <td>...</td>\n",
       "      <td>...</td>\n",
       "    </tr>\n",
       "    <tr>\n",
       "      <th>714</th>\n",
       "      <td>NCT02166905</td>\n",
       "      <td>COMPLETED</td>\n",
       "      <td>Fallopian Tube Carcinoma|Ovarian Carcinoma|Pri...</td>\n",
       "      <td>BIOLOGICAL: DEC-205/NY-ESO-1 Fusion Protein CD...</td>\n",
       "      <td>Roswell Park Cancer Institute</td>\n",
       "      <td>PHASE1</td>\n",
       "      <td>OTHER</td>\n",
       "      <td>2014-10-10</td>\n",
       "      <td>2020-08-20</td>\n",
       "      <td>Roswell Park Cancer Institute, Buffalo, New Yo...</td>\n",
       "      <td>...</td>\n",
       "      <td>1</td>\n",
       "      <td>0</td>\n",
       "      <td>0</td>\n",
       "      <td>0</td>\n",
       "      <td>New York</td>\n",
       "      <td>14263</td>\n",
       "      <td>Other</td>\n",
       "      <td>Others</td>\n",
       "      <td>2141 days</td>\n",
       "      <td>2141</td>\n",
       "    </tr>\n",
       "    <tr>\n",
       "      <th>714</th>\n",
       "      <td>NCT02166905</td>\n",
       "      <td>COMPLETED</td>\n",
       "      <td>Fallopian Tube Carcinoma|Ovarian Carcinoma|Pri...</td>\n",
       "      <td>BIOLOGICAL: DEC-205/NY-ESO-1 Fusion Protein CD...</td>\n",
       "      <td>Roswell Park Cancer Institute</td>\n",
       "      <td>PHASE1</td>\n",
       "      <td>OTHER</td>\n",
       "      <td>2014-10-10</td>\n",
       "      <td>2020-08-20</td>\n",
       "      <td>Roswell Park Cancer Institute, Buffalo, New Yo...</td>\n",
       "      <td>...</td>\n",
       "      <td>1</td>\n",
       "      <td>0</td>\n",
       "      <td>0</td>\n",
       "      <td>0</td>\n",
       "      <td>New York</td>\n",
       "      <td>14263</td>\n",
       "      <td>Other</td>\n",
       "      <td>Biological</td>\n",
       "      <td>2141 days</td>\n",
       "      <td>2141</td>\n",
       "    </tr>\n",
       "    <tr>\n",
       "      <th>714</th>\n",
       "      <td>NCT02166905</td>\n",
       "      <td>COMPLETED</td>\n",
       "      <td>Fallopian Tube Carcinoma|Ovarian Carcinoma|Pri...</td>\n",
       "      <td>BIOLOGICAL: DEC-205/NY-ESO-1 Fusion Protein CD...</td>\n",
       "      <td>Roswell Park Cancer Institute</td>\n",
       "      <td>PHASE2</td>\n",
       "      <td>OTHER</td>\n",
       "      <td>2014-10-10</td>\n",
       "      <td>2020-08-20</td>\n",
       "      <td>Roswell Park Cancer Institute, Buffalo, New Yo...</td>\n",
       "      <td>...</td>\n",
       "      <td>0</td>\n",
       "      <td>1</td>\n",
       "      <td>0</td>\n",
       "      <td>0</td>\n",
       "      <td>New York</td>\n",
       "      <td>14263</td>\n",
       "      <td>Other</td>\n",
       "      <td>Drug</td>\n",
       "      <td>2141 days</td>\n",
       "      <td>2141</td>\n",
       "    </tr>\n",
       "    <tr>\n",
       "      <th>714</th>\n",
       "      <td>NCT02166905</td>\n",
       "      <td>COMPLETED</td>\n",
       "      <td>Fallopian Tube Carcinoma|Ovarian Carcinoma|Pri...</td>\n",
       "      <td>BIOLOGICAL: DEC-205/NY-ESO-1 Fusion Protein CD...</td>\n",
       "      <td>Roswell Park Cancer Institute</td>\n",
       "      <td>PHASE2</td>\n",
       "      <td>OTHER</td>\n",
       "      <td>2014-10-10</td>\n",
       "      <td>2020-08-20</td>\n",
       "      <td>Roswell Park Cancer Institute, Buffalo, New Yo...</td>\n",
       "      <td>...</td>\n",
       "      <td>0</td>\n",
       "      <td>1</td>\n",
       "      <td>0</td>\n",
       "      <td>0</td>\n",
       "      <td>New York</td>\n",
       "      <td>14263</td>\n",
       "      <td>Other</td>\n",
       "      <td>Others</td>\n",
       "      <td>2141 days</td>\n",
       "      <td>2141</td>\n",
       "    </tr>\n",
       "    <tr>\n",
       "      <th>714</th>\n",
       "      <td>NCT02166905</td>\n",
       "      <td>COMPLETED</td>\n",
       "      <td>Fallopian Tube Carcinoma|Ovarian Carcinoma|Pri...</td>\n",
       "      <td>BIOLOGICAL: DEC-205/NY-ESO-1 Fusion Protein CD...</td>\n",
       "      <td>Roswell Park Cancer Institute</td>\n",
       "      <td>PHASE2</td>\n",
       "      <td>OTHER</td>\n",
       "      <td>2014-10-10</td>\n",
       "      <td>2020-08-20</td>\n",
       "      <td>Roswell Park Cancer Institute, Buffalo, New Yo...</td>\n",
       "      <td>...</td>\n",
       "      <td>0</td>\n",
       "      <td>1</td>\n",
       "      <td>0</td>\n",
       "      <td>0</td>\n",
       "      <td>New York</td>\n",
       "      <td>14263</td>\n",
       "      <td>Other</td>\n",
       "      <td>Biological</td>\n",
       "      <td>2141 days</td>\n",
       "      <td>2141</td>\n",
       "    </tr>\n",
       "  </tbody>\n",
       "</table>\n",
       "<p>599 rows × 21 columns</p>\n",
       "</div>"
      ],
      "text/plain": [
       "      NCT Number Study Status  \\\n",
       "0    NCT02515227    COMPLETED   \n",
       "0    NCT02515227    COMPLETED   \n",
       "0    NCT02515227    COMPLETED   \n",
       "0    NCT02515227    COMPLETED   \n",
       "4    NCT03861091    COMPLETED   \n",
       "..           ...          ...   \n",
       "714  NCT02166905    COMPLETED   \n",
       "714  NCT02166905    COMPLETED   \n",
       "714  NCT02166905    COMPLETED   \n",
       "714  NCT02166905    COMPLETED   \n",
       "714  NCT02166905    COMPLETED   \n",
       "\n",
       "                                            Conditions  \\\n",
       "0                                             Melanoma   \n",
       "0                                             Melanoma   \n",
       "0                                             Melanoma   \n",
       "0                                             Melanoma   \n",
       "4                                        Lung Neoplasm   \n",
       "..                                                 ...   \n",
       "714  Fallopian Tube Carcinoma|Ovarian Carcinoma|Pri...   \n",
       "714  Fallopian Tube Carcinoma|Ovarian Carcinoma|Pri...   \n",
       "714  Fallopian Tube Carcinoma|Ovarian Carcinoma|Pri...   \n",
       "714  Fallopian Tube Carcinoma|Ovarian Carcinoma|Pri...   \n",
       "714  Fallopian Tube Carcinoma|Ovarian Carcinoma|Pri...   \n",
       "\n",
       "                                         Interventions  \\\n",
       "0                 BIOLOGICAL: 6MHP|DRUG: Pembrolizumab   \n",
       "0                 BIOLOGICAL: 6MHP|DRUG: Pembrolizumab   \n",
       "0                 BIOLOGICAL: 6MHP|DRUG: Pembrolizumab   \n",
       "0                 BIOLOGICAL: 6MHP|DRUG: Pembrolizumab   \n",
       "4             DRUG: risedronate|DRUG: Matching placebo   \n",
       "..                                                 ...   \n",
       "714  BIOLOGICAL: DEC-205/NY-ESO-1 Fusion Protein CD...   \n",
       "714  BIOLOGICAL: DEC-205/NY-ESO-1 Fusion Protein CD...   \n",
       "714  BIOLOGICAL: DEC-205/NY-ESO-1 Fusion Protein CD...   \n",
       "714  BIOLOGICAL: DEC-205/NY-ESO-1 Fusion Protein CD...   \n",
       "714  BIOLOGICAL: DEC-205/NY-ESO-1 Fusion Protein CD...   \n",
       "\n",
       "                                    Sponsor  Phases Funder Type Start Date  \\\n",
       "0                     Craig L Slingluff, Jr  PHASE1       OTHER 2016-10-06   \n",
       "0                     Craig L Slingluff, Jr  PHASE1       OTHER 2016-10-06   \n",
       "0                     Craig L Slingluff, Jr  PHASE2       OTHER 2016-10-06   \n",
       "0                     Craig L Slingluff, Jr  PHASE2       OTHER 2016-10-06   \n",
       "4    Wake Forest University Health Sciences  PHASE2       OTHER 2019-07-12   \n",
       "..                                      ...     ...         ...        ...   \n",
       "714           Roswell Park Cancer Institute  PHASE1       OTHER 2014-10-10   \n",
       "714           Roswell Park Cancer Institute  PHASE1       OTHER 2014-10-10   \n",
       "714           Roswell Park Cancer Institute  PHASE2       OTHER 2014-10-10   \n",
       "714           Roswell Park Cancer Institute  PHASE2       OTHER 2014-10-10   \n",
       "714           Roswell Park Cancer Institute  PHASE2       OTHER 2014-10-10   \n",
       "\n",
       "    Completion Date                                          Locations  ...  \\\n",
       "0        2020-03-14  University of Virginia Cancer Center, Charlott...  ...   \n",
       "0        2020-03-14  University of Virginia Cancer Center, Charlott...  ...   \n",
       "0        2020-03-14  University of Virginia Cancer Center, Charlott...  ...   \n",
       "0        2020-03-14  University of Virginia Cancer Center, Charlott...  ...   \n",
       "4        2022-03-02  High Point Regional Medical Center, High Point...  ...   \n",
       "..              ...                                                ...  ...   \n",
       "714      2020-08-20  Roswell Park Cancer Institute, Buffalo, New Yo...  ...   \n",
       "714      2020-08-20  Roswell Park Cancer Institute, Buffalo, New Yo...  ...   \n",
       "714      2020-08-20  Roswell Park Cancer Institute, Buffalo, New Yo...  ...   \n",
       "714      2020-08-20  Roswell Park Cancer Institute, Buffalo, New Yo...  ...   \n",
       "714      2020-08-20  Roswell Park Cancer Institute, Buffalo, New Yo...  ...   \n",
       "\n",
       "     PHASE1  PHASE2  PHASE3  PHASE4           State Zip Code Major Condition  \\\n",
       "0         1       0       0       0        Virginia    22908           Other   \n",
       "0         1       0       0       0        Virginia    22908           Other   \n",
       "0         0       1       0       0        Virginia    22908           Other   \n",
       "0         0       1       0       0        Virginia    22908           Other   \n",
       "4         0       1       0       0  North Carolina    27157     Lung Cancer   \n",
       "..      ...     ...     ...     ...             ...      ...             ...   \n",
       "714       1       0       0       0        New York    14263           Other   \n",
       "714       1       0       0       0        New York    14263           Other   \n",
       "714       0       1       0       0        New York    14263           Other   \n",
       "714       0       1       0       0        New York    14263           Other   \n",
       "714       0       1       0       0        New York    14263           Other   \n",
       "\n",
       "    Major Interventions  Duration Duration (Days)  \n",
       "0                  Drug 1255 days            1255  \n",
       "0            Biological 1255 days            1255  \n",
       "0                  Drug 1255 days            1255  \n",
       "0            Biological 1255 days            1255  \n",
       "4                  Drug  964 days             964  \n",
       "..                  ...       ...             ...  \n",
       "714              Others 2141 days            2141  \n",
       "714          Biological 2141 days            2141  \n",
       "714                Drug 2141 days            2141  \n",
       "714              Others 2141 days            2141  \n",
       "714          Biological 2141 days            2141  \n",
       "\n",
       "[599 rows x 21 columns]"
      ]
     },
     "execution_count": 49,
     "metadata": {},
     "output_type": "execute_result"
    }
   ],
   "source": [
    "# Filter for completed studies \n",
    "completed_studies_df = New_Reduced_df[New_Reduced_df['Study Status'] == 'COMPLETED']\n",
    "completed_studies_df"
   ]
  },
  {
   "cell_type": "markdown",
   "id": "05bf8d71",
   "metadata": {},
   "source": [
    "# Create Data Frame for terminated clinical trials"
   ]
  },
  {
   "cell_type": "code",
   "execution_count": 23,
   "id": "f65df126",
   "metadata": {},
   "outputs": [
    {
     "data": {
      "text/html": [
       "<div>\n",
       "<style scoped>\n",
       "    .dataframe tbody tr th:only-of-type {\n",
       "        vertical-align: middle;\n",
       "    }\n",
       "\n",
       "    .dataframe tbody tr th {\n",
       "        vertical-align: top;\n",
       "    }\n",
       "\n",
       "    .dataframe thead th {\n",
       "        text-align: right;\n",
       "    }\n",
       "</style>\n",
       "<table border=\"1\" class=\"dataframe\">\n",
       "  <thead>\n",
       "    <tr style=\"text-align: right;\">\n",
       "      <th></th>\n",
       "      <th>NCT Number</th>\n",
       "      <th>Study Status</th>\n",
       "      <th>Conditions</th>\n",
       "      <th>Interventions</th>\n",
       "      <th>Sponsor</th>\n",
       "      <th>Phases</th>\n",
       "      <th>Funder Type</th>\n",
       "      <th>Start Date</th>\n",
       "      <th>Completion Date</th>\n",
       "      <th>Locations</th>\n",
       "      <th>...</th>\n",
       "      <th>PHASE1</th>\n",
       "      <th>PHASE2</th>\n",
       "      <th>PHASE3</th>\n",
       "      <th>PHASE4</th>\n",
       "      <th>State</th>\n",
       "      <th>Zip Code</th>\n",
       "      <th>Major Condition</th>\n",
       "      <th>Major Interventions</th>\n",
       "      <th>Duration</th>\n",
       "      <th>Duration (Days)</th>\n",
       "    </tr>\n",
       "  </thead>\n",
       "  <tbody>\n",
       "    <tr>\n",
       "      <th>1</th>\n",
       "      <td>NCT03531827</td>\n",
       "      <td>TERMINATED</td>\n",
       "      <td>Metastatic Castration Resistant Prostate Cance...</td>\n",
       "      <td>DRUG: enzalutamide|DRUG: CRLX101</td>\n",
       "      <td>National Cancer Institute (NCI)</td>\n",
       "      <td>PHASE2</td>\n",
       "      <td>NIH</td>\n",
       "      <td>2019-03-26</td>\n",
       "      <td>2021-06-01</td>\n",
       "      <td>National Institutes of Health Clinical Center,...</td>\n",
       "      <td>...</td>\n",
       "      <td>0</td>\n",
       "      <td>1</td>\n",
       "      <td>0</td>\n",
       "      <td>0</td>\n",
       "      <td>Maryland</td>\n",
       "      <td>20892</td>\n",
       "      <td>Prostate Cancer</td>\n",
       "      <td>Drug</td>\n",
       "      <td>798 days</td>\n",
       "      <td>798</td>\n",
       "    </tr>\n",
       "    <tr>\n",
       "      <th>9</th>\n",
       "      <td>NCT03190967</td>\n",
       "      <td>TERMINATED</td>\n",
       "      <td>Breast Cancer|Brain Metastasis|Brain Cancer</td>\n",
       "      <td>DRUG: T-DM1|DRUG: TMZ</td>\n",
       "      <td>National Cancer Institute (NCI)</td>\n",
       "      <td>PHASE1</td>\n",
       "      <td>NIH</td>\n",
       "      <td>2018-04-18</td>\n",
       "      <td>2023-06-13</td>\n",
       "      <td>National Institutes of Health Clinical Center,...</td>\n",
       "      <td>...</td>\n",
       "      <td>1</td>\n",
       "      <td>0</td>\n",
       "      <td>0</td>\n",
       "      <td>0</td>\n",
       "      <td>Maryland</td>\n",
       "      <td>20892</td>\n",
       "      <td>Brain Cancer</td>\n",
       "      <td>Drug</td>\n",
       "      <td>1882 days</td>\n",
       "      <td>1882</td>\n",
       "    </tr>\n",
       "    <tr>\n",
       "      <th>9</th>\n",
       "      <td>NCT03190967</td>\n",
       "      <td>TERMINATED</td>\n",
       "      <td>Breast Cancer|Brain Metastasis|Brain Cancer</td>\n",
       "      <td>DRUG: T-DM1|DRUG: TMZ</td>\n",
       "      <td>National Cancer Institute (NCI)</td>\n",
       "      <td>PHASE2</td>\n",
       "      <td>NIH</td>\n",
       "      <td>2018-04-18</td>\n",
       "      <td>2023-06-13</td>\n",
       "      <td>National Institutes of Health Clinical Center,...</td>\n",
       "      <td>...</td>\n",
       "      <td>0</td>\n",
       "      <td>1</td>\n",
       "      <td>0</td>\n",
       "      <td>0</td>\n",
       "      <td>Maryland</td>\n",
       "      <td>20892</td>\n",
       "      <td>Brain Cancer</td>\n",
       "      <td>Drug</td>\n",
       "      <td>1882 days</td>\n",
       "      <td>1882</td>\n",
       "    </tr>\n",
       "    <tr>\n",
       "      <th>11</th>\n",
       "      <td>NCT02565901</td>\n",
       "      <td>TERMINATED</td>\n",
       "      <td>Castration-Resistant Prostate Carcinoma|Metast...</td>\n",
       "      <td>DRUG: Carboplatin|DRUG: Docetaxel|OTHER: Labor...</td>\n",
       "      <td>University of Washington</td>\n",
       "      <td>PHASE1</td>\n",
       "      <td>OTHER</td>\n",
       "      <td>2016-02-29</td>\n",
       "      <td>2020-06-16</td>\n",
       "      <td>Fred Hutch/University of Washington Cancer Con...</td>\n",
       "      <td>...</td>\n",
       "      <td>1</td>\n",
       "      <td>0</td>\n",
       "      <td>0</td>\n",
       "      <td>0</td>\n",
       "      <td>Washington</td>\n",
       "      <td>98109</td>\n",
       "      <td>Prostate Cancer</td>\n",
       "      <td>Drug</td>\n",
       "      <td>1569 days</td>\n",
       "      <td>1569</td>\n",
       "    </tr>\n",
       "    <tr>\n",
       "      <th>11</th>\n",
       "      <td>NCT02565901</td>\n",
       "      <td>TERMINATED</td>\n",
       "      <td>Castration-Resistant Prostate Carcinoma|Metast...</td>\n",
       "      <td>DRUG: Carboplatin|DRUG: Docetaxel|OTHER: Labor...</td>\n",
       "      <td>University of Washington</td>\n",
       "      <td>PHASE1</td>\n",
       "      <td>OTHER</td>\n",
       "      <td>2016-02-29</td>\n",
       "      <td>2020-06-16</td>\n",
       "      <td>Fred Hutch/University of Washington Cancer Con...</td>\n",
       "      <td>...</td>\n",
       "      <td>1</td>\n",
       "      <td>0</td>\n",
       "      <td>0</td>\n",
       "      <td>0</td>\n",
       "      <td>Washington</td>\n",
       "      <td>98109</td>\n",
       "      <td>Prostate Cancer</td>\n",
       "      <td>Others</td>\n",
       "      <td>1569 days</td>\n",
       "      <td>1569</td>\n",
       "    </tr>\n",
       "    <tr>\n",
       "      <th>...</th>\n",
       "      <td>...</td>\n",
       "      <td>...</td>\n",
       "      <td>...</td>\n",
       "      <td>...</td>\n",
       "      <td>...</td>\n",
       "      <td>...</td>\n",
       "      <td>...</td>\n",
       "      <td>...</td>\n",
       "      <td>...</td>\n",
       "      <td>...</td>\n",
       "      <td>...</td>\n",
       "      <td>...</td>\n",
       "      <td>...</td>\n",
       "      <td>...</td>\n",
       "      <td>...</td>\n",
       "      <td>...</td>\n",
       "      <td>...</td>\n",
       "      <td>...</td>\n",
       "      <td>...</td>\n",
       "      <td>...</td>\n",
       "      <td>...</td>\n",
       "    </tr>\n",
       "    <tr>\n",
       "      <th>678</th>\n",
       "      <td>NCT04088188</td>\n",
       "      <td>TERMINATED</td>\n",
       "      <td>Advanced Cholangiocarcinoma|Metastatic Cholang...</td>\n",
       "      <td>DRUG: Cisplatin|DRUG: Gemcitabine|DRUG: Ivosid...</td>\n",
       "      <td>Academic and Community Cancer Research United</td>\n",
       "      <td>PHASE1</td>\n",
       "      <td>OTHER</td>\n",
       "      <td>2021-01-25</td>\n",
       "      <td>2023-12-01</td>\n",
       "      <td>Mayo Clinic in Arizona, Scottsdale, Arizona, 8...</td>\n",
       "      <td>...</td>\n",
       "      <td>1</td>\n",
       "      <td>0</td>\n",
       "      <td>0</td>\n",
       "      <td>0</td>\n",
       "      <td>Wisconsin</td>\n",
       "      <td>53226</td>\n",
       "      <td>Other</td>\n",
       "      <td>Drug</td>\n",
       "      <td>1040 days</td>\n",
       "      <td>1040</td>\n",
       "    </tr>\n",
       "    <tr>\n",
       "      <th>681</th>\n",
       "      <td>NCT02332928</td>\n",
       "      <td>TERMINATED</td>\n",
       "      <td>Breast Cancer - Female</td>\n",
       "      <td>DRUG: Melatonin|DRUG: Placebo</td>\n",
       "      <td>Virginia Commonwealth University</td>\n",
       "      <td>PHASE3</td>\n",
       "      <td>OTHER</td>\n",
       "      <td>2015-03-25</td>\n",
       "      <td>2021-06-02</td>\n",
       "      <td>Virginia Commonwealth University/Massey Cancer...</td>\n",
       "      <td>...</td>\n",
       "      <td>0</td>\n",
       "      <td>0</td>\n",
       "      <td>1</td>\n",
       "      <td>0</td>\n",
       "      <td>Virginia</td>\n",
       "      <td>23298</td>\n",
       "      <td>Other</td>\n",
       "      <td>Drug</td>\n",
       "      <td>2261 days</td>\n",
       "      <td>2261</td>\n",
       "    </tr>\n",
       "    <tr>\n",
       "      <th>683</th>\n",
       "      <td>NCT02899728</td>\n",
       "      <td>TERMINATED</td>\n",
       "      <td>Extensive Stage Lung Small Cell Carcinoma</td>\n",
       "      <td>DRUG: Carboplatin|DRUG: Cediranib|DRUG: Cedira...</td>\n",
       "      <td>National Cancer Institute (NCI)</td>\n",
       "      <td>PHASE2</td>\n",
       "      <td>NIH</td>\n",
       "      <td>2018-03-30</td>\n",
       "      <td>2020-03-17</td>\n",
       "      <td>Los Angeles County-USC Medical Center, Los Ang...</td>\n",
       "      <td>...</td>\n",
       "      <td>0</td>\n",
       "      <td>1</td>\n",
       "      <td>0</td>\n",
       "      <td>0</td>\n",
       "      <td>Virginia</td>\n",
       "      <td>23298</td>\n",
       "      <td>Lung Cancer</td>\n",
       "      <td>Drug</td>\n",
       "      <td>718 days</td>\n",
       "      <td>718</td>\n",
       "    </tr>\n",
       "    <tr>\n",
       "      <th>702</th>\n",
       "      <td>NCT04616547</td>\n",
       "      <td>TERMINATED</td>\n",
       "      <td>Castration-Resistant Prostate Carcinoma|Metast...</td>\n",
       "      <td>OTHER: Questionnaire Administration|RADIATION:...</td>\n",
       "      <td>National Cancer Institute (NCI)</td>\n",
       "      <td>PHASE2</td>\n",
       "      <td>NIH</td>\n",
       "      <td>2021-12-18</td>\n",
       "      <td>2022-05-11</td>\n",
       "      <td>University of Kentucky/Markey Cancer Center, L...</td>\n",
       "      <td>...</td>\n",
       "      <td>0</td>\n",
       "      <td>1</td>\n",
       "      <td>0</td>\n",
       "      <td>0</td>\n",
       "      <td>Kentucky</td>\n",
       "      <td>40536</td>\n",
       "      <td>Lung Cancer</td>\n",
       "      <td>Radiation</td>\n",
       "      <td>144 days</td>\n",
       "      <td>144</td>\n",
       "    </tr>\n",
       "    <tr>\n",
       "      <th>702</th>\n",
       "      <td>NCT04616547</td>\n",
       "      <td>TERMINATED</td>\n",
       "      <td>Castration-Resistant Prostate Carcinoma|Metast...</td>\n",
       "      <td>OTHER: Questionnaire Administration|RADIATION:...</td>\n",
       "      <td>National Cancer Institute (NCI)</td>\n",
       "      <td>PHASE2</td>\n",
       "      <td>NIH</td>\n",
       "      <td>2021-12-18</td>\n",
       "      <td>2022-05-11</td>\n",
       "      <td>University of Kentucky/Markey Cancer Center, L...</td>\n",
       "      <td>...</td>\n",
       "      <td>0</td>\n",
       "      <td>1</td>\n",
       "      <td>0</td>\n",
       "      <td>0</td>\n",
       "      <td>Kentucky</td>\n",
       "      <td>40536</td>\n",
       "      <td>Lung Cancer</td>\n",
       "      <td>Others</td>\n",
       "      <td>144 days</td>\n",
       "      <td>144</td>\n",
       "    </tr>\n",
       "  </tbody>\n",
       "</table>\n",
       "<p>384 rows × 21 columns</p>\n",
       "</div>"
      ],
      "text/plain": [
       "      NCT Number Study Status  \\\n",
       "1    NCT03531827   TERMINATED   \n",
       "9    NCT03190967   TERMINATED   \n",
       "9    NCT03190967   TERMINATED   \n",
       "11   NCT02565901   TERMINATED   \n",
       "11   NCT02565901   TERMINATED   \n",
       "..           ...          ...   \n",
       "678  NCT04088188   TERMINATED   \n",
       "681  NCT02332928   TERMINATED   \n",
       "683  NCT02899728   TERMINATED   \n",
       "702  NCT04616547   TERMINATED   \n",
       "702  NCT04616547   TERMINATED   \n",
       "\n",
       "                                            Conditions  \\\n",
       "1    Metastatic Castration Resistant Prostate Cance...   \n",
       "9          Breast Cancer|Brain Metastasis|Brain Cancer   \n",
       "9          Breast Cancer|Brain Metastasis|Brain Cancer   \n",
       "11   Castration-Resistant Prostate Carcinoma|Metast...   \n",
       "11   Castration-Resistant Prostate Carcinoma|Metast...   \n",
       "..                                                 ...   \n",
       "678  Advanced Cholangiocarcinoma|Metastatic Cholang...   \n",
       "681                             Breast Cancer - Female   \n",
       "683          Extensive Stage Lung Small Cell Carcinoma   \n",
       "702  Castration-Resistant Prostate Carcinoma|Metast...   \n",
       "702  Castration-Resistant Prostate Carcinoma|Metast...   \n",
       "\n",
       "                                         Interventions  \\\n",
       "1                     DRUG: enzalutamide|DRUG: CRLX101   \n",
       "9                                DRUG: T-DM1|DRUG: TMZ   \n",
       "9                                DRUG: T-DM1|DRUG: TMZ   \n",
       "11   DRUG: Carboplatin|DRUG: Docetaxel|OTHER: Labor...   \n",
       "11   DRUG: Carboplatin|DRUG: Docetaxel|OTHER: Labor...   \n",
       "..                                                 ...   \n",
       "678  DRUG: Cisplatin|DRUG: Gemcitabine|DRUG: Ivosid...   \n",
       "681                      DRUG: Melatonin|DRUG: Placebo   \n",
       "683  DRUG: Carboplatin|DRUG: Cediranib|DRUG: Cedira...   \n",
       "702  OTHER: Questionnaire Administration|RADIATION:...   \n",
       "702  OTHER: Questionnaire Administration|RADIATION:...   \n",
       "\n",
       "                                           Sponsor  Phases Funder Type  \\\n",
       "1                  National Cancer Institute (NCI)  PHASE2         NIH   \n",
       "9                  National Cancer Institute (NCI)  PHASE1         NIH   \n",
       "9                  National Cancer Institute (NCI)  PHASE2         NIH   \n",
       "11                        University of Washington  PHASE1       OTHER   \n",
       "11                        University of Washington  PHASE1       OTHER   \n",
       "..                                             ...     ...         ...   \n",
       "678  Academic and Community Cancer Research United  PHASE1       OTHER   \n",
       "681               Virginia Commonwealth University  PHASE3       OTHER   \n",
       "683                National Cancer Institute (NCI)  PHASE2         NIH   \n",
       "702                National Cancer Institute (NCI)  PHASE2         NIH   \n",
       "702                National Cancer Institute (NCI)  PHASE2         NIH   \n",
       "\n",
       "    Start Date Completion Date  \\\n",
       "1   2019-03-26      2021-06-01   \n",
       "9   2018-04-18      2023-06-13   \n",
       "9   2018-04-18      2023-06-13   \n",
       "11  2016-02-29      2020-06-16   \n",
       "11  2016-02-29      2020-06-16   \n",
       "..         ...             ...   \n",
       "678 2021-01-25      2023-12-01   \n",
       "681 2015-03-25      2021-06-02   \n",
       "683 2018-03-30      2020-03-17   \n",
       "702 2021-12-18      2022-05-11   \n",
       "702 2021-12-18      2022-05-11   \n",
       "\n",
       "                                             Locations  ...  PHASE1  PHASE2  \\\n",
       "1    National Institutes of Health Clinical Center,...  ...       0       1   \n",
       "9    National Institutes of Health Clinical Center,...  ...       1       0   \n",
       "9    National Institutes of Health Clinical Center,...  ...       0       1   \n",
       "11   Fred Hutch/University of Washington Cancer Con...  ...       1       0   \n",
       "11   Fred Hutch/University of Washington Cancer Con...  ...       1       0   \n",
       "..                                                 ...  ...     ...     ...   \n",
       "678  Mayo Clinic in Arizona, Scottsdale, Arizona, 8...  ...       1       0   \n",
       "681  Virginia Commonwealth University/Massey Cancer...  ...       0       0   \n",
       "683  Los Angeles County-USC Medical Center, Los Ang...  ...       0       1   \n",
       "702  University of Kentucky/Markey Cancer Center, L...  ...       0       1   \n",
       "702  University of Kentucky/Markey Cancer Center, L...  ...       0       1   \n",
       "\n",
       "     PHASE3  PHASE4       State Zip Code  Major Condition Major Interventions  \\\n",
       "1         0       0    Maryland    20892  Prostate Cancer                Drug   \n",
       "9         0       0    Maryland    20892     Brain Cancer                Drug   \n",
       "9         0       0    Maryland    20892     Brain Cancer                Drug   \n",
       "11        0       0  Washington    98109  Prostate Cancer                Drug   \n",
       "11        0       0  Washington    98109  Prostate Cancer              Others   \n",
       "..      ...     ...         ...      ...              ...                 ...   \n",
       "678       0       0   Wisconsin    53226            Other                Drug   \n",
       "681       1       0    Virginia    23298            Other                Drug   \n",
       "683       0       0    Virginia    23298      Lung Cancer                Drug   \n",
       "702       0       0    Kentucky    40536      Lung Cancer           Radiation   \n",
       "702       0       0    Kentucky    40536      Lung Cancer              Others   \n",
       "\n",
       "     Duration Duration (Days)  \n",
       "1    798 days             798  \n",
       "9   1882 days            1882  \n",
       "9   1882 days            1882  \n",
       "11  1569 days            1569  \n",
       "11  1569 days            1569  \n",
       "..        ...             ...  \n",
       "678 1040 days            1040  \n",
       "681 2261 days            2261  \n",
       "683  718 days             718  \n",
       "702  144 days             144  \n",
       "702  144 days             144  \n",
       "\n",
       "[384 rows x 21 columns]"
      ]
     },
     "execution_count": 23,
     "metadata": {},
     "output_type": "execute_result"
    }
   ],
   "source": [
    "# Filter for active studies \n",
    "terminated_studies_df = New_Reduced_df[New_Reduced_df['Study Status'] == 'TERMINATED']\n",
    "terminated_studies_df"
   ]
  },
  {
   "cell_type": "markdown",
   "id": "ec33068c",
   "metadata": {},
   "source": [
    "# Create Data Frame for active clinical trial location "
   ]
  },
  {
   "cell_type": "code",
   "execution_count": 26,
   "id": "2f4b220d",
   "metadata": {},
   "outputs": [
    {
     "data": {
      "text/html": [
       "<div>\n",
       "<style scoped>\n",
       "    .dataframe tbody tr th:only-of-type {\n",
       "        vertical-align: middle;\n",
       "    }\n",
       "\n",
       "    .dataframe tbody tr th {\n",
       "        vertical-align: top;\n",
       "    }\n",
       "\n",
       "    .dataframe thead th {\n",
       "        text-align: right;\n",
       "    }\n",
       "</style>\n",
       "<table border=\"1\" class=\"dataframe\">\n",
       "  <thead>\n",
       "    <tr style=\"text-align: right;\">\n",
       "      <th></th>\n",
       "      <th>NCT Number</th>\n",
       "      <th>Major Condition</th>\n",
       "      <th>Major Interventions</th>\n",
       "      <th>Sponsor</th>\n",
       "      <th>Phases</th>\n",
       "      <th>State</th>\n",
       "      <th>Zip Code</th>\n",
       "    </tr>\n",
       "  </thead>\n",
       "  <tbody>\n",
       "    <tr>\n",
       "      <th>2</th>\n",
       "      <td>NCT04034927</td>\n",
       "      <td>Lung Cancer</td>\n",
       "      <td>Procedure</td>\n",
       "      <td>National Cancer Institute (NCI)</td>\n",
       "      <td>PHASE2</td>\n",
       "      <td>Wisconsin</td>\n",
       "      <td>53226</td>\n",
       "    </tr>\n",
       "    <tr>\n",
       "      <th>2</th>\n",
       "      <td>NCT04034927</td>\n",
       "      <td>Lung Cancer</td>\n",
       "      <td>Drug</td>\n",
       "      <td>National Cancer Institute (NCI)</td>\n",
       "      <td>PHASE2</td>\n",
       "      <td>Wisconsin</td>\n",
       "      <td>53226</td>\n",
       "    </tr>\n",
       "    <tr>\n",
       "      <th>2</th>\n",
       "      <td>NCT04034927</td>\n",
       "      <td>Lung Cancer</td>\n",
       "      <td>Biological</td>\n",
       "      <td>National Cancer Institute (NCI)</td>\n",
       "      <td>PHASE2</td>\n",
       "      <td>Wisconsin</td>\n",
       "      <td>53226</td>\n",
       "    </tr>\n",
       "    <tr>\n",
       "      <th>3</th>\n",
       "      <td>NCT04657094</td>\n",
       "      <td>Blood Cancer</td>\n",
       "      <td>Drug</td>\n",
       "      <td>City of Hope Medical Center</td>\n",
       "      <td>PHASE2</td>\n",
       "      <td>California</td>\n",
       "      <td>91010</td>\n",
       "    </tr>\n",
       "    <tr>\n",
       "      <th>7</th>\n",
       "      <td>NCT03737994</td>\n",
       "      <td>Lung Cancer</td>\n",
       "      <td>Drug</td>\n",
       "      <td>National Cancer Institute (NCI)</td>\n",
       "      <td>PHASE2</td>\n",
       "      <td>Wyoming</td>\n",
       "      <td>82801</td>\n",
       "    </tr>\n",
       "    <tr>\n",
       "      <th>...</th>\n",
       "      <td>...</td>\n",
       "      <td>...</td>\n",
       "      <td>...</td>\n",
       "      <td>...</td>\n",
       "      <td>...</td>\n",
       "      <td>...</td>\n",
       "      <td>...</td>\n",
       "    </tr>\n",
       "    <tr>\n",
       "      <th>704</th>\n",
       "      <td>NCT03873805</td>\n",
       "      <td>Prostate Cancer</td>\n",
       "      <td>Drug</td>\n",
       "      <td>City of Hope Medical Center</td>\n",
       "      <td>PHASE1</td>\n",
       "      <td>California</td>\n",
       "      <td>91010</td>\n",
       "    </tr>\n",
       "    <tr>\n",
       "      <th>704</th>\n",
       "      <td>NCT03873805</td>\n",
       "      <td>Prostate Cancer</td>\n",
       "      <td>Biological</td>\n",
       "      <td>City of Hope Medical Center</td>\n",
       "      <td>PHASE1</td>\n",
       "      <td>California</td>\n",
       "      <td>91010</td>\n",
       "    </tr>\n",
       "    <tr>\n",
       "      <th>706</th>\n",
       "      <td>NCT02443077</td>\n",
       "      <td>Blood Cancer</td>\n",
       "      <td>Procedure</td>\n",
       "      <td>National Cancer Institute (NCI)</td>\n",
       "      <td>PHASE3</td>\n",
       "      <td>Riyadh</td>\n",
       "      <td>11211</td>\n",
       "    </tr>\n",
       "    <tr>\n",
       "      <th>706</th>\n",
       "      <td>NCT02443077</td>\n",
       "      <td>Blood Cancer</td>\n",
       "      <td>Others</td>\n",
       "      <td>National Cancer Institute (NCI)</td>\n",
       "      <td>PHASE3</td>\n",
       "      <td>Riyadh</td>\n",
       "      <td>11211</td>\n",
       "    </tr>\n",
       "    <tr>\n",
       "      <th>706</th>\n",
       "      <td>NCT02443077</td>\n",
       "      <td>Blood Cancer</td>\n",
       "      <td>Drug</td>\n",
       "      <td>National Cancer Institute (NCI)</td>\n",
       "      <td>PHASE3</td>\n",
       "      <td>Riyadh</td>\n",
       "      <td>11211</td>\n",
       "    </tr>\n",
       "  </tbody>\n",
       "</table>\n",
       "<p>469 rows × 7 columns</p>\n",
       "</div>"
      ],
      "text/plain": [
       "      NCT Number  Major Condition Major Interventions  \\\n",
       "2    NCT04034927      Lung Cancer           Procedure   \n",
       "2    NCT04034927      Lung Cancer                Drug   \n",
       "2    NCT04034927      Lung Cancer          Biological   \n",
       "3    NCT04657094     Blood Cancer                Drug   \n",
       "7    NCT03737994      Lung Cancer                Drug   \n",
       "..           ...              ...                 ...   \n",
       "704  NCT03873805  Prostate Cancer                Drug   \n",
       "704  NCT03873805  Prostate Cancer          Biological   \n",
       "706  NCT02443077     Blood Cancer           Procedure   \n",
       "706  NCT02443077     Blood Cancer              Others   \n",
       "706  NCT02443077     Blood Cancer                Drug   \n",
       "\n",
       "                             Sponsor  Phases       State Zip Code  \n",
       "2    National Cancer Institute (NCI)  PHASE2   Wisconsin    53226  \n",
       "2    National Cancer Institute (NCI)  PHASE2   Wisconsin    53226  \n",
       "2    National Cancer Institute (NCI)  PHASE2   Wisconsin    53226  \n",
       "3        City of Hope Medical Center  PHASE2  California    91010  \n",
       "7    National Cancer Institute (NCI)  PHASE2     Wyoming    82801  \n",
       "..                               ...     ...         ...      ...  \n",
       "704      City of Hope Medical Center  PHASE1  California    91010  \n",
       "704      City of Hope Medical Center  PHASE1  California    91010  \n",
       "706  National Cancer Institute (NCI)  PHASE3      Riyadh    11211  \n",
       "706  National Cancer Institute (NCI)  PHASE3      Riyadh    11211  \n",
       "706  National Cancer Institute (NCI)  PHASE3      Riyadh    11211  \n",
       "\n",
       "[469 rows x 7 columns]"
      ]
     },
     "execution_count": 26,
     "metadata": {},
     "output_type": "execute_result"
    }
   ],
   "source": [
    "selected_columns = ['NCT Number', 'Major Condition','Major Interventions', 'Sponsor', 'Phases', 'State', 'Zip Code']\n",
    "active_study_location_df = active_studies_df[selected_columns]\n",
    "# Save to CSV\n",
    "active_study_location_df.to_csv('active_location.csv', index=False)\n",
    "active_study_location_df.to_json('activelocation.json', orient='records')\n",
    "active_study_location_df"
   ]
  },
  {
   "cell_type": "markdown",
   "id": "9cdc86d6",
   "metadata": {},
   "source": [
    "# Create Data Frame for actively recruiting clinical trial location "
   ]
  },
  {
   "cell_type": "code",
   "execution_count": 27,
   "id": "fdec42d7",
   "metadata": {},
   "outputs": [
    {
     "data": {
      "text/html": [
       "<div>\n",
       "<style scoped>\n",
       "    .dataframe tbody tr th:only-of-type {\n",
       "        vertical-align: middle;\n",
       "    }\n",
       "\n",
       "    .dataframe tbody tr th {\n",
       "        vertical-align: top;\n",
       "    }\n",
       "\n",
       "    .dataframe thead th {\n",
       "        text-align: right;\n",
       "    }\n",
       "</style>\n",
       "<table border=\"1\" class=\"dataframe\">\n",
       "  <thead>\n",
       "    <tr style=\"text-align: right;\">\n",
       "      <th></th>\n",
       "      <th>NCT Number</th>\n",
       "      <th>Major Condition</th>\n",
       "      <th>Major Interventions</th>\n",
       "      <th>Sponsor</th>\n",
       "      <th>Phases</th>\n",
       "      <th>State</th>\n",
       "      <th>Zip Code</th>\n",
       "    </tr>\n",
       "  </thead>\n",
       "  <tbody>\n",
       "    <tr>\n",
       "      <th>64</th>\n",
       "      <td>NCT03155620</td>\n",
       "      <td>Brain Cancer</td>\n",
       "      <td>Procedure</td>\n",
       "      <td>National Cancer Institute (NCI)</td>\n",
       "      <td>PHASE2</td>\n",
       "      <td>San Juan</td>\n",
       "      <td>00926</td>\n",
       "    </tr>\n",
       "    <tr>\n",
       "      <th>64</th>\n",
       "      <td>NCT03155620</td>\n",
       "      <td>Brain Cancer</td>\n",
       "      <td>Others</td>\n",
       "      <td>National Cancer Institute (NCI)</td>\n",
       "      <td>PHASE2</td>\n",
       "      <td>San Juan</td>\n",
       "      <td>00926</td>\n",
       "    </tr>\n",
       "    <tr>\n",
       "      <th>64</th>\n",
       "      <td>NCT03155620</td>\n",
       "      <td>Brain Cancer</td>\n",
       "      <td>Drug</td>\n",
       "      <td>National Cancer Institute (NCI)</td>\n",
       "      <td>PHASE2</td>\n",
       "      <td>San Juan</td>\n",
       "      <td>00926</td>\n",
       "    </tr>\n",
       "    <tr>\n",
       "      <th>166</th>\n",
       "      <td>NCT04203316</td>\n",
       "      <td>Blood Cancer</td>\n",
       "      <td>Procedure</td>\n",
       "      <td>Children's Oncology Group</td>\n",
       "      <td>PHASE2</td>\n",
       "      <td>Quebec</td>\n",
       "      <td>H3T 1C5</td>\n",
       "    </tr>\n",
       "    <tr>\n",
       "      <th>166</th>\n",
       "      <td>NCT04203316</td>\n",
       "      <td>Blood Cancer</td>\n",
       "      <td>Drug</td>\n",
       "      <td>Children's Oncology Group</td>\n",
       "      <td>PHASE2</td>\n",
       "      <td>Quebec</td>\n",
       "      <td>H3T 1C5</td>\n",
       "    </tr>\n",
       "    <tr>\n",
       "      <th>178</th>\n",
       "      <td>NCT04343157</td>\n",
       "      <td>Brain Cancer</td>\n",
       "      <td>Procedure</td>\n",
       "      <td>Jona Hattangadi-Gluth</td>\n",
       "      <td>PHASE2</td>\n",
       "      <td>California</td>\n",
       "      <td>92037</td>\n",
       "    </tr>\n",
       "    <tr>\n",
       "      <th>178</th>\n",
       "      <td>NCT04343157</td>\n",
       "      <td>Brain Cancer</td>\n",
       "      <td>Radiation</td>\n",
       "      <td>Jona Hattangadi-Gluth</td>\n",
       "      <td>PHASE2</td>\n",
       "      <td>California</td>\n",
       "      <td>92037</td>\n",
       "    </tr>\n",
       "    <tr>\n",
       "      <th>414</th>\n",
       "      <td>NCT04393350</td>\n",
       "      <td>kidney Cancer</td>\n",
       "      <td>Drug</td>\n",
       "      <td>Emory University</td>\n",
       "      <td>PHASE2</td>\n",
       "      <td>Georgia</td>\n",
       "      <td>30322</td>\n",
       "    </tr>\n",
       "    <tr>\n",
       "      <th>414</th>\n",
       "      <td>NCT04393350</td>\n",
       "      <td>kidney Cancer</td>\n",
       "      <td>Others</td>\n",
       "      <td>Emory University</td>\n",
       "      <td>PHASE2</td>\n",
       "      <td>Georgia</td>\n",
       "      <td>30322</td>\n",
       "    </tr>\n",
       "    <tr>\n",
       "      <th>414</th>\n",
       "      <td>NCT04393350</td>\n",
       "      <td>kidney Cancer</td>\n",
       "      <td>Biological</td>\n",
       "      <td>Emory University</td>\n",
       "      <td>PHASE2</td>\n",
       "      <td>Georgia</td>\n",
       "      <td>30322</td>\n",
       "    </tr>\n",
       "    <tr>\n",
       "      <th>499</th>\n",
       "      <td>NCT03801902</td>\n",
       "      <td>Lung Cancer</td>\n",
       "      <td>Procedure</td>\n",
       "      <td>National Cancer Institute (NCI)</td>\n",
       "      <td>PHASE1</td>\n",
       "      <td>West Virginia</td>\n",
       "      <td>26506</td>\n",
       "    </tr>\n",
       "    <tr>\n",
       "      <th>499</th>\n",
       "      <td>NCT03801902</td>\n",
       "      <td>Lung Cancer</td>\n",
       "      <td>Radiation</td>\n",
       "      <td>National Cancer Institute (NCI)</td>\n",
       "      <td>PHASE1</td>\n",
       "      <td>West Virginia</td>\n",
       "      <td>26506</td>\n",
       "    </tr>\n",
       "    <tr>\n",
       "      <th>499</th>\n",
       "      <td>NCT03801902</td>\n",
       "      <td>Lung Cancer</td>\n",
       "      <td>Biological</td>\n",
       "      <td>National Cancer Institute (NCI)</td>\n",
       "      <td>PHASE1</td>\n",
       "      <td>West Virginia</td>\n",
       "      <td>26506</td>\n",
       "    </tr>\n",
       "  </tbody>\n",
       "</table>\n",
       "</div>"
      ],
      "text/plain": [
       "      NCT Number Major Condition Major Interventions  \\\n",
       "64   NCT03155620    Brain Cancer           Procedure   \n",
       "64   NCT03155620    Brain Cancer              Others   \n",
       "64   NCT03155620    Brain Cancer                Drug   \n",
       "166  NCT04203316    Blood Cancer           Procedure   \n",
       "166  NCT04203316    Blood Cancer                Drug   \n",
       "178  NCT04343157    Brain Cancer           Procedure   \n",
       "178  NCT04343157    Brain Cancer           Radiation   \n",
       "414  NCT04393350   kidney Cancer                Drug   \n",
       "414  NCT04393350   kidney Cancer              Others   \n",
       "414  NCT04393350   kidney Cancer          Biological   \n",
       "499  NCT03801902     Lung Cancer           Procedure   \n",
       "499  NCT03801902     Lung Cancer           Radiation   \n",
       "499  NCT03801902     Lung Cancer          Biological   \n",
       "\n",
       "                             Sponsor  Phases          State Zip Code  \n",
       "64   National Cancer Institute (NCI)  PHASE2       San Juan    00926  \n",
       "64   National Cancer Institute (NCI)  PHASE2       San Juan    00926  \n",
       "64   National Cancer Institute (NCI)  PHASE2       San Juan    00926  \n",
       "166        Children's Oncology Group  PHASE2         Quebec  H3T 1C5  \n",
       "166        Children's Oncology Group  PHASE2         Quebec  H3T 1C5  \n",
       "178            Jona Hattangadi-Gluth  PHASE2     California    92037  \n",
       "178            Jona Hattangadi-Gluth  PHASE2     California    92037  \n",
       "414                 Emory University  PHASE2        Georgia    30322  \n",
       "414                 Emory University  PHASE2        Georgia    30322  \n",
       "414                 Emory University  PHASE2        Georgia    30322  \n",
       "499  National Cancer Institute (NCI)  PHASE1  West Virginia    26506  \n",
       "499  National Cancer Institute (NCI)  PHASE1  West Virginia    26506  \n",
       "499  National Cancer Institute (NCI)  PHASE1  West Virginia    26506  "
      ]
     },
     "execution_count": 27,
     "metadata": {},
     "output_type": "execute_result"
    }
   ],
   "source": [
    "selected_columns = ['NCT Number', 'Major Condition','Major Interventions', 'Sponsor', 'Phases', 'State', 'Zip Code']\n",
    "recruiting_study_location_df = recruiting_studies_df[selected_columns]\n",
    "# Save to CSV\n",
    "recruiting_study_location_df.to_csv('recruiting_location.csv', index=False)\n",
    "recruiting_study_location_df.to_json('recruitinglocation.json', orient='records')\n",
    "recruiting_study_location_df"
   ]
  },
  {
   "cell_type": "markdown",
   "id": "57dd26ee",
   "metadata": {},
   "source": [
    "# Create Data Frame for completed clinical trial location "
   ]
  },
  {
   "cell_type": "code",
   "execution_count": 31,
   "id": "c6885e63",
   "metadata": {},
   "outputs": [
    {
     "data": {
      "text/html": [
       "<div>\n",
       "<style scoped>\n",
       "    .dataframe tbody tr th:only-of-type {\n",
       "        vertical-align: middle;\n",
       "    }\n",
       "\n",
       "    .dataframe tbody tr th {\n",
       "        vertical-align: top;\n",
       "    }\n",
       "\n",
       "    .dataframe thead th {\n",
       "        text-align: right;\n",
       "    }\n",
       "</style>\n",
       "<table border=\"1\" class=\"dataframe\">\n",
       "  <thead>\n",
       "    <tr style=\"text-align: right;\">\n",
       "      <th></th>\n",
       "      <th>NCT Number</th>\n",
       "      <th>Major Condition</th>\n",
       "      <th>Major Interventions</th>\n",
       "      <th>Sponsor</th>\n",
       "      <th>Phases</th>\n",
       "      <th>State</th>\n",
       "      <th>Zip Code</th>\n",
       "    </tr>\n",
       "  </thead>\n",
       "  <tbody>\n",
       "    <tr>\n",
       "      <th>0</th>\n",
       "      <td>NCT02515227</td>\n",
       "      <td>Other</td>\n",
       "      <td>Drug</td>\n",
       "      <td>Craig L Slingluff, Jr</td>\n",
       "      <td>PHASE1</td>\n",
       "      <td>Virginia</td>\n",
       "      <td>22908</td>\n",
       "    </tr>\n",
       "    <tr>\n",
       "      <th>0</th>\n",
       "      <td>NCT02515227</td>\n",
       "      <td>Other</td>\n",
       "      <td>Biological</td>\n",
       "      <td>Craig L Slingluff, Jr</td>\n",
       "      <td>PHASE1</td>\n",
       "      <td>Virginia</td>\n",
       "      <td>22908</td>\n",
       "    </tr>\n",
       "    <tr>\n",
       "      <th>0</th>\n",
       "      <td>NCT02515227</td>\n",
       "      <td>Other</td>\n",
       "      <td>Drug</td>\n",
       "      <td>Craig L Slingluff, Jr</td>\n",
       "      <td>PHASE2</td>\n",
       "      <td>Virginia</td>\n",
       "      <td>22908</td>\n",
       "    </tr>\n",
       "    <tr>\n",
       "      <th>0</th>\n",
       "      <td>NCT02515227</td>\n",
       "      <td>Other</td>\n",
       "      <td>Biological</td>\n",
       "      <td>Craig L Slingluff, Jr</td>\n",
       "      <td>PHASE2</td>\n",
       "      <td>Virginia</td>\n",
       "      <td>22908</td>\n",
       "    </tr>\n",
       "    <tr>\n",
       "      <th>4</th>\n",
       "      <td>NCT03861091</td>\n",
       "      <td>Lung Cancer</td>\n",
       "      <td>Drug</td>\n",
       "      <td>Wake Forest University Health Sciences</td>\n",
       "      <td>PHASE2</td>\n",
       "      <td>North Carolina</td>\n",
       "      <td>27157</td>\n",
       "    </tr>\n",
       "    <tr>\n",
       "      <th>...</th>\n",
       "      <td>...</td>\n",
       "      <td>...</td>\n",
       "      <td>...</td>\n",
       "      <td>...</td>\n",
       "      <td>...</td>\n",
       "      <td>...</td>\n",
       "      <td>...</td>\n",
       "    </tr>\n",
       "    <tr>\n",
       "      <th>714</th>\n",
       "      <td>NCT02166905</td>\n",
       "      <td>Other</td>\n",
       "      <td>Others</td>\n",
       "      <td>Roswell Park Cancer Institute</td>\n",
       "      <td>PHASE1</td>\n",
       "      <td>New York</td>\n",
       "      <td>14263</td>\n",
       "    </tr>\n",
       "    <tr>\n",
       "      <th>714</th>\n",
       "      <td>NCT02166905</td>\n",
       "      <td>Other</td>\n",
       "      <td>Biological</td>\n",
       "      <td>Roswell Park Cancer Institute</td>\n",
       "      <td>PHASE1</td>\n",
       "      <td>New York</td>\n",
       "      <td>14263</td>\n",
       "    </tr>\n",
       "    <tr>\n",
       "      <th>714</th>\n",
       "      <td>NCT02166905</td>\n",
       "      <td>Other</td>\n",
       "      <td>Drug</td>\n",
       "      <td>Roswell Park Cancer Institute</td>\n",
       "      <td>PHASE2</td>\n",
       "      <td>New York</td>\n",
       "      <td>14263</td>\n",
       "    </tr>\n",
       "    <tr>\n",
       "      <th>714</th>\n",
       "      <td>NCT02166905</td>\n",
       "      <td>Other</td>\n",
       "      <td>Others</td>\n",
       "      <td>Roswell Park Cancer Institute</td>\n",
       "      <td>PHASE2</td>\n",
       "      <td>New York</td>\n",
       "      <td>14263</td>\n",
       "    </tr>\n",
       "    <tr>\n",
       "      <th>714</th>\n",
       "      <td>NCT02166905</td>\n",
       "      <td>Other</td>\n",
       "      <td>Biological</td>\n",
       "      <td>Roswell Park Cancer Institute</td>\n",
       "      <td>PHASE2</td>\n",
       "      <td>New York</td>\n",
       "      <td>14263</td>\n",
       "    </tr>\n",
       "  </tbody>\n",
       "</table>\n",
       "<p>599 rows × 7 columns</p>\n",
       "</div>"
      ],
      "text/plain": [
       "      NCT Number Major Condition Major Interventions  \\\n",
       "0    NCT02515227           Other                Drug   \n",
       "0    NCT02515227           Other          Biological   \n",
       "0    NCT02515227           Other                Drug   \n",
       "0    NCT02515227           Other          Biological   \n",
       "4    NCT03861091     Lung Cancer                Drug   \n",
       "..           ...             ...                 ...   \n",
       "714  NCT02166905           Other              Others   \n",
       "714  NCT02166905           Other          Biological   \n",
       "714  NCT02166905           Other                Drug   \n",
       "714  NCT02166905           Other              Others   \n",
       "714  NCT02166905           Other          Biological   \n",
       "\n",
       "                                    Sponsor  Phases           State Zip Code  \n",
       "0                     Craig L Slingluff, Jr  PHASE1        Virginia    22908  \n",
       "0                     Craig L Slingluff, Jr  PHASE1        Virginia    22908  \n",
       "0                     Craig L Slingluff, Jr  PHASE2        Virginia    22908  \n",
       "0                     Craig L Slingluff, Jr  PHASE2        Virginia    22908  \n",
       "4    Wake Forest University Health Sciences  PHASE2  North Carolina    27157  \n",
       "..                                      ...     ...             ...      ...  \n",
       "714           Roswell Park Cancer Institute  PHASE1        New York    14263  \n",
       "714           Roswell Park Cancer Institute  PHASE1        New York    14263  \n",
       "714           Roswell Park Cancer Institute  PHASE2        New York    14263  \n",
       "714           Roswell Park Cancer Institute  PHASE2        New York    14263  \n",
       "714           Roswell Park Cancer Institute  PHASE2        New York    14263  \n",
       "\n",
       "[599 rows x 7 columns]"
      ]
     },
     "execution_count": 31,
     "metadata": {},
     "output_type": "execute_result"
    }
   ],
   "source": [
    "selected_columns = ['NCT Number', 'Major Condition','Major Interventions', 'Sponsor', 'Phases', 'State', 'Zip Code']\n",
    "completed_study_location_df = completed_studies_df[selected_columns]\n",
    "# Save to CSV\n",
    "completed_study_location_df.to_csv('completed_location.csv', index=False)\n",
    "completed_study_location_df.to_json('completedlocation.json', orient='records')\n",
    "completed_study_location_df"
   ]
  },
  {
   "cell_type": "markdown",
   "id": "8f261a9b",
   "metadata": {},
   "source": [
    "# # Create Data Frame for terminated clinical trial location "
   ]
  },
  {
   "cell_type": "code",
   "execution_count": 34,
   "id": "3101c18c",
   "metadata": {},
   "outputs": [
    {
     "data": {
      "text/html": [
       "<div>\n",
       "<style scoped>\n",
       "    .dataframe tbody tr th:only-of-type {\n",
       "        vertical-align: middle;\n",
       "    }\n",
       "\n",
       "    .dataframe tbody tr th {\n",
       "        vertical-align: top;\n",
       "    }\n",
       "\n",
       "    .dataframe thead th {\n",
       "        text-align: right;\n",
       "    }\n",
       "</style>\n",
       "<table border=\"1\" class=\"dataframe\">\n",
       "  <thead>\n",
       "    <tr style=\"text-align: right;\">\n",
       "      <th></th>\n",
       "      <th>NCT Number</th>\n",
       "      <th>Major Condition</th>\n",
       "      <th>Major Interventions</th>\n",
       "      <th>Sponsor</th>\n",
       "      <th>Phases</th>\n",
       "      <th>State</th>\n",
       "      <th>Zip Code</th>\n",
       "    </tr>\n",
       "  </thead>\n",
       "  <tbody>\n",
       "    <tr>\n",
       "      <th>1</th>\n",
       "      <td>NCT03531827</td>\n",
       "      <td>Prostate Cancer</td>\n",
       "      <td>Drug</td>\n",
       "      <td>National Cancer Institute (NCI)</td>\n",
       "      <td>PHASE2</td>\n",
       "      <td>Maryland</td>\n",
       "      <td>20892</td>\n",
       "    </tr>\n",
       "    <tr>\n",
       "      <th>9</th>\n",
       "      <td>NCT03190967</td>\n",
       "      <td>Brain Cancer</td>\n",
       "      <td>Drug</td>\n",
       "      <td>National Cancer Institute (NCI)</td>\n",
       "      <td>PHASE1</td>\n",
       "      <td>Maryland</td>\n",
       "      <td>20892</td>\n",
       "    </tr>\n",
       "    <tr>\n",
       "      <th>9</th>\n",
       "      <td>NCT03190967</td>\n",
       "      <td>Brain Cancer</td>\n",
       "      <td>Drug</td>\n",
       "      <td>National Cancer Institute (NCI)</td>\n",
       "      <td>PHASE2</td>\n",
       "      <td>Maryland</td>\n",
       "      <td>20892</td>\n",
       "    </tr>\n",
       "    <tr>\n",
       "      <th>11</th>\n",
       "      <td>NCT02565901</td>\n",
       "      <td>Prostate Cancer</td>\n",
       "      <td>Drug</td>\n",
       "      <td>University of Washington</td>\n",
       "      <td>PHASE1</td>\n",
       "      <td>Washington</td>\n",
       "      <td>98109</td>\n",
       "    </tr>\n",
       "    <tr>\n",
       "      <th>11</th>\n",
       "      <td>NCT02565901</td>\n",
       "      <td>Prostate Cancer</td>\n",
       "      <td>Others</td>\n",
       "      <td>University of Washington</td>\n",
       "      <td>PHASE1</td>\n",
       "      <td>Washington</td>\n",
       "      <td>98109</td>\n",
       "    </tr>\n",
       "    <tr>\n",
       "      <th>...</th>\n",
       "      <td>...</td>\n",
       "      <td>...</td>\n",
       "      <td>...</td>\n",
       "      <td>...</td>\n",
       "      <td>...</td>\n",
       "      <td>...</td>\n",
       "      <td>...</td>\n",
       "    </tr>\n",
       "    <tr>\n",
       "      <th>678</th>\n",
       "      <td>NCT04088188</td>\n",
       "      <td>Other</td>\n",
       "      <td>Drug</td>\n",
       "      <td>Academic and Community Cancer Research United</td>\n",
       "      <td>PHASE1</td>\n",
       "      <td>Wisconsin</td>\n",
       "      <td>53226</td>\n",
       "    </tr>\n",
       "    <tr>\n",
       "      <th>681</th>\n",
       "      <td>NCT02332928</td>\n",
       "      <td>Other</td>\n",
       "      <td>Drug</td>\n",
       "      <td>Virginia Commonwealth University</td>\n",
       "      <td>PHASE3</td>\n",
       "      <td>Virginia</td>\n",
       "      <td>23298</td>\n",
       "    </tr>\n",
       "    <tr>\n",
       "      <th>683</th>\n",
       "      <td>NCT02899728</td>\n",
       "      <td>Lung Cancer</td>\n",
       "      <td>Drug</td>\n",
       "      <td>National Cancer Institute (NCI)</td>\n",
       "      <td>PHASE2</td>\n",
       "      <td>Virginia</td>\n",
       "      <td>23298</td>\n",
       "    </tr>\n",
       "    <tr>\n",
       "      <th>702</th>\n",
       "      <td>NCT04616547</td>\n",
       "      <td>Lung Cancer</td>\n",
       "      <td>Radiation</td>\n",
       "      <td>National Cancer Institute (NCI)</td>\n",
       "      <td>PHASE2</td>\n",
       "      <td>Kentucky</td>\n",
       "      <td>40536</td>\n",
       "    </tr>\n",
       "    <tr>\n",
       "      <th>702</th>\n",
       "      <td>NCT04616547</td>\n",
       "      <td>Lung Cancer</td>\n",
       "      <td>Others</td>\n",
       "      <td>National Cancer Institute (NCI)</td>\n",
       "      <td>PHASE2</td>\n",
       "      <td>Kentucky</td>\n",
       "      <td>40536</td>\n",
       "    </tr>\n",
       "  </tbody>\n",
       "</table>\n",
       "<p>384 rows × 7 columns</p>\n",
       "</div>"
      ],
      "text/plain": [
       "      NCT Number  Major Condition Major Interventions  \\\n",
       "1    NCT03531827  Prostate Cancer                Drug   \n",
       "9    NCT03190967     Brain Cancer                Drug   \n",
       "9    NCT03190967     Brain Cancer                Drug   \n",
       "11   NCT02565901  Prostate Cancer                Drug   \n",
       "11   NCT02565901  Prostate Cancer              Others   \n",
       "..           ...              ...                 ...   \n",
       "678  NCT04088188            Other                Drug   \n",
       "681  NCT02332928            Other                Drug   \n",
       "683  NCT02899728      Lung Cancer                Drug   \n",
       "702  NCT04616547      Lung Cancer           Radiation   \n",
       "702  NCT04616547      Lung Cancer              Others   \n",
       "\n",
       "                                           Sponsor  Phases       State  \\\n",
       "1                  National Cancer Institute (NCI)  PHASE2    Maryland   \n",
       "9                  National Cancer Institute (NCI)  PHASE1    Maryland   \n",
       "9                  National Cancer Institute (NCI)  PHASE2    Maryland   \n",
       "11                        University of Washington  PHASE1  Washington   \n",
       "11                        University of Washington  PHASE1  Washington   \n",
       "..                                             ...     ...         ...   \n",
       "678  Academic and Community Cancer Research United  PHASE1   Wisconsin   \n",
       "681               Virginia Commonwealth University  PHASE3    Virginia   \n",
       "683                National Cancer Institute (NCI)  PHASE2    Virginia   \n",
       "702                National Cancer Institute (NCI)  PHASE2    Kentucky   \n",
       "702                National Cancer Institute (NCI)  PHASE2    Kentucky   \n",
       "\n",
       "    Zip Code  \n",
       "1      20892  \n",
       "9      20892  \n",
       "9      20892  \n",
       "11     98109  \n",
       "11     98109  \n",
       "..       ...  \n",
       "678    53226  \n",
       "681    23298  \n",
       "683    23298  \n",
       "702    40536  \n",
       "702    40536  \n",
       "\n",
       "[384 rows x 7 columns]"
      ]
     },
     "execution_count": 34,
     "metadata": {},
     "output_type": "execute_result"
    }
   ],
   "source": [
    "selected_columns = ['NCT Number', 'Major Condition','Major Interventions', 'Sponsor', 'Phases', 'State', 'Zip Code']\n",
    "terminated_study_location_df = terminated_studies_df[selected_columns]\n",
    "# Save to CSV\n",
    "terminated_study_location_df.to_csv('terminated_location.csv', index=False)\n",
    "terminated_study_location_df.to_json('terminatedlocation.json', orient='records')\n",
    "terminated_study_location_df"
   ]
  },
  {
   "cell_type": "markdown",
   "id": "592c0da4",
   "metadata": {},
   "source": [
    "# Trends in Clinical Trials Over the Last Decade\n"
   ]
  },
  {
   "cell_type": "code",
   "execution_count": 36,
   "id": "bc4d8703",
   "metadata": {},
   "outputs": [
    {
     "name": "stderr",
     "output_type": "stream",
     "text": [
      "/opt/anaconda3/lib/python3.11/site-packages/_plotly_utils/basevalidators.py:106: FutureWarning:\n",
      "\n",
      "The behavior of DatetimeProperties.to_pydatetime is deprecated, in a future version this will return a Series containing python datetime objects instead of an ndarray. To retain the old behavior, call `np.array` on the result\n",
      "\n",
      "/opt/anaconda3/lib/python3.11/site-packages/_plotly_utils/basevalidators.py:106: FutureWarning:\n",
      "\n",
      "The behavior of DatetimeProperties.to_pydatetime is deprecated, in a future version this will return a Series containing python datetime objects instead of an ndarray. To retain the old behavior, call `np.array` on the result\n",
      "\n",
      "/opt/anaconda3/lib/python3.11/site-packages/_plotly_utils/basevalidators.py:106: FutureWarning:\n",
      "\n",
      "The behavior of DatetimeProperties.to_pydatetime is deprecated, in a future version this will return a Series containing python datetime objects instead of an ndarray. To retain the old behavior, call `np.array` on the result\n",
      "\n",
      "/opt/anaconda3/lib/python3.11/site-packages/_plotly_utils/basevalidators.py:106: FutureWarning:\n",
      "\n",
      "The behavior of DatetimeProperties.to_pydatetime is deprecated, in a future version this will return a Series containing python datetime objects instead of an ndarray. To retain the old behavior, call `np.array` on the result\n",
      "\n"
     ]
    },
    {
     "data": {
      "application/vnd.plotly.v1+json": {
       "config": {
        "plotlyServerURL": "https://plot.ly"
       },
       "data": [
        {
         "marker": {
          "color": "aquamarine"
         },
         "mode": "lines",
         "name": "RECRUITING",
         "type": "scatter",
         "x": [
          "2017-07-01T00:00:00",
          "2019-05-01T00:00:00",
          "2019-10-01T00:00:00",
          "2020-06-01T00:00:00",
          "2023-08-01T00:00:00"
         ],
         "y": [
          null,
          null,
          null,
          null,
          null
         ]
        },
        {
         "marker": {
          "color": "coral"
         },
         "mode": "lines",
         "name": "ACTIVE_NOT_RECRUITING",
         "type": "scatter",
         "x": [
          "2014-07-01T00:00:00",
          "2014-08-01T00:00:00",
          "2014-09-01T00:00:00",
          "2014-10-01T00:00:00",
          "2014-12-01T00:00:00",
          "2015-01-01T00:00:00",
          "2015-03-01T00:00:00",
          "2015-04-01T00:00:00",
          "2015-05-01T00:00:00",
          "2015-06-01T00:00:00",
          "2015-07-01T00:00:00",
          "2015-08-01T00:00:00",
          "2015-10-01T00:00:00",
          "2015-11-01T00:00:00",
          "2015-12-01T00:00:00",
          "2016-01-01T00:00:00",
          "2016-02-01T00:00:00",
          "2016-03-01T00:00:00",
          "2016-04-01T00:00:00",
          "2016-05-01T00:00:00",
          "2016-06-01T00:00:00",
          "2016-07-01T00:00:00",
          "2016-08-01T00:00:00",
          "2016-09-01T00:00:00",
          "2016-10-01T00:00:00",
          "2017-01-01T00:00:00",
          "2017-02-01T00:00:00",
          "2017-03-01T00:00:00",
          "2017-04-01T00:00:00",
          "2017-05-01T00:00:00",
          "2017-06-01T00:00:00",
          "2017-07-01T00:00:00",
          "2017-08-01T00:00:00",
          "2017-09-01T00:00:00",
          "2017-10-01T00:00:00",
          "2017-11-01T00:00:00",
          "2017-12-01T00:00:00",
          "2018-01-01T00:00:00",
          "2018-03-01T00:00:00",
          "2018-04-01T00:00:00",
          "2018-05-01T00:00:00",
          "2018-06-01T00:00:00",
          "2018-07-01T00:00:00",
          "2018-08-01T00:00:00",
          "2018-09-01T00:00:00",
          "2018-10-01T00:00:00",
          "2018-11-01T00:00:00",
          "2018-12-01T00:00:00",
          "2019-01-01T00:00:00",
          "2019-02-01T00:00:00",
          "2019-03-01T00:00:00",
          "2019-04-01T00:00:00",
          "2019-05-01T00:00:00",
          "2019-06-01T00:00:00",
          "2019-07-01T00:00:00",
          "2019-08-01T00:00:00",
          "2019-09-01T00:00:00",
          "2019-10-01T00:00:00",
          "2019-11-01T00:00:00",
          "2019-12-01T00:00:00",
          "2020-01-01T00:00:00",
          "2020-02-01T00:00:00",
          "2020-03-01T00:00:00",
          "2020-04-01T00:00:00",
          "2020-06-01T00:00:00",
          "2020-08-01T00:00:00",
          "2020-09-01T00:00:00",
          "2020-10-01T00:00:00",
          "2020-11-01T00:00:00",
          "2021-03-01T00:00:00",
          "2021-06-01T00:00:00",
          "2021-08-01T00:00:00"
         ],
         "y": [
          null,
          null,
          null,
          2.3333333333333335,
          2.3333333333333335,
          2.5,
          3.1666666666666665,
          3,
          2.5,
          3.8333333333333335,
          3.8333333333333335,
          3.8333333333333335,
          3.5,
          3.6666666666666665,
          4.166666666666667,
          3.1666666666666665,
          3.3333333333333335,
          4.166666666666667,
          4.333333333333333,
          4.333333333333333,
          4.333333333333333,
          4.166666666666667,
          4,
          3,
          2.6666666666666665,
          2.6666666666666665,
          2.3333333333333335,
          2.8333333333333335,
          3.1666666666666665,
          3.8333333333333335,
          4.5,
          4.166666666666667,
          4.333333333333333,
          4.5,
          4.333333333333333,
          4.166666666666667,
          3.3333333333333335,
          3.3333333333333335,
          2.8333333333333335,
          2.3333333333333335,
          2.3333333333333335,
          2.5,
          3,
          3,
          3.3333333333333335,
          3.1666666666666665,
          2.8333333333333335,
          2.1666666666666665,
          1.6666666666666667,
          1.5,
          1.1666666666666667,
          1,
          1,
          1.5,
          1.6666666666666667,
          1.8333333333333333,
          1.8333333333333333,
          2,
          2.1666666666666665,
          1.6666666666666667,
          1.5,
          1.6666666666666667,
          1.8333333333333333,
          1.8333333333333333,
          1.8333333333333333,
          1.8333333333333333,
          1.8333333333333333,
          1.6666666666666667,
          1.5,
          1.3333333333333333,
          null,
          null
         ]
        },
        {
         "marker": {
          "color": "purple"
         },
         "mode": "lines",
         "name": "COMPLETED",
         "type": "scatter",
         "x": [
          "2014-08-01T00:00:00",
          "2014-10-01T00:00:00",
          "2014-11-01T00:00:00",
          "2014-12-01T00:00:00",
          "2015-01-01T00:00:00",
          "2015-02-01T00:00:00",
          "2015-03-01T00:00:00",
          "2015-04-01T00:00:00",
          "2015-05-01T00:00:00",
          "2015-06-01T00:00:00",
          "2015-07-01T00:00:00",
          "2015-08-01T00:00:00",
          "2015-09-01T00:00:00",
          "2015-10-01T00:00:00",
          "2015-11-01T00:00:00",
          "2015-12-01T00:00:00",
          "2016-01-01T00:00:00",
          "2016-02-01T00:00:00",
          "2016-03-01T00:00:00",
          "2016-04-01T00:00:00",
          "2016-05-01T00:00:00",
          "2016-06-01T00:00:00",
          "2016-07-01T00:00:00",
          "2016-08-01T00:00:00",
          "2016-09-01T00:00:00",
          "2016-10-01T00:00:00",
          "2016-11-01T00:00:00",
          "2016-12-01T00:00:00",
          "2017-01-01T00:00:00",
          "2017-02-01T00:00:00",
          "2017-03-01T00:00:00",
          "2017-04-01T00:00:00",
          "2017-05-01T00:00:00",
          "2017-06-01T00:00:00",
          "2017-07-01T00:00:00",
          "2017-08-01T00:00:00",
          "2017-09-01T00:00:00",
          "2017-10-01T00:00:00",
          "2017-11-01T00:00:00",
          "2017-12-01T00:00:00",
          "2018-01-01T00:00:00",
          "2018-02-01T00:00:00",
          "2018-03-01T00:00:00",
          "2018-04-01T00:00:00",
          "2018-05-01T00:00:00",
          "2018-06-01T00:00:00",
          "2018-07-01T00:00:00",
          "2018-08-01T00:00:00",
          "2018-09-01T00:00:00",
          "2018-10-01T00:00:00",
          "2018-11-01T00:00:00",
          "2018-12-01T00:00:00",
          "2019-01-01T00:00:00",
          "2019-02-01T00:00:00",
          "2019-03-01T00:00:00",
          "2019-04-01T00:00:00",
          "2019-05-01T00:00:00",
          "2019-06-01T00:00:00",
          "2019-07-01T00:00:00",
          "2019-08-01T00:00:00",
          "2019-09-01T00:00:00",
          "2019-11-01T00:00:00",
          "2019-12-01T00:00:00",
          "2020-02-01T00:00:00",
          "2020-03-01T00:00:00",
          "2020-06-01T00:00:00",
          "2020-08-01T00:00:00",
          "2020-09-01T00:00:00",
          "2020-10-01T00:00:00",
          "2020-11-01T00:00:00",
          "2020-12-01T00:00:00",
          "2021-01-01T00:00:00",
          "2021-02-01T00:00:00",
          "2021-03-01T00:00:00",
          "2021-04-01T00:00:00"
         ],
         "y": [
          null,
          null,
          null,
          3.3333333333333335,
          3.8333333333333335,
          3.8333333333333335,
          3.8333333333333335,
          4,
          4.166666666666667,
          4,
          3.5,
          2.8333333333333335,
          3,
          3.3333333333333335,
          3.6666666666666665,
          3.8333333333333335,
          3.8333333333333335,
          4,
          4,
          4.333333333333333,
          4.166666666666667,
          4.166666666666667,
          4.5,
          4.666666666666667,
          4.333333333333333,
          4.5,
          4.666666666666667,
          4.833333333333333,
          5.833333333333333,
          5.666666666666667,
          6.666666666666667,
          6.5,
          6.5,
          6.166666666666667,
          5.166666666666667,
          6.166666666666667,
          5.666666666666667,
          5.333333333333333,
          5.666666666666667,
          6.166666666666667,
          5.833333333333333,
          4.5,
          4,
          4.166666666666667,
          3.8333333333333335,
          3.1666666666666665,
          2.8333333333333335,
          3,
          3,
          2.5,
          2.3333333333333335,
          2.1666666666666665,
          2.3333333333333335,
          2.5,
          2.1666666666666665,
          2.3333333333333335,
          2.1666666666666665,
          2.5,
          2.6666666666666665,
          2.6666666666666665,
          2.6666666666666665,
          2.5,
          2.5,
          2.1666666666666665,
          1.8333333333333333,
          1.6666666666666667,
          1.8333333333333333,
          1.8333333333333333,
          1.8333333333333333,
          2,
          2,
          1.8333333333333333,
          2.1666666666666665,
          null,
          null
         ]
        },
        {
         "marker": {
          "color": "olive"
         },
         "mode": "lines",
         "name": "TERMINATED",
         "type": "scatter",
         "x": [
          "2014-07-01T00:00:00",
          "2014-08-01T00:00:00",
          "2014-09-01T00:00:00",
          "2014-10-01T00:00:00",
          "2014-11-01T00:00:00",
          "2014-12-01T00:00:00",
          "2015-01-01T00:00:00",
          "2015-02-01T00:00:00",
          "2015-03-01T00:00:00",
          "2015-04-01T00:00:00",
          "2015-05-01T00:00:00",
          "2015-06-01T00:00:00",
          "2015-07-01T00:00:00",
          "2015-08-01T00:00:00",
          "2015-11-01T00:00:00",
          "2016-02-01T00:00:00",
          "2016-03-01T00:00:00",
          "2016-04-01T00:00:00",
          "2016-05-01T00:00:00",
          "2016-06-01T00:00:00",
          "2016-08-01T00:00:00",
          "2016-09-01T00:00:00",
          "2016-10-01T00:00:00",
          "2016-11-01T00:00:00",
          "2016-12-01T00:00:00",
          "2017-01-01T00:00:00",
          "2017-02-01T00:00:00",
          "2017-03-01T00:00:00",
          "2017-04-01T00:00:00",
          "2017-05-01T00:00:00",
          "2017-06-01T00:00:00",
          "2017-07-01T00:00:00",
          "2017-08-01T00:00:00",
          "2017-09-01T00:00:00",
          "2017-10-01T00:00:00",
          "2017-11-01T00:00:00",
          "2017-12-01T00:00:00",
          "2018-01-01T00:00:00",
          "2018-02-01T00:00:00",
          "2018-03-01T00:00:00",
          "2018-04-01T00:00:00",
          "2018-05-01T00:00:00",
          "2018-08-01T00:00:00",
          "2018-09-01T00:00:00",
          "2018-10-01T00:00:00",
          "2018-11-01T00:00:00",
          "2018-12-01T00:00:00",
          "2019-02-01T00:00:00",
          "2019-03-01T00:00:00",
          "2019-04-01T00:00:00",
          "2019-05-01T00:00:00",
          "2019-07-01T00:00:00",
          "2019-08-01T00:00:00",
          "2019-09-01T00:00:00",
          "2019-10-01T00:00:00",
          "2019-11-01T00:00:00",
          "2019-12-01T00:00:00",
          "2020-01-01T00:00:00",
          "2020-02-01T00:00:00",
          "2020-03-01T00:00:00",
          "2020-04-01T00:00:00",
          "2020-05-01T00:00:00",
          "2020-06-01T00:00:00",
          "2020-07-01T00:00:00",
          "2020-08-01T00:00:00",
          "2020-10-01T00:00:00",
          "2020-11-01T00:00:00",
          "2020-12-01T00:00:00",
          "2021-01-01T00:00:00",
          "2021-02-01T00:00:00",
          "2021-03-01T00:00:00",
          "2021-05-01T00:00:00",
          "2021-06-01T00:00:00",
          "2021-12-01T00:00:00",
          "2022-02-01T00:00:00",
          "2022-03-01T00:00:00",
          "2022-05-01T00:00:00",
          "2022-11-01T00:00:00"
         ],
         "y": [
          null,
          null,
          null,
          1,
          1,
          1,
          1.1666666666666667,
          1.3333333333333333,
          1.3333333333333333,
          1.6666666666666667,
          2,
          2.1666666666666665,
          2.3333333333333335,
          2.3333333333333335,
          2.5,
          2.1666666666666665,
          1.8333333333333333,
          2,
          1.8333333333333333,
          1.6666666666666667,
          1.8333333333333333,
          1.8333333333333333,
          2.1666666666666665,
          1.8333333333333333,
          2,
          3.1666666666666665,
          3.3333333333333335,
          3.8333333333333335,
          3.5,
          3.8333333333333335,
          4,
          3.1666666666666665,
          2.8333333333333335,
          2.8333333333333335,
          3.1666666666666665,
          3,
          2.6666666666666665,
          3,
          3.1666666666666665,
          3.3333333333333335,
          3.1666666666666665,
          3.1666666666666665,
          3,
          2.6666666666666665,
          2.6666666666666665,
          2.3333333333333335,
          2.6666666666666665,
          2.8333333333333335,
          3,
          3.1666666666666665,
          3,
          2.6666666666666665,
          2.3333333333333335,
          2.1666666666666665,
          2,
          1.6666666666666667,
          1.8333333333333333,
          1.8333333333333333,
          1.6666666666666667,
          1.6666666666666667,
          1.6666666666666667,
          1.6666666666666667,
          1.3333333333333333,
          2,
          2.1666666666666665,
          2,
          2.3333333333333335,
          2.1666666666666665,
          2.1666666666666665,
          1.6666666666666667,
          1.6666666666666667,
          1.8333333333333333,
          1.5,
          1.5,
          1.5,
          1.3333333333333333,
          null,
          null
         ]
        }
       ],
       "layout": {
        "template": {
         "data": {
          "bar": [
           {
            "error_x": {
             "color": "#2a3f5f"
            },
            "error_y": {
             "color": "#2a3f5f"
            },
            "marker": {
             "line": {
              "color": "white",
              "width": 0.5
             },
             "pattern": {
              "fillmode": "overlay",
              "size": 10,
              "solidity": 0.2
             }
            },
            "type": "bar"
           }
          ],
          "barpolar": [
           {
            "marker": {
             "line": {
              "color": "white",
              "width": 0.5
             },
             "pattern": {
              "fillmode": "overlay",
              "size": 10,
              "solidity": 0.2
             }
            },
            "type": "barpolar"
           }
          ],
          "carpet": [
           {
            "aaxis": {
             "endlinecolor": "#2a3f5f",
             "gridcolor": "#C8D4E3",
             "linecolor": "#C8D4E3",
             "minorgridcolor": "#C8D4E3",
             "startlinecolor": "#2a3f5f"
            },
            "baxis": {
             "endlinecolor": "#2a3f5f",
             "gridcolor": "#C8D4E3",
             "linecolor": "#C8D4E3",
             "minorgridcolor": "#C8D4E3",
             "startlinecolor": "#2a3f5f"
            },
            "type": "carpet"
           }
          ],
          "choropleth": [
           {
            "colorbar": {
             "outlinewidth": 0,
             "ticks": ""
            },
            "type": "choropleth"
           }
          ],
          "contour": [
           {
            "colorbar": {
             "outlinewidth": 0,
             "ticks": ""
            },
            "colorscale": [
             [
              0,
              "#0d0887"
             ],
             [
              0.1111111111111111,
              "#46039f"
             ],
             [
              0.2222222222222222,
              "#7201a8"
             ],
             [
              0.3333333333333333,
              "#9c179e"
             ],
             [
              0.4444444444444444,
              "#bd3786"
             ],
             [
              0.5555555555555556,
              "#d8576b"
             ],
             [
              0.6666666666666666,
              "#ed7953"
             ],
             [
              0.7777777777777778,
              "#fb9f3a"
             ],
             [
              0.8888888888888888,
              "#fdca26"
             ],
             [
              1,
              "#f0f921"
             ]
            ],
            "type": "contour"
           }
          ],
          "contourcarpet": [
           {
            "colorbar": {
             "outlinewidth": 0,
             "ticks": ""
            },
            "type": "contourcarpet"
           }
          ],
          "heatmap": [
           {
            "colorbar": {
             "outlinewidth": 0,
             "ticks": ""
            },
            "colorscale": [
             [
              0,
              "#0d0887"
             ],
             [
              0.1111111111111111,
              "#46039f"
             ],
             [
              0.2222222222222222,
              "#7201a8"
             ],
             [
              0.3333333333333333,
              "#9c179e"
             ],
             [
              0.4444444444444444,
              "#bd3786"
             ],
             [
              0.5555555555555556,
              "#d8576b"
             ],
             [
              0.6666666666666666,
              "#ed7953"
             ],
             [
              0.7777777777777778,
              "#fb9f3a"
             ],
             [
              0.8888888888888888,
              "#fdca26"
             ],
             [
              1,
              "#f0f921"
             ]
            ],
            "type": "heatmap"
           }
          ],
          "heatmapgl": [
           {
            "colorbar": {
             "outlinewidth": 0,
             "ticks": ""
            },
            "colorscale": [
             [
              0,
              "#0d0887"
             ],
             [
              0.1111111111111111,
              "#46039f"
             ],
             [
              0.2222222222222222,
              "#7201a8"
             ],
             [
              0.3333333333333333,
              "#9c179e"
             ],
             [
              0.4444444444444444,
              "#bd3786"
             ],
             [
              0.5555555555555556,
              "#d8576b"
             ],
             [
              0.6666666666666666,
              "#ed7953"
             ],
             [
              0.7777777777777778,
              "#fb9f3a"
             ],
             [
              0.8888888888888888,
              "#fdca26"
             ],
             [
              1,
              "#f0f921"
             ]
            ],
            "type": "heatmapgl"
           }
          ],
          "histogram": [
           {
            "marker": {
             "pattern": {
              "fillmode": "overlay",
              "size": 10,
              "solidity": 0.2
             }
            },
            "type": "histogram"
           }
          ],
          "histogram2d": [
           {
            "colorbar": {
             "outlinewidth": 0,
             "ticks": ""
            },
            "colorscale": [
             [
              0,
              "#0d0887"
             ],
             [
              0.1111111111111111,
              "#46039f"
             ],
             [
              0.2222222222222222,
              "#7201a8"
             ],
             [
              0.3333333333333333,
              "#9c179e"
             ],
             [
              0.4444444444444444,
              "#bd3786"
             ],
             [
              0.5555555555555556,
              "#d8576b"
             ],
             [
              0.6666666666666666,
              "#ed7953"
             ],
             [
              0.7777777777777778,
              "#fb9f3a"
             ],
             [
              0.8888888888888888,
              "#fdca26"
             ],
             [
              1,
              "#f0f921"
             ]
            ],
            "type": "histogram2d"
           }
          ],
          "histogram2dcontour": [
           {
            "colorbar": {
             "outlinewidth": 0,
             "ticks": ""
            },
            "colorscale": [
             [
              0,
              "#0d0887"
             ],
             [
              0.1111111111111111,
              "#46039f"
             ],
             [
              0.2222222222222222,
              "#7201a8"
             ],
             [
              0.3333333333333333,
              "#9c179e"
             ],
             [
              0.4444444444444444,
              "#bd3786"
             ],
             [
              0.5555555555555556,
              "#d8576b"
             ],
             [
              0.6666666666666666,
              "#ed7953"
             ],
             [
              0.7777777777777778,
              "#fb9f3a"
             ],
             [
              0.8888888888888888,
              "#fdca26"
             ],
             [
              1,
              "#f0f921"
             ]
            ],
            "type": "histogram2dcontour"
           }
          ],
          "mesh3d": [
           {
            "colorbar": {
             "outlinewidth": 0,
             "ticks": ""
            },
            "type": "mesh3d"
           }
          ],
          "parcoords": [
           {
            "line": {
             "colorbar": {
              "outlinewidth": 0,
              "ticks": ""
             }
            },
            "type": "parcoords"
           }
          ],
          "pie": [
           {
            "automargin": true,
            "type": "pie"
           }
          ],
          "scatter": [
           {
            "fillpattern": {
             "fillmode": "overlay",
             "size": 10,
             "solidity": 0.2
            },
            "type": "scatter"
           }
          ],
          "scatter3d": [
           {
            "line": {
             "colorbar": {
              "outlinewidth": 0,
              "ticks": ""
             }
            },
            "marker": {
             "colorbar": {
              "outlinewidth": 0,
              "ticks": ""
             }
            },
            "type": "scatter3d"
           }
          ],
          "scattercarpet": [
           {
            "marker": {
             "colorbar": {
              "outlinewidth": 0,
              "ticks": ""
             }
            },
            "type": "scattercarpet"
           }
          ],
          "scattergeo": [
           {
            "marker": {
             "colorbar": {
              "outlinewidth": 0,
              "ticks": ""
             }
            },
            "type": "scattergeo"
           }
          ],
          "scattergl": [
           {
            "marker": {
             "colorbar": {
              "outlinewidth": 0,
              "ticks": ""
             }
            },
            "type": "scattergl"
           }
          ],
          "scattermapbox": [
           {
            "marker": {
             "colorbar": {
              "outlinewidth": 0,
              "ticks": ""
             }
            },
            "type": "scattermapbox"
           }
          ],
          "scatterpolar": [
           {
            "marker": {
             "colorbar": {
              "outlinewidth": 0,
              "ticks": ""
             }
            },
            "type": "scatterpolar"
           }
          ],
          "scatterpolargl": [
           {
            "marker": {
             "colorbar": {
              "outlinewidth": 0,
              "ticks": ""
             }
            },
            "type": "scatterpolargl"
           }
          ],
          "scatterternary": [
           {
            "marker": {
             "colorbar": {
              "outlinewidth": 0,
              "ticks": ""
             }
            },
            "type": "scatterternary"
           }
          ],
          "surface": [
           {
            "colorbar": {
             "outlinewidth": 0,
             "ticks": ""
            },
            "colorscale": [
             [
              0,
              "#0d0887"
             ],
             [
              0.1111111111111111,
              "#46039f"
             ],
             [
              0.2222222222222222,
              "#7201a8"
             ],
             [
              0.3333333333333333,
              "#9c179e"
             ],
             [
              0.4444444444444444,
              "#bd3786"
             ],
             [
              0.5555555555555556,
              "#d8576b"
             ],
             [
              0.6666666666666666,
              "#ed7953"
             ],
             [
              0.7777777777777778,
              "#fb9f3a"
             ],
             [
              0.8888888888888888,
              "#fdca26"
             ],
             [
              1,
              "#f0f921"
             ]
            ],
            "type": "surface"
           }
          ],
          "table": [
           {
            "cells": {
             "fill": {
              "color": "#EBF0F8"
             },
             "line": {
              "color": "white"
             }
            },
            "header": {
             "fill": {
              "color": "#C8D4E3"
             },
             "line": {
              "color": "white"
             }
            },
            "type": "table"
           }
          ]
         },
         "layout": {
          "annotationdefaults": {
           "arrowcolor": "#2a3f5f",
           "arrowhead": 0,
           "arrowwidth": 1
          },
          "autotypenumbers": "strict",
          "coloraxis": {
           "colorbar": {
            "outlinewidth": 0,
            "ticks": ""
           }
          },
          "colorscale": {
           "diverging": [
            [
             0,
             "#8e0152"
            ],
            [
             0.1,
             "#c51b7d"
            ],
            [
             0.2,
             "#de77ae"
            ],
            [
             0.3,
             "#f1b6da"
            ],
            [
             0.4,
             "#fde0ef"
            ],
            [
             0.5,
             "#f7f7f7"
            ],
            [
             0.6,
             "#e6f5d0"
            ],
            [
             0.7,
             "#b8e186"
            ],
            [
             0.8,
             "#7fbc41"
            ],
            [
             0.9,
             "#4d9221"
            ],
            [
             1,
             "#276419"
            ]
           ],
           "sequential": [
            [
             0,
             "#0d0887"
            ],
            [
             0.1111111111111111,
             "#46039f"
            ],
            [
             0.2222222222222222,
             "#7201a8"
            ],
            [
             0.3333333333333333,
             "#9c179e"
            ],
            [
             0.4444444444444444,
             "#bd3786"
            ],
            [
             0.5555555555555556,
             "#d8576b"
            ],
            [
             0.6666666666666666,
             "#ed7953"
            ],
            [
             0.7777777777777778,
             "#fb9f3a"
            ],
            [
             0.8888888888888888,
             "#fdca26"
            ],
            [
             1,
             "#f0f921"
            ]
           ],
           "sequentialminus": [
            [
             0,
             "#0d0887"
            ],
            [
             0.1111111111111111,
             "#46039f"
            ],
            [
             0.2222222222222222,
             "#7201a8"
            ],
            [
             0.3333333333333333,
             "#9c179e"
            ],
            [
             0.4444444444444444,
             "#bd3786"
            ],
            [
             0.5555555555555556,
             "#d8576b"
            ],
            [
             0.6666666666666666,
             "#ed7953"
            ],
            [
             0.7777777777777778,
             "#fb9f3a"
            ],
            [
             0.8888888888888888,
             "#fdca26"
            ],
            [
             1,
             "#f0f921"
            ]
           ]
          },
          "colorway": [
           "#636efa",
           "#EF553B",
           "#00cc96",
           "#ab63fa",
           "#FFA15A",
           "#19d3f3",
           "#FF6692",
           "#B6E880",
           "#FF97FF",
           "#FECB52"
          ],
          "font": {
           "color": "#2a3f5f"
          },
          "geo": {
           "bgcolor": "white",
           "lakecolor": "white",
           "landcolor": "white",
           "showlakes": true,
           "showland": true,
           "subunitcolor": "#C8D4E3"
          },
          "hoverlabel": {
           "align": "left"
          },
          "hovermode": "closest",
          "mapbox": {
           "style": "light"
          },
          "paper_bgcolor": "white",
          "plot_bgcolor": "white",
          "polar": {
           "angularaxis": {
            "gridcolor": "#EBF0F8",
            "linecolor": "#EBF0F8",
            "ticks": ""
           },
           "bgcolor": "white",
           "radialaxis": {
            "gridcolor": "#EBF0F8",
            "linecolor": "#EBF0F8",
            "ticks": ""
           }
          },
          "scene": {
           "xaxis": {
            "backgroundcolor": "white",
            "gridcolor": "#DFE8F3",
            "gridwidth": 2,
            "linecolor": "#EBF0F8",
            "showbackground": true,
            "ticks": "",
            "zerolinecolor": "#EBF0F8"
           },
           "yaxis": {
            "backgroundcolor": "white",
            "gridcolor": "#DFE8F3",
            "gridwidth": 2,
            "linecolor": "#EBF0F8",
            "showbackground": true,
            "ticks": "",
            "zerolinecolor": "#EBF0F8"
           },
           "zaxis": {
            "backgroundcolor": "white",
            "gridcolor": "#DFE8F3",
            "gridwidth": 2,
            "linecolor": "#EBF0F8",
            "showbackground": true,
            "ticks": "",
            "zerolinecolor": "#EBF0F8"
           }
          },
          "shapedefaults": {
           "line": {
            "color": "#2a3f5f"
           }
          },
          "ternary": {
           "aaxis": {
            "gridcolor": "#DFE8F3",
            "linecolor": "#A2B1C6",
            "ticks": ""
           },
           "baxis": {
            "gridcolor": "#DFE8F3",
            "linecolor": "#A2B1C6",
            "ticks": ""
           },
           "bgcolor": "white",
           "caxis": {
            "gridcolor": "#DFE8F3",
            "linecolor": "#A2B1C6",
            "ticks": ""
           }
          },
          "title": {
           "x": 0.05
          },
          "xaxis": {
           "automargin": true,
           "gridcolor": "#EBF0F8",
           "linecolor": "#EBF0F8",
           "ticks": "",
           "title": {
            "standoff": 15
           },
           "zerolinecolor": "#EBF0F8",
           "zerolinewidth": 2
          },
          "yaxis": {
           "automargin": true,
           "gridcolor": "#EBF0F8",
           "linecolor": "#EBF0F8",
           "ticks": "",
           "title": {
            "standoff": 15
           },
           "zerolinecolor": "#EBF0F8",
           "zerolinewidth": 2
          }
         }
        },
        "title": {
         "text": "Number of Clinical Trials by Study Status Over Time (Smoothed)"
        },
        "xaxis": {
         "title": {
          "text": "Date"
         }
        },
        "yaxis": {
         "title": {
          "text": "Number of Trials (Smoothed)"
         }
        }
       }
      },
      "text/html": [
       "<div>                            <div id=\"04087c41-1850-4e75-b5d9-eb37f158f9b4\" class=\"plotly-graph-div\" style=\"height:525px; width:100%;\"></div>            <script type=\"text/javascript\">                require([\"plotly\"], function(Plotly) {                    window.PLOTLYENV=window.PLOTLYENV || {};                                    if (document.getElementById(\"04087c41-1850-4e75-b5d9-eb37f158f9b4\")) {                    Plotly.newPlot(                        \"04087c41-1850-4e75-b5d9-eb37f158f9b4\",                        [{\"marker\":{\"color\":\"aquamarine\"},\"mode\":\"lines\",\"name\":\"RECRUITING\",\"x\":[\"2017-07-01T00:00:00\",\"2019-05-01T00:00:00\",\"2019-10-01T00:00:00\",\"2020-06-01T00:00:00\",\"2023-08-01T00:00:00\"],\"y\":[null,null,null,null,null],\"type\":\"scatter\"},{\"marker\":{\"color\":\"coral\"},\"mode\":\"lines\",\"name\":\"ACTIVE_NOT_RECRUITING\",\"x\":[\"2014-07-01T00:00:00\",\"2014-08-01T00:00:00\",\"2014-09-01T00:00:00\",\"2014-10-01T00:00:00\",\"2014-12-01T00:00:00\",\"2015-01-01T00:00:00\",\"2015-03-01T00:00:00\",\"2015-04-01T00:00:00\",\"2015-05-01T00:00:00\",\"2015-06-01T00:00:00\",\"2015-07-01T00:00:00\",\"2015-08-01T00:00:00\",\"2015-10-01T00:00:00\",\"2015-11-01T00:00:00\",\"2015-12-01T00:00:00\",\"2016-01-01T00:00:00\",\"2016-02-01T00:00:00\",\"2016-03-01T00:00:00\",\"2016-04-01T00:00:00\",\"2016-05-01T00:00:00\",\"2016-06-01T00:00:00\",\"2016-07-01T00:00:00\",\"2016-08-01T00:00:00\",\"2016-09-01T00:00:00\",\"2016-10-01T00:00:00\",\"2017-01-01T00:00:00\",\"2017-02-01T00:00:00\",\"2017-03-01T00:00:00\",\"2017-04-01T00:00:00\",\"2017-05-01T00:00:00\",\"2017-06-01T00:00:00\",\"2017-07-01T00:00:00\",\"2017-08-01T00:00:00\",\"2017-09-01T00:00:00\",\"2017-10-01T00:00:00\",\"2017-11-01T00:00:00\",\"2017-12-01T00:00:00\",\"2018-01-01T00:00:00\",\"2018-03-01T00:00:00\",\"2018-04-01T00:00:00\",\"2018-05-01T00:00:00\",\"2018-06-01T00:00:00\",\"2018-07-01T00:00:00\",\"2018-08-01T00:00:00\",\"2018-09-01T00:00:00\",\"2018-10-01T00:00:00\",\"2018-11-01T00:00:00\",\"2018-12-01T00:00:00\",\"2019-01-01T00:00:00\",\"2019-02-01T00:00:00\",\"2019-03-01T00:00:00\",\"2019-04-01T00:00:00\",\"2019-05-01T00:00:00\",\"2019-06-01T00:00:00\",\"2019-07-01T00:00:00\",\"2019-08-01T00:00:00\",\"2019-09-01T00:00:00\",\"2019-10-01T00:00:00\",\"2019-11-01T00:00:00\",\"2019-12-01T00:00:00\",\"2020-01-01T00:00:00\",\"2020-02-01T00:00:00\",\"2020-03-01T00:00:00\",\"2020-04-01T00:00:00\",\"2020-06-01T00:00:00\",\"2020-08-01T00:00:00\",\"2020-09-01T00:00:00\",\"2020-10-01T00:00:00\",\"2020-11-01T00:00:00\",\"2021-03-01T00:00:00\",\"2021-06-01T00:00:00\",\"2021-08-01T00:00:00\"],\"y\":[null,null,null,2.3333333333333335,2.3333333333333335,2.5,3.1666666666666665,3.0,2.5,3.8333333333333335,3.8333333333333335,3.8333333333333335,3.5,3.6666666666666665,4.166666666666667,3.1666666666666665,3.3333333333333335,4.166666666666667,4.333333333333333,4.333333333333333,4.333333333333333,4.166666666666667,4.0,3.0,2.6666666666666665,2.6666666666666665,2.3333333333333335,2.8333333333333335,3.1666666666666665,3.8333333333333335,4.5,4.166666666666667,4.333333333333333,4.5,4.333333333333333,4.166666666666667,3.3333333333333335,3.3333333333333335,2.8333333333333335,2.3333333333333335,2.3333333333333335,2.5,3.0,3.0,3.3333333333333335,3.1666666666666665,2.8333333333333335,2.1666666666666665,1.6666666666666667,1.5,1.1666666666666667,1.0,1.0,1.5,1.6666666666666667,1.8333333333333333,1.8333333333333333,2.0,2.1666666666666665,1.6666666666666667,1.5,1.6666666666666667,1.8333333333333333,1.8333333333333333,1.8333333333333333,1.8333333333333333,1.8333333333333333,1.6666666666666667,1.5,1.3333333333333333,null,null],\"type\":\"scatter\"},{\"marker\":{\"color\":\"purple\"},\"mode\":\"lines\",\"name\":\"COMPLETED\",\"x\":[\"2014-08-01T00:00:00\",\"2014-10-01T00:00:00\",\"2014-11-01T00:00:00\",\"2014-12-01T00:00:00\",\"2015-01-01T00:00:00\",\"2015-02-01T00:00:00\",\"2015-03-01T00:00:00\",\"2015-04-01T00:00:00\",\"2015-05-01T00:00:00\",\"2015-06-01T00:00:00\",\"2015-07-01T00:00:00\",\"2015-08-01T00:00:00\",\"2015-09-01T00:00:00\",\"2015-10-01T00:00:00\",\"2015-11-01T00:00:00\",\"2015-12-01T00:00:00\",\"2016-01-01T00:00:00\",\"2016-02-01T00:00:00\",\"2016-03-01T00:00:00\",\"2016-04-01T00:00:00\",\"2016-05-01T00:00:00\",\"2016-06-01T00:00:00\",\"2016-07-01T00:00:00\",\"2016-08-01T00:00:00\",\"2016-09-01T00:00:00\",\"2016-10-01T00:00:00\",\"2016-11-01T00:00:00\",\"2016-12-01T00:00:00\",\"2017-01-01T00:00:00\",\"2017-02-01T00:00:00\",\"2017-03-01T00:00:00\",\"2017-04-01T00:00:00\",\"2017-05-01T00:00:00\",\"2017-06-01T00:00:00\",\"2017-07-01T00:00:00\",\"2017-08-01T00:00:00\",\"2017-09-01T00:00:00\",\"2017-10-01T00:00:00\",\"2017-11-01T00:00:00\",\"2017-12-01T00:00:00\",\"2018-01-01T00:00:00\",\"2018-02-01T00:00:00\",\"2018-03-01T00:00:00\",\"2018-04-01T00:00:00\",\"2018-05-01T00:00:00\",\"2018-06-01T00:00:00\",\"2018-07-01T00:00:00\",\"2018-08-01T00:00:00\",\"2018-09-01T00:00:00\",\"2018-10-01T00:00:00\",\"2018-11-01T00:00:00\",\"2018-12-01T00:00:00\",\"2019-01-01T00:00:00\",\"2019-02-01T00:00:00\",\"2019-03-01T00:00:00\",\"2019-04-01T00:00:00\",\"2019-05-01T00:00:00\",\"2019-06-01T00:00:00\",\"2019-07-01T00:00:00\",\"2019-08-01T00:00:00\",\"2019-09-01T00:00:00\",\"2019-11-01T00:00:00\",\"2019-12-01T00:00:00\",\"2020-02-01T00:00:00\",\"2020-03-01T00:00:00\",\"2020-06-01T00:00:00\",\"2020-08-01T00:00:00\",\"2020-09-01T00:00:00\",\"2020-10-01T00:00:00\",\"2020-11-01T00:00:00\",\"2020-12-01T00:00:00\",\"2021-01-01T00:00:00\",\"2021-02-01T00:00:00\",\"2021-03-01T00:00:00\",\"2021-04-01T00:00:00\"],\"y\":[null,null,null,3.3333333333333335,3.8333333333333335,3.8333333333333335,3.8333333333333335,4.0,4.166666666666667,4.0,3.5,2.8333333333333335,3.0,3.3333333333333335,3.6666666666666665,3.8333333333333335,3.8333333333333335,4.0,4.0,4.333333333333333,4.166666666666667,4.166666666666667,4.5,4.666666666666667,4.333333333333333,4.5,4.666666666666667,4.833333333333333,5.833333333333333,5.666666666666667,6.666666666666667,6.5,6.5,6.166666666666667,5.166666666666667,6.166666666666667,5.666666666666667,5.333333333333333,5.666666666666667,6.166666666666667,5.833333333333333,4.5,4.0,4.166666666666667,3.8333333333333335,3.1666666666666665,2.8333333333333335,3.0,3.0,2.5,2.3333333333333335,2.1666666666666665,2.3333333333333335,2.5,2.1666666666666665,2.3333333333333335,2.1666666666666665,2.5,2.6666666666666665,2.6666666666666665,2.6666666666666665,2.5,2.5,2.1666666666666665,1.8333333333333333,1.6666666666666667,1.8333333333333333,1.8333333333333333,1.8333333333333333,2.0,2.0,1.8333333333333333,2.1666666666666665,null,null],\"type\":\"scatter\"},{\"marker\":{\"color\":\"olive\"},\"mode\":\"lines\",\"name\":\"TERMINATED\",\"x\":[\"2014-07-01T00:00:00\",\"2014-08-01T00:00:00\",\"2014-09-01T00:00:00\",\"2014-10-01T00:00:00\",\"2014-11-01T00:00:00\",\"2014-12-01T00:00:00\",\"2015-01-01T00:00:00\",\"2015-02-01T00:00:00\",\"2015-03-01T00:00:00\",\"2015-04-01T00:00:00\",\"2015-05-01T00:00:00\",\"2015-06-01T00:00:00\",\"2015-07-01T00:00:00\",\"2015-08-01T00:00:00\",\"2015-11-01T00:00:00\",\"2016-02-01T00:00:00\",\"2016-03-01T00:00:00\",\"2016-04-01T00:00:00\",\"2016-05-01T00:00:00\",\"2016-06-01T00:00:00\",\"2016-08-01T00:00:00\",\"2016-09-01T00:00:00\",\"2016-10-01T00:00:00\",\"2016-11-01T00:00:00\",\"2016-12-01T00:00:00\",\"2017-01-01T00:00:00\",\"2017-02-01T00:00:00\",\"2017-03-01T00:00:00\",\"2017-04-01T00:00:00\",\"2017-05-01T00:00:00\",\"2017-06-01T00:00:00\",\"2017-07-01T00:00:00\",\"2017-08-01T00:00:00\",\"2017-09-01T00:00:00\",\"2017-10-01T00:00:00\",\"2017-11-01T00:00:00\",\"2017-12-01T00:00:00\",\"2018-01-01T00:00:00\",\"2018-02-01T00:00:00\",\"2018-03-01T00:00:00\",\"2018-04-01T00:00:00\",\"2018-05-01T00:00:00\",\"2018-08-01T00:00:00\",\"2018-09-01T00:00:00\",\"2018-10-01T00:00:00\",\"2018-11-01T00:00:00\",\"2018-12-01T00:00:00\",\"2019-02-01T00:00:00\",\"2019-03-01T00:00:00\",\"2019-04-01T00:00:00\",\"2019-05-01T00:00:00\",\"2019-07-01T00:00:00\",\"2019-08-01T00:00:00\",\"2019-09-01T00:00:00\",\"2019-10-01T00:00:00\",\"2019-11-01T00:00:00\",\"2019-12-01T00:00:00\",\"2020-01-01T00:00:00\",\"2020-02-01T00:00:00\",\"2020-03-01T00:00:00\",\"2020-04-01T00:00:00\",\"2020-05-01T00:00:00\",\"2020-06-01T00:00:00\",\"2020-07-01T00:00:00\",\"2020-08-01T00:00:00\",\"2020-10-01T00:00:00\",\"2020-11-01T00:00:00\",\"2020-12-01T00:00:00\",\"2021-01-01T00:00:00\",\"2021-02-01T00:00:00\",\"2021-03-01T00:00:00\",\"2021-05-01T00:00:00\",\"2021-06-01T00:00:00\",\"2021-12-01T00:00:00\",\"2022-02-01T00:00:00\",\"2022-03-01T00:00:00\",\"2022-05-01T00:00:00\",\"2022-11-01T00:00:00\"],\"y\":[null,null,null,1.0,1.0,1.0,1.1666666666666667,1.3333333333333333,1.3333333333333333,1.6666666666666667,2.0,2.1666666666666665,2.3333333333333335,2.3333333333333335,2.5,2.1666666666666665,1.8333333333333333,2.0,1.8333333333333333,1.6666666666666667,1.8333333333333333,1.8333333333333333,2.1666666666666665,1.8333333333333333,2.0,3.1666666666666665,3.3333333333333335,3.8333333333333335,3.5,3.8333333333333335,4.0,3.1666666666666665,2.8333333333333335,2.8333333333333335,3.1666666666666665,3.0,2.6666666666666665,3.0,3.1666666666666665,3.3333333333333335,3.1666666666666665,3.1666666666666665,3.0,2.6666666666666665,2.6666666666666665,2.3333333333333335,2.6666666666666665,2.8333333333333335,3.0,3.1666666666666665,3.0,2.6666666666666665,2.3333333333333335,2.1666666666666665,2.0,1.6666666666666667,1.8333333333333333,1.8333333333333333,1.6666666666666667,1.6666666666666667,1.6666666666666667,1.6666666666666667,1.3333333333333333,2.0,2.1666666666666665,2.0,2.3333333333333335,2.1666666666666665,2.1666666666666665,1.6666666666666667,1.6666666666666667,1.8333333333333333,1.5,1.5,1.5,1.3333333333333333,null,null],\"type\":\"scatter\"}],                        {\"template\":{\"data\":{\"barpolar\":[{\"marker\":{\"line\":{\"color\":\"white\",\"width\":0.5},\"pattern\":{\"fillmode\":\"overlay\",\"size\":10,\"solidity\":0.2}},\"type\":\"barpolar\"}],\"bar\":[{\"error_x\":{\"color\":\"#2a3f5f\"},\"error_y\":{\"color\":\"#2a3f5f\"},\"marker\":{\"line\":{\"color\":\"white\",\"width\":0.5},\"pattern\":{\"fillmode\":\"overlay\",\"size\":10,\"solidity\":0.2}},\"type\":\"bar\"}],\"carpet\":[{\"aaxis\":{\"endlinecolor\":\"#2a3f5f\",\"gridcolor\":\"#C8D4E3\",\"linecolor\":\"#C8D4E3\",\"minorgridcolor\":\"#C8D4E3\",\"startlinecolor\":\"#2a3f5f\"},\"baxis\":{\"endlinecolor\":\"#2a3f5f\",\"gridcolor\":\"#C8D4E3\",\"linecolor\":\"#C8D4E3\",\"minorgridcolor\":\"#C8D4E3\",\"startlinecolor\":\"#2a3f5f\"},\"type\":\"carpet\"}],\"choropleth\":[{\"colorbar\":{\"outlinewidth\":0,\"ticks\":\"\"},\"type\":\"choropleth\"}],\"contourcarpet\":[{\"colorbar\":{\"outlinewidth\":0,\"ticks\":\"\"},\"type\":\"contourcarpet\"}],\"contour\":[{\"colorbar\":{\"outlinewidth\":0,\"ticks\":\"\"},\"colorscale\":[[0.0,\"#0d0887\"],[0.1111111111111111,\"#46039f\"],[0.2222222222222222,\"#7201a8\"],[0.3333333333333333,\"#9c179e\"],[0.4444444444444444,\"#bd3786\"],[0.5555555555555556,\"#d8576b\"],[0.6666666666666666,\"#ed7953\"],[0.7777777777777778,\"#fb9f3a\"],[0.8888888888888888,\"#fdca26\"],[1.0,\"#f0f921\"]],\"type\":\"contour\"}],\"heatmapgl\":[{\"colorbar\":{\"outlinewidth\":0,\"ticks\":\"\"},\"colorscale\":[[0.0,\"#0d0887\"],[0.1111111111111111,\"#46039f\"],[0.2222222222222222,\"#7201a8\"],[0.3333333333333333,\"#9c179e\"],[0.4444444444444444,\"#bd3786\"],[0.5555555555555556,\"#d8576b\"],[0.6666666666666666,\"#ed7953\"],[0.7777777777777778,\"#fb9f3a\"],[0.8888888888888888,\"#fdca26\"],[1.0,\"#f0f921\"]],\"type\":\"heatmapgl\"}],\"heatmap\":[{\"colorbar\":{\"outlinewidth\":0,\"ticks\":\"\"},\"colorscale\":[[0.0,\"#0d0887\"],[0.1111111111111111,\"#46039f\"],[0.2222222222222222,\"#7201a8\"],[0.3333333333333333,\"#9c179e\"],[0.4444444444444444,\"#bd3786\"],[0.5555555555555556,\"#d8576b\"],[0.6666666666666666,\"#ed7953\"],[0.7777777777777778,\"#fb9f3a\"],[0.8888888888888888,\"#fdca26\"],[1.0,\"#f0f921\"]],\"type\":\"heatmap\"}],\"histogram2dcontour\":[{\"colorbar\":{\"outlinewidth\":0,\"ticks\":\"\"},\"colorscale\":[[0.0,\"#0d0887\"],[0.1111111111111111,\"#46039f\"],[0.2222222222222222,\"#7201a8\"],[0.3333333333333333,\"#9c179e\"],[0.4444444444444444,\"#bd3786\"],[0.5555555555555556,\"#d8576b\"],[0.6666666666666666,\"#ed7953\"],[0.7777777777777778,\"#fb9f3a\"],[0.8888888888888888,\"#fdca26\"],[1.0,\"#f0f921\"]],\"type\":\"histogram2dcontour\"}],\"histogram2d\":[{\"colorbar\":{\"outlinewidth\":0,\"ticks\":\"\"},\"colorscale\":[[0.0,\"#0d0887\"],[0.1111111111111111,\"#46039f\"],[0.2222222222222222,\"#7201a8\"],[0.3333333333333333,\"#9c179e\"],[0.4444444444444444,\"#bd3786\"],[0.5555555555555556,\"#d8576b\"],[0.6666666666666666,\"#ed7953\"],[0.7777777777777778,\"#fb9f3a\"],[0.8888888888888888,\"#fdca26\"],[1.0,\"#f0f921\"]],\"type\":\"histogram2d\"}],\"histogram\":[{\"marker\":{\"pattern\":{\"fillmode\":\"overlay\",\"size\":10,\"solidity\":0.2}},\"type\":\"histogram\"}],\"mesh3d\":[{\"colorbar\":{\"outlinewidth\":0,\"ticks\":\"\"},\"type\":\"mesh3d\"}],\"parcoords\":[{\"line\":{\"colorbar\":{\"outlinewidth\":0,\"ticks\":\"\"}},\"type\":\"parcoords\"}],\"pie\":[{\"automargin\":true,\"type\":\"pie\"}],\"scatter3d\":[{\"line\":{\"colorbar\":{\"outlinewidth\":0,\"ticks\":\"\"}},\"marker\":{\"colorbar\":{\"outlinewidth\":0,\"ticks\":\"\"}},\"type\":\"scatter3d\"}],\"scattercarpet\":[{\"marker\":{\"colorbar\":{\"outlinewidth\":0,\"ticks\":\"\"}},\"type\":\"scattercarpet\"}],\"scattergeo\":[{\"marker\":{\"colorbar\":{\"outlinewidth\":0,\"ticks\":\"\"}},\"type\":\"scattergeo\"}],\"scattergl\":[{\"marker\":{\"colorbar\":{\"outlinewidth\":0,\"ticks\":\"\"}},\"type\":\"scattergl\"}],\"scattermapbox\":[{\"marker\":{\"colorbar\":{\"outlinewidth\":0,\"ticks\":\"\"}},\"type\":\"scattermapbox\"}],\"scatterpolargl\":[{\"marker\":{\"colorbar\":{\"outlinewidth\":0,\"ticks\":\"\"}},\"type\":\"scatterpolargl\"}],\"scatterpolar\":[{\"marker\":{\"colorbar\":{\"outlinewidth\":0,\"ticks\":\"\"}},\"type\":\"scatterpolar\"}],\"scatter\":[{\"fillpattern\":{\"fillmode\":\"overlay\",\"size\":10,\"solidity\":0.2},\"type\":\"scatter\"}],\"scatterternary\":[{\"marker\":{\"colorbar\":{\"outlinewidth\":0,\"ticks\":\"\"}},\"type\":\"scatterternary\"}],\"surface\":[{\"colorbar\":{\"outlinewidth\":0,\"ticks\":\"\"},\"colorscale\":[[0.0,\"#0d0887\"],[0.1111111111111111,\"#46039f\"],[0.2222222222222222,\"#7201a8\"],[0.3333333333333333,\"#9c179e\"],[0.4444444444444444,\"#bd3786\"],[0.5555555555555556,\"#d8576b\"],[0.6666666666666666,\"#ed7953\"],[0.7777777777777778,\"#fb9f3a\"],[0.8888888888888888,\"#fdca26\"],[1.0,\"#f0f921\"]],\"type\":\"surface\"}],\"table\":[{\"cells\":{\"fill\":{\"color\":\"#EBF0F8\"},\"line\":{\"color\":\"white\"}},\"header\":{\"fill\":{\"color\":\"#C8D4E3\"},\"line\":{\"color\":\"white\"}},\"type\":\"table\"}]},\"layout\":{\"annotationdefaults\":{\"arrowcolor\":\"#2a3f5f\",\"arrowhead\":0,\"arrowwidth\":1},\"autotypenumbers\":\"strict\",\"coloraxis\":{\"colorbar\":{\"outlinewidth\":0,\"ticks\":\"\"}},\"colorscale\":{\"diverging\":[[0,\"#8e0152\"],[0.1,\"#c51b7d\"],[0.2,\"#de77ae\"],[0.3,\"#f1b6da\"],[0.4,\"#fde0ef\"],[0.5,\"#f7f7f7\"],[0.6,\"#e6f5d0\"],[0.7,\"#b8e186\"],[0.8,\"#7fbc41\"],[0.9,\"#4d9221\"],[1,\"#276419\"]],\"sequential\":[[0.0,\"#0d0887\"],[0.1111111111111111,\"#46039f\"],[0.2222222222222222,\"#7201a8\"],[0.3333333333333333,\"#9c179e\"],[0.4444444444444444,\"#bd3786\"],[0.5555555555555556,\"#d8576b\"],[0.6666666666666666,\"#ed7953\"],[0.7777777777777778,\"#fb9f3a\"],[0.8888888888888888,\"#fdca26\"],[1.0,\"#f0f921\"]],\"sequentialminus\":[[0.0,\"#0d0887\"],[0.1111111111111111,\"#46039f\"],[0.2222222222222222,\"#7201a8\"],[0.3333333333333333,\"#9c179e\"],[0.4444444444444444,\"#bd3786\"],[0.5555555555555556,\"#d8576b\"],[0.6666666666666666,\"#ed7953\"],[0.7777777777777778,\"#fb9f3a\"],[0.8888888888888888,\"#fdca26\"],[1.0,\"#f0f921\"]]},\"colorway\":[\"#636efa\",\"#EF553B\",\"#00cc96\",\"#ab63fa\",\"#FFA15A\",\"#19d3f3\",\"#FF6692\",\"#B6E880\",\"#FF97FF\",\"#FECB52\"],\"font\":{\"color\":\"#2a3f5f\"},\"geo\":{\"bgcolor\":\"white\",\"lakecolor\":\"white\",\"landcolor\":\"white\",\"showlakes\":true,\"showland\":true,\"subunitcolor\":\"#C8D4E3\"},\"hoverlabel\":{\"align\":\"left\"},\"hovermode\":\"closest\",\"mapbox\":{\"style\":\"light\"},\"paper_bgcolor\":\"white\",\"plot_bgcolor\":\"white\",\"polar\":{\"angularaxis\":{\"gridcolor\":\"#EBF0F8\",\"linecolor\":\"#EBF0F8\",\"ticks\":\"\"},\"bgcolor\":\"white\",\"radialaxis\":{\"gridcolor\":\"#EBF0F8\",\"linecolor\":\"#EBF0F8\",\"ticks\":\"\"}},\"scene\":{\"xaxis\":{\"backgroundcolor\":\"white\",\"gridcolor\":\"#DFE8F3\",\"gridwidth\":2,\"linecolor\":\"#EBF0F8\",\"showbackground\":true,\"ticks\":\"\",\"zerolinecolor\":\"#EBF0F8\"},\"yaxis\":{\"backgroundcolor\":\"white\",\"gridcolor\":\"#DFE8F3\",\"gridwidth\":2,\"linecolor\":\"#EBF0F8\",\"showbackground\":true,\"ticks\":\"\",\"zerolinecolor\":\"#EBF0F8\"},\"zaxis\":{\"backgroundcolor\":\"white\",\"gridcolor\":\"#DFE8F3\",\"gridwidth\":2,\"linecolor\":\"#EBF0F8\",\"showbackground\":true,\"ticks\":\"\",\"zerolinecolor\":\"#EBF0F8\"}},\"shapedefaults\":{\"line\":{\"color\":\"#2a3f5f\"}},\"ternary\":{\"aaxis\":{\"gridcolor\":\"#DFE8F3\",\"linecolor\":\"#A2B1C6\",\"ticks\":\"\"},\"baxis\":{\"gridcolor\":\"#DFE8F3\",\"linecolor\":\"#A2B1C6\",\"ticks\":\"\"},\"bgcolor\":\"white\",\"caxis\":{\"gridcolor\":\"#DFE8F3\",\"linecolor\":\"#A2B1C6\",\"ticks\":\"\"}},\"title\":{\"x\":0.05},\"xaxis\":{\"automargin\":true,\"gridcolor\":\"#EBF0F8\",\"linecolor\":\"#EBF0F8\",\"ticks\":\"\",\"title\":{\"standoff\":15},\"zerolinecolor\":\"#EBF0F8\",\"zerolinewidth\":2},\"yaxis\":{\"automargin\":true,\"gridcolor\":\"#EBF0F8\",\"linecolor\":\"#EBF0F8\",\"ticks\":\"\",\"title\":{\"standoff\":15},\"zerolinecolor\":\"#EBF0F8\",\"zerolinewidth\":2}}},\"title\":{\"text\":\"Number of Clinical Trials by Study Status Over Time (Smoothed)\"},\"xaxis\":{\"title\":{\"text\":\"Date\"}},\"yaxis\":{\"title\":{\"text\":\"Number of Trials (Smoothed)\"}}},                        {\"responsive\": true}                    ).then(function(){\n",
       "                            \n",
       "var gd = document.getElementById('04087c41-1850-4e75-b5d9-eb37f158f9b4');\n",
       "var x = new MutationObserver(function (mutations, observer) {{\n",
       "        var display = window.getComputedStyle(gd).display;\n",
       "        if (!display || display === 'none') {{\n",
       "            console.log([gd, 'removed!']);\n",
       "            Plotly.purge(gd);\n",
       "            observer.disconnect();\n",
       "        }}\n",
       "}});\n",
       "\n",
       "// Listen for the removal of the full notebook cells\n",
       "var notebookContainer = gd.closest('#notebook-container');\n",
       "if (notebookContainer) {{\n",
       "    x.observe(notebookContainer, {childList: true});\n",
       "}}\n",
       "\n",
       "// Listen for the clearing of the current output cell\n",
       "var outputEl = gd.closest('.output');\n",
       "if (outputEl) {{\n",
       "    x.observe(outputEl, {childList: true});\n",
       "}}\n",
       "\n",
       "                        })                };                });            </script>        </div>"
      ]
     },
     "metadata": {},
     "output_type": "display_data"
    }
   ],
   "source": [
    "\n",
    "# Function to create smoothed line traces for each study status\n",
    "def create_trace(trial_status, color, window=3):\n",
    "    filtered_df = New_Reduced_df[New_Reduced_df['Study Status'] == trial_status]\n",
    "    trial_counts = filtered_df.groupby(filtered_df['Start Date'].dt.to_period('M'))['NCT Number'].nunique().reset_index()\n",
    "    trial_counts.columns = ['Start Date', 'Number of Trials']\n",
    "    trial_counts['Start Date'] = trial_counts['Start Date'].dt.to_timestamp()\n",
    "    trial_counts['Smoothed Trials'] = trial_counts['Number of Trials'].rolling(window=window, center=True).mean()\n",
    "    return go.Scatter(\n",
    "        x = trial_counts['Start Date'],\n",
    "        y = trial_counts['Smoothed Trials'],\n",
    "        mode = 'lines',\n",
    "        name = trial_status,\n",
    "        marker = dict(color = color)\n",
    "    )\n",
    "\n",
    "# Create traces for each study status with smoothing window of 6 months\n",
    "trace_recruiting = create_trace('RECRUITING', 'aquamarine', window=6)\n",
    "trace_active = create_trace('ACTIVE_NOT_RECRUITING', 'coral', window=6)\n",
    "trace_completed = create_trace('COMPLETED', 'purple', window=6)\n",
    "trace_terminated = create_trace('TERMINATED', 'olive', window=6)\n",
    "\n",
    "# Create the figure and add the traces\n",
    "fig = go.Figure()\n",
    "\n",
    "fig.add_trace(trace_recruiting)\n",
    "fig.add_trace(trace_active)\n",
    "fig.add_trace(trace_completed)\n",
    "fig.add_trace(trace_terminated)\n",
    "\n",
    "# Customize layout\n",
    "fig.update_layout(\n",
    "    title='Number of Clinical Trials by Study Status Over Time (Smoothed)',\n",
    "    xaxis_title='Date',\n",
    "    yaxis_title='Number of Trials (Smoothed)',\n",
    "    template='plotly_white'\n",
    ")\n",
    "\n",
    "# Show the plot\n",
    "fig.show()\n",
    "\n",
    "pio.write_image(fig, 'clinical_trials_decade_static.png', format='png')\n",
    "\n"
   ]
  },
  {
   "cell_type": "markdown",
   "id": "20709c64",
   "metadata": {},
   "source": [
    "# Plot interactive bar chart: Major conditions, and study status"
   ]
  },
  {
   "cell_type": "code",
   "execution_count": 37,
   "id": "482d2e3b",
   "metadata": {
    "scrolled": true
   },
   "outputs": [
    {
     "data": {
      "application/vnd.plotly.v1+json": {
       "config": {
        "plotlyServerURL": "https://plot.ly"
       },
       "data": [
        {
         "marker": {
          "color": "aquamarine"
         },
         "name": "RECRUITING",
         "type": "bar",
         "x": [
          "Blood Cancer",
          "Brain Cancer",
          "Lung Cancer",
          "kidney Cancer"
         ],
         "y": [
          1,
          2,
          1,
          1
         ]
        },
        {
         "marker": {
          "color": "coral"
         },
         "name": "ACTIVE_NOT_RECRUITING",
         "type": "bar",
         "x": [
          "Blood Cancer",
          "Brain Cancer",
          "Lung Cancer",
          "Lymphoma Cancer",
          "Other",
          "Pancreatic Cancer",
          "Prostate Cancer",
          "breast Cancer",
          "kidney Cancer"
         ],
         "y": [
          56,
          17,
          45,
          2,
          55,
          2,
          7,
          4,
          7
         ]
        },
        {
         "marker": {
          "color": "purple"
         },
         "name": "COMPLETED",
         "type": "bar",
         "x": [
          "Blood Cancer",
          "Brain Cancer",
          "Lung Cancer",
          "Lymphoma Cancer",
          "Other",
          "Pancreatic Cancer",
          "Prostate Cancer",
          "breast Cancer",
          "kidney Cancer",
          "liver Cancer"
         ],
         "y": [
          57,
          17,
          44,
          1,
          114,
          4,
          13,
          10,
          2,
          11
         ]
        },
        {
         "marker": {
          "color": "olive"
         },
         "name": "TERMINATED",
         "type": "bar",
         "x": [
          "Blood Cancer",
          "Brain Cancer",
          "Lung Cancer",
          "Other",
          "Pancreatic Cancer",
          "Prostate Cancer",
          "breast Cancer",
          "kidney Cancer",
          "liver Cancer"
         ],
         "y": [
          39,
          8,
          39,
          56,
          3,
          11,
          5,
          5,
          5
         ]
        }
       ],
       "layout": {
        "barmode": "group",
        "template": {
         "data": {
          "bar": [
           {
            "error_x": {
             "color": "#2a3f5f"
            },
            "error_y": {
             "color": "#2a3f5f"
            },
            "marker": {
             "line": {
              "color": "white",
              "width": 0.5
             },
             "pattern": {
              "fillmode": "overlay",
              "size": 10,
              "solidity": 0.2
             }
            },
            "type": "bar"
           }
          ],
          "barpolar": [
           {
            "marker": {
             "line": {
              "color": "white",
              "width": 0.5
             },
             "pattern": {
              "fillmode": "overlay",
              "size": 10,
              "solidity": 0.2
             }
            },
            "type": "barpolar"
           }
          ],
          "carpet": [
           {
            "aaxis": {
             "endlinecolor": "#2a3f5f",
             "gridcolor": "#C8D4E3",
             "linecolor": "#C8D4E3",
             "minorgridcolor": "#C8D4E3",
             "startlinecolor": "#2a3f5f"
            },
            "baxis": {
             "endlinecolor": "#2a3f5f",
             "gridcolor": "#C8D4E3",
             "linecolor": "#C8D4E3",
             "minorgridcolor": "#C8D4E3",
             "startlinecolor": "#2a3f5f"
            },
            "type": "carpet"
           }
          ],
          "choropleth": [
           {
            "colorbar": {
             "outlinewidth": 0,
             "ticks": ""
            },
            "type": "choropleth"
           }
          ],
          "contour": [
           {
            "colorbar": {
             "outlinewidth": 0,
             "ticks": ""
            },
            "colorscale": [
             [
              0,
              "#0d0887"
             ],
             [
              0.1111111111111111,
              "#46039f"
             ],
             [
              0.2222222222222222,
              "#7201a8"
             ],
             [
              0.3333333333333333,
              "#9c179e"
             ],
             [
              0.4444444444444444,
              "#bd3786"
             ],
             [
              0.5555555555555556,
              "#d8576b"
             ],
             [
              0.6666666666666666,
              "#ed7953"
             ],
             [
              0.7777777777777778,
              "#fb9f3a"
             ],
             [
              0.8888888888888888,
              "#fdca26"
             ],
             [
              1,
              "#f0f921"
             ]
            ],
            "type": "contour"
           }
          ],
          "contourcarpet": [
           {
            "colorbar": {
             "outlinewidth": 0,
             "ticks": ""
            },
            "type": "contourcarpet"
           }
          ],
          "heatmap": [
           {
            "colorbar": {
             "outlinewidth": 0,
             "ticks": ""
            },
            "colorscale": [
             [
              0,
              "#0d0887"
             ],
             [
              0.1111111111111111,
              "#46039f"
             ],
             [
              0.2222222222222222,
              "#7201a8"
             ],
             [
              0.3333333333333333,
              "#9c179e"
             ],
             [
              0.4444444444444444,
              "#bd3786"
             ],
             [
              0.5555555555555556,
              "#d8576b"
             ],
             [
              0.6666666666666666,
              "#ed7953"
             ],
             [
              0.7777777777777778,
              "#fb9f3a"
             ],
             [
              0.8888888888888888,
              "#fdca26"
             ],
             [
              1,
              "#f0f921"
             ]
            ],
            "type": "heatmap"
           }
          ],
          "heatmapgl": [
           {
            "colorbar": {
             "outlinewidth": 0,
             "ticks": ""
            },
            "colorscale": [
             [
              0,
              "#0d0887"
             ],
             [
              0.1111111111111111,
              "#46039f"
             ],
             [
              0.2222222222222222,
              "#7201a8"
             ],
             [
              0.3333333333333333,
              "#9c179e"
             ],
             [
              0.4444444444444444,
              "#bd3786"
             ],
             [
              0.5555555555555556,
              "#d8576b"
             ],
             [
              0.6666666666666666,
              "#ed7953"
             ],
             [
              0.7777777777777778,
              "#fb9f3a"
             ],
             [
              0.8888888888888888,
              "#fdca26"
             ],
             [
              1,
              "#f0f921"
             ]
            ],
            "type": "heatmapgl"
           }
          ],
          "histogram": [
           {
            "marker": {
             "pattern": {
              "fillmode": "overlay",
              "size": 10,
              "solidity": 0.2
             }
            },
            "type": "histogram"
           }
          ],
          "histogram2d": [
           {
            "colorbar": {
             "outlinewidth": 0,
             "ticks": ""
            },
            "colorscale": [
             [
              0,
              "#0d0887"
             ],
             [
              0.1111111111111111,
              "#46039f"
             ],
             [
              0.2222222222222222,
              "#7201a8"
             ],
             [
              0.3333333333333333,
              "#9c179e"
             ],
             [
              0.4444444444444444,
              "#bd3786"
             ],
             [
              0.5555555555555556,
              "#d8576b"
             ],
             [
              0.6666666666666666,
              "#ed7953"
             ],
             [
              0.7777777777777778,
              "#fb9f3a"
             ],
             [
              0.8888888888888888,
              "#fdca26"
             ],
             [
              1,
              "#f0f921"
             ]
            ],
            "type": "histogram2d"
           }
          ],
          "histogram2dcontour": [
           {
            "colorbar": {
             "outlinewidth": 0,
             "ticks": ""
            },
            "colorscale": [
             [
              0,
              "#0d0887"
             ],
             [
              0.1111111111111111,
              "#46039f"
             ],
             [
              0.2222222222222222,
              "#7201a8"
             ],
             [
              0.3333333333333333,
              "#9c179e"
             ],
             [
              0.4444444444444444,
              "#bd3786"
             ],
             [
              0.5555555555555556,
              "#d8576b"
             ],
             [
              0.6666666666666666,
              "#ed7953"
             ],
             [
              0.7777777777777778,
              "#fb9f3a"
             ],
             [
              0.8888888888888888,
              "#fdca26"
             ],
             [
              1,
              "#f0f921"
             ]
            ],
            "type": "histogram2dcontour"
           }
          ],
          "mesh3d": [
           {
            "colorbar": {
             "outlinewidth": 0,
             "ticks": ""
            },
            "type": "mesh3d"
           }
          ],
          "parcoords": [
           {
            "line": {
             "colorbar": {
              "outlinewidth": 0,
              "ticks": ""
             }
            },
            "type": "parcoords"
           }
          ],
          "pie": [
           {
            "automargin": true,
            "type": "pie"
           }
          ],
          "scatter": [
           {
            "fillpattern": {
             "fillmode": "overlay",
             "size": 10,
             "solidity": 0.2
            },
            "type": "scatter"
           }
          ],
          "scatter3d": [
           {
            "line": {
             "colorbar": {
              "outlinewidth": 0,
              "ticks": ""
             }
            },
            "marker": {
             "colorbar": {
              "outlinewidth": 0,
              "ticks": ""
             }
            },
            "type": "scatter3d"
           }
          ],
          "scattercarpet": [
           {
            "marker": {
             "colorbar": {
              "outlinewidth": 0,
              "ticks": ""
             }
            },
            "type": "scattercarpet"
           }
          ],
          "scattergeo": [
           {
            "marker": {
             "colorbar": {
              "outlinewidth": 0,
              "ticks": ""
             }
            },
            "type": "scattergeo"
           }
          ],
          "scattergl": [
           {
            "marker": {
             "colorbar": {
              "outlinewidth": 0,
              "ticks": ""
             }
            },
            "type": "scattergl"
           }
          ],
          "scattermapbox": [
           {
            "marker": {
             "colorbar": {
              "outlinewidth": 0,
              "ticks": ""
             }
            },
            "type": "scattermapbox"
           }
          ],
          "scatterpolar": [
           {
            "marker": {
             "colorbar": {
              "outlinewidth": 0,
              "ticks": ""
             }
            },
            "type": "scatterpolar"
           }
          ],
          "scatterpolargl": [
           {
            "marker": {
             "colorbar": {
              "outlinewidth": 0,
              "ticks": ""
             }
            },
            "type": "scatterpolargl"
           }
          ],
          "scatterternary": [
           {
            "marker": {
             "colorbar": {
              "outlinewidth": 0,
              "ticks": ""
             }
            },
            "type": "scatterternary"
           }
          ],
          "surface": [
           {
            "colorbar": {
             "outlinewidth": 0,
             "ticks": ""
            },
            "colorscale": [
             [
              0,
              "#0d0887"
             ],
             [
              0.1111111111111111,
              "#46039f"
             ],
             [
              0.2222222222222222,
              "#7201a8"
             ],
             [
              0.3333333333333333,
              "#9c179e"
             ],
             [
              0.4444444444444444,
              "#bd3786"
             ],
             [
              0.5555555555555556,
              "#d8576b"
             ],
             [
              0.6666666666666666,
              "#ed7953"
             ],
             [
              0.7777777777777778,
              "#fb9f3a"
             ],
             [
              0.8888888888888888,
              "#fdca26"
             ],
             [
              1,
              "#f0f921"
             ]
            ],
            "type": "surface"
           }
          ],
          "table": [
           {
            "cells": {
             "fill": {
              "color": "#EBF0F8"
             },
             "line": {
              "color": "white"
             }
            },
            "header": {
             "fill": {
              "color": "#C8D4E3"
             },
             "line": {
              "color": "white"
             }
            },
            "type": "table"
           }
          ]
         },
         "layout": {
          "annotationdefaults": {
           "arrowcolor": "#2a3f5f",
           "arrowhead": 0,
           "arrowwidth": 1
          },
          "autotypenumbers": "strict",
          "coloraxis": {
           "colorbar": {
            "outlinewidth": 0,
            "ticks": ""
           }
          },
          "colorscale": {
           "diverging": [
            [
             0,
             "#8e0152"
            ],
            [
             0.1,
             "#c51b7d"
            ],
            [
             0.2,
             "#de77ae"
            ],
            [
             0.3,
             "#f1b6da"
            ],
            [
             0.4,
             "#fde0ef"
            ],
            [
             0.5,
             "#f7f7f7"
            ],
            [
             0.6,
             "#e6f5d0"
            ],
            [
             0.7,
             "#b8e186"
            ],
            [
             0.8,
             "#7fbc41"
            ],
            [
             0.9,
             "#4d9221"
            ],
            [
             1,
             "#276419"
            ]
           ],
           "sequential": [
            [
             0,
             "#0d0887"
            ],
            [
             0.1111111111111111,
             "#46039f"
            ],
            [
             0.2222222222222222,
             "#7201a8"
            ],
            [
             0.3333333333333333,
             "#9c179e"
            ],
            [
             0.4444444444444444,
             "#bd3786"
            ],
            [
             0.5555555555555556,
             "#d8576b"
            ],
            [
             0.6666666666666666,
             "#ed7953"
            ],
            [
             0.7777777777777778,
             "#fb9f3a"
            ],
            [
             0.8888888888888888,
             "#fdca26"
            ],
            [
             1,
             "#f0f921"
            ]
           ],
           "sequentialminus": [
            [
             0,
             "#0d0887"
            ],
            [
             0.1111111111111111,
             "#46039f"
            ],
            [
             0.2222222222222222,
             "#7201a8"
            ],
            [
             0.3333333333333333,
             "#9c179e"
            ],
            [
             0.4444444444444444,
             "#bd3786"
            ],
            [
             0.5555555555555556,
             "#d8576b"
            ],
            [
             0.6666666666666666,
             "#ed7953"
            ],
            [
             0.7777777777777778,
             "#fb9f3a"
            ],
            [
             0.8888888888888888,
             "#fdca26"
            ],
            [
             1,
             "#f0f921"
            ]
           ]
          },
          "colorway": [
           "#636efa",
           "#EF553B",
           "#00cc96",
           "#ab63fa",
           "#FFA15A",
           "#19d3f3",
           "#FF6692",
           "#B6E880",
           "#FF97FF",
           "#FECB52"
          ],
          "font": {
           "color": "#2a3f5f"
          },
          "geo": {
           "bgcolor": "white",
           "lakecolor": "white",
           "landcolor": "white",
           "showlakes": true,
           "showland": true,
           "subunitcolor": "#C8D4E3"
          },
          "hoverlabel": {
           "align": "left"
          },
          "hovermode": "closest",
          "mapbox": {
           "style": "light"
          },
          "paper_bgcolor": "white",
          "plot_bgcolor": "white",
          "polar": {
           "angularaxis": {
            "gridcolor": "#EBF0F8",
            "linecolor": "#EBF0F8",
            "ticks": ""
           },
           "bgcolor": "white",
           "radialaxis": {
            "gridcolor": "#EBF0F8",
            "linecolor": "#EBF0F8",
            "ticks": ""
           }
          },
          "scene": {
           "xaxis": {
            "backgroundcolor": "white",
            "gridcolor": "#DFE8F3",
            "gridwidth": 2,
            "linecolor": "#EBF0F8",
            "showbackground": true,
            "ticks": "",
            "zerolinecolor": "#EBF0F8"
           },
           "yaxis": {
            "backgroundcolor": "white",
            "gridcolor": "#DFE8F3",
            "gridwidth": 2,
            "linecolor": "#EBF0F8",
            "showbackground": true,
            "ticks": "",
            "zerolinecolor": "#EBF0F8"
           },
           "zaxis": {
            "backgroundcolor": "white",
            "gridcolor": "#DFE8F3",
            "gridwidth": 2,
            "linecolor": "#EBF0F8",
            "showbackground": true,
            "ticks": "",
            "zerolinecolor": "#EBF0F8"
           }
          },
          "shapedefaults": {
           "line": {
            "color": "#2a3f5f"
           }
          },
          "ternary": {
           "aaxis": {
            "gridcolor": "#DFE8F3",
            "linecolor": "#A2B1C6",
            "ticks": ""
           },
           "baxis": {
            "gridcolor": "#DFE8F3",
            "linecolor": "#A2B1C6",
            "ticks": ""
           },
           "bgcolor": "white",
           "caxis": {
            "gridcolor": "#DFE8F3",
            "linecolor": "#A2B1C6",
            "ticks": ""
           }
          },
          "title": {
           "x": 0.05
          },
          "xaxis": {
           "automargin": true,
           "gridcolor": "#EBF0F8",
           "linecolor": "#EBF0F8",
           "ticks": "",
           "title": {
            "standoff": 15
           },
           "zerolinecolor": "#EBF0F8",
           "zerolinewidth": 2
          },
          "yaxis": {
           "automargin": true,
           "gridcolor": "#EBF0F8",
           "linecolor": "#EBF0F8",
           "ticks": "",
           "title": {
            "standoff": 15
           },
           "zerolinecolor": "#EBF0F8",
           "zerolinewidth": 2
          }
         }
        },
        "title": {
         "text": "Number of Clinical Trials by Target Organ and Study Status"
        },
        "updatemenus": [
         {
          "buttons": [
           {
            "args": [
             {
              "visible": [
               true,
               true,
               true,
               true
              ]
             }
            ],
            "label": "All",
            "method": "update"
           },
           {
            "args": [
             {
              "visible": [
               true,
               false,
               false,
               false
              ]
             }
            ],
            "label": "Recruiting",
            "method": "update"
           },
           {
            "args": [
             {
              "visible": [
               false,
               true,
               false,
               false
              ]
             }
            ],
            "label": "Active",
            "method": "update"
           },
           {
            "args": [
             {
              "visible": [
               false,
               false,
               true,
               false
              ]
             }
            ],
            "label": "Completed",
            "method": "update"
           },
           {
            "args": [
             {
              "visible": [
               false,
               false,
               false,
               true
              ]
             }
            ],
            "label": "Terminated",
            "method": "update"
           }
          ],
          "direction": "down",
          "showactive": true
         }
        ],
        "xaxis": {
         "title": {
          "text": "Target Organ"
         }
        },
        "yaxis": {
         "title": {
          "text": "Number of Trials"
         }
        }
       }
      },
      "text/html": [
       "<div>                            <div id=\"00f027ad-7da3-4a17-b290-9611ca80f191\" class=\"plotly-graph-div\" style=\"height:525px; width:100%;\"></div>            <script type=\"text/javascript\">                require([\"plotly\"], function(Plotly) {                    window.PLOTLYENV=window.PLOTLYENV || {};                                    if (document.getElementById(\"00f027ad-7da3-4a17-b290-9611ca80f191\")) {                    Plotly.newPlot(                        \"00f027ad-7da3-4a17-b290-9611ca80f191\",                        [{\"marker\":{\"color\":\"aquamarine\"},\"name\":\"RECRUITING\",\"x\":[\"Blood Cancer\",\"Brain Cancer\",\"Lung Cancer\",\"kidney Cancer\"],\"y\":[1,2,1,1],\"type\":\"bar\"},{\"marker\":{\"color\":\"coral\"},\"name\":\"ACTIVE_NOT_RECRUITING\",\"x\":[\"Blood Cancer\",\"Brain Cancer\",\"Lung Cancer\",\"Lymphoma Cancer\",\"Other\",\"Pancreatic Cancer\",\"Prostate Cancer\",\"breast Cancer\",\"kidney Cancer\"],\"y\":[56,17,45,2,55,2,7,4,7],\"type\":\"bar\"},{\"marker\":{\"color\":\"purple\"},\"name\":\"COMPLETED\",\"x\":[\"Blood Cancer\",\"Brain Cancer\",\"Lung Cancer\",\"Lymphoma Cancer\",\"Other\",\"Pancreatic Cancer\",\"Prostate Cancer\",\"breast Cancer\",\"kidney Cancer\",\"liver Cancer\"],\"y\":[57,17,44,1,114,4,13,10,2,11],\"type\":\"bar\"},{\"marker\":{\"color\":\"olive\"},\"name\":\"TERMINATED\",\"x\":[\"Blood Cancer\",\"Brain Cancer\",\"Lung Cancer\",\"Other\",\"Pancreatic Cancer\",\"Prostate Cancer\",\"breast Cancer\",\"kidney Cancer\",\"liver Cancer\"],\"y\":[39,8,39,56,3,11,5,5,5],\"type\":\"bar\"}],                        {\"template\":{\"data\":{\"barpolar\":[{\"marker\":{\"line\":{\"color\":\"white\",\"width\":0.5},\"pattern\":{\"fillmode\":\"overlay\",\"size\":10,\"solidity\":0.2}},\"type\":\"barpolar\"}],\"bar\":[{\"error_x\":{\"color\":\"#2a3f5f\"},\"error_y\":{\"color\":\"#2a3f5f\"},\"marker\":{\"line\":{\"color\":\"white\",\"width\":0.5},\"pattern\":{\"fillmode\":\"overlay\",\"size\":10,\"solidity\":0.2}},\"type\":\"bar\"}],\"carpet\":[{\"aaxis\":{\"endlinecolor\":\"#2a3f5f\",\"gridcolor\":\"#C8D4E3\",\"linecolor\":\"#C8D4E3\",\"minorgridcolor\":\"#C8D4E3\",\"startlinecolor\":\"#2a3f5f\"},\"baxis\":{\"endlinecolor\":\"#2a3f5f\",\"gridcolor\":\"#C8D4E3\",\"linecolor\":\"#C8D4E3\",\"minorgridcolor\":\"#C8D4E3\",\"startlinecolor\":\"#2a3f5f\"},\"type\":\"carpet\"}],\"choropleth\":[{\"colorbar\":{\"outlinewidth\":0,\"ticks\":\"\"},\"type\":\"choropleth\"}],\"contourcarpet\":[{\"colorbar\":{\"outlinewidth\":0,\"ticks\":\"\"},\"type\":\"contourcarpet\"}],\"contour\":[{\"colorbar\":{\"outlinewidth\":0,\"ticks\":\"\"},\"colorscale\":[[0.0,\"#0d0887\"],[0.1111111111111111,\"#46039f\"],[0.2222222222222222,\"#7201a8\"],[0.3333333333333333,\"#9c179e\"],[0.4444444444444444,\"#bd3786\"],[0.5555555555555556,\"#d8576b\"],[0.6666666666666666,\"#ed7953\"],[0.7777777777777778,\"#fb9f3a\"],[0.8888888888888888,\"#fdca26\"],[1.0,\"#f0f921\"]],\"type\":\"contour\"}],\"heatmapgl\":[{\"colorbar\":{\"outlinewidth\":0,\"ticks\":\"\"},\"colorscale\":[[0.0,\"#0d0887\"],[0.1111111111111111,\"#46039f\"],[0.2222222222222222,\"#7201a8\"],[0.3333333333333333,\"#9c179e\"],[0.4444444444444444,\"#bd3786\"],[0.5555555555555556,\"#d8576b\"],[0.6666666666666666,\"#ed7953\"],[0.7777777777777778,\"#fb9f3a\"],[0.8888888888888888,\"#fdca26\"],[1.0,\"#f0f921\"]],\"type\":\"heatmapgl\"}],\"heatmap\":[{\"colorbar\":{\"outlinewidth\":0,\"ticks\":\"\"},\"colorscale\":[[0.0,\"#0d0887\"],[0.1111111111111111,\"#46039f\"],[0.2222222222222222,\"#7201a8\"],[0.3333333333333333,\"#9c179e\"],[0.4444444444444444,\"#bd3786\"],[0.5555555555555556,\"#d8576b\"],[0.6666666666666666,\"#ed7953\"],[0.7777777777777778,\"#fb9f3a\"],[0.8888888888888888,\"#fdca26\"],[1.0,\"#f0f921\"]],\"type\":\"heatmap\"}],\"histogram2dcontour\":[{\"colorbar\":{\"outlinewidth\":0,\"ticks\":\"\"},\"colorscale\":[[0.0,\"#0d0887\"],[0.1111111111111111,\"#46039f\"],[0.2222222222222222,\"#7201a8\"],[0.3333333333333333,\"#9c179e\"],[0.4444444444444444,\"#bd3786\"],[0.5555555555555556,\"#d8576b\"],[0.6666666666666666,\"#ed7953\"],[0.7777777777777778,\"#fb9f3a\"],[0.8888888888888888,\"#fdca26\"],[1.0,\"#f0f921\"]],\"type\":\"histogram2dcontour\"}],\"histogram2d\":[{\"colorbar\":{\"outlinewidth\":0,\"ticks\":\"\"},\"colorscale\":[[0.0,\"#0d0887\"],[0.1111111111111111,\"#46039f\"],[0.2222222222222222,\"#7201a8\"],[0.3333333333333333,\"#9c179e\"],[0.4444444444444444,\"#bd3786\"],[0.5555555555555556,\"#d8576b\"],[0.6666666666666666,\"#ed7953\"],[0.7777777777777778,\"#fb9f3a\"],[0.8888888888888888,\"#fdca26\"],[1.0,\"#f0f921\"]],\"type\":\"histogram2d\"}],\"histogram\":[{\"marker\":{\"pattern\":{\"fillmode\":\"overlay\",\"size\":10,\"solidity\":0.2}},\"type\":\"histogram\"}],\"mesh3d\":[{\"colorbar\":{\"outlinewidth\":0,\"ticks\":\"\"},\"type\":\"mesh3d\"}],\"parcoords\":[{\"line\":{\"colorbar\":{\"outlinewidth\":0,\"ticks\":\"\"}},\"type\":\"parcoords\"}],\"pie\":[{\"automargin\":true,\"type\":\"pie\"}],\"scatter3d\":[{\"line\":{\"colorbar\":{\"outlinewidth\":0,\"ticks\":\"\"}},\"marker\":{\"colorbar\":{\"outlinewidth\":0,\"ticks\":\"\"}},\"type\":\"scatter3d\"}],\"scattercarpet\":[{\"marker\":{\"colorbar\":{\"outlinewidth\":0,\"ticks\":\"\"}},\"type\":\"scattercarpet\"}],\"scattergeo\":[{\"marker\":{\"colorbar\":{\"outlinewidth\":0,\"ticks\":\"\"}},\"type\":\"scattergeo\"}],\"scattergl\":[{\"marker\":{\"colorbar\":{\"outlinewidth\":0,\"ticks\":\"\"}},\"type\":\"scattergl\"}],\"scattermapbox\":[{\"marker\":{\"colorbar\":{\"outlinewidth\":0,\"ticks\":\"\"}},\"type\":\"scattermapbox\"}],\"scatterpolargl\":[{\"marker\":{\"colorbar\":{\"outlinewidth\":0,\"ticks\":\"\"}},\"type\":\"scatterpolargl\"}],\"scatterpolar\":[{\"marker\":{\"colorbar\":{\"outlinewidth\":0,\"ticks\":\"\"}},\"type\":\"scatterpolar\"}],\"scatter\":[{\"fillpattern\":{\"fillmode\":\"overlay\",\"size\":10,\"solidity\":0.2},\"type\":\"scatter\"}],\"scatterternary\":[{\"marker\":{\"colorbar\":{\"outlinewidth\":0,\"ticks\":\"\"}},\"type\":\"scatterternary\"}],\"surface\":[{\"colorbar\":{\"outlinewidth\":0,\"ticks\":\"\"},\"colorscale\":[[0.0,\"#0d0887\"],[0.1111111111111111,\"#46039f\"],[0.2222222222222222,\"#7201a8\"],[0.3333333333333333,\"#9c179e\"],[0.4444444444444444,\"#bd3786\"],[0.5555555555555556,\"#d8576b\"],[0.6666666666666666,\"#ed7953\"],[0.7777777777777778,\"#fb9f3a\"],[0.8888888888888888,\"#fdca26\"],[1.0,\"#f0f921\"]],\"type\":\"surface\"}],\"table\":[{\"cells\":{\"fill\":{\"color\":\"#EBF0F8\"},\"line\":{\"color\":\"white\"}},\"header\":{\"fill\":{\"color\":\"#C8D4E3\"},\"line\":{\"color\":\"white\"}},\"type\":\"table\"}]},\"layout\":{\"annotationdefaults\":{\"arrowcolor\":\"#2a3f5f\",\"arrowhead\":0,\"arrowwidth\":1},\"autotypenumbers\":\"strict\",\"coloraxis\":{\"colorbar\":{\"outlinewidth\":0,\"ticks\":\"\"}},\"colorscale\":{\"diverging\":[[0,\"#8e0152\"],[0.1,\"#c51b7d\"],[0.2,\"#de77ae\"],[0.3,\"#f1b6da\"],[0.4,\"#fde0ef\"],[0.5,\"#f7f7f7\"],[0.6,\"#e6f5d0\"],[0.7,\"#b8e186\"],[0.8,\"#7fbc41\"],[0.9,\"#4d9221\"],[1,\"#276419\"]],\"sequential\":[[0.0,\"#0d0887\"],[0.1111111111111111,\"#46039f\"],[0.2222222222222222,\"#7201a8\"],[0.3333333333333333,\"#9c179e\"],[0.4444444444444444,\"#bd3786\"],[0.5555555555555556,\"#d8576b\"],[0.6666666666666666,\"#ed7953\"],[0.7777777777777778,\"#fb9f3a\"],[0.8888888888888888,\"#fdca26\"],[1.0,\"#f0f921\"]],\"sequentialminus\":[[0.0,\"#0d0887\"],[0.1111111111111111,\"#46039f\"],[0.2222222222222222,\"#7201a8\"],[0.3333333333333333,\"#9c179e\"],[0.4444444444444444,\"#bd3786\"],[0.5555555555555556,\"#d8576b\"],[0.6666666666666666,\"#ed7953\"],[0.7777777777777778,\"#fb9f3a\"],[0.8888888888888888,\"#fdca26\"],[1.0,\"#f0f921\"]]},\"colorway\":[\"#636efa\",\"#EF553B\",\"#00cc96\",\"#ab63fa\",\"#FFA15A\",\"#19d3f3\",\"#FF6692\",\"#B6E880\",\"#FF97FF\",\"#FECB52\"],\"font\":{\"color\":\"#2a3f5f\"},\"geo\":{\"bgcolor\":\"white\",\"lakecolor\":\"white\",\"landcolor\":\"white\",\"showlakes\":true,\"showland\":true,\"subunitcolor\":\"#C8D4E3\"},\"hoverlabel\":{\"align\":\"left\"},\"hovermode\":\"closest\",\"mapbox\":{\"style\":\"light\"},\"paper_bgcolor\":\"white\",\"plot_bgcolor\":\"white\",\"polar\":{\"angularaxis\":{\"gridcolor\":\"#EBF0F8\",\"linecolor\":\"#EBF0F8\",\"ticks\":\"\"},\"bgcolor\":\"white\",\"radialaxis\":{\"gridcolor\":\"#EBF0F8\",\"linecolor\":\"#EBF0F8\",\"ticks\":\"\"}},\"scene\":{\"xaxis\":{\"backgroundcolor\":\"white\",\"gridcolor\":\"#DFE8F3\",\"gridwidth\":2,\"linecolor\":\"#EBF0F8\",\"showbackground\":true,\"ticks\":\"\",\"zerolinecolor\":\"#EBF0F8\"},\"yaxis\":{\"backgroundcolor\":\"white\",\"gridcolor\":\"#DFE8F3\",\"gridwidth\":2,\"linecolor\":\"#EBF0F8\",\"showbackground\":true,\"ticks\":\"\",\"zerolinecolor\":\"#EBF0F8\"},\"zaxis\":{\"backgroundcolor\":\"white\",\"gridcolor\":\"#DFE8F3\",\"gridwidth\":2,\"linecolor\":\"#EBF0F8\",\"showbackground\":true,\"ticks\":\"\",\"zerolinecolor\":\"#EBF0F8\"}},\"shapedefaults\":{\"line\":{\"color\":\"#2a3f5f\"}},\"ternary\":{\"aaxis\":{\"gridcolor\":\"#DFE8F3\",\"linecolor\":\"#A2B1C6\",\"ticks\":\"\"},\"baxis\":{\"gridcolor\":\"#DFE8F3\",\"linecolor\":\"#A2B1C6\",\"ticks\":\"\"},\"bgcolor\":\"white\",\"caxis\":{\"gridcolor\":\"#DFE8F3\",\"linecolor\":\"#A2B1C6\",\"ticks\":\"\"}},\"title\":{\"x\":0.05},\"xaxis\":{\"automargin\":true,\"gridcolor\":\"#EBF0F8\",\"linecolor\":\"#EBF0F8\",\"ticks\":\"\",\"title\":{\"standoff\":15},\"zerolinecolor\":\"#EBF0F8\",\"zerolinewidth\":2},\"yaxis\":{\"automargin\":true,\"gridcolor\":\"#EBF0F8\",\"linecolor\":\"#EBF0F8\",\"ticks\":\"\",\"title\":{\"standoff\":15},\"zerolinecolor\":\"#EBF0F8\",\"zerolinewidth\":2}}},\"title\":{\"text\":\"Number of Clinical Trials by Target Organ and Study Status\"},\"xaxis\":{\"title\":{\"text\":\"Target Organ\"}},\"yaxis\":{\"title\":{\"text\":\"Number of Trials\"}},\"barmode\":\"group\",\"updatemenus\":[{\"buttons\":[{\"args\":[{\"visible\":[true,true,true,true]}],\"label\":\"All\",\"method\":\"update\"},{\"args\":[{\"visible\":[true,false,false,false]}],\"label\":\"Recruiting\",\"method\":\"update\"},{\"args\":[{\"visible\":[false,true,false,false]}],\"label\":\"Active\",\"method\":\"update\"},{\"args\":[{\"visible\":[false,false,true,false]}],\"label\":\"Completed\",\"method\":\"update\"},{\"args\":[{\"visible\":[false,false,false,true]}],\"label\":\"Terminated\",\"method\":\"update\"}],\"direction\":\"down\",\"showactive\":true}]},                        {\"responsive\": true}                    ).then(function(){\n",
       "                            \n",
       "var gd = document.getElementById('00f027ad-7da3-4a17-b290-9611ca80f191');\n",
       "var x = new MutationObserver(function (mutations, observer) {{\n",
       "        var display = window.getComputedStyle(gd).display;\n",
       "        if (!display || display === 'none') {{\n",
       "            console.log([gd, 'removed!']);\n",
       "            Plotly.purge(gd);\n",
       "            observer.disconnect();\n",
       "        }}\n",
       "}});\n",
       "\n",
       "// Listen for the removal of the full notebook cells\n",
       "var notebookContainer = gd.closest('#notebook-container');\n",
       "if (notebookContainer) {{\n",
       "    x.observe(notebookContainer, {childList: true});\n",
       "}}\n",
       "\n",
       "// Listen for the clearing of the current output cell\n",
       "var outputEl = gd.closest('.output');\n",
       "if (outputEl) {{\n",
       "    x.observe(outputEl, {childList: true});\n",
       "}}\n",
       "\n",
       "                        })                };                });            </script>        </div>"
      ]
     },
     "metadata": {},
     "output_type": "display_data"
    }
   ],
   "source": [
    "def create_trace(trial_status, color):\n",
    "    filtered_df = New_Reduced_df[New_Reduced_df['Study Status'] == trial_status]\n",
    "    trial_counts = filtered_df.groupby('Major Condition')['NCT Number'].nunique().reset_index()\n",
    "    trial_counts.columns = ['Major Condition', 'Number of Trials']\n",
    "    return go.Bar(\n",
    "        x = trial_counts['Major Condition'],\n",
    "        y = trial_counts['Number of Trials'],\n",
    "        name = trial_status,\n",
    "        marker = dict(color = color)\n",
    "    )\n",
    "\n",
    "# Create traces for each study status\n",
    "trace_recruiting = create_trace('RECRUITING', 'aquamarine')\n",
    "trace_active = create_trace('ACTIVE_NOT_RECRUITING', 'coral')\n",
    "trace_completed = create_trace('COMPLETED', 'purple')\n",
    "trace_terminated = create_trace('TERMINATED', 'olive')\n",
    "\n",
    "# Create the figure and add the traces\n",
    "fig = go.Figure()\n",
    "\n",
    "fig.add_trace(trace_recruiting)\n",
    "fig.add_trace(trace_active)\n",
    "fig.add_trace(trace_completed)\n",
    "fig.add_trace(trace_terminated)\n",
    "\n",
    "# Customize layout\n",
    "fig.update_layout(\n",
    "    title='Number of Clinical Trials by Target Organ and Study Status',\n",
    "    xaxis_title='Target Organ',\n",
    "    yaxis_title='Number of Trials',\n",
    "    template='plotly_white',\n",
    "    barmode='group',  \n",
    "    updatemenus=[{\n",
    "        'buttons': [\n",
    "            {\n",
    "                'label': 'All',\n",
    "                'method': 'update',\n",
    "                'args': [{'visible': [True, True, True, True]}]  # Show all traces\n",
    "            },\n",
    "            {\n",
    "                'label': 'Recruiting',\n",
    "                'method': 'update',\n",
    "                'args': [{'visible': [True, False, False, False]}]  # Show Recruiting traces\n",
    "            },\n",
    "            {\n",
    "                'label': 'Active',\n",
    "                'method': 'update',\n",
    "                'args': [{'visible': [False, True, False, False]}]  # Show only Active trace\n",
    "            },\n",
    "            {\n",
    "                'label': 'Completed',\n",
    "                'method': 'update',\n",
    "                'args': [{'visible': [False, False, True, False]}]  # Show only Completed trace\n",
    "            },\n",
    "            {\n",
    "                'label': 'Terminated',\n",
    "                'method': 'update',\n",
    "                'args': [{'visible': [False, False, False, True]}]  # Show only Terminated trace\n",
    "            }\n",
    "        ],\n",
    "        'direction': 'down',\n",
    "        'showactive': True\n",
    "    }]\n",
    ")\n",
    "# Show the plot\n",
    "fig.show()\n",
    "\n",
    "# Save the figure as a PNG image\n",
    "pio.write_image(fig, 'clinical_trials_static.png', format='png')"
   ]
  },
  {
   "cell_type": "markdown",
   "id": "b23fc9a5",
   "metadata": {},
   "source": [
    "# Plot interactive bar chart: Major conditions, and phases"
   ]
  },
  {
   "cell_type": "code",
   "execution_count": 50,
   "id": "8082a6fe",
   "metadata": {
    "scrolled": true
   },
   "outputs": [
    {
     "data": {
      "application/vnd.jupyter.widget-view+json": {
       "model_id": "3c65618771aa40eaa2af1f77f87f861b",
       "version_major": 2,
       "version_minor": 0
      },
      "text/plain": [
       "Button(description='Update Plot', style=ButtonStyle())"
      ]
     },
     "metadata": {},
     "output_type": "display_data"
    },
    {
     "data": {
      "application/vnd.plotly.v1+json": {
       "config": {
        "plotlyServerURL": "https://plot.ly"
       },
       "data": [
        {
         "marker": {
          "color": "#5DADE2"
         },
         "name": "EARLY_PHASE1",
         "type": "bar",
         "x": [
          "Blood Cancer",
          "Other"
         ],
         "y": [
          2,
          2
         ]
        },
        {
         "marker": {
          "color": "#E07B39"
         },
         "name": "PHASE1",
         "type": "bar",
         "x": [
          "Blood Cancer",
          "Brain Cancer",
          "Lung Cancer",
          "Other",
          "Prostate Cancer"
         ],
         "y": [
          22,
          9,
          28,
          24,
          9
         ]
        },
        {
         "marker": {
          "color": "#808000"
         },
         "name": "PHASE2",
         "type": "bar",
         "x": [
          "Blood Cancer",
          "Brain Cancer",
          "Lung Cancer",
          "Lymphoma Cancer",
          "Other",
          "Pancreatic Cancer",
          "Prostate Cancer",
          "breast Cancer",
          "kidney Cancer"
         ],
         "y": [
          66,
          34,
          71,
          6,
          87,
          4,
          4,
          8,
          13
         ]
        },
        {
         "marker": {
          "color": "#BC8F8F"
         },
         "name": "PHASE3",
         "type": "bar",
         "x": [
          "Blood Cancer",
          "Brain Cancer",
          "Lung Cancer",
          "Other",
          "breast Cancer",
          "kidney Cancer"
         ],
         "y": [
          23,
          7,
          32,
          15,
          1,
          2
         ]
        }
       ],
       "layout": {
        "barmode": "stack",
        "template": {
         "data": {
          "bar": [
           {
            "error_x": {
             "color": "#2a3f5f"
            },
            "error_y": {
             "color": "#2a3f5f"
            },
            "marker": {
             "line": {
              "color": "white",
              "width": 0.5
             },
             "pattern": {
              "fillmode": "overlay",
              "size": 10,
              "solidity": 0.2
             }
            },
            "type": "bar"
           }
          ],
          "barpolar": [
           {
            "marker": {
             "line": {
              "color": "white",
              "width": 0.5
             },
             "pattern": {
              "fillmode": "overlay",
              "size": 10,
              "solidity": 0.2
             }
            },
            "type": "barpolar"
           }
          ],
          "carpet": [
           {
            "aaxis": {
             "endlinecolor": "#2a3f5f",
             "gridcolor": "#C8D4E3",
             "linecolor": "#C8D4E3",
             "minorgridcolor": "#C8D4E3",
             "startlinecolor": "#2a3f5f"
            },
            "baxis": {
             "endlinecolor": "#2a3f5f",
             "gridcolor": "#C8D4E3",
             "linecolor": "#C8D4E3",
             "minorgridcolor": "#C8D4E3",
             "startlinecolor": "#2a3f5f"
            },
            "type": "carpet"
           }
          ],
          "choropleth": [
           {
            "colorbar": {
             "outlinewidth": 0,
             "ticks": ""
            },
            "type": "choropleth"
           }
          ],
          "contour": [
           {
            "colorbar": {
             "outlinewidth": 0,
             "ticks": ""
            },
            "colorscale": [
             [
              0,
              "#0d0887"
             ],
             [
              0.1111111111111111,
              "#46039f"
             ],
             [
              0.2222222222222222,
              "#7201a8"
             ],
             [
              0.3333333333333333,
              "#9c179e"
             ],
             [
              0.4444444444444444,
              "#bd3786"
             ],
             [
              0.5555555555555556,
              "#d8576b"
             ],
             [
              0.6666666666666666,
              "#ed7953"
             ],
             [
              0.7777777777777778,
              "#fb9f3a"
             ],
             [
              0.8888888888888888,
              "#fdca26"
             ],
             [
              1,
              "#f0f921"
             ]
            ],
            "type": "contour"
           }
          ],
          "contourcarpet": [
           {
            "colorbar": {
             "outlinewidth": 0,
             "ticks": ""
            },
            "type": "contourcarpet"
           }
          ],
          "heatmap": [
           {
            "colorbar": {
             "outlinewidth": 0,
             "ticks": ""
            },
            "colorscale": [
             [
              0,
              "#0d0887"
             ],
             [
              0.1111111111111111,
              "#46039f"
             ],
             [
              0.2222222222222222,
              "#7201a8"
             ],
             [
              0.3333333333333333,
              "#9c179e"
             ],
             [
              0.4444444444444444,
              "#bd3786"
             ],
             [
              0.5555555555555556,
              "#d8576b"
             ],
             [
              0.6666666666666666,
              "#ed7953"
             ],
             [
              0.7777777777777778,
              "#fb9f3a"
             ],
             [
              0.8888888888888888,
              "#fdca26"
             ],
             [
              1,
              "#f0f921"
             ]
            ],
            "type": "heatmap"
           }
          ],
          "heatmapgl": [
           {
            "colorbar": {
             "outlinewidth": 0,
             "ticks": ""
            },
            "colorscale": [
             [
              0,
              "#0d0887"
             ],
             [
              0.1111111111111111,
              "#46039f"
             ],
             [
              0.2222222222222222,
              "#7201a8"
             ],
             [
              0.3333333333333333,
              "#9c179e"
             ],
             [
              0.4444444444444444,
              "#bd3786"
             ],
             [
              0.5555555555555556,
              "#d8576b"
             ],
             [
              0.6666666666666666,
              "#ed7953"
             ],
             [
              0.7777777777777778,
              "#fb9f3a"
             ],
             [
              0.8888888888888888,
              "#fdca26"
             ],
             [
              1,
              "#f0f921"
             ]
            ],
            "type": "heatmapgl"
           }
          ],
          "histogram": [
           {
            "marker": {
             "pattern": {
              "fillmode": "overlay",
              "size": 10,
              "solidity": 0.2
             }
            },
            "type": "histogram"
           }
          ],
          "histogram2d": [
           {
            "colorbar": {
             "outlinewidth": 0,
             "ticks": ""
            },
            "colorscale": [
             [
              0,
              "#0d0887"
             ],
             [
              0.1111111111111111,
              "#46039f"
             ],
             [
              0.2222222222222222,
              "#7201a8"
             ],
             [
              0.3333333333333333,
              "#9c179e"
             ],
             [
              0.4444444444444444,
              "#bd3786"
             ],
             [
              0.5555555555555556,
              "#d8576b"
             ],
             [
              0.6666666666666666,
              "#ed7953"
             ],
             [
              0.7777777777777778,
              "#fb9f3a"
             ],
             [
              0.8888888888888888,
              "#fdca26"
             ],
             [
              1,
              "#f0f921"
             ]
            ],
            "type": "histogram2d"
           }
          ],
          "histogram2dcontour": [
           {
            "colorbar": {
             "outlinewidth": 0,
             "ticks": ""
            },
            "colorscale": [
             [
              0,
              "#0d0887"
             ],
             [
              0.1111111111111111,
              "#46039f"
             ],
             [
              0.2222222222222222,
              "#7201a8"
             ],
             [
              0.3333333333333333,
              "#9c179e"
             ],
             [
              0.4444444444444444,
              "#bd3786"
             ],
             [
              0.5555555555555556,
              "#d8576b"
             ],
             [
              0.6666666666666666,
              "#ed7953"
             ],
             [
              0.7777777777777778,
              "#fb9f3a"
             ],
             [
              0.8888888888888888,
              "#fdca26"
             ],
             [
              1,
              "#f0f921"
             ]
            ],
            "type": "histogram2dcontour"
           }
          ],
          "mesh3d": [
           {
            "colorbar": {
             "outlinewidth": 0,
             "ticks": ""
            },
            "type": "mesh3d"
           }
          ],
          "parcoords": [
           {
            "line": {
             "colorbar": {
              "outlinewidth": 0,
              "ticks": ""
             }
            },
            "type": "parcoords"
           }
          ],
          "pie": [
           {
            "automargin": true,
            "type": "pie"
           }
          ],
          "scatter": [
           {
            "fillpattern": {
             "fillmode": "overlay",
             "size": 10,
             "solidity": 0.2
            },
            "type": "scatter"
           }
          ],
          "scatter3d": [
           {
            "line": {
             "colorbar": {
              "outlinewidth": 0,
              "ticks": ""
             }
            },
            "marker": {
             "colorbar": {
              "outlinewidth": 0,
              "ticks": ""
             }
            },
            "type": "scatter3d"
           }
          ],
          "scattercarpet": [
           {
            "marker": {
             "colorbar": {
              "outlinewidth": 0,
              "ticks": ""
             }
            },
            "type": "scattercarpet"
           }
          ],
          "scattergeo": [
           {
            "marker": {
             "colorbar": {
              "outlinewidth": 0,
              "ticks": ""
             }
            },
            "type": "scattergeo"
           }
          ],
          "scattergl": [
           {
            "marker": {
             "colorbar": {
              "outlinewidth": 0,
              "ticks": ""
             }
            },
            "type": "scattergl"
           }
          ],
          "scattermapbox": [
           {
            "marker": {
             "colorbar": {
              "outlinewidth": 0,
              "ticks": ""
             }
            },
            "type": "scattermapbox"
           }
          ],
          "scatterpolar": [
           {
            "marker": {
             "colorbar": {
              "outlinewidth": 0,
              "ticks": ""
             }
            },
            "type": "scatterpolar"
           }
          ],
          "scatterpolargl": [
           {
            "marker": {
             "colorbar": {
              "outlinewidth": 0,
              "ticks": ""
             }
            },
            "type": "scatterpolargl"
           }
          ],
          "scatterternary": [
           {
            "marker": {
             "colorbar": {
              "outlinewidth": 0,
              "ticks": ""
             }
            },
            "type": "scatterternary"
           }
          ],
          "surface": [
           {
            "colorbar": {
             "outlinewidth": 0,
             "ticks": ""
            },
            "colorscale": [
             [
              0,
              "#0d0887"
             ],
             [
              0.1111111111111111,
              "#46039f"
             ],
             [
              0.2222222222222222,
              "#7201a8"
             ],
             [
              0.3333333333333333,
              "#9c179e"
             ],
             [
              0.4444444444444444,
              "#bd3786"
             ],
             [
              0.5555555555555556,
              "#d8576b"
             ],
             [
              0.6666666666666666,
              "#ed7953"
             ],
             [
              0.7777777777777778,
              "#fb9f3a"
             ],
             [
              0.8888888888888888,
              "#fdca26"
             ],
             [
              1,
              "#f0f921"
             ]
            ],
            "type": "surface"
           }
          ],
          "table": [
           {
            "cells": {
             "fill": {
              "color": "#EBF0F8"
             },
             "line": {
              "color": "white"
             }
            },
            "header": {
             "fill": {
              "color": "#C8D4E3"
             },
             "line": {
              "color": "white"
             }
            },
            "type": "table"
           }
          ]
         },
         "layout": {
          "annotationdefaults": {
           "arrowcolor": "#2a3f5f",
           "arrowhead": 0,
           "arrowwidth": 1
          },
          "autotypenumbers": "strict",
          "coloraxis": {
           "colorbar": {
            "outlinewidth": 0,
            "ticks": ""
           }
          },
          "colorscale": {
           "diverging": [
            [
             0,
             "#8e0152"
            ],
            [
             0.1,
             "#c51b7d"
            ],
            [
             0.2,
             "#de77ae"
            ],
            [
             0.3,
             "#f1b6da"
            ],
            [
             0.4,
             "#fde0ef"
            ],
            [
             0.5,
             "#f7f7f7"
            ],
            [
             0.6,
             "#e6f5d0"
            ],
            [
             0.7,
             "#b8e186"
            ],
            [
             0.8,
             "#7fbc41"
            ],
            [
             0.9,
             "#4d9221"
            ],
            [
             1,
             "#276419"
            ]
           ],
           "sequential": [
            [
             0,
             "#0d0887"
            ],
            [
             0.1111111111111111,
             "#46039f"
            ],
            [
             0.2222222222222222,
             "#7201a8"
            ],
            [
             0.3333333333333333,
             "#9c179e"
            ],
            [
             0.4444444444444444,
             "#bd3786"
            ],
            [
             0.5555555555555556,
             "#d8576b"
            ],
            [
             0.6666666666666666,
             "#ed7953"
            ],
            [
             0.7777777777777778,
             "#fb9f3a"
            ],
            [
             0.8888888888888888,
             "#fdca26"
            ],
            [
             1,
             "#f0f921"
            ]
           ],
           "sequentialminus": [
            [
             0,
             "#0d0887"
            ],
            [
             0.1111111111111111,
             "#46039f"
            ],
            [
             0.2222222222222222,
             "#7201a8"
            ],
            [
             0.3333333333333333,
             "#9c179e"
            ],
            [
             0.4444444444444444,
             "#bd3786"
            ],
            [
             0.5555555555555556,
             "#d8576b"
            ],
            [
             0.6666666666666666,
             "#ed7953"
            ],
            [
             0.7777777777777778,
             "#fb9f3a"
            ],
            [
             0.8888888888888888,
             "#fdca26"
            ],
            [
             1,
             "#f0f921"
            ]
           ]
          },
          "colorway": [
           "#636efa",
           "#EF553B",
           "#00cc96",
           "#ab63fa",
           "#FFA15A",
           "#19d3f3",
           "#FF6692",
           "#B6E880",
           "#FF97FF",
           "#FECB52"
          ],
          "font": {
           "color": "#2a3f5f"
          },
          "geo": {
           "bgcolor": "white",
           "lakecolor": "white",
           "landcolor": "white",
           "showlakes": true,
           "showland": true,
           "subunitcolor": "#C8D4E3"
          },
          "hoverlabel": {
           "align": "left"
          },
          "hovermode": "closest",
          "mapbox": {
           "style": "light"
          },
          "paper_bgcolor": "white",
          "plot_bgcolor": "white",
          "polar": {
           "angularaxis": {
            "gridcolor": "#EBF0F8",
            "linecolor": "#EBF0F8",
            "ticks": ""
           },
           "bgcolor": "white",
           "radialaxis": {
            "gridcolor": "#EBF0F8",
            "linecolor": "#EBF0F8",
            "ticks": ""
           }
          },
          "scene": {
           "xaxis": {
            "backgroundcolor": "white",
            "gridcolor": "#DFE8F3",
            "gridwidth": 2,
            "linecolor": "#EBF0F8",
            "showbackground": true,
            "ticks": "",
            "zerolinecolor": "#EBF0F8"
           },
           "yaxis": {
            "backgroundcolor": "white",
            "gridcolor": "#DFE8F3",
            "gridwidth": 2,
            "linecolor": "#EBF0F8",
            "showbackground": true,
            "ticks": "",
            "zerolinecolor": "#EBF0F8"
           },
           "zaxis": {
            "backgroundcolor": "white",
            "gridcolor": "#DFE8F3",
            "gridwidth": 2,
            "linecolor": "#EBF0F8",
            "showbackground": true,
            "ticks": "",
            "zerolinecolor": "#EBF0F8"
           }
          },
          "shapedefaults": {
           "line": {
            "color": "#2a3f5f"
           }
          },
          "ternary": {
           "aaxis": {
            "gridcolor": "#DFE8F3",
            "linecolor": "#A2B1C6",
            "ticks": ""
           },
           "baxis": {
            "gridcolor": "#DFE8F3",
            "linecolor": "#A2B1C6",
            "ticks": ""
           },
           "bgcolor": "white",
           "caxis": {
            "gridcolor": "#DFE8F3",
            "linecolor": "#A2B1C6",
            "ticks": ""
           }
          },
          "title": {
           "x": 0.05
          },
          "xaxis": {
           "automargin": true,
           "gridcolor": "#EBF0F8",
           "linecolor": "#EBF0F8",
           "ticks": "",
           "title": {
            "standoff": 15
           },
           "zerolinecolor": "#EBF0F8",
           "zerolinewidth": 2
          },
          "yaxis": {
           "automargin": true,
           "gridcolor": "#EBF0F8",
           "linecolor": "#EBF0F8",
           "ticks": "",
           "title": {
            "standoff": 15
           },
           "zerolinecolor": "#EBF0F8",
           "zerolinewidth": 2
          }
         }
        },
        "title": {
         "text": "Number of Active Studies by Major Condition and Phases"
        },
        "updatemenus": [
         {
          "buttons": [
           {
            "args": [
             {
              "visible": [
               true,
               true,
               true,
               true
              ]
             }
            ],
            "label": "All",
            "method": "update"
           },
           {
            "args": [
             {
              "visible": [
               true,
               false,
               false,
               false
              ]
             }
            ],
            "label": "EARLY_PHASE1",
            "method": "update"
           },
           {
            "args": [
             {
              "visible": [
               false,
               true,
               false,
               false
              ]
             }
            ],
            "label": "PHASE1",
            "method": "update"
           },
           {
            "args": [
             {
              "visible": [
               false,
               false,
               true,
               false
              ]
             }
            ],
            "label": "PHASE2",
            "method": "update"
           },
           {
            "args": [
             {
              "visible": [
               false,
               false,
               false,
               true
              ]
             }
            ],
            "label": "PHASE3",
            "method": "update"
           }
          ],
          "direction": "down",
          "showactive": true
         }
        ],
        "xaxis": {
         "title": {
          "text": "Major Condition"
         }
        },
        "yaxis": {
         "title": {
          "text": "Number of Active Studies"
         }
        }
       }
      },
      "text/html": [
       "<div>                            <div id=\"57915d06-04a6-4d2a-a947-a8649f5b3615\" class=\"plotly-graph-div\" style=\"height:525px; width:100%;\"></div>            <script type=\"text/javascript\">                require([\"plotly\"], function(Plotly) {                    window.PLOTLYENV=window.PLOTLYENV || {};                                    if (document.getElementById(\"57915d06-04a6-4d2a-a947-a8649f5b3615\")) {                    Plotly.newPlot(                        \"57915d06-04a6-4d2a-a947-a8649f5b3615\",                        [{\"marker\":{\"color\":\"#5DADE2\"},\"name\":\"EARLY_PHASE1\",\"x\":[\"Blood Cancer\",\"Other\"],\"y\":[2,2],\"type\":\"bar\"},{\"marker\":{\"color\":\"#E07B39\"},\"name\":\"PHASE1\",\"x\":[\"Blood Cancer\",\"Brain Cancer\",\"Lung Cancer\",\"Other\",\"Prostate Cancer\"],\"y\":[22,9,28,24,9],\"type\":\"bar\"},{\"marker\":{\"color\":\"#808000\"},\"name\":\"PHASE2\",\"x\":[\"Blood Cancer\",\"Brain Cancer\",\"Lung Cancer\",\"Lymphoma Cancer\",\"Other\",\"Pancreatic Cancer\",\"Prostate Cancer\",\"breast Cancer\",\"kidney Cancer\"],\"y\":[66,34,71,6,87,4,4,8,13],\"type\":\"bar\"},{\"marker\":{\"color\":\"#BC8F8F\"},\"name\":\"PHASE3\",\"x\":[\"Blood Cancer\",\"Brain Cancer\",\"Lung Cancer\",\"Other\",\"breast Cancer\",\"kidney Cancer\"],\"y\":[23,7,32,15,1,2],\"type\":\"bar\"}],                        {\"template\":{\"data\":{\"barpolar\":[{\"marker\":{\"line\":{\"color\":\"white\",\"width\":0.5},\"pattern\":{\"fillmode\":\"overlay\",\"size\":10,\"solidity\":0.2}},\"type\":\"barpolar\"}],\"bar\":[{\"error_x\":{\"color\":\"#2a3f5f\"},\"error_y\":{\"color\":\"#2a3f5f\"},\"marker\":{\"line\":{\"color\":\"white\",\"width\":0.5},\"pattern\":{\"fillmode\":\"overlay\",\"size\":10,\"solidity\":0.2}},\"type\":\"bar\"}],\"carpet\":[{\"aaxis\":{\"endlinecolor\":\"#2a3f5f\",\"gridcolor\":\"#C8D4E3\",\"linecolor\":\"#C8D4E3\",\"minorgridcolor\":\"#C8D4E3\",\"startlinecolor\":\"#2a3f5f\"},\"baxis\":{\"endlinecolor\":\"#2a3f5f\",\"gridcolor\":\"#C8D4E3\",\"linecolor\":\"#C8D4E3\",\"minorgridcolor\":\"#C8D4E3\",\"startlinecolor\":\"#2a3f5f\"},\"type\":\"carpet\"}],\"choropleth\":[{\"colorbar\":{\"outlinewidth\":0,\"ticks\":\"\"},\"type\":\"choropleth\"}],\"contourcarpet\":[{\"colorbar\":{\"outlinewidth\":0,\"ticks\":\"\"},\"type\":\"contourcarpet\"}],\"contour\":[{\"colorbar\":{\"outlinewidth\":0,\"ticks\":\"\"},\"colorscale\":[[0.0,\"#0d0887\"],[0.1111111111111111,\"#46039f\"],[0.2222222222222222,\"#7201a8\"],[0.3333333333333333,\"#9c179e\"],[0.4444444444444444,\"#bd3786\"],[0.5555555555555556,\"#d8576b\"],[0.6666666666666666,\"#ed7953\"],[0.7777777777777778,\"#fb9f3a\"],[0.8888888888888888,\"#fdca26\"],[1.0,\"#f0f921\"]],\"type\":\"contour\"}],\"heatmapgl\":[{\"colorbar\":{\"outlinewidth\":0,\"ticks\":\"\"},\"colorscale\":[[0.0,\"#0d0887\"],[0.1111111111111111,\"#46039f\"],[0.2222222222222222,\"#7201a8\"],[0.3333333333333333,\"#9c179e\"],[0.4444444444444444,\"#bd3786\"],[0.5555555555555556,\"#d8576b\"],[0.6666666666666666,\"#ed7953\"],[0.7777777777777778,\"#fb9f3a\"],[0.8888888888888888,\"#fdca26\"],[1.0,\"#f0f921\"]],\"type\":\"heatmapgl\"}],\"heatmap\":[{\"colorbar\":{\"outlinewidth\":0,\"ticks\":\"\"},\"colorscale\":[[0.0,\"#0d0887\"],[0.1111111111111111,\"#46039f\"],[0.2222222222222222,\"#7201a8\"],[0.3333333333333333,\"#9c179e\"],[0.4444444444444444,\"#bd3786\"],[0.5555555555555556,\"#d8576b\"],[0.6666666666666666,\"#ed7953\"],[0.7777777777777778,\"#fb9f3a\"],[0.8888888888888888,\"#fdca26\"],[1.0,\"#f0f921\"]],\"type\":\"heatmap\"}],\"histogram2dcontour\":[{\"colorbar\":{\"outlinewidth\":0,\"ticks\":\"\"},\"colorscale\":[[0.0,\"#0d0887\"],[0.1111111111111111,\"#46039f\"],[0.2222222222222222,\"#7201a8\"],[0.3333333333333333,\"#9c179e\"],[0.4444444444444444,\"#bd3786\"],[0.5555555555555556,\"#d8576b\"],[0.6666666666666666,\"#ed7953\"],[0.7777777777777778,\"#fb9f3a\"],[0.8888888888888888,\"#fdca26\"],[1.0,\"#f0f921\"]],\"type\":\"histogram2dcontour\"}],\"histogram2d\":[{\"colorbar\":{\"outlinewidth\":0,\"ticks\":\"\"},\"colorscale\":[[0.0,\"#0d0887\"],[0.1111111111111111,\"#46039f\"],[0.2222222222222222,\"#7201a8\"],[0.3333333333333333,\"#9c179e\"],[0.4444444444444444,\"#bd3786\"],[0.5555555555555556,\"#d8576b\"],[0.6666666666666666,\"#ed7953\"],[0.7777777777777778,\"#fb9f3a\"],[0.8888888888888888,\"#fdca26\"],[1.0,\"#f0f921\"]],\"type\":\"histogram2d\"}],\"histogram\":[{\"marker\":{\"pattern\":{\"fillmode\":\"overlay\",\"size\":10,\"solidity\":0.2}},\"type\":\"histogram\"}],\"mesh3d\":[{\"colorbar\":{\"outlinewidth\":0,\"ticks\":\"\"},\"type\":\"mesh3d\"}],\"parcoords\":[{\"line\":{\"colorbar\":{\"outlinewidth\":0,\"ticks\":\"\"}},\"type\":\"parcoords\"}],\"pie\":[{\"automargin\":true,\"type\":\"pie\"}],\"scatter3d\":[{\"line\":{\"colorbar\":{\"outlinewidth\":0,\"ticks\":\"\"}},\"marker\":{\"colorbar\":{\"outlinewidth\":0,\"ticks\":\"\"}},\"type\":\"scatter3d\"}],\"scattercarpet\":[{\"marker\":{\"colorbar\":{\"outlinewidth\":0,\"ticks\":\"\"}},\"type\":\"scattercarpet\"}],\"scattergeo\":[{\"marker\":{\"colorbar\":{\"outlinewidth\":0,\"ticks\":\"\"}},\"type\":\"scattergeo\"}],\"scattergl\":[{\"marker\":{\"colorbar\":{\"outlinewidth\":0,\"ticks\":\"\"}},\"type\":\"scattergl\"}],\"scattermapbox\":[{\"marker\":{\"colorbar\":{\"outlinewidth\":0,\"ticks\":\"\"}},\"type\":\"scattermapbox\"}],\"scatterpolargl\":[{\"marker\":{\"colorbar\":{\"outlinewidth\":0,\"ticks\":\"\"}},\"type\":\"scatterpolargl\"}],\"scatterpolar\":[{\"marker\":{\"colorbar\":{\"outlinewidth\":0,\"ticks\":\"\"}},\"type\":\"scatterpolar\"}],\"scatter\":[{\"fillpattern\":{\"fillmode\":\"overlay\",\"size\":10,\"solidity\":0.2},\"type\":\"scatter\"}],\"scatterternary\":[{\"marker\":{\"colorbar\":{\"outlinewidth\":0,\"ticks\":\"\"}},\"type\":\"scatterternary\"}],\"surface\":[{\"colorbar\":{\"outlinewidth\":0,\"ticks\":\"\"},\"colorscale\":[[0.0,\"#0d0887\"],[0.1111111111111111,\"#46039f\"],[0.2222222222222222,\"#7201a8\"],[0.3333333333333333,\"#9c179e\"],[0.4444444444444444,\"#bd3786\"],[0.5555555555555556,\"#d8576b\"],[0.6666666666666666,\"#ed7953\"],[0.7777777777777778,\"#fb9f3a\"],[0.8888888888888888,\"#fdca26\"],[1.0,\"#f0f921\"]],\"type\":\"surface\"}],\"table\":[{\"cells\":{\"fill\":{\"color\":\"#EBF0F8\"},\"line\":{\"color\":\"white\"}},\"header\":{\"fill\":{\"color\":\"#C8D4E3\"},\"line\":{\"color\":\"white\"}},\"type\":\"table\"}]},\"layout\":{\"annotationdefaults\":{\"arrowcolor\":\"#2a3f5f\",\"arrowhead\":0,\"arrowwidth\":1},\"autotypenumbers\":\"strict\",\"coloraxis\":{\"colorbar\":{\"outlinewidth\":0,\"ticks\":\"\"}},\"colorscale\":{\"diverging\":[[0,\"#8e0152\"],[0.1,\"#c51b7d\"],[0.2,\"#de77ae\"],[0.3,\"#f1b6da\"],[0.4,\"#fde0ef\"],[0.5,\"#f7f7f7\"],[0.6,\"#e6f5d0\"],[0.7,\"#b8e186\"],[0.8,\"#7fbc41\"],[0.9,\"#4d9221\"],[1,\"#276419\"]],\"sequential\":[[0.0,\"#0d0887\"],[0.1111111111111111,\"#46039f\"],[0.2222222222222222,\"#7201a8\"],[0.3333333333333333,\"#9c179e\"],[0.4444444444444444,\"#bd3786\"],[0.5555555555555556,\"#d8576b\"],[0.6666666666666666,\"#ed7953\"],[0.7777777777777778,\"#fb9f3a\"],[0.8888888888888888,\"#fdca26\"],[1.0,\"#f0f921\"]],\"sequentialminus\":[[0.0,\"#0d0887\"],[0.1111111111111111,\"#46039f\"],[0.2222222222222222,\"#7201a8\"],[0.3333333333333333,\"#9c179e\"],[0.4444444444444444,\"#bd3786\"],[0.5555555555555556,\"#d8576b\"],[0.6666666666666666,\"#ed7953\"],[0.7777777777777778,\"#fb9f3a\"],[0.8888888888888888,\"#fdca26\"],[1.0,\"#f0f921\"]]},\"colorway\":[\"#636efa\",\"#EF553B\",\"#00cc96\",\"#ab63fa\",\"#FFA15A\",\"#19d3f3\",\"#FF6692\",\"#B6E880\",\"#FF97FF\",\"#FECB52\"],\"font\":{\"color\":\"#2a3f5f\"},\"geo\":{\"bgcolor\":\"white\",\"lakecolor\":\"white\",\"landcolor\":\"white\",\"showlakes\":true,\"showland\":true,\"subunitcolor\":\"#C8D4E3\"},\"hoverlabel\":{\"align\":\"left\"},\"hovermode\":\"closest\",\"mapbox\":{\"style\":\"light\"},\"paper_bgcolor\":\"white\",\"plot_bgcolor\":\"white\",\"polar\":{\"angularaxis\":{\"gridcolor\":\"#EBF0F8\",\"linecolor\":\"#EBF0F8\",\"ticks\":\"\"},\"bgcolor\":\"white\",\"radialaxis\":{\"gridcolor\":\"#EBF0F8\",\"linecolor\":\"#EBF0F8\",\"ticks\":\"\"}},\"scene\":{\"xaxis\":{\"backgroundcolor\":\"white\",\"gridcolor\":\"#DFE8F3\",\"gridwidth\":2,\"linecolor\":\"#EBF0F8\",\"showbackground\":true,\"ticks\":\"\",\"zerolinecolor\":\"#EBF0F8\"},\"yaxis\":{\"backgroundcolor\":\"white\",\"gridcolor\":\"#DFE8F3\",\"gridwidth\":2,\"linecolor\":\"#EBF0F8\",\"showbackground\":true,\"ticks\":\"\",\"zerolinecolor\":\"#EBF0F8\"},\"zaxis\":{\"backgroundcolor\":\"white\",\"gridcolor\":\"#DFE8F3\",\"gridwidth\":2,\"linecolor\":\"#EBF0F8\",\"showbackground\":true,\"ticks\":\"\",\"zerolinecolor\":\"#EBF0F8\"}},\"shapedefaults\":{\"line\":{\"color\":\"#2a3f5f\"}},\"ternary\":{\"aaxis\":{\"gridcolor\":\"#DFE8F3\",\"linecolor\":\"#A2B1C6\",\"ticks\":\"\"},\"baxis\":{\"gridcolor\":\"#DFE8F3\",\"linecolor\":\"#A2B1C6\",\"ticks\":\"\"},\"bgcolor\":\"white\",\"caxis\":{\"gridcolor\":\"#DFE8F3\",\"linecolor\":\"#A2B1C6\",\"ticks\":\"\"}},\"title\":{\"x\":0.05},\"xaxis\":{\"automargin\":true,\"gridcolor\":\"#EBF0F8\",\"linecolor\":\"#EBF0F8\",\"ticks\":\"\",\"title\":{\"standoff\":15},\"zerolinecolor\":\"#EBF0F8\",\"zerolinewidth\":2},\"yaxis\":{\"automargin\":true,\"gridcolor\":\"#EBF0F8\",\"linecolor\":\"#EBF0F8\",\"ticks\":\"\",\"title\":{\"standoff\":15},\"zerolinecolor\":\"#EBF0F8\",\"zerolinewidth\":2}}},\"title\":{\"text\":\"Number of Active Studies by Major Condition and Phases\"},\"xaxis\":{\"title\":{\"text\":\"Major Condition\"}},\"yaxis\":{\"title\":{\"text\":\"Number of Active Studies\"}},\"barmode\":\"stack\",\"updatemenus\":[{\"buttons\":[{\"args\":[{\"visible\":[true,true,true,true]}],\"label\":\"All\",\"method\":\"update\"},{\"args\":[{\"visible\":[true,false,false,false]}],\"label\":\"EARLY_PHASE1\",\"method\":\"update\"},{\"args\":[{\"visible\":[false,true,false,false]}],\"label\":\"PHASE1\",\"method\":\"update\"},{\"args\":[{\"visible\":[false,false,true,false]}],\"label\":\"PHASE2\",\"method\":\"update\"},{\"args\":[{\"visible\":[false,false,false,true]}],\"label\":\"PHASE3\",\"method\":\"update\"}],\"direction\":\"down\",\"showactive\":true}]},                        {\"responsive\": true}                    ).then(function(){\n",
       "                            \n",
       "var gd = document.getElementById('57915d06-04a6-4d2a-a947-a8649f5b3615');\n",
       "var x = new MutationObserver(function (mutations, observer) {{\n",
       "        var display = window.getComputedStyle(gd).display;\n",
       "        if (!display || display === 'none') {{\n",
       "            console.log([gd, 'removed!']);\n",
       "            Plotly.purge(gd);\n",
       "            observer.disconnect();\n",
       "        }}\n",
       "}});\n",
       "\n",
       "// Listen for the removal of the full notebook cells\n",
       "var notebookContainer = gd.closest('#notebook-container');\n",
       "if (notebookContainer) {{\n",
       "    x.observe(notebookContainer, {childList: true});\n",
       "}}\n",
       "\n",
       "// Listen for the clearing of the current output cell\n",
       "var outputEl = gd.closest('.output');\n",
       "if (outputEl) {{\n",
       "    x.observe(outputEl, {childList: true});\n",
       "}}\n",
       "\n",
       "                        })                };                });            </script>        </div>"
      ]
     },
     "metadata": {},
     "output_type": "display_data"
    }
   ],
   "source": [
    "# Group by 'Major Condition' and 'Phases' and count the occurrences\n",
    "phases_counts = active_studies_df.groupby(['Major Condition', 'Phases']).size().reset_index(name='Counts')\n",
    "\n",
    "# Define a list of colors for different phases\n",
    "colors = ['#5DADE2', '#E07B39', '#808000', '#BC8F8F','#9467bd','#8c564b','#e377c2','#7f7f7f', '#bcbd22','#17becf']\n",
    "\n",
    "# Create a function to create traces for each phase\n",
    "def create_trace(phase, color):\n",
    "    phase_data = phases_counts[phases_counts['Phases'] == phase]\n",
    "    return go.Bar(\n",
    "        x=phase_data['Major Condition'],\n",
    "        y=phase_data['Counts'],\n",
    "        name=phase,\n",
    "        marker=dict(color=color)\n",
    "    )\n",
    "\n",
    "# Create a function to update the plot based on the button click\n",
    "def update_plot(button):\n",
    "    # Create a bar plot\n",
    "    fig = go.Figure()\n",
    "\n",
    "    # Add a trace for each unique Phase, with a unique color\n",
    "    for i, phase in enumerate(phases_counts['Phases'].unique()):\n",
    "        fig.add_trace(create_trace(phase, colors[i % len(colors)]))\n",
    "\n",
    "    # Customize layout\n",
    "    fig.update_layout(\n",
    "        title='Number of Active Studies by Major Condition and Phases',\n",
    "        xaxis_title='Major Condition',\n",
    "        yaxis_title='Number of Active Studies',\n",
    "        template='plotly_white',\n",
    "        barmode='stack',  # Stack bars for different phases\n",
    "        updatemenus=[{\n",
    "            'buttons': [\n",
    "                {\n",
    "                    'label': 'All',\n",
    "                    'method': 'update',\n",
    "                    'args': [{'visible': [True] * len(phases_counts['Phases'].unique())}]  # Show all traces\n",
    "                },\n",
    "                *[\n",
    "                    {\n",
    "                        'label': phase,\n",
    "                        'method': 'update',\n",
    "                        'args': [{'visible': [phase == p for p in phases_counts['Phases'].unique()]}]  # Show only selected phase\n",
    "                    }\n",
    "                    for phase in phases_counts['Phases'].unique()\n",
    "                ]\n",
    "            ],\n",
    "            'direction': 'down',\n",
    "            'showactive': True\n",
    "        }]\n",
    "    )\n",
    "\n",
    "    # Show the plot\n",
    "    fig.show()\n",
    "\n",
    "    # Save the figure as a PNG image\n",
    "    pio.write_image(fig, 'Condition_phase.png', format='png')\n",
    "\n",
    "# Create a button widget\n",
    "button = widgets.Button(description=\"Update Plot\")\n",
    "\n",
    "# Link the button to the update_plot function\n",
    "button.on_click(update_plot)\n",
    "\n",
    "# Display the button\n",
    "display(button)\n",
    "\n",
    "# Optionally, you can call the function directly to display the initial plot\n",
    "update_plot(None)"
   ]
  },
  {
   "cell_type": "code",
   "execution_count": 62,
   "id": "37709855",
   "metadata": {},
   "outputs": [
    {
     "name": "stdout",
     "output_type": "stream",
     "text": [
      "Collecting psycopg2-binary\n",
      "  Downloading psycopg2_binary-2.9.9-cp311-cp311-macosx_10_9_x86_64.whl.metadata (4.4 kB)\n",
      "Downloading psycopg2_binary-2.9.9-cp311-cp311-macosx_10_9_x86_64.whl (2.8 MB)\n",
      "\u001b[2K   \u001b[90m━━━━━━━━━━━━━━━━━━━━━━━━━━━━━━━━━━━━━━━━\u001b[0m \u001b[32m2.8/2.8 MB\u001b[0m \u001b[31m2.5 MB/s\u001b[0m eta \u001b[36m0:00:00\u001b[0m00:01\u001b[0m00:01\u001b[0m\n",
      "\u001b[?25hInstalling collected packages: psycopg2-binary\n",
      "Successfully installed psycopg2-binary-2.9.9\n",
      "Note: you may need to restart the kernel to use updated packages.\n"
     ]
    }
   ],
   "source": [
    "pip install psycopg2-binary\n"
   ]
  },
  {
   "cell_type": "code",
   "execution_count": 71,
   "id": "1f5a2e89",
   "metadata": {},
   "outputs": [],
   "source": [
    "username = os.getenv('DB_USERNAME', 'default_username')\n",
    "password = os.getenv('DB_PASSWORD', 'default_password')\n",
    "host = os.getenv('DB_HOST', 'localhost')\n",
    "database = os.getenv('DB_NAME', 'default_database')\n",
    "port = '5432'\n",
    "\n",
    "if None in [username, password, host, database]:\n",
    "    print(\"Some required environment variables are missing.\")\n",
    "    username = input(\"Enter DB_USERNAME: \")\n",
    "    password = input(\"Enter DB_PASSWORD: \")\n",
    "    host = input(\"Enter DB_HOST: \")\n",
    "    database = input(\"Enter DB_NAME: \")\n"
   ]
  },
  {
   "cell_type": "code",
   "execution_count": 73,
   "id": "163ab779",
   "metadata": {
    "scrolled": true
   },
   "outputs": [],
   "source": [
    "\n",
    "from sqlalchemy import create_engine\n",
    "\n",
    "\n",
    "# Get database credentials from environment variables\n",
    "username = os.getenv('DB_USERNAME')\n",
    "password = os.getenv('DB_PASSWORD')\n",
    "host = os.getenv('DB_HOST')\n",
    "database = os.getenv('DB_NAME')\n",
    "port = '5432'  # Default PostgreSQL port\n",
    "\n",
    "# Check if any environment variables are missing\n",
    "if None in [username, password, host, database]:\n",
    "    raise ValueError(\"Some required environment variables are missing\")\n",
    "\n",
    "# Creating the connection string for SQLAlchemy\n",
    "connection_string = f'postgresql+psycopg2://{username}:{password}@{host}:{port}/{database}'\n",
    "\n",
    "# Creating an SQLAlchemy engine\n",
    "engine = create_engine(connection_string)\n",
    "\n",
    "def load_data(csv_file, table_name):\n",
    "    try:\n",
    "        data = pd.read_csv(csv_file)\n",
    "        data.to_sql(name=table_name, con=engine, if_exists='replace', index=False)\n",
    "        print(f\"Data from {csv_file} has been loaded into the {table_name} table.\")\n",
    "    except Exception as e:\n",
    "        print(f\"Error loading data from {csv_file} into {table_name}: {e}\")\n",
    "\n",
    "# Load data from each CSV file into the corresponding table\n",
    "load_data('recruiting_location.csv', 'recruiting_location')\n",
    "load_data('terminated_location.csv', 'terminated_location')\n",
    "load_data('completed_location.csv', 'completed_location')\n",
    "load_data('active_location.csv', 'active_location')\n",
    "\n",
    "# Disposing of the engine (optional, for good practice)\n",
    "engine.dispose()"
   ]
  },
  {
   "cell_type": "code",
   "execution_count": null,
   "id": "17b596e7",
   "metadata": {},
   "outputs": [],
   "source": []
  },
  {
   "cell_type": "code",
   "execution_count": null,
   "id": "c8059e8a",
   "metadata": {},
   "outputs": [],
   "source": []
  }
 ],
 "metadata": {
  "kernelspec": {
   "display_name": "Python 3 (ipykernel)",
   "language": "python",
   "name": "python3"
  },
  "language_info": {
   "codemirror_mode": {
    "name": "ipython",
    "version": 3
   },
   "file_extension": ".py",
   "mimetype": "text/x-python",
   "name": "python",
   "nbconvert_exporter": "python",
   "pygments_lexer": "ipython3",
   "version": "3.11.7"
  }
 },
 "nbformat": 4,
 "nbformat_minor": 5
}
